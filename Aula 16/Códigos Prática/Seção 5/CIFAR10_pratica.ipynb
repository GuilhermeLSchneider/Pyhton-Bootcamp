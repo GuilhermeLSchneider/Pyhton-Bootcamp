{
 "cells": [
  {
   "cell_type": "code",
   "execution_count": 1,
   "metadata": {},
   "outputs": [],
   "source": [
    "import tensorflow as tf\n",
    "import keras\n",
    "import matplotlib\n",
    "import numpy as np\n",
    "\n",
    "from tensorflow.keras.datasets import cifar10\n",
    "from tensorflow.keras.models import Sequential\n",
    "from tensorflow.keras.layers import InputLayer, Dense, Flatten, Dropout, Conv2D, MaxPooling2D, BatchNormalization\n",
    "from tensorflow.keras import utils as np_utils\n",
    "import matplotlib.pyplot as plt"
   ]
  },
  {
   "cell_type": "code",
   "execution_count": 15,
   "metadata": {},
   "outputs": [],
   "source": [
    "(X_train, y_train), (X_test, y_test) = cifar10.load_data()\n",
    "X_train = X_train / 255.0\n",
    "X_test = X_test / 255.0"
   ]
  },
  {
   "cell_type": "code",
   "execution_count": 20,
   "metadata": {},
   "outputs": [],
   "source": [
    "X_train = X_train.astype('float32')"
   ]
  },
  {
   "cell_type": "code",
   "execution_count": 28,
   "metadata": {},
   "outputs": [],
   "source": [
    "X_test = X_test.astype('float32')"
   ]
  },
  {
   "cell_type": "code",
   "execution_count": 30,
   "metadata": {},
   "outputs": [
    {
     "data": {
      "text/plain": [
       "array([[6],\n",
       "       [9],\n",
       "       [9],\n",
       "       ...,\n",
       "       [9],\n",
       "       [1],\n",
       "       [1]], dtype=uint8)"
      ]
     },
     "execution_count": 30,
     "metadata": {},
     "output_type": "execute_result"
    }
   ],
   "source": [
    "y_train"
   ]
  },
  {
   "cell_type": "code",
   "execution_count": 31,
   "metadata": {},
   "outputs": [],
   "source": [
    "y_train = np_utils.to_categorical(y_train, 10)\n",
    "y_test = np_utils.to_categorical(y_test, 10)"
   ]
  },
  {
   "cell_type": "code",
   "execution_count": 22,
   "metadata": {},
   "outputs": [
    {
     "data": {
      "text/plain": [
       "(array([[[[0.23137255, 0.24313726, 0.24705882],\n",
       "          [0.16862746, 0.18039216, 0.1764706 ],\n",
       "          [0.19607843, 0.1882353 , 0.16862746],\n",
       "          ...,\n",
       "          [0.61960787, 0.5176471 , 0.42352942],\n",
       "          [0.59607846, 0.49019608, 0.4       ],\n",
       "          [0.5803922 , 0.4862745 , 0.40392157]],\n",
       " \n",
       "         [[0.0627451 , 0.07843138, 0.07843138],\n",
       "          [0.        , 0.        , 0.        ],\n",
       "          [0.07058824, 0.03137255, 0.        ],\n",
       "          ...,\n",
       "          [0.48235294, 0.34509805, 0.21568628],\n",
       "          [0.46666667, 0.3254902 , 0.19607843],\n",
       "          [0.47843137, 0.34117648, 0.22352941]],\n",
       " \n",
       "         [[0.09803922, 0.09411765, 0.08235294],\n",
       "          [0.0627451 , 0.02745098, 0.        ],\n",
       "          [0.19215687, 0.10588235, 0.03137255],\n",
       "          ...,\n",
       "          [0.4627451 , 0.32941177, 0.19607843],\n",
       "          [0.47058824, 0.32941177, 0.19607843],\n",
       "          [0.42745098, 0.28627452, 0.16470589]],\n",
       " \n",
       "         ...,\n",
       " \n",
       "         [[0.8156863 , 0.6666667 , 0.3764706 ],\n",
       "          [0.7882353 , 0.6       , 0.13333334],\n",
       "          [0.7764706 , 0.6313726 , 0.10196079],\n",
       "          ...,\n",
       "          [0.627451  , 0.52156866, 0.27450982],\n",
       "          [0.21960784, 0.12156863, 0.02745098],\n",
       "          [0.20784314, 0.13333334, 0.07843138]],\n",
       " \n",
       "         [[0.7058824 , 0.54509807, 0.3764706 ],\n",
       "          [0.6784314 , 0.48235294, 0.16470589],\n",
       "          [0.7294118 , 0.5647059 , 0.11764706],\n",
       "          ...,\n",
       "          [0.72156864, 0.5803922 , 0.36862746],\n",
       "          [0.38039216, 0.24313726, 0.13333334],\n",
       "          [0.3254902 , 0.20784314, 0.13333334]],\n",
       " \n",
       "         [[0.69411767, 0.5647059 , 0.45490196],\n",
       "          [0.65882355, 0.5058824 , 0.36862746],\n",
       "          [0.7019608 , 0.5568628 , 0.34117648],\n",
       "          ...,\n",
       "          [0.84705883, 0.72156864, 0.54901963],\n",
       "          [0.5921569 , 0.4627451 , 0.32941177],\n",
       "          [0.48235294, 0.36078432, 0.28235295]]],\n",
       " \n",
       " \n",
       "        [[[0.6039216 , 0.69411767, 0.73333335],\n",
       "          [0.49411765, 0.5372549 , 0.53333336],\n",
       "          [0.4117647 , 0.40784314, 0.37254903],\n",
       "          ...,\n",
       "          [0.35686275, 0.37254903, 0.2784314 ],\n",
       "          [0.34117648, 0.3529412 , 0.2784314 ],\n",
       "          [0.30980393, 0.31764707, 0.27450982]],\n",
       " \n",
       "         [[0.54901963, 0.627451  , 0.6627451 ],\n",
       "          [0.5686275 , 0.6       , 0.6039216 ],\n",
       "          [0.49019608, 0.49019608, 0.4627451 ],\n",
       "          ...,\n",
       "          [0.3764706 , 0.3882353 , 0.30588236],\n",
       "          [0.3019608 , 0.3137255 , 0.24313726],\n",
       "          [0.2784314 , 0.28627452, 0.23921569]],\n",
       " \n",
       "         [[0.54901963, 0.60784316, 0.6431373 ],\n",
       "          [0.54509807, 0.57254905, 0.58431375],\n",
       "          [0.4509804 , 0.4509804 , 0.4392157 ],\n",
       "          ...,\n",
       "          [0.30980393, 0.32156864, 0.2509804 ],\n",
       "          [0.26666668, 0.27450982, 0.21568628],\n",
       "          [0.2627451 , 0.27058825, 0.21568628]],\n",
       " \n",
       "         ...,\n",
       " \n",
       "         [[0.6862745 , 0.654902  , 0.6509804 ],\n",
       "          [0.6117647 , 0.6039216 , 0.627451  ],\n",
       "          [0.6039216 , 0.627451  , 0.6666667 ],\n",
       "          ...,\n",
       "          [0.16470589, 0.13333334, 0.14117648],\n",
       "          [0.23921569, 0.20784314, 0.22352941],\n",
       "          [0.3647059 , 0.3254902 , 0.35686275]],\n",
       " \n",
       "         [[0.64705884, 0.6039216 , 0.5019608 ],\n",
       "          [0.6117647 , 0.59607846, 0.50980395],\n",
       "          [0.62352943, 0.6313726 , 0.5568628 ],\n",
       "          ...,\n",
       "          [0.40392157, 0.3647059 , 0.3764706 ],\n",
       "          [0.48235294, 0.44705883, 0.47058824],\n",
       "          [0.5137255 , 0.4745098 , 0.5137255 ]],\n",
       " \n",
       "         [[0.6392157 , 0.5803922 , 0.47058824],\n",
       "          [0.61960787, 0.5803922 , 0.47843137],\n",
       "          [0.6392157 , 0.6117647 , 0.52156866],\n",
       "          ...,\n",
       "          [0.56078434, 0.52156866, 0.54509807],\n",
       "          [0.56078434, 0.5254902 , 0.5568628 ],\n",
       "          [0.56078434, 0.52156866, 0.5647059 ]]],\n",
       " \n",
       " \n",
       "        [[[1.        , 1.        , 1.        ],\n",
       "          [0.99215686, 0.99215686, 0.99215686],\n",
       "          [0.99215686, 0.99215686, 0.99215686],\n",
       "          ...,\n",
       "          [0.99215686, 0.99215686, 0.99215686],\n",
       "          [0.99215686, 0.99215686, 0.99215686],\n",
       "          [0.99215686, 0.99215686, 0.99215686]],\n",
       " \n",
       "         [[1.        , 1.        , 1.        ],\n",
       "          [1.        , 1.        , 1.        ],\n",
       "          [1.        , 1.        , 1.        ],\n",
       "          ...,\n",
       "          [1.        , 1.        , 1.        ],\n",
       "          [1.        , 1.        , 1.        ],\n",
       "          [1.        , 1.        , 1.        ]],\n",
       " \n",
       "         [[1.        , 1.        , 1.        ],\n",
       "          [0.99607843, 0.99607843, 0.99607843],\n",
       "          [0.99607843, 0.99607843, 0.99607843],\n",
       "          ...,\n",
       "          [0.99607843, 0.99607843, 0.99607843],\n",
       "          [0.99607843, 0.99607843, 0.99607843],\n",
       "          [0.99607843, 0.99607843, 0.99607843]],\n",
       " \n",
       "         ...,\n",
       " \n",
       "         [[0.44313726, 0.47058824, 0.4392157 ],\n",
       "          [0.43529412, 0.4627451 , 0.43529412],\n",
       "          [0.4117647 , 0.4392157 , 0.41568628],\n",
       "          ...,\n",
       "          [0.28235295, 0.31764707, 0.3137255 ],\n",
       "          [0.28235295, 0.3137255 , 0.30980393],\n",
       "          [0.28235295, 0.3137255 , 0.30980393]],\n",
       " \n",
       "         [[0.43529412, 0.4627451 , 0.43137255],\n",
       "          [0.40784314, 0.43529412, 0.40784314],\n",
       "          [0.3882353 , 0.41568628, 0.38431373],\n",
       "          ...,\n",
       "          [0.26666668, 0.29411766, 0.28627452],\n",
       "          [0.27450982, 0.29803923, 0.29411766],\n",
       "          [0.30588236, 0.32941177, 0.32156864]],\n",
       " \n",
       "         [[0.41568628, 0.44313726, 0.4117647 ],\n",
       "          [0.3882353 , 0.41568628, 0.38431373],\n",
       "          [0.37254903, 0.4       , 0.36862746],\n",
       "          ...,\n",
       "          [0.30588236, 0.33333334, 0.3254902 ],\n",
       "          [0.30980393, 0.33333334, 0.3254902 ],\n",
       "          [0.3137255 , 0.3372549 , 0.32941177]]],\n",
       " \n",
       " \n",
       "        ...,\n",
       " \n",
       " \n",
       "        [[[0.13725491, 0.69803923, 0.92156863],\n",
       "          [0.15686275, 0.6901961 , 0.9372549 ],\n",
       "          [0.16470589, 0.6901961 , 0.94509804],\n",
       "          ...,\n",
       "          [0.3882353 , 0.69411767, 0.85882354],\n",
       "          [0.30980393, 0.5764706 , 0.77254903],\n",
       "          [0.34901962, 0.5803922 , 0.7411765 ]],\n",
       " \n",
       "         [[0.22352941, 0.7137255 , 0.91764706],\n",
       "          [0.17254902, 0.72156864, 0.98039216],\n",
       "          [0.19607843, 0.7176471 , 0.9411765 ],\n",
       "          ...,\n",
       "          [0.6117647 , 0.7137255 , 0.78431374],\n",
       "          [0.5529412 , 0.69411767, 0.80784315],\n",
       "          [0.45490196, 0.58431375, 0.6862745 ]],\n",
       " \n",
       "         [[0.38431373, 0.77254903, 0.92941177],\n",
       "          [0.2509804 , 0.7411765 , 0.9882353 ],\n",
       "          [0.27058825, 0.7529412 , 0.9607843 ],\n",
       "          ...,\n",
       "          [0.7372549 , 0.7647059 , 0.80784315],\n",
       "          [0.46666667, 0.5294118 , 0.5764706 ],\n",
       "          [0.23921569, 0.30980393, 0.3529412 ]],\n",
       " \n",
       "         ...,\n",
       " \n",
       "         [[0.28627452, 0.30980393, 0.3019608 ],\n",
       "          [0.20784314, 0.24705882, 0.26666668],\n",
       "          [0.21176471, 0.26666668, 0.3137255 ],\n",
       "          ...,\n",
       "          [0.06666667, 0.15686275, 0.2509804 ],\n",
       "          [0.08235294, 0.14117648, 0.2       ],\n",
       "          [0.12941177, 0.1882353 , 0.19215687]],\n",
       " \n",
       "         [[0.23921569, 0.26666668, 0.29411766],\n",
       "          [0.21568628, 0.27450982, 0.3372549 ],\n",
       "          [0.22352941, 0.30980393, 0.40392157],\n",
       "          ...,\n",
       "          [0.09411765, 0.1882353 , 0.28235295],\n",
       "          [0.06666667, 0.13725491, 0.20784314],\n",
       "          [0.02745098, 0.09019608, 0.1254902 ]],\n",
       " \n",
       "         [[0.17254902, 0.21960784, 0.28627452],\n",
       "          [0.18039216, 0.25882354, 0.34509805],\n",
       "          [0.19215687, 0.3019608 , 0.4117647 ],\n",
       "          ...,\n",
       "          [0.10588235, 0.20392157, 0.3019608 ],\n",
       "          [0.08235294, 0.16862746, 0.25882354],\n",
       "          [0.04705882, 0.12156863, 0.19607843]]],\n",
       " \n",
       " \n",
       "        [[[0.7411765 , 0.827451  , 0.9411765 ],\n",
       "          [0.7294118 , 0.8156863 , 0.9254902 ],\n",
       "          [0.7254902 , 0.8117647 , 0.92156863],\n",
       "          ...,\n",
       "          [0.6862745 , 0.7647059 , 0.8784314 ],\n",
       "          [0.6745098 , 0.7607843 , 0.87058824],\n",
       "          [0.6627451 , 0.7607843 , 0.8627451 ]],\n",
       " \n",
       "         [[0.7607843 , 0.8235294 , 0.9372549 ],\n",
       "          [0.7490196 , 0.8117647 , 0.9254902 ],\n",
       "          [0.74509805, 0.80784315, 0.92156863],\n",
       "          ...,\n",
       "          [0.6784314 , 0.7529412 , 0.8627451 ],\n",
       "          [0.67058825, 0.7490196 , 0.85490197],\n",
       "          [0.654902  , 0.74509805, 0.84705883]],\n",
       " \n",
       "         [[0.8156863 , 0.85882354, 0.95686275],\n",
       "          [0.8039216 , 0.84705883, 0.9411765 ],\n",
       "          [0.8       , 0.84313726, 0.9372549 ],\n",
       "          ...,\n",
       "          [0.6862745 , 0.7490196 , 0.8509804 ],\n",
       "          [0.6745098 , 0.74509805, 0.84705883],\n",
       "          [0.6627451 , 0.7490196 , 0.84313726]],\n",
       " \n",
       "         ...,\n",
       " \n",
       "         [[0.8117647 , 0.78039217, 0.70980394],\n",
       "          [0.79607844, 0.7647059 , 0.6862745 ],\n",
       "          [0.79607844, 0.76862746, 0.6784314 ],\n",
       "          ...,\n",
       "          [0.5294118 , 0.5176471 , 0.49803922],\n",
       "          [0.63529414, 0.61960787, 0.5882353 ],\n",
       "          [0.65882355, 0.6392157 , 0.5921569 ]],\n",
       " \n",
       "         [[0.7764706 , 0.74509805, 0.6666667 ],\n",
       "          [0.7411765 , 0.70980394, 0.62352943],\n",
       "          [0.7058824 , 0.6745098 , 0.5764706 ],\n",
       "          ...,\n",
       "          [0.69803923, 0.67058825, 0.627451  ],\n",
       "          [0.6862745 , 0.6627451 , 0.6117647 ],\n",
       "          [0.6862745 , 0.6627451 , 0.6039216 ]],\n",
       " \n",
       "         [[0.7764706 , 0.7411765 , 0.6784314 ],\n",
       "          [0.7411765 , 0.70980394, 0.63529414],\n",
       "          [0.69803923, 0.6666667 , 0.58431375],\n",
       "          ...,\n",
       "          [0.7647059 , 0.72156864, 0.6627451 ],\n",
       "          [0.76862746, 0.7411765 , 0.67058825],\n",
       "          [0.7647059 , 0.74509805, 0.67058825]]],\n",
       " \n",
       " \n",
       "        [[[0.8980392 , 0.8980392 , 0.9372549 ],\n",
       "          [0.9254902 , 0.92941177, 0.96862745],\n",
       "          [0.91764706, 0.9254902 , 0.96862745],\n",
       "          ...,\n",
       "          [0.8509804 , 0.85882354, 0.9137255 ],\n",
       "          [0.8666667 , 0.8745098 , 0.91764706],\n",
       "          [0.87058824, 0.8745098 , 0.9137255 ]],\n",
       " \n",
       "         [[0.87058824, 0.8666667 , 0.8980392 ],\n",
       "          [0.9372549 , 0.9372549 , 0.9764706 ],\n",
       "          [0.9137255 , 0.91764706, 0.9647059 ],\n",
       "          ...,\n",
       "          [0.8745098 , 0.8745098 , 0.9254902 ],\n",
       "          [0.8901961 , 0.89411765, 0.93333334],\n",
       "          [0.8235294 , 0.827451  , 0.8627451 ]],\n",
       " \n",
       "         [[0.8352941 , 0.80784315, 0.827451  ],\n",
       "          [0.91764706, 0.9098039 , 0.9372549 ],\n",
       "          [0.90588236, 0.9137255 , 0.95686275],\n",
       "          ...,\n",
       "          [0.8627451 , 0.8627451 , 0.9098039 ],\n",
       "          [0.8627451 , 0.85882354, 0.9098039 ],\n",
       "          [0.7921569 , 0.79607844, 0.84313726]],\n",
       " \n",
       "         ...,\n",
       " \n",
       "         [[0.5882353 , 0.56078434, 0.5294118 ],\n",
       "          [0.54901963, 0.5294118 , 0.49803922],\n",
       "          [0.5176471 , 0.49803922, 0.47058824],\n",
       "          ...,\n",
       "          [0.8784314 , 0.87058824, 0.85490197],\n",
       "          [0.9019608 , 0.89411765, 0.88235295],\n",
       "          [0.94509804, 0.94509804, 0.93333334]],\n",
       " \n",
       "         [[0.5372549 , 0.5176471 , 0.49411765],\n",
       "          [0.50980395, 0.49803922, 0.47058824],\n",
       "          [0.49019608, 0.4745098 , 0.4509804 ],\n",
       "          ...,\n",
       "          [0.70980394, 0.7058824 , 0.69803923],\n",
       "          [0.7921569 , 0.7882353 , 0.7764706 ],\n",
       "          [0.83137256, 0.827451  , 0.8117647 ]],\n",
       " \n",
       "         [[0.47843137, 0.46666667, 0.44705883],\n",
       "          [0.4627451 , 0.45490196, 0.43137255],\n",
       "          [0.47058824, 0.45490196, 0.43529412],\n",
       "          ...,\n",
       "          [0.7019608 , 0.69411767, 0.6784314 ],\n",
       "          [0.6431373 , 0.6431373 , 0.63529414],\n",
       "          [0.6392157 , 0.6392157 , 0.6313726 ]]]], dtype=float32),\n",
       " 1.0,\n",
       " 0.0)"
      ]
     },
     "execution_count": 22,
     "metadata": {},
     "output_type": "execute_result"
    }
   ],
   "source": [
    "X_train, X_train.max(), X_train.min()"
   ]
  },
  {
   "cell_type": "code",
   "execution_count": 48,
   "metadata": {},
   "outputs": [
    {
     "data": {
      "text/plain": [
       "Text(0.5, 1.0, 'Classe [0. 0. 0. 0. 1. 0. 0. 0. 0. 0.]')"
      ]
     },
     "execution_count": 48,
     "metadata": {},
     "output_type": "execute_result"
    },
    {
     "data": {
      "image/png": "[encoded data removed]",
      "text/plain": [
       "<Figure size 640x480 with 1 Axes>"
      ]
     },
     "metadata": {},
     "output_type": "display_data"
    }
   ],
   "source": [
    "plt.imshow(X_train[20], cmap='gray')\n",
    "plt.title(\"Classe \" + str(y_train[20]))"
   ]
  },
  {
   "cell_type": "code",
   "execution_count": 34,
   "metadata": {},
   "outputs": [],
   "source": [
    "rede_neural = Sequential()\n",
    "\n",
    "rede_neural.add(InputLayer(shape=(32, 32, 3)))\n",
    "\n",
    "rede_neural.add(Conv2D(32, (3, 3), activation='relu'))\n",
    "rede_neural.add(BatchNormalization())\n",
    "rede_neural.add(MaxPooling2D(pool_size=(2, 2)))\n",
    "\n",
    "rede_neural.add(Conv2D(32, (3, 3), activation='relu'))\n",
    "rede_neural.add(BatchNormalization())\n",
    "rede_neural.add(MaxPooling2D(pool_size=(2, 2)))\n",
    "\n",
    "rede_neural.add(Flatten())\n",
    "\n",
    "rede_neural.add(Dense(units = 128, activation = 'relu'))\n",
    "rede_neural.add(Dropout(0.2)) # Adicionando camadas de dropout para evitar overfitting\n",
    "rede_neural.add(Dense(units = 128, activation = 'relu'))\n",
    "rede_neural.add(Dropout(0.2))\n",
    "rede_neural.add(Dense(units = 10, activation = 'softmax')) # Utilização de 10 neurônios na camada de saída (um para cada classe (numero 0 até 9))"
   ]
  },
  {
   "cell_type": "code",
   "execution_count": 35,
   "metadata": {},
   "outputs": [
    {
     "data": {
      "text/html": [
       "<pre style=\"white-space:pre;overflow-x:auto;line-height:normal;font-family:Menlo,'DejaVu Sans Mono',consolas,'Courier New',monospace\"><span style=\"font-weight: bold\">Model: \"sequential_1\"</span>\n",
       "</pre>\n"
      ],
      "text/plain": [
       "\u001b[1mModel: \"sequential_1\"\u001b[0m\n"
      ]
     },
     "metadata": {},
     "output_type": "display_data"
    },
    {
     "data": {
      "text/html": [
       "<pre style=\"white-space:pre;overflow-x:auto;line-height:normal;font-family:Menlo,'DejaVu Sans Mono',consolas,'Courier New',monospace\">┏━━━━━━━━━━━━━━━━━━━━━━━━━━━━━━━━━┳━━━━━━━━━━━━━━━━━━━━━━━━┳━━━━━━━━━━━━━━━┓\n",
       "┃<span style=\"font-weight: bold\"> Layer (type)                    </span>┃<span style=\"font-weight: bold\"> Output Shape           </span>┃<span style=\"font-weight: bold\">       Param # </span>┃\n",
       "┡━━━━━━━━━━━━━━━━━━━━━━━━━━━━━━━━━╇━━━━━━━━━━━━━━━━━━━━━━━━╇━━━━━━━━━━━━━━━┩\n",
       "│ conv2d_2 (<span style=\"color: #0087ff; text-decoration-color: #0087ff\">Conv2D</span>)               │ (<span style=\"color: #00d7ff; text-decoration-color: #00d7ff\">None</span>, <span style=\"color: #00af00; text-decoration-color: #00af00\">30</span>, <span style=\"color: #00af00; text-decoration-color: #00af00\">30</span>, <span style=\"color: #00af00; text-decoration-color: #00af00\">32</span>)     │           <span style=\"color: #00af00; text-decoration-color: #00af00\">896</span> │\n",
       "├─────────────────────────────────┼────────────────────────┼───────────────┤\n",
       "│ batch_normalization_2           │ (<span style=\"color: #00d7ff; text-decoration-color: #00d7ff\">None</span>, <span style=\"color: #00af00; text-decoration-color: #00af00\">30</span>, <span style=\"color: #00af00; text-decoration-color: #00af00\">30</span>, <span style=\"color: #00af00; text-decoration-color: #00af00\">32</span>)     │           <span style=\"color: #00af00; text-decoration-color: #00af00\">128</span> │\n",
       "│ (<span style=\"color: #0087ff; text-decoration-color: #0087ff\">BatchNormalization</span>)            │                        │               │\n",
       "├─────────────────────────────────┼────────────────────────┼───────────────┤\n",
       "│ max_pooling2d_2 (<span style=\"color: #0087ff; text-decoration-color: #0087ff\">MaxPooling2D</span>)  │ (<span style=\"color: #00d7ff; text-decoration-color: #00d7ff\">None</span>, <span style=\"color: #00af00; text-decoration-color: #00af00\">15</span>, <span style=\"color: #00af00; text-decoration-color: #00af00\">15</span>, <span style=\"color: #00af00; text-decoration-color: #00af00\">32</span>)     │             <span style=\"color: #00af00; text-decoration-color: #00af00\">0</span> │\n",
       "├─────────────────────────────────┼────────────────────────┼───────────────┤\n",
       "│ conv2d_3 (<span style=\"color: #0087ff; text-decoration-color: #0087ff\">Conv2D</span>)               │ (<span style=\"color: #00d7ff; text-decoration-color: #00d7ff\">None</span>, <span style=\"color: #00af00; text-decoration-color: #00af00\">13</span>, <span style=\"color: #00af00; text-decoration-color: #00af00\">13</span>, <span style=\"color: #00af00; text-decoration-color: #00af00\">32</span>)     │         <span style=\"color: #00af00; text-decoration-color: #00af00\">9,248</span> │\n",
       "├─────────────────────────────────┼────────────────────────┼───────────────┤\n",
       "│ batch_normalization_3           │ (<span style=\"color: #00d7ff; text-decoration-color: #00d7ff\">None</span>, <span style=\"color: #00af00; text-decoration-color: #00af00\">13</span>, <span style=\"color: #00af00; text-decoration-color: #00af00\">13</span>, <span style=\"color: #00af00; text-decoration-color: #00af00\">32</span>)     │           <span style=\"color: #00af00; text-decoration-color: #00af00\">128</span> │\n",
       "│ (<span style=\"color: #0087ff; text-decoration-color: #0087ff\">BatchNormalization</span>)            │                        │               │\n",
       "├─────────────────────────────────┼────────────────────────┼───────────────┤\n",
       "│ max_pooling2d_3 (<span style=\"color: #0087ff; text-decoration-color: #0087ff\">MaxPooling2D</span>)  │ (<span style=\"color: #00d7ff; text-decoration-color: #00d7ff\">None</span>, <span style=\"color: #00af00; text-decoration-color: #00af00\">6</span>, <span style=\"color: #00af00; text-decoration-color: #00af00\">6</span>, <span style=\"color: #00af00; text-decoration-color: #00af00\">32</span>)       │             <span style=\"color: #00af00; text-decoration-color: #00af00\">0</span> │\n",
       "├─────────────────────────────────┼────────────────────────┼───────────────┤\n",
       "│ flatten_1 (<span style=\"color: #0087ff; text-decoration-color: #0087ff\">Flatten</span>)             │ (<span style=\"color: #00d7ff; text-decoration-color: #00d7ff\">None</span>, <span style=\"color: #00af00; text-decoration-color: #00af00\">1152</span>)           │             <span style=\"color: #00af00; text-decoration-color: #00af00\">0</span> │\n",
       "├─────────────────────────────────┼────────────────────────┼───────────────┤\n",
       "│ dense_3 (<span style=\"color: #0087ff; text-decoration-color: #0087ff\">Dense</span>)                 │ (<span style=\"color: #00d7ff; text-decoration-color: #00d7ff\">None</span>, <span style=\"color: #00af00; text-decoration-color: #00af00\">128</span>)            │       <span style=\"color: #00af00; text-decoration-color: #00af00\">147,584</span> │\n",
       "├─────────────────────────────────┼────────────────────────┼───────────────┤\n",
       "│ dropout_2 (<span style=\"color: #0087ff; text-decoration-color: #0087ff\">Dropout</span>)             │ (<span style=\"color: #00d7ff; text-decoration-color: #00d7ff\">None</span>, <span style=\"color: #00af00; text-decoration-color: #00af00\">128</span>)            │             <span style=\"color: #00af00; text-decoration-color: #00af00\">0</span> │\n",
       "├─────────────────────────────────┼────────────────────────┼───────────────┤\n",
       "│ dense_4 (<span style=\"color: #0087ff; text-decoration-color: #0087ff\">Dense</span>)                 │ (<span style=\"color: #00d7ff; text-decoration-color: #00d7ff\">None</span>, <span style=\"color: #00af00; text-decoration-color: #00af00\">128</span>)            │        <span style=\"color: #00af00; text-decoration-color: #00af00\">16,512</span> │\n",
       "├─────────────────────────────────┼────────────────────────┼───────────────┤\n",
       "│ dropout_3 (<span style=\"color: #0087ff; text-decoration-color: #0087ff\">Dropout</span>)             │ (<span style=\"color: #00d7ff; text-decoration-color: #00d7ff\">None</span>, <span style=\"color: #00af00; text-decoration-color: #00af00\">128</span>)            │             <span style=\"color: #00af00; text-decoration-color: #00af00\">0</span> │\n",
       "├─────────────────────────────────┼────────────────────────┼───────────────┤\n",
       "│ dense_5 (<span style=\"color: #0087ff; text-decoration-color: #0087ff\">Dense</span>)                 │ (<span style=\"color: #00d7ff; text-decoration-color: #00d7ff\">None</span>, <span style=\"color: #00af00; text-decoration-color: #00af00\">10</span>)             │         <span style=\"color: #00af00; text-decoration-color: #00af00\">1,290</span> │\n",
       "└─────────────────────────────────┴────────────────────────┴───────────────┘\n",
       "</pre>\n"
      ],
      "text/plain": [
       "┏━━━━━━━━━━━━━━━━━━━━━━━━━━━━━━━━━┳━━━━━━━━━━━━━━━━━━━━━━━━┳━━━━━━━━━━━━━━━┓\n",
       "┃\u001b[1m \u001b[0m\u001b[1mLayer (type)                   \u001b[0m\u001b[1m \u001b[0m┃\u001b[1m \u001b[0m\u001b[1mOutput Shape          \u001b[0m\u001b[1m \u001b[0m┃\u001b[1m \u001b[0m\u001b[1m      Param #\u001b[0m\u001b[1m \u001b[0m┃\n",
       "┡━━━━━━━━━━━━━━━━━━━━━━━━━━━━━━━━━╇━━━━━━━━━━━━━━━━━━━━━━━━╇━━━━━━━━━━━━━━━┩\n",
       "│ conv2d_2 (\u001b[38;5;33mConv2D\u001b[0m)               │ (\u001b[38;5;45mNone\u001b[0m, \u001b[38;5;34m30\u001b[0m, \u001b[38;5;34m30\u001b[0m, \u001b[38;5;34m32\u001b[0m)     │           \u001b[38;5;34m896\u001b[0m │\n",
       "├─────────────────────────────────┼────────────────────────┼───────────────┤\n",
       "│ batch_normalization_2           │ (\u001b[38;5;45mNone\u001b[0m, \u001b[38;5;34m30\u001b[0m, \u001b[38;5;34m30\u001b[0m, \u001b[38;5;34m32\u001b[0m)     │           \u001b[38;5;34m128\u001b[0m │\n",
       "│ (\u001b[38;5;33mBatchNormalization\u001b[0m)            │                        │               │\n",
       "├─────────────────────────────────┼────────────────────────┼───────────────┤\n",
       "│ max_pooling2d_2 (\u001b[38;5;33mMaxPooling2D\u001b[0m)  │ (\u001b[38;5;45mNone\u001b[0m, \u001b[38;5;34m15\u001b[0m, \u001b[38;5;34m15\u001b[0m, \u001b[38;5;34m32\u001b[0m)     │             \u001b[38;5;34m0\u001b[0m │\n",
       "├─────────────────────────────────┼────────────────────────┼───────────────┤\n",
       "│ conv2d_3 (\u001b[38;5;33mConv2D\u001b[0m)               │ (\u001b[38;5;45mNone\u001b[0m, \u001b[38;5;34m13\u001b[0m, \u001b[38;5;34m13\u001b[0m, \u001b[38;5;34m32\u001b[0m)     │         \u001b[38;5;34m9,248\u001b[0m │\n",
       "├─────────────────────────────────┼────────────────────────┼───────────────┤\n",
       "│ batch_normalization_3           │ (\u001b[38;5;45mNone\u001b[0m, \u001b[38;5;34m13\u001b[0m, \u001b[38;5;34m13\u001b[0m, \u001b[38;5;34m32\u001b[0m)     │           \u001b[38;5;34m128\u001b[0m │\n",
       "│ (\u001b[38;5;33mBatchNormalization\u001b[0m)            │                        │               │\n",
       "├─────────────────────────────────┼────────────────────────┼───────────────┤\n",
       "│ max_pooling2d_3 (\u001b[38;5;33mMaxPooling2D\u001b[0m)  │ (\u001b[38;5;45mNone\u001b[0m, \u001b[38;5;34m6\u001b[0m, \u001b[38;5;34m6\u001b[0m, \u001b[38;5;34m32\u001b[0m)       │             \u001b[38;5;34m0\u001b[0m │\n",
       "├─────────────────────────────────┼────────────────────────┼───────────────┤\n",
       "│ flatten_1 (\u001b[38;5;33mFlatten\u001b[0m)             │ (\u001b[38;5;45mNone\u001b[0m, \u001b[38;5;34m1152\u001b[0m)           │             \u001b[38;5;34m0\u001b[0m │\n",
       "├─────────────────────────────────┼────────────────────────┼───────────────┤\n",
       "│ dense_3 (\u001b[38;5;33mDense\u001b[0m)                 │ (\u001b[38;5;45mNone\u001b[0m, \u001b[38;5;34m128\u001b[0m)            │       \u001b[38;5;34m147,584\u001b[0m │\n",
       "├─────────────────────────────────┼────────────────────────┼───────────────┤\n",
       "│ dropout_2 (\u001b[38;5;33mDropout\u001b[0m)             │ (\u001b[38;5;45mNone\u001b[0m, \u001b[38;5;34m128\u001b[0m)            │             \u001b[38;5;34m0\u001b[0m │\n",
       "├─────────────────────────────────┼────────────────────────┼───────────────┤\n",
       "│ dense_4 (\u001b[38;5;33mDense\u001b[0m)                 │ (\u001b[38;5;45mNone\u001b[0m, \u001b[38;5;34m128\u001b[0m)            │        \u001b[38;5;34m16,512\u001b[0m │\n",
       "├─────────────────────────────────┼────────────────────────┼───────────────┤\n",
       "│ dropout_3 (\u001b[38;5;33mDropout\u001b[0m)             │ (\u001b[38;5;45mNone\u001b[0m, \u001b[38;5;34m128\u001b[0m)            │             \u001b[38;5;34m0\u001b[0m │\n",
       "├─────────────────────────────────┼────────────────────────┼───────────────┤\n",
       "│ dense_5 (\u001b[38;5;33mDense\u001b[0m)                 │ (\u001b[38;5;45mNone\u001b[0m, \u001b[38;5;34m10\u001b[0m)             │         \u001b[38;5;34m1,290\u001b[0m │\n",
       "└─────────────────────────────────┴────────────────────────┴───────────────┘\n"
      ]
     },
     "metadata": {},
     "output_type": "display_data"
    },
    {
     "data": {
      "text/html": [
       "<pre style=\"white-space:pre;overflow-x:auto;line-height:normal;font-family:Menlo,'DejaVu Sans Mono',consolas,'Courier New',monospace\"><span style=\"font-weight: bold\"> Total params: </span><span style=\"color: #00af00; text-decoration-color: #00af00\">175,786</span> (686.66 KB)\n",
       "</pre>\n"
      ],
      "text/plain": [
       "\u001b[1m Total params: \u001b[0m\u001b[38;5;34m175,786\u001b[0m (686.66 KB)\n"
      ]
     },
     "metadata": {},
     "output_type": "display_data"
    },
    {
     "data": {
      "text/html": [
       "<pre style=\"white-space:pre;overflow-x:auto;line-height:normal;font-family:Menlo,'DejaVu Sans Mono',consolas,'Courier New',monospace\"><span style=\"font-weight: bold\"> Trainable params: </span><span style=\"color: #00af00; text-decoration-color: #00af00\">175,658</span> (686.16 KB)\n",
       "</pre>\n"
      ],
      "text/plain": [
       "\u001b[1m Trainable params: \u001b[0m\u001b[38;5;34m175,658\u001b[0m (686.16 KB)\n"
      ]
     },
     "metadata": {},
     "output_type": "display_data"
    },
    {
     "data": {
      "text/html": [
       "<pre style=\"white-space:pre;overflow-x:auto;line-height:normal;font-family:Menlo,'DejaVu Sans Mono',consolas,'Courier New',monospace\"><span style=\"font-weight: bold\"> Non-trainable params: </span><span style=\"color: #00af00; text-decoration-color: #00af00\">128</span> (512.00 B)\n",
       "</pre>\n"
      ],
      "text/plain": [
       "\u001b[1m Non-trainable params: \u001b[0m\u001b[38;5;34m128\u001b[0m (512.00 B)\n"
      ]
     },
     "metadata": {},
     "output_type": "display_data"
    }
   ],
   "source": [
    "rede_neural.summary()"
   ]
  },
  {
   "cell_type": "code",
   "execution_count": 36,
   "metadata": {},
   "outputs": [],
   "source": [
    "rede_neural.compile(optimizer='adam', loss='categorical_crossentropy', metrics=['accuracy'])"
   ]
  },
  {
   "cell_type": "code",
   "execution_count": 37,
   "metadata": {},
   "outputs": [
    {
     "name": "stdout",
     "output_type": "stream",
     "text": [
      "Epoch 1/10\n",
      "\u001b[1m1563/1563\u001b[0m \u001b[32m━━━━━━━━━━━━━━━━━━━━\u001b[0m\u001b[37m\u001b[0m \u001b[1m29s\u001b[0m 16ms/step - accuracy: 0.3849 - loss: 1.7368 - val_accuracy: 0.5469 - val_loss: 1.2836\n",
      "Epoch 2/10\n",
      "\u001b[1m1563/1563\u001b[0m \u001b[32m━━━━━━━━━━━━━━━━━━━━\u001b[0m\u001b[37m\u001b[0m \u001b[1m20s\u001b[0m 13ms/step - accuracy: 0.5830 - loss: 1.1880 - val_accuracy: 0.6074 - val_loss: 1.1213\n",
      "Epoch 3/10\n",
      "\u001b[1m1563/1563\u001b[0m \u001b[32m━━━━━━━━━━━━━━━━━━━━\u001b[0m\u001b[37m\u001b[0m \u001b[1m19s\u001b[0m 12ms/step - accuracy: 0.6412 - loss: 1.0133 - val_accuracy: 0.6143 - val_loss: 1.0893\n",
      "Epoch 4/10\n",
      "\u001b[1m1563/1563\u001b[0m \u001b[32m━━━━━━━━━━━━━━━━━━━━\u001b[0m\u001b[37m\u001b[0m \u001b[1m20s\u001b[0m 13ms/step - accuracy: 0.6874 - loss: 0.8989 - val_accuracy: 0.6298 - val_loss: 1.0982\n",
      "Epoch 5/10\n",
      "\u001b[1m1563/1563\u001b[0m \u001b[32m━━━━━━━━━━━━━━━━━━━━\u001b[0m\u001b[37m\u001b[0m \u001b[1m21s\u001b[0m 13ms/step - accuracy: 0.7142 - loss: 0.8164 - val_accuracy: 0.6443 - val_loss: 1.0348\n",
      "Epoch 6/10\n",
      "\u001b[1m1563/1563\u001b[0m \u001b[32m━━━━━━━━━━━━━━━━━━━━\u001b[0m\u001b[37m\u001b[0m \u001b[1m19s\u001b[0m 12ms/step - accuracy: 0.7357 - loss: 0.7507 - val_accuracy: 0.6867 - val_loss: 0.9061\n",
      "Epoch 7/10\n",
      "\u001b[1m1563/1563\u001b[0m \u001b[32m━━━━━━━━━━━━━━━━━━━━\u001b[0m\u001b[37m\u001b[0m \u001b[1m20s\u001b[0m 12ms/step - accuracy: 0.7582 - loss: 0.7001 - val_accuracy: 0.6577 - val_loss: 1.0039\n",
      "Epoch 8/10\n",
      "\u001b[1m1563/1563\u001b[0m \u001b[32m━━━━━━━━━━━━━━━━━━━━\u001b[0m\u001b[37m\u001b[0m \u001b[1m20s\u001b[0m 13ms/step - accuracy: 0.7724 - loss: 0.6499 - val_accuracy: 0.6180 - val_loss: 1.1734\n",
      "Epoch 9/10\n",
      "\u001b[1m1563/1563\u001b[0m \u001b[32m━━━━━━━━━━━━━━━━━━━━\u001b[0m\u001b[37m\u001b[0m \u001b[1m22s\u001b[0m 14ms/step - accuracy: 0.7861 - loss: 0.6050 - val_accuracy: 0.6371 - val_loss: 1.1289\n",
      "Epoch 10/10\n",
      "\u001b[1m1563/1563\u001b[0m \u001b[32m━━━━━━━━━━━━━━━━━━━━\u001b[0m\u001b[37m\u001b[0m \u001b[1m23s\u001b[0m 15ms/step - accuracy: 0.8016 - loss: 0.5671 - val_accuracy: 0.6419 - val_loss: 1.1693\n"
     ]
    },
    {
     "data": {
      "text/plain": [
       "<keras.src.callbacks.history.History at 0x173956d2b10>"
      ]
     },
     "execution_count": 37,
     "metadata": {},
     "output_type": "execute_result"
    }
   ],
   "source": [
    "rede_neural.fit(X_train, y_train, epochs=10, batch_size=32,\n",
    "                validation_data=(X_test, y_test))"
   ]
  },
  {
   "cell_type": "code",
   "execution_count": 38,
   "metadata": {},
   "outputs": [
    {
     "name": "stdout",
     "output_type": "stream",
     "text": [
      "\u001b[1m313/313\u001b[0m \u001b[32m━━━━━━━━━━━━━━━━━━━━\u001b[0m\u001b[37m\u001b[0m \u001b[1m1s\u001b[0m 3ms/step - accuracy: 0.6484 - loss: 1.1416\n"
     ]
    },
    {
     "data": {
      "text/plain": [
       "[1.1692900657653809, 0.6419000029563904]"
      ]
     },
     "execution_count": 38,
     "metadata": {},
     "output_type": "execute_result"
    }
   ],
   "source": [
    "resultado = rede_neural.evaluate(X_test, y_test)\n",
    "resultado"
   ]
  },
  {
   "cell_type": "code",
   "execution_count": 39,
   "metadata": {},
   "outputs": [
    {
     "name": "stdout",
     "output_type": "stream",
     "text": [
      "\u001b[1m313/313\u001b[0m \u001b[32m━━━━━━━━━━━━━━━━━━━━\u001b[0m\u001b[37m\u001b[0m \u001b[1m2s\u001b[0m 5ms/step\n"
     ]
    }
   ],
   "source": [
    "predict = rede_neural.predict(X_test)"
   ]
  },
  {
   "cell_type": "code",
   "execution_count": 40,
   "metadata": {},
   "outputs": [
    {
     "data": {
      "text/plain": [
       "array([[2.35728584e-02, 7.80742289e-03, 6.16959780e-02, ...,\n",
       "        3.40021821e-03, 1.72262862e-02, 1.44712515e-02],\n",
       "       [4.30679098e-02, 4.57134813e-01, 9.52741956e-08, ...,\n",
       "        4.22284030e-09, 4.77782875e-01, 2.20136531e-02],\n",
       "       [4.61183907e-03, 1.24747455e-02, 2.08335885e-04, ...,\n",
       "        5.39297143e-05, 9.72326756e-01, 7.62094464e-03],\n",
       "       ...,\n",
       "       [1.01331295e-07, 4.66553063e-09, 2.41066795e-02, ...,\n",
       "        2.98274815e-01, 5.84556474e-08, 5.98259305e-07],\n",
       "       [1.05419736e-02, 7.58655250e-01, 1.09247491e-02, ...,\n",
       "        3.81626631e-03, 5.29919937e-03, 1.84508264e-02],\n",
       "       [3.14893278e-10, 1.97009119e-12, 7.06174615e-06, ...,\n",
       "        9.78573620e-01, 4.11945028e-13, 1.62729968e-11]], dtype=float32)"
      ]
     },
     "execution_count": 40,
     "metadata": {},
     "output_type": "execute_result"
    }
   ],
   "source": [
    "predict"
   ]
  },
  {
   "cell_type": "code",
   "execution_count": 42,
   "metadata": {},
   "outputs": [
    {
     "data": {
      "text/plain": [
       "array([[0., 0., 0., ..., 0., 0., 0.],\n",
       "       [0., 0., 0., ..., 0., 1., 0.],\n",
       "       [0., 0., 0., ..., 0., 1., 0.],\n",
       "       ...,\n",
       "       [0., 0., 0., ..., 0., 0., 0.],\n",
       "       [0., 1., 0., ..., 0., 0., 0.],\n",
       "       [0., 0., 0., ..., 1., 0., 0.]])"
      ]
     },
     "execution_count": 42,
     "metadata": {},
     "output_type": "execute_result"
    }
   ],
   "source": [
    "# Comparando os resultados predicteds com os valores reais\n",
    "y_test"
   ]
  },
  {
   "cell_type": "code",
   "execution_count": 44,
   "metadata": {},
   "outputs": [],
   "source": [
    "from sklearn.metrics import mean_absolute_error"
   ]
  },
  {
   "cell_type": "code",
   "execution_count": null,
   "metadata": {},
   "outputs": [],
   "source": [
    "# Calculando a precisão obtida pelo modelo"
   ]
  },
  {
   "cell_type": "code",
   "execution_count": 47,
   "metadata": {},
   "outputs": [
    {
     "data": {
      "text/plain": [
       "0.08154230625761935"
      ]
     },
     "execution_count": 47,
     "metadata": {},
     "output_type": "execute_result"
    }
   ],
   "source": [
    "mean_absolute_error(y_test, predict)"
   ]
  }
 ],
 "metadata": {
  "kernelspec": {
   "display_name": "Python 3",
   "language": "python",
   "name": "python3"
  },
  "language_info": {
   "codemirror_mode": {
    "name": "ipython",
    "version": 3
   },
   "file_extension": ".py",
   "mimetype": "text/x-python",
   "name": "python",
   "nbconvert_exporter": "python",
   "pygments_lexer": "ipython3",
   "version": "3.11.9"
  }
 },
 "nbformat": 4,
 "nbformat_minor": 2
}
