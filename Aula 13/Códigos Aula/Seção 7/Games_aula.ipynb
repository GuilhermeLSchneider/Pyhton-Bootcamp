{
 "cells": [
  {
   "cell_type": "markdown",
   "metadata": {
    "id": "5KfkFZ2SrYgD"
   },
   "source": [
    "# Deep Learning A Z Regressão mais valores - Games"
   ]
  },
  {
   "cell_type": "code",
   "execution_count": 1,
   "metadata": {
    "id": "sndBP_WU3oh3"
   },
   "outputs": [],
   "source": [
    "import pandas as pd\n",
    "import tensorflow as tf\n",
    "import sklearn"
   ]
  },
  {
   "cell_type": "code",
   "execution_count": 2,
   "metadata": {
    "colab": {
     "base_uri": "https://localhost:8080/"
    },
    "executionInfo": {
     "elapsed": 7,
     "status": "ok",
     "timestamp": 1719505536044,
     "user": {
      "displayName": "Jones Granatyr",
      "userId": "10042675233362078631"
     },
     "user_tz": 180
    },
    "id": "JsiKYAulrd88",
    "outputId": "061b66eb-4987-4a85-bdff-944af9c87b59"
   },
   "outputs": [
    {
     "data": {
      "text/plain": [
       "('2.2.2', '2.17.0', '1.5.1')"
      ]
     },
     "execution_count": 2,
     "metadata": {},
     "output_type": "execute_result"
    }
   ],
   "source": [
    "pd.__version__, tf.__version__, sklearn.__version__"
   ]
  },
  {
   "cell_type": "code",
   "execution_count": 3,
   "metadata": {
    "id": "TUDuIiNF4ET5"
   },
   "outputs": [],
   "source": [
    "from tensorflow.keras.layers import Dense, Dropout, Activation, Input\n",
    "from tensorflow.keras.models import Model # Utilizaremos a Model ao invés de Sequential\n",
    "from sklearn.preprocessing import OneHotEncoder\n",
    "from sklearn.compose import ColumnTransformer"
   ]
  },
  {
   "cell_type": "code",
   "execution_count": 4,
   "metadata": {
    "colab": {
     "base_uri": "https://localhost:8080/",
     "height": 604
    },
    "executionInfo": {
     "elapsed": 13,
     "status": "ok",
     "timestamp": 1719505536789,
     "user": {
      "displayName": "Jones Granatyr",
      "userId": "10042675233362078631"
     },
     "user_tz": 180
    },
    "id": "5enkMqvI4euw",
    "outputId": "0a212b81-5117-483d-e738-6c2f3af4ea2d"
   },
   "outputs": [
    {
     "data": {
      "text/html": [
       "<div>\n",
       "<style scoped>\n",
       "    .dataframe tbody tr th:only-of-type {\n",
       "        vertical-align: middle;\n",
       "    }\n",
       "\n",
       "    .dataframe tbody tr th {\n",
       "        vertical-align: top;\n",
       "    }\n",
       "\n",
       "    .dataframe thead th {\n",
       "        text-align: right;\n",
       "    }\n",
       "</style>\n",
       "<table border=\"1\" class=\"dataframe\">\n",
       "  <thead>\n",
       "    <tr style=\"text-align: right;\">\n",
       "      <th></th>\n",
       "      <th>Name</th>\n",
       "      <th>Platform</th>\n",
       "      <th>Year_of_Release</th>\n",
       "      <th>Genre</th>\n",
       "      <th>Publisher</th>\n",
       "      <th>NA_Sales</th>\n",
       "      <th>EU_Sales</th>\n",
       "      <th>JP_Sales</th>\n",
       "      <th>Other_Sales</th>\n",
       "      <th>Global_Sales</th>\n",
       "      <th>Critic_Score</th>\n",
       "      <th>Critic_Count</th>\n",
       "      <th>User_Score</th>\n",
       "      <th>User_Count</th>\n",
       "      <th>Developer</th>\n",
       "      <th>Rating</th>\n",
       "    </tr>\n",
       "  </thead>\n",
       "  <tbody>\n",
       "    <tr>\n",
       "      <th>0</th>\n",
       "      <td>Wii Sports</td>\n",
       "      <td>Wii</td>\n",
       "      <td>2006.0</td>\n",
       "      <td>Sports</td>\n",
       "      <td>Nintendo</td>\n",
       "      <td>41.36</td>\n",
       "      <td>28.96</td>\n",
       "      <td>3.77</td>\n",
       "      <td>8.45</td>\n",
       "      <td>82.53</td>\n",
       "      <td>76.0</td>\n",
       "      <td>51.0</td>\n",
       "      <td>8</td>\n",
       "      <td>322.0</td>\n",
       "      <td>Nintendo</td>\n",
       "      <td>E</td>\n",
       "    </tr>\n",
       "    <tr>\n",
       "      <th>1</th>\n",
       "      <td>Super Mario Bros.</td>\n",
       "      <td>NES</td>\n",
       "      <td>1985.0</td>\n",
       "      <td>Platform</td>\n",
       "      <td>Nintendo</td>\n",
       "      <td>29.08</td>\n",
       "      <td>3.58</td>\n",
       "      <td>6.81</td>\n",
       "      <td>0.77</td>\n",
       "      <td>40.24</td>\n",
       "      <td>NaN</td>\n",
       "      <td>NaN</td>\n",
       "      <td>NaN</td>\n",
       "      <td>NaN</td>\n",
       "      <td>NaN</td>\n",
       "      <td>NaN</td>\n",
       "    </tr>\n",
       "    <tr>\n",
       "      <th>2</th>\n",
       "      <td>Mario Kart Wii</td>\n",
       "      <td>Wii</td>\n",
       "      <td>2008.0</td>\n",
       "      <td>Racing</td>\n",
       "      <td>Nintendo</td>\n",
       "      <td>15.68</td>\n",
       "      <td>12.76</td>\n",
       "      <td>3.79</td>\n",
       "      <td>3.29</td>\n",
       "      <td>35.52</td>\n",
       "      <td>82.0</td>\n",
       "      <td>73.0</td>\n",
       "      <td>8.3</td>\n",
       "      <td>709.0</td>\n",
       "      <td>Nintendo</td>\n",
       "      <td>E</td>\n",
       "    </tr>\n",
       "    <tr>\n",
       "      <th>3</th>\n",
       "      <td>Wii Sports Resort</td>\n",
       "      <td>Wii</td>\n",
       "      <td>2009.0</td>\n",
       "      <td>Sports</td>\n",
       "      <td>Nintendo</td>\n",
       "      <td>15.61</td>\n",
       "      <td>10.93</td>\n",
       "      <td>3.28</td>\n",
       "      <td>2.95</td>\n",
       "      <td>32.77</td>\n",
       "      <td>80.0</td>\n",
       "      <td>73.0</td>\n",
       "      <td>8</td>\n",
       "      <td>192.0</td>\n",
       "      <td>Nintendo</td>\n",
       "      <td>E</td>\n",
       "    </tr>\n",
       "    <tr>\n",
       "      <th>4</th>\n",
       "      <td>Pokemon Red/Pokemon Blue</td>\n",
       "      <td>GB</td>\n",
       "      <td>1996.0</td>\n",
       "      <td>Role-Playing</td>\n",
       "      <td>Nintendo</td>\n",
       "      <td>11.27</td>\n",
       "      <td>8.89</td>\n",
       "      <td>10.22</td>\n",
       "      <td>1.00</td>\n",
       "      <td>31.37</td>\n",
       "      <td>NaN</td>\n",
       "      <td>NaN</td>\n",
       "      <td>NaN</td>\n",
       "      <td>NaN</td>\n",
       "      <td>NaN</td>\n",
       "      <td>NaN</td>\n",
       "    </tr>\n",
       "    <tr>\n",
       "      <th>...</th>\n",
       "      <td>...</td>\n",
       "      <td>...</td>\n",
       "      <td>...</td>\n",
       "      <td>...</td>\n",
       "      <td>...</td>\n",
       "      <td>...</td>\n",
       "      <td>...</td>\n",
       "      <td>...</td>\n",
       "      <td>...</td>\n",
       "      <td>...</td>\n",
       "      <td>...</td>\n",
       "      <td>...</td>\n",
       "      <td>...</td>\n",
       "      <td>...</td>\n",
       "      <td>...</td>\n",
       "      <td>...</td>\n",
       "    </tr>\n",
       "    <tr>\n",
       "      <th>16714</th>\n",
       "      <td>Samurai Warriors: Sanada Maru</td>\n",
       "      <td>PS3</td>\n",
       "      <td>2016.0</td>\n",
       "      <td>Action</td>\n",
       "      <td>Tecmo Koei</td>\n",
       "      <td>0.00</td>\n",
       "      <td>0.00</td>\n",
       "      <td>0.01</td>\n",
       "      <td>0.00</td>\n",
       "      <td>0.01</td>\n",
       "      <td>NaN</td>\n",
       "      <td>NaN</td>\n",
       "      <td>NaN</td>\n",
       "      <td>NaN</td>\n",
       "      <td>NaN</td>\n",
       "      <td>NaN</td>\n",
       "    </tr>\n",
       "    <tr>\n",
       "      <th>16715</th>\n",
       "      <td>LMA Manager 2007</td>\n",
       "      <td>X360</td>\n",
       "      <td>2006.0</td>\n",
       "      <td>Sports</td>\n",
       "      <td>Codemasters</td>\n",
       "      <td>0.00</td>\n",
       "      <td>0.01</td>\n",
       "      <td>0.00</td>\n",
       "      <td>0.00</td>\n",
       "      <td>0.01</td>\n",
       "      <td>NaN</td>\n",
       "      <td>NaN</td>\n",
       "      <td>NaN</td>\n",
       "      <td>NaN</td>\n",
       "      <td>NaN</td>\n",
       "      <td>NaN</td>\n",
       "    </tr>\n",
       "    <tr>\n",
       "      <th>16716</th>\n",
       "      <td>Haitaka no Psychedelica</td>\n",
       "      <td>PSV</td>\n",
       "      <td>2016.0</td>\n",
       "      <td>Adventure</td>\n",
       "      <td>Idea Factory</td>\n",
       "      <td>0.00</td>\n",
       "      <td>0.00</td>\n",
       "      <td>0.01</td>\n",
       "      <td>0.00</td>\n",
       "      <td>0.01</td>\n",
       "      <td>NaN</td>\n",
       "      <td>NaN</td>\n",
       "      <td>NaN</td>\n",
       "      <td>NaN</td>\n",
       "      <td>NaN</td>\n",
       "      <td>NaN</td>\n",
       "    </tr>\n",
       "    <tr>\n",
       "      <th>16717</th>\n",
       "      <td>Spirits &amp; Spells</td>\n",
       "      <td>GBA</td>\n",
       "      <td>2003.0</td>\n",
       "      <td>Platform</td>\n",
       "      <td>Wanadoo</td>\n",
       "      <td>0.01</td>\n",
       "      <td>0.00</td>\n",
       "      <td>0.00</td>\n",
       "      <td>0.00</td>\n",
       "      <td>0.01</td>\n",
       "      <td>NaN</td>\n",
       "      <td>NaN</td>\n",
       "      <td>NaN</td>\n",
       "      <td>NaN</td>\n",
       "      <td>NaN</td>\n",
       "      <td>NaN</td>\n",
       "    </tr>\n",
       "    <tr>\n",
       "      <th>16718</th>\n",
       "      <td>Winning Post 8 2016</td>\n",
       "      <td>PSV</td>\n",
       "      <td>2016.0</td>\n",
       "      <td>Simulation</td>\n",
       "      <td>Tecmo Koei</td>\n",
       "      <td>0.00</td>\n",
       "      <td>0.00</td>\n",
       "      <td>0.01</td>\n",
       "      <td>0.00</td>\n",
       "      <td>0.01</td>\n",
       "      <td>NaN</td>\n",
       "      <td>NaN</td>\n",
       "      <td>NaN</td>\n",
       "      <td>NaN</td>\n",
       "      <td>NaN</td>\n",
       "      <td>NaN</td>\n",
       "    </tr>\n",
       "  </tbody>\n",
       "</table>\n",
       "<p>16719 rows × 16 columns</p>\n",
       "</div>"
      ],
      "text/plain": [
       "                                Name Platform  Year_of_Release         Genre  \\\n",
       "0                         Wii Sports      Wii           2006.0        Sports   \n",
       "1                  Super Mario Bros.      NES           1985.0      Platform   \n",
       "2                     Mario Kart Wii      Wii           2008.0        Racing   \n",
       "3                  Wii Sports Resort      Wii           2009.0        Sports   \n",
       "4           Pokemon Red/Pokemon Blue       GB           1996.0  Role-Playing   \n",
       "...                              ...      ...              ...           ...   \n",
       "16714  Samurai Warriors: Sanada Maru      PS3           2016.0        Action   \n",
       "16715               LMA Manager 2007     X360           2006.0        Sports   \n",
       "16716        Haitaka no Psychedelica      PSV           2016.0     Adventure   \n",
       "16717               Spirits & Spells      GBA           2003.0      Platform   \n",
       "16718            Winning Post 8 2016      PSV           2016.0    Simulation   \n",
       "\n",
       "          Publisher  NA_Sales  EU_Sales  JP_Sales  Other_Sales  Global_Sales  \\\n",
       "0          Nintendo     41.36     28.96      3.77         8.45         82.53   \n",
       "1          Nintendo     29.08      3.58      6.81         0.77         40.24   \n",
       "2          Nintendo     15.68     12.76      3.79         3.29         35.52   \n",
       "3          Nintendo     15.61     10.93      3.28         2.95         32.77   \n",
       "4          Nintendo     11.27      8.89     10.22         1.00         31.37   \n",
       "...             ...       ...       ...       ...          ...           ...   \n",
       "16714    Tecmo Koei      0.00      0.00      0.01         0.00          0.01   \n",
       "16715   Codemasters      0.00      0.01      0.00         0.00          0.01   \n",
       "16716  Idea Factory      0.00      0.00      0.01         0.00          0.01   \n",
       "16717       Wanadoo      0.01      0.00      0.00         0.00          0.01   \n",
       "16718    Tecmo Koei      0.00      0.00      0.01         0.00          0.01   \n",
       "\n",
       "       Critic_Score  Critic_Count User_Score  User_Count Developer Rating  \n",
       "0              76.0          51.0          8       322.0  Nintendo      E  \n",
       "1               NaN           NaN        NaN         NaN       NaN    NaN  \n",
       "2              82.0          73.0        8.3       709.0  Nintendo      E  \n",
       "3              80.0          73.0          8       192.0  Nintendo      E  \n",
       "4               NaN           NaN        NaN         NaN       NaN    NaN  \n",
       "...             ...           ...        ...         ...       ...    ...  \n",
       "16714           NaN           NaN        NaN         NaN       NaN    NaN  \n",
       "16715           NaN           NaN        NaN         NaN       NaN    NaN  \n",
       "16716           NaN           NaN        NaN         NaN       NaN    NaN  \n",
       "16717           NaN           NaN        NaN         NaN       NaN    NaN  \n",
       "16718           NaN           NaN        NaN         NaN       NaN    NaN  \n",
       "\n",
       "[16719 rows x 16 columns]"
      ]
     },
     "execution_count": 4,
     "metadata": {},
     "output_type": "execute_result"
    }
   ],
   "source": [
    "# https://www.kaggle.com/datasets/gregorut/videogamesales\n",
    "base = pd.read_csv('games.csv')\n",
    "base"
   ]
  },
  {
   "cell_type": "code",
   "execution_count": 5,
   "metadata": {
    "id": "QtaVxizk5uBr"
   },
   "outputs": [],
   "source": [
    "# Removendo colunas que não serão utilizadas\n",
    "base = base.drop('Other_Sales', axis = 1)\n",
    "base = base.drop('Global_Sales', axis = 1)\n",
    "base = base.drop('Developer', axis = 1)"
   ]
  },
  {
   "cell_type": "code",
   "execution_count": 6,
   "metadata": {
    "colab": {
     "base_uri": "https://localhost:8080/"
    },
    "executionInfo": {
     "elapsed": 10,
     "status": "ok",
     "timestamp": 1719505536790,
     "user": {
      "displayName": "Jones Granatyr",
      "userId": "10042675233362078631"
     },
     "user_tz": 180
    },
    "id": "z8tvprnr6E5p",
    "outputId": "d0d103f4-b69c-4fcf-d3b4-205bbaf64669"
   },
   "outputs": [
    {
     "data": {
      "text/plain": [
       "(16719, 13)"
      ]
     },
     "execution_count": 6,
     "metadata": {},
     "output_type": "execute_result"
    }
   ],
   "source": [
    "base.shape"
   ]
  },
  {
   "cell_type": "markdown",
   "metadata": {},
   "source": [
    "# Processamento da base de dados"
   ]
  },
  {
   "cell_type": "code",
   "execution_count": 7,
   "metadata": {
    "colab": {
     "base_uri": "https://localhost:8080/"
    },
    "executionInfo": {
     "elapsed": 8,
     "status": "ok",
     "timestamp": 1719505536790,
     "user": {
      "displayName": "Jones Granatyr",
      "userId": "10042675233362078631"
     },
     "user_tz": 180
    },
    "id": "NpEPhyNf73K2",
    "outputId": "df8c1a6a-fd72-4655-d425-c6fa6449a125"
   },
   "outputs": [
    {
     "data": {
      "text/plain": [
       "Name                  2\n",
       "Platform              0\n",
       "Year_of_Release     269\n",
       "Genre                 2\n",
       "Publisher            54\n",
       "NA_Sales              0\n",
       "EU_Sales              0\n",
       "JP_Sales              0\n",
       "Critic_Score       8582\n",
       "Critic_Count       8582\n",
       "User_Score         6704\n",
       "User_Count         9129\n",
       "Rating             6769\n",
       "dtype: int64"
      ]
     },
     "execution_count": 7,
     "metadata": {},
     "output_type": "execute_result"
    }
   ],
   "source": [
    "base.isnull().sum()"
   ]
  },
  {
   "cell_type": "code",
   "execution_count": 8,
   "metadata": {
    "id": "H1ZeobG88W8G"
   },
   "outputs": [],
   "source": [
    "base = base.dropna(axis = 0) # Removendo linhas com valores nulos"
   ]
  },
  {
   "cell_type": "code",
   "execution_count": 9,
   "metadata": {
    "colab": {
     "base_uri": "https://localhost:8080/"
    },
    "executionInfo": {
     "elapsed": 6,
     "status": "ok",
     "timestamp": 1719505536790,
     "user": {
      "displayName": "Jones Granatyr",
      "userId": "10042675233362078631"
     },
     "user_tz": 180
    },
    "id": "P9FYgmwO8bLa",
    "outputId": "0b969a2d-7633-4e27-a327-4216efa99173"
   },
   "outputs": [
    {
     "data": {
      "text/plain": [
       "(6825, 13)"
      ]
     },
     "execution_count": 9,
     "metadata": {},
     "output_type": "execute_result"
    }
   ],
   "source": [
    "base.shape # Reduziu de 16.719 para 6825 linhas (não é muito recomendado remover linhas, ainda mais que representam 59% dos dados)"
   ]
  },
  {
   "cell_type": "code",
   "execution_count": 10,
   "metadata": {
    "colab": {
     "base_uri": "https://localhost:8080/"
    },
    "executionInfo": {
     "elapsed": 5,
     "status": "ok",
     "timestamp": 1719505536790,
     "user": {
      "displayName": "Jones Granatyr",
      "userId": "10042675233362078631"
     },
     "user_tz": 180
    },
    "id": "TWHa6FLT82UW",
    "outputId": "13e8835a-dd5f-4d2a-cf17-85b6404a4b8c"
   },
   "outputs": [
    {
     "data": {
      "text/plain": [
       "Name               0\n",
       "Platform           0\n",
       "Year_of_Release    0\n",
       "Genre              0\n",
       "Publisher          0\n",
       "NA_Sales           0\n",
       "EU_Sales           0\n",
       "JP_Sales           0\n",
       "Critic_Score       0\n",
       "Critic_Count       0\n",
       "User_Score         0\n",
       "User_Count         0\n",
       "Rating             0\n",
       "dtype: int64"
      ]
     },
     "execution_count": 10,
     "metadata": {},
     "output_type": "execute_result"
    }
   ],
   "source": [
    "base.isnull().sum()"
   ]
  },
  {
   "cell_type": "code",
   "execution_count": 11,
   "metadata": {
    "colab": {
     "base_uri": "https://localhost:8080/"
    },
    "executionInfo": {
     "elapsed": 475,
     "status": "ok",
     "timestamp": 1719505537261,
     "user": {
      "displayName": "Jones Granatyr",
      "userId": "10042675233362078631"
     },
     "user_tz": 180
    },
    "id": "M3HmrUX086E8",
    "outputId": "e506a5f2-6ff4-43d9-c062-98d9e265b13a"
   },
   "outputs": [
    {
     "data": {
      "text/plain": [
       "Name\n",
       "Need for Speed: Most Wanted                  8\n",
       "Madden NFL 07                                8\n",
       "LEGO Star Wars II: The Original Trilogy      8\n",
       "The Sims 2                                   7\n",
       "Terraria                                     7\n",
       "                                            ..\n",
       "Castlevania: Portrait of Ruin                1\n",
       "Suzuki TT Superbikes                         1\n",
       "Rumble Roses                                 1\n",
       "Sherlock Holmes: The Mystery of the Mummy    1\n",
       "STORM: Frontline Nation                      1\n",
       "Name: count, Length: 4377, dtype: int64"
      ]
     },
     "execution_count": 11,
     "metadata": {},
     "output_type": "execute_result"
    }
   ],
   "source": [
    "base['Name'].value_counts()"
   ]
  },
  {
   "cell_type": "code",
   "execution_count": 14,
   "metadata": {
    "id": "vbr_IGDW9awx"
   },
   "outputs": [],
   "source": [
    "base = base.drop('Name', axis = 1) # Iremos remover a coluna Name, pois ela não é útil para o modelo"
   ]
  },
  {
   "cell_type": "code",
   "execution_count": 12,
   "metadata": {
    "colab": {
     "base_uri": "https://localhost:8080/"
    },
    "executionInfo": {
     "elapsed": 17,
     "status": "ok",
     "timestamp": 1719505537262,
     "user": {
      "displayName": "Jones Granatyr",
      "userId": "10042675233362078631"
     },
     "user_tz": 180
    },
    "id": "rngoJ_eB9hp6",
    "outputId": "529c82c3-9a97-4c9c-d6e9-935ccb229238"
   },
   "outputs": [
    {
     "data": {
      "text/plain": [
       "(6825, 13)"
      ]
     },
     "execution_count": 12,
     "metadata": {},
     "output_type": "execute_result"
    }
   ],
   "source": [
    "base.shape"
   ]
  },
  {
   "cell_type": "code",
   "execution_count": 15,
   "metadata": {
    "colab": {
     "base_uri": "https://localhost:8080/"
    },
    "executionInfo": {
     "elapsed": 15,
     "status": "ok",
     "timestamp": 1719505537262,
     "user": {
      "displayName": "Jones Granatyr",
      "userId": "10042675233362078631"
     },
     "user_tz": 180
    },
    "id": "ZmEkRD8p9xZI",
    "outputId": "8fa171d3-8864-4810-f28a-2d7e2cc4c3e4"
   },
   "outputs": [
    {
     "data": {
      "text/plain": [
       "Index(['Platform', 'Year_of_Release', 'Genre', 'Publisher', 'NA_Sales',\n",
       "       'EU_Sales', 'JP_Sales', 'Critic_Score', 'Critic_Count', 'User_Score',\n",
       "       'User_Count', 'Rating'],\n",
       "      dtype='object')"
      ]
     },
     "execution_count": 15,
     "metadata": {},
     "output_type": "execute_result"
    }
   ],
   "source": [
    "base.columns"
   ]
  },
  {
   "cell_type": "code",
   "execution_count": 16,
   "metadata": {
    "colab": {
     "base_uri": "https://localhost:8080/"
    },
    "executionInfo": {
     "elapsed": 14,
     "status": "ok",
     "timestamp": 1719505537262,
     "user": {
      "displayName": "Jones Granatyr",
      "userId": "10042675233362078631"
     },
     "user_tz": 180
    },
    "id": "01Z8_Vvg9mkd",
    "outputId": "eb0aa4a8-7035-4486-eae9-91ed8f5a5263"
   },
   "outputs": [
    {
     "data": {
      "text/plain": [
       "array([['Wii', 2006.0, 'Sports', ..., '8', 322.0, 'E'],\n",
       "       ['Wii', 2008.0, 'Racing', ..., '8.3', 709.0, 'E'],\n",
       "       ['Wii', 2009.0, 'Sports', ..., '8', 192.0, 'E'],\n",
       "       ...,\n",
       "       ['PC', 2014.0, 'Action', ..., '7.6', 412.0, 'M'],\n",
       "       ['PC', 2011.0, 'Shooter', ..., '5.8', 43.0, 'T'],\n",
       "       ['PC', 2011.0, 'Strategy', ..., '7.2', 13.0, 'E10+']], dtype=object)"
      ]
     },
     "execution_count": 16,
     "metadata": {},
     "output_type": "execute_result"
    }
   ],
   "source": [
    "X = base.iloc[:, [0, 1, 2, 3, 7, 8, 9, 10, 11]].values # Features ou atributos previsores\n",
    "X"
   ]
  },
  {
   "cell_type": "code",
   "execution_count": 18,
   "metadata": {
    "id": "h3WbTcUU-I8M"
   },
   "outputs": [],
   "source": [
    "y_na = base.iloc[:, 4].values # Atributo a serem previstos\n",
    "y_eu = base.iloc[:, 5].values\n",
    "y_jp = base.iloc[:, 6].values"
   ]
  },
  {
   "cell_type": "code",
   "execution_count": 19,
   "metadata": {
    "colab": {
     "base_uri": "https://localhost:8080/"
    },
    "executionInfo": {
     "elapsed": 13,
     "status": "ok",
     "timestamp": 1719505537262,
     "user": {
      "displayName": "Jones Granatyr",
      "userId": "10042675233362078631"
     },
     "user_tz": 180
    },
    "id": "nN9ecVQr-XxS",
    "outputId": "17287201-e271-49f8-acc7-abf12892d034"
   },
   "outputs": [
    {
     "data": {
      "text/plain": [
       "array([4.136e+01, 1.568e+01, 1.561e+01, ..., 0.000e+00, 1.000e-02,\n",
       "       0.000e+00])"
      ]
     },
     "execution_count": 19,
     "metadata": {},
     "output_type": "execute_result"
    }
   ],
   "source": [
    "y_na"
   ]
  },
  {
   "cell_type": "code",
   "execution_count": 20,
   "metadata": {
    "colab": {
     "base_uri": "https://localhost:8080/"
    },
    "executionInfo": {
     "elapsed": 12,
     "status": "ok",
     "timestamp": 1719505537262,
     "user": {
      "displayName": "Jones Granatyr",
      "userId": "10042675233362078631"
     },
     "user_tz": 180
    },
    "id": "09JKEBth-Zat",
    "outputId": "b4d5659e-1523-48fd-becd-af384a15537f"
   },
   "outputs": [
    {
     "data": {
      "text/plain": [
       "array([2.896e+01, 1.276e+01, 1.093e+01, ..., 1.000e-02, 0.000e+00,\n",
       "       1.000e-02])"
      ]
     },
     "execution_count": 20,
     "metadata": {},
     "output_type": "execute_result"
    }
   ],
   "source": [
    "y_eu"
   ]
  },
  {
   "cell_type": "code",
   "execution_count": 21,
   "metadata": {
    "colab": {
     "base_uri": "https://localhost:8080/"
    },
    "executionInfo": {
     "elapsed": 10,
     "status": "ok",
     "timestamp": 1719505537262,
     "user": {
      "displayName": "Jones Granatyr",
      "userId": "10042675233362078631"
     },
     "user_tz": 180
    },
    "id": "ttL2xpY2-apH",
    "outputId": "bf772636-9f77-4ca4-9d65-5fee0fcbb842"
   },
   "outputs": [
    {
     "data": {
      "text/plain": [
       "array([3.77, 3.79, 3.28, ..., 0.  , 0.  , 0.  ])"
      ]
     },
     "execution_count": 21,
     "metadata": {},
     "output_type": "execute_result"
    }
   ],
   "source": [
    "y_jp"
   ]
  },
  {
   "cell_type": "code",
   "execution_count": 22,
   "metadata": {
    "colab": {
     "base_uri": "https://localhost:8080/"
    },
    "executionInfo": {
     "elapsed": 9,
     "status": "ok",
     "timestamp": 1719505537262,
     "user": {
      "displayName": "Jones Granatyr",
      "userId": "10042675233362078631"
     },
     "user_tz": 180
    },
    "id": "w6_Y1OSf-jQI",
    "outputId": "71d16050-6736-442b-9096-db6321596a14"
   },
   "outputs": [
    {
     "data": {
      "text/plain": [
       "Platform\n",
       "PS2     1140\n",
       "X360     858\n",
       "PS3      769\n",
       "PC       651\n",
       "XB       565\n",
       "Wii      479\n",
       "DS       464\n",
       "PSP      390\n",
       "GC       348\n",
       "PS4      239\n",
       "GBA      237\n",
       "XOne     159\n",
       "3DS      155\n",
       "PS       150\n",
       "PSV      118\n",
       "WiiU      89\n",
       "DC        14\n",
       "Name: count, dtype: int64"
      ]
     },
     "execution_count": 22,
     "metadata": {},
     "output_type": "execute_result"
    }
   ],
   "source": [
    "# PS2  1 0 0 0 0 ...\n",
    "# X360 0 1 0 0 0 ...\n",
    "base['Platform'].value_counts()"
   ]
  },
  {
   "cell_type": "code",
   "execution_count": 23,
   "metadata": {
    "colab": {
     "base_uri": "https://localhost:8080/"
    },
    "executionInfo": {
     "elapsed": 8,
     "status": "ok",
     "timestamp": 1719505537262,
     "user": {
      "displayName": "Jones Granatyr",
      "userId": "10042675233362078631"
     },
     "user_tz": 180
    },
    "id": "MZG9-qvv_HLE",
    "outputId": "a7d69bb8-67dd-4e57-cebf-bf84a1252708"
   },
   "outputs": [
    {
     "data": {
      "text/plain": [
       "Index(['Platform', 'Year_of_Release', 'Genre', 'Publisher', 'NA_Sales',\n",
       "       'EU_Sales', 'JP_Sales', 'Critic_Score', 'Critic_Count', 'User_Score',\n",
       "       'User_Count', 'Rating'],\n",
       "      dtype='object')"
      ]
     },
     "execution_count": 23,
     "metadata": {},
     "output_type": "execute_result"
    }
   ],
   "source": [
    "base.columns"
   ]
  },
  {
   "cell_type": "code",
   "execution_count": 24,
   "metadata": {
    "id": "zOsHi615-4Mr"
   },
   "outputs": [],
   "source": [
    "onehotencoder = ColumnTransformer(transformers=[(\"OneHot\", OneHotEncoder(), [0, 2, 3, 8])], remainder='passthrough') # Passamos as colunas CATEGÓRICAS para o OneHotEncoder\n",
    "X = onehotencoder.fit_transform(X).toarray()"
   ]
  },
  {
   "cell_type": "code",
   "execution_count": 25,
   "metadata": {
    "colab": {
     "base_uri": "https://localhost:8080/"
    },
    "executionInfo": {
     "elapsed": 7,
     "status": "ok",
     "timestamp": 1719505537262,
     "user": {
      "displayName": "Jones Granatyr",
      "userId": "10042675233362078631"
     },
     "user_tz": 180
    },
    "id": "cX-TrmJO_Nz-",
    "outputId": "0977322e-a4fe-46a4-ed9e-02e628077112"
   },
   "outputs": [
    {
     "data": {
      "text/plain": [
       "(6825, 303)"
      ]
     },
     "execution_count": 25,
     "metadata": {},
     "output_type": "execute_result"
    }
   ],
   "source": [
    "X.shape # 6825 linhas e 303 colunas"
   ]
  },
  {
   "cell_type": "code",
   "execution_count": 26,
   "metadata": {
    "colab": {
     "base_uri": "https://localhost:8080/"
    },
    "executionInfo": {
     "elapsed": 6,
     "status": "ok",
     "timestamp": 1719505537262,
     "user": {
      "displayName": "Jones Granatyr",
      "userId": "10042675233362078631"
     },
     "user_tz": 180
    },
    "id": "lcqxpseO_YcY",
    "outputId": "82e402f3-3e6b-4c6d-b56b-c6d05f35cf78"
   },
   "outputs": [
    {
     "data": {
      "text/plain": [
       "array([0.000e+00, 0.000e+00, 0.000e+00, 0.000e+00, 0.000e+00, 0.000e+00,\n",
       "       0.000e+00, 0.000e+00, 0.000e+00, 0.000e+00, 0.000e+00, 0.000e+00,\n",
       "       1.000e+00, 0.000e+00, 0.000e+00, 0.000e+00, 0.000e+00, 0.000e+00,\n",
       "       0.000e+00, 0.000e+00, 0.000e+00, 0.000e+00, 0.000e+00, 0.000e+00,\n",
       "       0.000e+00, 0.000e+00, 0.000e+00, 1.000e+00, 0.000e+00, 0.000e+00,\n",
       "       0.000e+00, 0.000e+00, 0.000e+00, 0.000e+00, 0.000e+00, 0.000e+00,\n",
       "       0.000e+00, 0.000e+00, 0.000e+00, 0.000e+00, 0.000e+00, 0.000e+00,\n",
       "       0.000e+00, 0.000e+00, 0.000e+00, 0.000e+00, 0.000e+00, 0.000e+00,\n",
       "       0.000e+00, 0.000e+00, 0.000e+00, 0.000e+00, 0.000e+00, 0.000e+00,\n",
       "       0.000e+00, 0.000e+00, 0.000e+00, 0.000e+00, 0.000e+00, 0.000e+00,\n",
       "       0.000e+00, 0.000e+00, 0.000e+00, 0.000e+00, 0.000e+00, 0.000e+00,\n",
       "       0.000e+00, 0.000e+00, 0.000e+00, 0.000e+00, 0.000e+00, 0.000e+00,\n",
       "       0.000e+00, 0.000e+00, 0.000e+00, 0.000e+00, 0.000e+00, 0.000e+00,\n",
       "       0.000e+00, 0.000e+00, 0.000e+00, 0.000e+00, 0.000e+00, 0.000e+00,\n",
       "       0.000e+00, 0.000e+00, 0.000e+00, 0.000e+00, 0.000e+00, 0.000e+00,\n",
       "       0.000e+00, 0.000e+00, 0.000e+00, 0.000e+00, 0.000e+00, 0.000e+00,\n",
       "       0.000e+00, 0.000e+00, 0.000e+00, 0.000e+00, 0.000e+00, 0.000e+00,\n",
       "       0.000e+00, 0.000e+00, 0.000e+00, 0.000e+00, 0.000e+00, 0.000e+00,\n",
       "       0.000e+00, 0.000e+00, 0.000e+00, 0.000e+00, 0.000e+00, 0.000e+00,\n",
       "       0.000e+00, 0.000e+00, 0.000e+00, 0.000e+00, 0.000e+00, 0.000e+00,\n",
       "       0.000e+00, 0.000e+00, 0.000e+00, 0.000e+00, 0.000e+00, 0.000e+00,\n",
       "       0.000e+00, 0.000e+00, 0.000e+00, 0.000e+00, 0.000e+00, 0.000e+00,\n",
       "       0.000e+00, 0.000e+00, 0.000e+00, 0.000e+00, 0.000e+00, 0.000e+00,\n",
       "       0.000e+00, 0.000e+00, 0.000e+00, 0.000e+00, 0.000e+00, 0.000e+00,\n",
       "       0.000e+00, 0.000e+00, 0.000e+00, 0.000e+00, 0.000e+00, 0.000e+00,\n",
       "       0.000e+00, 0.000e+00, 0.000e+00, 0.000e+00, 0.000e+00, 0.000e+00,\n",
       "       0.000e+00, 0.000e+00, 0.000e+00, 0.000e+00, 0.000e+00, 0.000e+00,\n",
       "       0.000e+00, 0.000e+00, 0.000e+00, 0.000e+00, 0.000e+00, 0.000e+00,\n",
       "       0.000e+00, 0.000e+00, 0.000e+00, 0.000e+00, 0.000e+00, 0.000e+00,\n",
       "       0.000e+00, 0.000e+00, 0.000e+00, 0.000e+00, 0.000e+00, 0.000e+00,\n",
       "       0.000e+00, 0.000e+00, 0.000e+00, 0.000e+00, 0.000e+00, 0.000e+00,\n",
       "       0.000e+00, 0.000e+00, 0.000e+00, 1.000e+00, 0.000e+00, 0.000e+00,\n",
       "       0.000e+00, 0.000e+00, 0.000e+00, 0.000e+00, 0.000e+00, 0.000e+00,\n",
       "       0.000e+00, 0.000e+00, 0.000e+00, 0.000e+00, 0.000e+00, 0.000e+00,\n",
       "       0.000e+00, 0.000e+00, 0.000e+00, 0.000e+00, 0.000e+00, 0.000e+00,\n",
       "       0.000e+00, 0.000e+00, 0.000e+00, 0.000e+00, 0.000e+00, 0.000e+00,\n",
       "       0.000e+00, 0.000e+00, 0.000e+00, 0.000e+00, 0.000e+00, 0.000e+00,\n",
       "       0.000e+00, 0.000e+00, 0.000e+00, 0.000e+00, 0.000e+00, 0.000e+00,\n",
       "       0.000e+00, 0.000e+00, 0.000e+00, 0.000e+00, 0.000e+00, 0.000e+00,\n",
       "       0.000e+00, 0.000e+00, 0.000e+00, 0.000e+00, 0.000e+00, 0.000e+00,\n",
       "       0.000e+00, 0.000e+00, 0.000e+00, 0.000e+00, 0.000e+00, 0.000e+00,\n",
       "       0.000e+00, 0.000e+00, 0.000e+00, 0.000e+00, 0.000e+00, 0.000e+00,\n",
       "       0.000e+00, 0.000e+00, 0.000e+00, 0.000e+00, 0.000e+00, 0.000e+00,\n",
       "       0.000e+00, 0.000e+00, 0.000e+00, 0.000e+00, 0.000e+00, 0.000e+00,\n",
       "       0.000e+00, 0.000e+00, 0.000e+00, 0.000e+00, 0.000e+00, 0.000e+00,\n",
       "       0.000e+00, 0.000e+00, 0.000e+00, 0.000e+00, 0.000e+00, 0.000e+00,\n",
       "       0.000e+00, 0.000e+00, 0.000e+00, 0.000e+00, 0.000e+00, 0.000e+00,\n",
       "       0.000e+00, 0.000e+00, 0.000e+00, 0.000e+00, 0.000e+00, 0.000e+00,\n",
       "       0.000e+00, 0.000e+00, 0.000e+00, 0.000e+00, 1.000e+00, 0.000e+00,\n",
       "       0.000e+00, 0.000e+00, 0.000e+00, 0.000e+00, 2.006e+03, 7.600e+01,\n",
       "       5.100e+01, 8.000e+00, 3.220e+02])"
      ]
     },
     "execution_count": 26,
     "metadata": {},
     "output_type": "execute_result"
    }
   ],
   "source": [
    "X[0]"
   ]
  },
  {
   "cell_type": "code",
   "execution_count": null,
   "metadata": {
    "colab": {
     "base_uri": "https://localhost:8080/"
    },
    "executionInfo": {
     "elapsed": 5,
     "status": "ok",
     "timestamp": 1719505537262,
     "user": {
      "displayName": "Jones Granatyr",
      "userId": "10042675233362078631"
     },
     "user_tz": 180
    },
    "id": "3eCxAftkBPul",
    "outputId": "3e87bcea-fc25-40ba-8067-6276ef93df8c"
   },
   "outputs": [
    {
     "data": {
      "text/plain": [
       "153.0"
      ]
     },
     "execution_count": 26,
     "metadata": {},
     "output_type": "execute_result"
    }
   ],
   "source": [
    "(303 + 3) / 2"
   ]
  },
  {
   "cell_type": "code",
   "execution_count": 27,
   "metadata": {
    "id": "7ncz201xA--g"
   },
   "outputs": [],
   "source": [
    "# Criação da rede neural a partir da biblioteca Model\n",
    "camada_entrada = Input(shape = (303,)) # Quantidade de neurônios é sempre igual a quantidade de colunas (303)\n",
    "camada_oculta1 = Dense(units = 153, activation='relu')(camada_entrada) # Adicionamos uma camada oculta com 153 neurônios conectada à camada de entrada\n",
    "camada_oculta2 = Dense(units = 153, activation='relu')(camada_oculta1)\n",
    "camada_saida1 = Dense(units = 1, activation='linear')(camada_oculta2) # As camadas de saída estarão conectadas à última camada oculta (camada_oculta2)\n",
    "camada_saida2 = Dense(units = 1, activation='linear')(camada_oculta2)\n",
    "camada_saida3 = Dense(units = 1, activation='linear')(camada_oculta2)"
   ]
  },
  {
   "cell_type": "code",
   "execution_count": 28,
   "metadata": {
    "id": "nUH6lRN1CTVb"
   },
   "outputs": [],
   "source": [
    "regressor = Model(inputs = camada_entrada, outputs = [camada_saida1, camada_saida2, camada_saida3])"
   ]
  },
  {
   "cell_type": "code",
   "execution_count": 29,
   "metadata": {
    "id": "NH0PHXhHCktn"
   },
   "outputs": [],
   "source": [
    "regressor.compile(optimizer='adam', loss = 'mse') # A função de loss agora é o mse (mean squared error)\n",
    "# O mse é melhor por conta de penalizar erros maiores"
   ]
  },
  {
   "cell_type": "code",
   "execution_count": 30,
   "metadata": {
    "colab": {
     "base_uri": "https://localhost:8080/"
    },
    "executionInfo": {
     "elapsed": 281264,
     "status": "ok",
     "timestamp": 1719506229505,
     "user": {
      "displayName": "Jones Granatyr",
      "userId": "10042675233362078631"
     },
     "user_tz": 180
    },
    "id": "Uce7P_U1iVQ0",
    "outputId": "cdc70634-cb81-405d-e495-37d5797b6901"
   },
   "outputs": [
    {
     "name": "stdout",
     "output_type": "stream",
     "text": [
      "Epoch 1/500\n",
      "\u001b[1m69/69\u001b[0m \u001b[32m━━━━━━━━━━━━━━━━━━━━\u001b[0m\u001b[37m\u001b[0m \u001b[1m3s\u001b[0m 3ms/step - dense_2_loss: 857.7544 - dense_3_loss: 2977.0461 - dense_4_loss: 1113.3972 - loss: 4948.6855\n",
      "Epoch 2/500\n",
      "\u001b[1m69/69\u001b[0m \u001b[32m━━━━━━━━━━━━━━━━━━━━\u001b[0m\u001b[37m\u001b[0m \u001b[1m0s\u001b[0m 2ms/step - dense_2_loss: 6.0444 - dense_3_loss: 4.4705 - dense_4_loss: 3.8063 - loss: 14.3229\n",
      "Epoch 3/500\n",
      "\u001b[1m69/69\u001b[0m \u001b[32m━━━━━━━━━━━━━━━━━━━━\u001b[0m\u001b[37m\u001b[0m \u001b[1m0s\u001b[0m 2ms/step - dense_2_loss: 1.1097 - dense_3_loss: 1.5113 - dense_4_loss: 0.4063 - loss: 3.0277\n",
      "Epoch 4/500\n",
      "\u001b[1m69/69\u001b[0m \u001b[32m━━━━━━━━━━━━━━━━━━━━\u001b[0m\u001b[37m\u001b[0m \u001b[1m0s\u001b[0m 3ms/step - dense_2_loss: 1.5233 - dense_3_loss: 1.5513 - dense_4_loss: 0.4074 - loss: 3.4824\n",
      "Epoch 5/500\n",
      "\u001b[1m69/69\u001b[0m \u001b[32m━━━━━━━━━━━━━━━━━━━━\u001b[0m\u001b[37m\u001b[0m \u001b[1m0s\u001b[0m 2ms/step - dense_2_loss: 0.9439 - dense_3_loss: 1.0535 - dense_4_loss: 0.3135 - loss: 2.3098\n",
      "Epoch 6/500\n",
      "\u001b[1m69/69\u001b[0m \u001b[32m━━━━━━━━━━━━━━━━━━━━\u001b[0m\u001b[37m\u001b[0m \u001b[1m0s\u001b[0m 3ms/step - dense_2_loss: 3.3397 - dense_3_loss: 1.6016 - dense_4_loss: 1.2355 - loss: 6.1776\n",
      "Epoch 7/500\n",
      "\u001b[1m69/69\u001b[0m \u001b[32m━━━━━━━━━━━━━━━━━━━━\u001b[0m\u001b[37m\u001b[0m \u001b[1m0s\u001b[0m 2ms/step - dense_2_loss: 1.4582 - dense_3_loss: 0.8413 - dense_4_loss: 0.4150 - loss: 2.7151\n",
      "Epoch 8/500\n",
      "\u001b[1m69/69\u001b[0m \u001b[32m━━━━━━━━━━━━━━━━━━━━\u001b[0m\u001b[37m\u001b[0m \u001b[1m0s\u001b[0m 3ms/step - dense_2_loss: 1.2444 - dense_3_loss: 0.8689 - dense_4_loss: 0.4590 - loss: 2.5729\n",
      "Epoch 9/500\n",
      "\u001b[1m69/69\u001b[0m \u001b[32m━━━━━━━━━━━━━━━━━━━━\u001b[0m\u001b[37m\u001b[0m \u001b[1m0s\u001b[0m 3ms/step - dense_2_loss: 1.3337 - dense_3_loss: 0.6087 - dense_4_loss: 0.4787 - loss: 2.4218\n",
      "Epoch 10/500\n",
      "\u001b[1m69/69\u001b[0m \u001b[32m━━━━━━━━━━━━━━━━━━━━\u001b[0m\u001b[37m\u001b[0m \u001b[1m0s\u001b[0m 3ms/step - dense_2_loss: 56.4644 - dense_3_loss: 3.4345 - dense_4_loss: 19.7779 - loss: 79.7207\n",
      "Epoch 11/500\n",
      "\u001b[1m69/69\u001b[0m \u001b[32m━━━━━━━━━━━━━━━━━━━━\u001b[0m\u001b[37m\u001b[0m \u001b[1m0s\u001b[0m 2ms/step - dense_2_loss: 48.7854 - dense_3_loss: 3.6098 - dense_4_loss: 5.2109 - loss: 57.6130\n",
      "Epoch 12/500\n",
      "\u001b[1m69/69\u001b[0m \u001b[32m━━━━━━━━━━━━━━━━━━━━\u001b[0m\u001b[37m\u001b[0m \u001b[1m0s\u001b[0m 3ms/step - dense_2_loss: 8.8072 - dense_3_loss: 3.4914 - dense_4_loss: 2.4912 - loss: 14.7925\n",
      "Epoch 13/500\n",
      "\u001b[1m69/69\u001b[0m \u001b[32m━━━━━━━━━━━━━━━━━━━━\u001b[0m\u001b[37m\u001b[0m \u001b[1m0s\u001b[0m 2ms/step - dense_2_loss: 1.0330 - dense_3_loss: 0.9333 - dense_4_loss: 0.3430 - loss: 2.3099\n",
      "Epoch 14/500\n",
      "\u001b[1m69/69\u001b[0m \u001b[32m━━━━━━━━━━━━━━━━━━━━\u001b[0m\u001b[37m\u001b[0m \u001b[1m0s\u001b[0m 2ms/step - dense_2_loss: 1.3121 - dense_3_loss: 2.6151 - dense_4_loss: 1.5635 - loss: 5.4883\n",
      "Epoch 15/500\n",
      "\u001b[1m69/69\u001b[0m \u001b[32m━━━━━━━━━━━━━━━━━━━━\u001b[0m\u001b[37m\u001b[0m \u001b[1m0s\u001b[0m 2ms/step - dense_2_loss: 0.8781 - dense_3_loss: 1.5702 - dense_4_loss: 1.0706 - loss: 3.5195\n",
      "Epoch 16/500\n",
      "\u001b[1m69/69\u001b[0m \u001b[32m━━━━━━━━━━━━━━━━━━━━\u001b[0m\u001b[37m\u001b[0m \u001b[1m0s\u001b[0m 2ms/step - dense_2_loss: 1.0868 - dense_3_loss: 0.6911 - dense_4_loss: 0.3181 - loss: 2.0955\n",
      "Epoch 17/500\n",
      "\u001b[1m69/69\u001b[0m \u001b[32m━━━━━━━━━━━━━━━━━━━━\u001b[0m\u001b[37m\u001b[0m \u001b[1m0s\u001b[0m 2ms/step - dense_2_loss: 1.1841 - dense_3_loss: 0.8367 - dense_4_loss: 0.4997 - loss: 2.5177\n",
      "Epoch 18/500\n",
      "\u001b[1m69/69\u001b[0m \u001b[32m━━━━━━━━━━━━━━━━━━━━\u001b[0m\u001b[37m\u001b[0m \u001b[1m0s\u001b[0m 2ms/step - dense_2_loss: 3.8589 - dense_3_loss: 0.7185 - dense_4_loss: 0.4069 - loss: 4.9846\n",
      "Epoch 19/500\n",
      "\u001b[1m69/69\u001b[0m \u001b[32m━━━━━━━━━━━━━━━━━━━━\u001b[0m\u001b[37m\u001b[0m \u001b[1m0s\u001b[0m 3ms/step - dense_2_loss: 5.6693 - dense_3_loss: 2.0312 - dense_4_loss: 1.7081 - loss: 9.4119\n",
      "Epoch 20/500\n",
      "\u001b[1m69/69\u001b[0m \u001b[32m━━━━━━━━━━━━━━━━━━━━\u001b[0m\u001b[37m\u001b[0m \u001b[1m0s\u001b[0m 3ms/step - dense_2_loss: 1.1823 - dense_3_loss: 2.0887 - dense_4_loss: 1.1022 - loss: 4.3737\n",
      "Epoch 21/500\n",
      "\u001b[1m69/69\u001b[0m \u001b[32m━━━━━━━━━━━━━━━━━━━━\u001b[0m\u001b[37m\u001b[0m \u001b[1m0s\u001b[0m 2ms/step - dense_2_loss: 0.8560 - dense_3_loss: 0.5969 - dense_4_loss: 0.3705 - loss: 1.8235\n",
      "Epoch 22/500\n",
      "\u001b[1m69/69\u001b[0m \u001b[32m━━━━━━━━━━━━━━━━━━━━\u001b[0m\u001b[37m\u001b[0m \u001b[1m0s\u001b[0m 2ms/step - dense_2_loss: 1.2798 - dense_3_loss: 0.7036 - dense_4_loss: 0.3483 - loss: 2.3320\n",
      "Epoch 23/500\n",
      "\u001b[1m69/69\u001b[0m \u001b[32m━━━━━━━━━━━━━━━━━━━━\u001b[0m\u001b[37m\u001b[0m \u001b[1m0s\u001b[0m 2ms/step - dense_2_loss: 1.3244 - dense_3_loss: 0.8663 - dense_4_loss: 0.5091 - loss: 2.6973\n",
      "Epoch 24/500\n",
      "\u001b[1m69/69\u001b[0m \u001b[32m━━━━━━━━━━━━━━━━━━━━\u001b[0m\u001b[37m\u001b[0m \u001b[1m0s\u001b[0m 2ms/step - dense_2_loss: 5.1196 - dense_3_loss: 3.2489 - dense_4_loss: 2.2232 - loss: 10.5914\n",
      "Epoch 25/500\n",
      "\u001b[1m69/69\u001b[0m \u001b[32m━━━━━━━━━━━━━━━━━━━━\u001b[0m\u001b[37m\u001b[0m \u001b[1m0s\u001b[0m 2ms/step - dense_2_loss: 1.7218 - dense_3_loss: 1.7418 - dense_4_loss: 1.0187 - loss: 4.4829\n",
      "Epoch 26/500\n",
      "\u001b[1m69/69\u001b[0m \u001b[32m━━━━━━━━━━━━━━━━━━━━\u001b[0m\u001b[37m\u001b[0m \u001b[1m0s\u001b[0m 2ms/step - dense_2_loss: 2.4766 - dense_3_loss: 1.1860 - dense_4_loss: 0.8796 - loss: 4.5434\n",
      "Epoch 27/500\n",
      "\u001b[1m69/69\u001b[0m \u001b[32m━━━━━━━━━━━━━━━━━━━━\u001b[0m\u001b[37m\u001b[0m \u001b[1m0s\u001b[0m 2ms/step - dense_2_loss: 1.2893 - dense_3_loss: 1.3917 - dense_4_loss: 0.7759 - loss: 3.4578\n",
      "Epoch 28/500\n",
      "\u001b[1m69/69\u001b[0m \u001b[32m━━━━━━━━━━━━━━━━━━━━\u001b[0m\u001b[37m\u001b[0m \u001b[1m0s\u001b[0m 2ms/step - dense_2_loss: 1.2713 - dense_3_loss: 2.0324 - dense_4_loss: 1.0485 - loss: 4.3527\n",
      "Epoch 29/500\n",
      "\u001b[1m69/69\u001b[0m \u001b[32m━━━━━━━━━━━━━━━━━━━━\u001b[0m\u001b[37m\u001b[0m \u001b[1m0s\u001b[0m 3ms/step - dense_2_loss: 3.0919 - dense_3_loss: 1.2067 - dense_4_loss: 1.1888 - loss: 5.4507\n",
      "Epoch 30/500\n",
      "\u001b[1m69/69\u001b[0m \u001b[32m━━━━━━━━━━━━━━━━━━━━\u001b[0m\u001b[37m\u001b[0m \u001b[1m0s\u001b[0m 3ms/step - dense_2_loss: 9.0625 - dense_3_loss: 3.2072 - dense_4_loss: 3.5066 - loss: 15.7786\n",
      "Epoch 31/500\n",
      "\u001b[1m69/69\u001b[0m \u001b[32m━━━━━━━━━━━━━━━━━━━━\u001b[0m\u001b[37m\u001b[0m \u001b[1m0s\u001b[0m 2ms/step - dense_2_loss: 5.0124 - dense_3_loss: 13.2122 - dense_4_loss: 8.2056 - loss: 26.4307\n",
      "Epoch 32/500\n",
      "\u001b[1m69/69\u001b[0m \u001b[32m━━━━━━━━━━━━━━━━━━━━\u001b[0m\u001b[37m\u001b[0m \u001b[1m0s\u001b[0m 3ms/step - dense_2_loss: 4.5749 - dense_3_loss: 21.4496 - dense_4_loss: 11.7257 - loss: 37.7530\n",
      "Epoch 33/500\n",
      "\u001b[1m69/69\u001b[0m \u001b[32m━━━━━━━━━━━━━━━━━━━━\u001b[0m\u001b[37m\u001b[0m \u001b[1m0s\u001b[0m 2ms/step - dense_2_loss: 4.7788 - dense_3_loss: 6.4143 - dense_4_loss: 5.5166 - loss: 16.7123\n",
      "Epoch 34/500\n",
      "\u001b[1m69/69\u001b[0m \u001b[32m━━━━━━━━━━━━━━━━━━━━\u001b[0m\u001b[37m\u001b[0m \u001b[1m0s\u001b[0m 2ms/step - dense_2_loss: 1.3622 - dense_3_loss: 1.2117 - dense_4_loss: 1.8039 - loss: 4.3785\n",
      "Epoch 35/500\n",
      "\u001b[1m69/69\u001b[0m \u001b[32m━━━━━━━━━━━━━━━━━━━━\u001b[0m\u001b[37m\u001b[0m \u001b[1m0s\u001b[0m 2ms/step - dense_2_loss: 0.6282 - dense_3_loss: 0.4578 - dense_4_loss: 0.4534 - loss: 1.5396\n",
      "Epoch 36/500\n",
      "\u001b[1m69/69\u001b[0m \u001b[32m━━━━━━━━━━━━━━━━━━━━\u001b[0m\u001b[37m\u001b[0m \u001b[1m0s\u001b[0m 2ms/step - dense_2_loss: 18.2571 - dense_3_loss: 7.7710 - dense_4_loss: 4.3207 - loss: 30.3606\n",
      "Epoch 37/500\n",
      "\u001b[1m69/69\u001b[0m \u001b[32m━━━━━━━━━━━━━━━━━━━━\u001b[0m\u001b[37m\u001b[0m \u001b[1m0s\u001b[0m 4ms/step - dense_2_loss: 4.7133 - dense_3_loss: 2.4530 - dense_4_loss: 2.0704 - loss: 9.2382 \n",
      "Epoch 38/500\n",
      "\u001b[1m69/69\u001b[0m \u001b[32m━━━━━━━━━━━━━━━━━━━━\u001b[0m\u001b[37m\u001b[0m \u001b[1m0s\u001b[0m 2ms/step - dense_2_loss: 2.4636 - dense_3_loss: 1.0994 - dense_4_loss: 0.2906 - loss: 3.8538\n",
      "Epoch 39/500\n",
      "\u001b[1m69/69\u001b[0m \u001b[32m━━━━━━━━━━━━━━━━━━━━\u001b[0m\u001b[37m\u001b[0m \u001b[1m0s\u001b[0m 3ms/step - dense_2_loss: 2.3242 - dense_3_loss: 1.9668 - dense_4_loss: 0.9991 - loss: 5.2916\n",
      "Epoch 40/500\n",
      "\u001b[1m69/69\u001b[0m \u001b[32m━━━━━━━━━━━━━━━━━━━━\u001b[0m\u001b[37m\u001b[0m \u001b[1m0s\u001b[0m 2ms/step - dense_2_loss: 1.0799 - dense_3_loss: 2.0536 - dense_4_loss: 1.4740 - loss: 4.6081\n",
      "Epoch 41/500\n",
      "\u001b[1m69/69\u001b[0m \u001b[32m━━━━━━━━━━━━━━━━━━━━\u001b[0m\u001b[37m\u001b[0m \u001b[1m0s\u001b[0m 2ms/step - dense_2_loss: 1.4592 - dense_3_loss: 1.1923 - dense_4_loss: 0.5555 - loss: 3.2065\n",
      "Epoch 42/500\n",
      "\u001b[1m69/69\u001b[0m \u001b[32m━━━━━━━━━━━━━━━━━━━━\u001b[0m\u001b[37m\u001b[0m \u001b[1m0s\u001b[0m 2ms/step - dense_2_loss: 4.0571 - dense_3_loss: 17.6862 - dense_4_loss: 10.9147 - loss: 32.6634\n",
      "Epoch 43/500\n",
      "\u001b[1m69/69\u001b[0m \u001b[32m━━━━━━━━━━━━━━━━━━━━\u001b[0m\u001b[37m\u001b[0m \u001b[1m0s\u001b[0m 2ms/step - dense_2_loss: 1.0053 - dense_3_loss: 1.1269 - dense_4_loss: 0.4745 - loss: 2.6045\n",
      "Epoch 44/500\n",
      "\u001b[1m69/69\u001b[0m \u001b[32m━━━━━━━━━━━━━━━━━━━━\u001b[0m\u001b[37m\u001b[0m \u001b[1m0s\u001b[0m 3ms/step - dense_2_loss: 2.1764 - dense_3_loss: 3.4468 - dense_4_loss: 1.9581 - loss: 7.5827\n",
      "Epoch 45/500\n",
      "\u001b[1m69/69\u001b[0m \u001b[32m━━━━━━━━━━━━━━━━━━━━\u001b[0m\u001b[37m\u001b[0m \u001b[1m0s\u001b[0m 3ms/step - dense_2_loss: 1.6426 - dense_3_loss: 1.7200 - dense_4_loss: 1.0121 - loss: 4.3745\n",
      "Epoch 46/500\n",
      "\u001b[1m69/69\u001b[0m \u001b[32m━━━━━━━━━━━━━━━━━━━━\u001b[0m\u001b[37m\u001b[0m \u001b[1m0s\u001b[0m 2ms/step - dense_2_loss: 20.4471 - dense_3_loss: 1.8972 - dense_4_loss: 3.1922 - loss: 25.5470\n",
      "Epoch 47/500\n",
      "\u001b[1m69/69\u001b[0m \u001b[32m━━━━━━━━━━━━━━━━━━━━\u001b[0m\u001b[37m\u001b[0m \u001b[1m0s\u001b[0m 2ms/step - dense_2_loss: 3.3910 - dense_3_loss: 1.0500 - dense_4_loss: 1.0679 - loss: 5.5098\n",
      "Epoch 48/500\n",
      "\u001b[1m69/69\u001b[0m \u001b[32m━━━━━━━━━━━━━━━━━━━━\u001b[0m\u001b[37m\u001b[0m \u001b[1m0s\u001b[0m 3ms/step - dense_2_loss: 1.4503 - dense_3_loss: 0.4690 - dense_4_loss: 0.2119 - loss: 2.1313\n",
      "Epoch 49/500\n",
      "\u001b[1m69/69\u001b[0m \u001b[32m━━━━━━━━━━━━━━━━━━━━\u001b[0m\u001b[37m\u001b[0m \u001b[1m0s\u001b[0m 3ms/step - dense_2_loss: 1.0568 - dense_3_loss: 0.8828 - dense_4_loss: 0.3459 - loss: 2.2856\n",
      "Epoch 50/500\n",
      "\u001b[1m69/69\u001b[0m \u001b[32m━━━━━━━━━━━━━━━━━━━━\u001b[0m\u001b[37m\u001b[0m \u001b[1m0s\u001b[0m 3ms/step - dense_2_loss: 1.9009 - dense_3_loss: 1.6684 - dense_4_loss: 0.8159 - loss: 4.3847\n",
      "Epoch 51/500\n",
      "\u001b[1m69/69\u001b[0m \u001b[32m━━━━━━━━━━━━━━━━━━━━\u001b[0m\u001b[37m\u001b[0m \u001b[1m0s\u001b[0m 2ms/step - dense_2_loss: 1.6963 - dense_3_loss: 12.8855 - dense_4_loss: 5.2066 - loss: 19.7932\n",
      "Epoch 52/500\n",
      "\u001b[1m69/69\u001b[0m \u001b[32m━━━━━━━━━━━━━━━━━━━━\u001b[0m\u001b[37m\u001b[0m \u001b[1m0s\u001b[0m 3ms/step - dense_2_loss: 1.2088 - dense_3_loss: 2.2169 - dense_4_loss: 1.2028 - loss: 4.6212\n",
      "Epoch 53/500\n",
      "\u001b[1m69/69\u001b[0m \u001b[32m━━━━━━━━━━━━━━━━━━━━\u001b[0m\u001b[37m\u001b[0m \u001b[1m0s\u001b[0m 3ms/step - dense_2_loss: 5.3257 - dense_3_loss: 32.3649 - dense_4_loss: 13.5185 - loss: 51.2242\n",
      "Epoch 54/500\n",
      "\u001b[1m69/69\u001b[0m \u001b[32m━━━━━━━━━━━━━━━━━━━━\u001b[0m\u001b[37m\u001b[0m \u001b[1m0s\u001b[0m 3ms/step - dense_2_loss: 1.2826 - dense_3_loss: 0.7981 - dense_4_loss: 0.4332 - loss: 2.5144\n",
      "Epoch 55/500\n",
      "\u001b[1m69/69\u001b[0m \u001b[32m━━━━━━━━━━━━━━━━━━━━\u001b[0m\u001b[37m\u001b[0m \u001b[1m0s\u001b[0m 3ms/step - dense_2_loss: 0.9224 - dense_3_loss: 0.4541 - dense_4_loss: 0.1505 - loss: 1.5274\n",
      "Epoch 56/500\n",
      "\u001b[1m69/69\u001b[0m \u001b[32m━━━━━━━━━━━━━━━━━━━━\u001b[0m\u001b[37m\u001b[0m \u001b[1m0s\u001b[0m 3ms/step - dense_2_loss: 0.7236 - dense_3_loss: 0.3796 - dense_4_loss: 0.1694 - loss: 1.2730\n",
      "Epoch 57/500\n",
      "\u001b[1m69/69\u001b[0m \u001b[32m━━━━━━━━━━━━━━━━━━━━\u001b[0m\u001b[37m\u001b[0m \u001b[1m0s\u001b[0m 2ms/step - dense_2_loss: 0.6733 - dense_3_loss: 0.5590 - dense_4_loss: 0.2014 - loss: 1.4341\n",
      "Epoch 58/500\n",
      "\u001b[1m69/69\u001b[0m \u001b[32m━━━━━━━━━━━━━━━━━━━━\u001b[0m\u001b[37m\u001b[0m \u001b[1m0s\u001b[0m 2ms/step - dense_2_loss: 1.3789 - dense_3_loss: 0.6932 - dense_4_loss: 0.1249 - loss: 2.1975\n",
      "Epoch 59/500\n",
      "\u001b[1m69/69\u001b[0m \u001b[32m━━━━━━━━━━━━━━━━━━━━\u001b[0m\u001b[37m\u001b[0m \u001b[1m0s\u001b[0m 4ms/step - dense_2_loss: 0.8854 - dense_3_loss: 0.5042 - dense_4_loss: 0.2059 - loss: 1.5956\n",
      "Epoch 60/500\n",
      "\u001b[1m69/69\u001b[0m \u001b[32m━━━━━━━━━━━━━━━━━━━━\u001b[0m\u001b[37m\u001b[0m \u001b[1m0s\u001b[0m 2ms/step - dense_2_loss: 1.1070 - dense_3_loss: 0.8380 - dense_4_loss: 0.6264 - loss: 2.5718\n",
      "Epoch 61/500\n",
      "\u001b[1m69/69\u001b[0m \u001b[32m━━━━━━━━━━━━━━━━━━━━\u001b[0m\u001b[37m\u001b[0m \u001b[1m0s\u001b[0m 2ms/step - dense_2_loss: 1.3085 - dense_3_loss: 0.5481 - dense_4_loss: 0.3868 - loss: 2.2439\n",
      "Epoch 62/500\n",
      "\u001b[1m69/69\u001b[0m \u001b[32m━━━━━━━━━━━━━━━━━━━━\u001b[0m\u001b[37m\u001b[0m \u001b[1m0s\u001b[0m 3ms/step - dense_2_loss: 0.6054 - dense_3_loss: 0.3646 - dense_4_loss: 0.1901 - loss: 1.1588\n",
      "Epoch 63/500\n",
      "\u001b[1m69/69\u001b[0m \u001b[32m━━━━━━━━━━━━━━━━━━━━\u001b[0m\u001b[37m\u001b[0m \u001b[1m0s\u001b[0m 2ms/step - dense_2_loss: 1.3287 - dense_3_loss: 0.7907 - dense_4_loss: 0.4889 - loss: 2.6086\n",
      "Epoch 64/500\n",
      "\u001b[1m69/69\u001b[0m \u001b[32m━━━━━━━━━━━━━━━━━━━━\u001b[0m\u001b[37m\u001b[0m \u001b[1m0s\u001b[0m 2ms/step - dense_2_loss: 1.1610 - dense_3_loss: 0.6073 - dense_4_loss: 0.3239 - loss: 2.0920\n",
      "Epoch 65/500\n",
      "\u001b[1m69/69\u001b[0m \u001b[32m━━━━━━━━━━━━━━━━━━━━\u001b[0m\u001b[37m\u001b[0m \u001b[1m0s\u001b[0m 2ms/step - dense_2_loss: 1.9591 - dense_3_loss: 1.4378 - dense_4_loss: 0.5122 - loss: 3.9097\n",
      "Epoch 66/500\n",
      "\u001b[1m69/69\u001b[0m \u001b[32m━━━━━━━━━━━━━━━━━━━━\u001b[0m\u001b[37m\u001b[0m \u001b[1m0s\u001b[0m 2ms/step - dense_2_loss: 0.9725 - dense_3_loss: 0.8214 - dense_4_loss: 0.6126 - loss: 2.4035\n",
      "Epoch 67/500\n",
      "\u001b[1m69/69\u001b[0m \u001b[32m━━━━━━━━━━━━━━━━━━━━\u001b[0m\u001b[37m\u001b[0m \u001b[1m0s\u001b[0m 2ms/step - dense_2_loss: 2.6542 - dense_3_loss: 3.0509 - dense_4_loss: 1.4262 - loss: 7.1320\n",
      "Epoch 68/500\n",
      "\u001b[1m69/69\u001b[0m \u001b[32m━━━━━━━━━━━━━━━━━━━━\u001b[0m\u001b[37m\u001b[0m \u001b[1m0s\u001b[0m 2ms/step - dense_2_loss: 1.7581 - dense_3_loss: 1.5442 - dense_4_loss: 0.6356 - loss: 3.9380\n",
      "Epoch 69/500\n",
      "\u001b[1m69/69\u001b[0m \u001b[32m━━━━━━━━━━━━━━━━━━━━\u001b[0m\u001b[37m\u001b[0m \u001b[1m0s\u001b[0m 2ms/step - dense_2_loss: 2.0435 - dense_3_loss: 1.8294 - dense_4_loss: 0.7451 - loss: 4.6180\n",
      "Epoch 70/500\n",
      "\u001b[1m69/69\u001b[0m \u001b[32m━━━━━━━━━━━━━━━━━━━━\u001b[0m\u001b[37m\u001b[0m \u001b[1m0s\u001b[0m 2ms/step - dense_2_loss: 2.9594 - dense_3_loss: 2.9024 - dense_4_loss: 1.3320 - loss: 7.1842\n",
      "Epoch 71/500\n",
      "\u001b[1m69/69\u001b[0m \u001b[32m━━━━━━━━━━━━━━━━━━━━\u001b[0m\u001b[37m\u001b[0m \u001b[1m0s\u001b[0m 2ms/step - dense_2_loss: 1.6314 - dense_3_loss: 6.4200 - dense_4_loss: 1.8688 - loss: 9.9216 \n",
      "Epoch 72/500\n",
      "\u001b[1m69/69\u001b[0m \u001b[32m━━━━━━━━━━━━━━━━━━━━\u001b[0m\u001b[37m\u001b[0m \u001b[1m0s\u001b[0m 2ms/step - dense_2_loss: 0.6478 - dense_3_loss: 0.5240 - dense_4_loss: 0.2668 - loss: 1.4364\n",
      "Epoch 73/500\n",
      "\u001b[1m69/69\u001b[0m \u001b[32m━━━━━━━━━━━━━━━━━━━━\u001b[0m\u001b[37m\u001b[0m \u001b[1m0s\u001b[0m 2ms/step - dense_2_loss: 3.0181 - dense_3_loss: 2.8022 - dense_4_loss: 1.0445 - loss: 6.8654\n",
      "Epoch 74/500\n",
      "\u001b[1m69/69\u001b[0m \u001b[32m━━━━━━━━━━━━━━━━━━━━\u001b[0m\u001b[37m\u001b[0m \u001b[1m0s\u001b[0m 2ms/step - dense_2_loss: 1.0656 - dense_3_loss: 0.9481 - dense_4_loss: 0.2373 - loss: 2.2512\n",
      "Epoch 75/500\n",
      "\u001b[1m69/69\u001b[0m \u001b[32m━━━━━━━━━━━━━━━━━━━━\u001b[0m\u001b[37m\u001b[0m \u001b[1m0s\u001b[0m 4ms/step - dense_2_loss: 1.3257 - dense_3_loss: 1.2086 - dense_4_loss: 0.4767 - loss: 3.0105\n",
      "Epoch 76/500\n",
      "\u001b[1m69/69\u001b[0m \u001b[32m━━━━━━━━━━━━━━━━━━━━\u001b[0m\u001b[37m\u001b[0m \u001b[1m0s\u001b[0m 2ms/step - dense_2_loss: 1.2773 - dense_3_loss: 1.3112 - dense_4_loss: 0.5051 - loss: 3.0926\n",
      "Epoch 77/500\n",
      "\u001b[1m69/69\u001b[0m \u001b[32m━━━━━━━━━━━━━━━━━━━━\u001b[0m\u001b[37m\u001b[0m \u001b[1m0s\u001b[0m 2ms/step - dense_2_loss: 13.2979 - dense_3_loss: 19.8337 - dense_4_loss: 4.0608 - loss: 37.2070\n",
      "Epoch 78/500\n",
      "\u001b[1m69/69\u001b[0m \u001b[32m━━━━━━━━━━━━━━━━━━━━\u001b[0m\u001b[37m\u001b[0m \u001b[1m0s\u001b[0m 2ms/step - dense_2_loss: 4.0193 - dense_3_loss: 2.7021 - dense_4_loss: 2.0583 - loss: 8.7808\n",
      "Epoch 79/500\n",
      "\u001b[1m69/69\u001b[0m \u001b[32m━━━━━━━━━━━━━━━━━━━━\u001b[0m\u001b[37m\u001b[0m \u001b[1m0s\u001b[0m 3ms/step - dense_2_loss: 0.7761 - dense_3_loss: 0.5967 - dense_4_loss: 0.5053 - loss: 1.8785\n",
      "Epoch 80/500\n",
      "\u001b[1m69/69\u001b[0m \u001b[32m━━━━━━━━━━━━━━━━━━━━\u001b[0m\u001b[37m\u001b[0m \u001b[1m0s\u001b[0m 2ms/step - dense_2_loss: 1.3088 - dense_3_loss: 0.8142 - dense_4_loss: 0.2967 - loss: 2.4198\n",
      "Epoch 81/500\n",
      "\u001b[1m69/69\u001b[0m \u001b[32m━━━━━━━━━━━━━━━━━━━━\u001b[0m\u001b[37m\u001b[0m \u001b[1m0s\u001b[0m 3ms/step - dense_2_loss: 0.8598 - dense_3_loss: 0.4818 - dense_4_loss: 0.1336 - loss: 1.4749\n",
      "Epoch 82/500\n",
      "\u001b[1m69/69\u001b[0m \u001b[32m━━━━━━━━━━━━━━━━━━━━\u001b[0m\u001b[37m\u001b[0m \u001b[1m0s\u001b[0m 4ms/step - dense_2_loss: 1.1511 - dense_3_loss: 0.6901 - dense_4_loss: 0.2756 - loss: 2.1169\n",
      "Epoch 83/500\n",
      "\u001b[1m69/69\u001b[0m \u001b[32m━━━━━━━━━━━━━━━━━━━━\u001b[0m\u001b[37m\u001b[0m \u001b[1m0s\u001b[0m 3ms/step - dense_2_loss: 1.4069 - dense_3_loss: 0.5714 - dense_4_loss: 0.2028 - loss: 2.1817\n",
      "Epoch 84/500\n",
      "\u001b[1m69/69\u001b[0m \u001b[32m━━━━━━━━━━━━━━━━━━━━\u001b[0m\u001b[37m\u001b[0m \u001b[1m0s\u001b[0m 3ms/step - dense_2_loss: 0.5469 - dense_3_loss: 0.3490 - dense_4_loss: 0.1594 - loss: 1.0550\n",
      "Epoch 85/500\n",
      "\u001b[1m69/69\u001b[0m \u001b[32m━━━━━━━━━━━━━━━━━━━━\u001b[0m\u001b[37m\u001b[0m \u001b[1m0s\u001b[0m 3ms/step - dense_2_loss: 0.6852 - dense_3_loss: 0.3786 - dense_4_loss: 0.1232 - loss: 1.1849\n",
      "Epoch 86/500\n",
      "\u001b[1m69/69\u001b[0m \u001b[32m━━━━━━━━━━━━━━━━━━━━\u001b[0m\u001b[37m\u001b[0m \u001b[1m0s\u001b[0m 2ms/step - dense_2_loss: 0.8632 - dense_3_loss: 0.5283 - dense_4_loss: 0.1811 - loss: 1.5726\n",
      "Epoch 87/500\n",
      "\u001b[1m69/69\u001b[0m \u001b[32m━━━━━━━━━━━━━━━━━━━━\u001b[0m\u001b[37m\u001b[0m \u001b[1m0s\u001b[0m 2ms/step - dense_2_loss: 1.5339 - dense_3_loss: 0.7868 - dense_4_loss: 0.4561 - loss: 2.7773\n",
      "Epoch 88/500\n",
      "\u001b[1m69/69\u001b[0m \u001b[32m━━━━━━━━━━━━━━━━━━━━\u001b[0m\u001b[37m\u001b[0m \u001b[1m0s\u001b[0m 3ms/step - dense_2_loss: 0.9226 - dense_3_loss: 0.5333 - dense_4_loss: 0.2084 - loss: 1.6645\n",
      "Epoch 89/500\n",
      "\u001b[1m69/69\u001b[0m \u001b[32m━━━━━━━━━━━━━━━━━━━━\u001b[0m\u001b[37m\u001b[0m \u001b[1m0s\u001b[0m 4ms/step - dense_2_loss: 1.2704 - dense_3_loss: 0.8582 - dense_4_loss: 0.3845 - loss: 2.5137\n",
      "Epoch 90/500\n",
      "\u001b[1m69/69\u001b[0m \u001b[32m━━━━━━━━━━━━━━━━━━━━\u001b[0m\u001b[37m\u001b[0m \u001b[1m0s\u001b[0m 3ms/step - dense_2_loss: 0.7945 - dense_3_loss: 1.3366 - dense_4_loss: 0.3894 - loss: 2.5213\n",
      "Epoch 91/500\n",
      "\u001b[1m69/69\u001b[0m \u001b[32m━━━━━━━━━━━━━━━━━━━━\u001b[0m\u001b[37m\u001b[0m \u001b[1m0s\u001b[0m 2ms/step - dense_2_loss: 0.8692 - dense_3_loss: 0.7341 - dense_4_loss: 0.2811 - loss: 1.8845\n",
      "Epoch 92/500\n",
      "\u001b[1m69/69\u001b[0m \u001b[32m━━━━━━━━━━━━━━━━━━━━\u001b[0m\u001b[37m\u001b[0m \u001b[1m0s\u001b[0m 3ms/step - dense_2_loss: 0.7126 - dense_3_loss: 0.4653 - dense_4_loss: 0.2533 - loss: 1.4312\n",
      "Epoch 93/500\n",
      "\u001b[1m69/69\u001b[0m \u001b[32m━━━━━━━━━━━━━━━━━━━━\u001b[0m\u001b[37m\u001b[0m \u001b[1m0s\u001b[0m 3ms/step - dense_2_loss: 0.8332 - dense_3_loss: 0.6078 - dense_4_loss: 0.3187 - loss: 1.7597\n",
      "Epoch 94/500\n",
      "\u001b[1m69/69\u001b[0m \u001b[32m━━━━━━━━━━━━━━━━━━━━\u001b[0m\u001b[37m\u001b[0m \u001b[1m0s\u001b[0m 2ms/step - dense_2_loss: 1.7500 - dense_3_loss: 1.2992 - dense_4_loss: 0.7571 - loss: 3.8072\n",
      "Epoch 95/500\n",
      "\u001b[1m69/69\u001b[0m \u001b[32m━━━━━━━━━━━━━━━━━━━━\u001b[0m\u001b[37m\u001b[0m \u001b[1m0s\u001b[0m 3ms/step - dense_2_loss: 1.6520 - dense_3_loss: 1.9281 - dense_4_loss: 0.7941 - loss: 4.3747\n",
      "Epoch 96/500\n",
      "\u001b[1m69/69\u001b[0m \u001b[32m━━━━━━━━━━━━━━━━━━━━\u001b[0m\u001b[37m\u001b[0m \u001b[1m0s\u001b[0m 2ms/step - dense_2_loss: 0.8815 - dense_3_loss: 0.5427 - dense_4_loss: 0.2821 - loss: 1.7068\n",
      "Epoch 97/500\n",
      "\u001b[1m69/69\u001b[0m \u001b[32m━━━━━━━━━━━━━━━━━━━━\u001b[0m\u001b[37m\u001b[0m \u001b[1m0s\u001b[0m 3ms/step - dense_2_loss: 0.9435 - dense_3_loss: 0.5082 - dense_4_loss: 0.7472 - loss: 2.1989\n",
      "Epoch 98/500\n",
      "\u001b[1m69/69\u001b[0m \u001b[32m━━━━━━━━━━━━━━━━━━━━\u001b[0m\u001b[37m\u001b[0m \u001b[1m0s\u001b[0m 2ms/step - dense_2_loss: 1.7171 - dense_3_loss: 3.0530 - dense_4_loss: 0.9606 - loss: 5.7327\n",
      "Epoch 99/500\n",
      "\u001b[1m69/69\u001b[0m \u001b[32m━━━━━━━━━━━━━━━━━━━━\u001b[0m\u001b[37m\u001b[0m \u001b[1m0s\u001b[0m 2ms/step - dense_2_loss: 1.7097 - dense_3_loss: 5.9927 - dense_4_loss: 1.5785 - loss: 9.2831\n",
      "Epoch 100/500\n",
      "\u001b[1m69/69\u001b[0m \u001b[32m━━━━━━━━━━━━━━━━━━━━\u001b[0m\u001b[37m\u001b[0m \u001b[1m0s\u001b[0m 2ms/step - dense_2_loss: 1.4611 - dense_3_loss: 2.4019 - dense_4_loss: 0.4813 - loss: 4.3453\n",
      "Epoch 101/500\n",
      "\u001b[1m69/69\u001b[0m \u001b[32m━━━━━━━━━━━━━━━━━━━━\u001b[0m\u001b[37m\u001b[0m \u001b[1m0s\u001b[0m 2ms/step - dense_2_loss: 0.9361 - dense_3_loss: 0.8412 - dense_4_loss: 0.3703 - loss: 2.1476\n",
      "Epoch 102/500\n",
      "\u001b[1m69/69\u001b[0m \u001b[32m━━━━━━━━━━━━━━━━━━━━\u001b[0m\u001b[37m\u001b[0m \u001b[1m0s\u001b[0m 4ms/step - dense_2_loss: 0.6805 - dense_3_loss: 0.6292 - dense_4_loss: 0.4599 - loss: 1.7679\n",
      "Epoch 103/500\n",
      "\u001b[1m69/69\u001b[0m \u001b[32m━━━━━━━━━━━━━━━━━━━━\u001b[0m\u001b[37m\u001b[0m \u001b[1m0s\u001b[0m 2ms/step - dense_2_loss: 1.3000 - dense_3_loss: 0.8482 - dense_4_loss: 0.5380 - loss: 2.6862\n",
      "Epoch 104/500\n",
      "\u001b[1m69/69\u001b[0m \u001b[32m━━━━━━━━━━━━━━━━━━━━\u001b[0m\u001b[37m\u001b[0m \u001b[1m0s\u001b[0m 2ms/step - dense_2_loss: 0.9844 - dense_3_loss: 0.9562 - dense_4_loss: 0.8495 - loss: 2.7897\n",
      "Epoch 105/500\n",
      "\u001b[1m69/69\u001b[0m \u001b[32m━━━━━━━━━━━━━━━━━━━━\u001b[0m\u001b[37m\u001b[0m \u001b[1m0s\u001b[0m 2ms/step - dense_2_loss: 1.0280 - dense_3_loss: 0.7234 - dense_4_loss: 0.7352 - loss: 2.4872\n",
      "Epoch 106/500\n",
      "\u001b[1m69/69\u001b[0m \u001b[32m━━━━━━━━━━━━━━━━━━━━\u001b[0m\u001b[37m\u001b[0m \u001b[1m0s\u001b[0m 2ms/step - dense_2_loss: 0.9955 - dense_3_loss: 3.7521 - dense_4_loss: 1.6560 - loss: 6.4008\n",
      "Epoch 107/500\n",
      "\u001b[1m69/69\u001b[0m \u001b[32m━━━━━━━━━━━━━━━━━━━━\u001b[0m\u001b[37m\u001b[0m \u001b[1m0s\u001b[0m 3ms/step - dense_2_loss: 1.9844 - dense_3_loss: 3.5508 - dense_4_loss: 1.5860 - loss: 7.1224\n",
      "Epoch 108/500\n",
      "\u001b[1m69/69\u001b[0m \u001b[32m━━━━━━━━━━━━━━━━━━━━\u001b[0m\u001b[37m\u001b[0m \u001b[1m0s\u001b[0m 4ms/step - dense_2_loss: 1.0404 - dense_3_loss: 0.5859 - dense_4_loss: 0.3591 - loss: 1.9858\n",
      "Epoch 109/500\n",
      "\u001b[1m69/69\u001b[0m \u001b[32m━━━━━━━━━━━━━━━━━━━━\u001b[0m\u001b[37m\u001b[0m \u001b[1m0s\u001b[0m 2ms/step - dense_2_loss: 1.0360 - dense_3_loss: 0.5026 - dense_4_loss: 0.1292 - loss: 1.6678\n",
      "Epoch 110/500\n",
      "\u001b[1m69/69\u001b[0m \u001b[32m━━━━━━━━━━━━━━━━━━━━\u001b[0m\u001b[37m\u001b[0m \u001b[1m0s\u001b[0m 3ms/step - dense_2_loss: 1.0946 - dense_3_loss: 0.4133 - dense_4_loss: 0.1546 - loss: 1.6628\n",
      "Epoch 111/500\n",
      "\u001b[1m69/69\u001b[0m \u001b[32m━━━━━━━━━━━━━━━━━━━━\u001b[0m\u001b[37m\u001b[0m \u001b[1m0s\u001b[0m 3ms/step - dense_2_loss: 1.2240 - dense_3_loss: 0.6422 - dense_4_loss: 0.2173 - loss: 2.0836\n",
      "Epoch 112/500\n",
      "\u001b[1m69/69\u001b[0m \u001b[32m━━━━━━━━━━━━━━━━━━━━\u001b[0m\u001b[37m\u001b[0m \u001b[1m0s\u001b[0m 2ms/step - dense_2_loss: 1.8709 - dense_3_loss: 1.1620 - dense_4_loss: 0.4651 - loss: 3.4984\n",
      "Epoch 113/500\n",
      "\u001b[1m69/69\u001b[0m \u001b[32m━━━━━━━━━━━━━━━━━━━━\u001b[0m\u001b[37m\u001b[0m \u001b[1m0s\u001b[0m 2ms/step - dense_2_loss: 1.3127 - dense_3_loss: 0.7317 - dense_4_loss: 0.1661 - loss: 2.2106\n",
      "Epoch 114/500\n",
      "\u001b[1m69/69\u001b[0m \u001b[32m━━━━━━━━━━━━━━━━━━━━\u001b[0m\u001b[37m\u001b[0m \u001b[1m0s\u001b[0m 2ms/step - dense_2_loss: 0.6680 - dense_3_loss: 0.4307 - dense_4_loss: 0.2348 - loss: 1.3333\n",
      "Epoch 115/500\n",
      "\u001b[1m69/69\u001b[0m \u001b[32m━━━━━━━━━━━━━━━━━━━━\u001b[0m\u001b[37m\u001b[0m \u001b[1m0s\u001b[0m 4ms/step - dense_2_loss: 1.1841 - dense_3_loss: 0.9974 - dense_4_loss: 0.4031 - loss: 2.5851\n",
      "Epoch 116/500\n",
      "\u001b[1m69/69\u001b[0m \u001b[32m━━━━━━━━━━━━━━━━━━━━\u001b[0m\u001b[37m\u001b[0m \u001b[1m0s\u001b[0m 3ms/step - dense_2_loss: 0.8514 - dense_3_loss: 0.5437 - dense_4_loss: 0.3160 - loss: 1.7114\n",
      "Epoch 117/500\n",
      "\u001b[1m69/69\u001b[0m \u001b[32m━━━━━━━━━━━━━━━━━━━━\u001b[0m\u001b[37m\u001b[0m \u001b[1m0s\u001b[0m 2ms/step - dense_2_loss: 0.8359 - dense_3_loss: 0.5655 - dense_4_loss: 0.3219 - loss: 1.7236\n",
      "Epoch 118/500\n",
      "\u001b[1m69/69\u001b[0m \u001b[32m━━━━━━━━━━━━━━━━━━━━\u001b[0m\u001b[37m\u001b[0m \u001b[1m0s\u001b[0m 2ms/step - dense_2_loss: 1.1941 - dense_3_loss: 0.8166 - dense_4_loss: 0.4234 - loss: 2.4332\n",
      "Epoch 119/500\n",
      "\u001b[1m69/69\u001b[0m \u001b[32m━━━━━━━━━━━━━━━━━━━━\u001b[0m\u001b[37m\u001b[0m \u001b[1m0s\u001b[0m 2ms/step - dense_2_loss: 0.7926 - dense_3_loss: 0.4437 - dense_4_loss: 0.1156 - loss: 1.3522\n",
      "Epoch 120/500\n",
      "\u001b[1m69/69\u001b[0m \u001b[32m━━━━━━━━━━━━━━━━━━━━\u001b[0m\u001b[37m\u001b[0m \u001b[1m0s\u001b[0m 2ms/step - dense_2_loss: 0.6143 - dense_3_loss: 0.3366 - dense_4_loss: 0.1603 - loss: 1.1115\n",
      "Epoch 121/500\n",
      "\u001b[1m69/69\u001b[0m \u001b[32m━━━━━━━━━━━━━━━━━━━━\u001b[0m\u001b[37m\u001b[0m \u001b[1m0s\u001b[0m 4ms/step - dense_2_loss: 0.7295 - dense_3_loss: 0.5910 - dense_4_loss: 0.2468 - loss: 1.5672\n",
      "Epoch 122/500\n",
      "\u001b[1m69/69\u001b[0m \u001b[32m━━━━━━━━━━━━━━━━━━━━\u001b[0m\u001b[37m\u001b[0m \u001b[1m0s\u001b[0m 3ms/step - dense_2_loss: 1.0623 - dense_3_loss: 0.6955 - dense_4_loss: 0.2036 - loss: 1.9616\n",
      "Epoch 123/500\n",
      "\u001b[1m69/69\u001b[0m \u001b[32m━━━━━━━━━━━━━━━━━━━━\u001b[0m\u001b[37m\u001b[0m \u001b[1m0s\u001b[0m 2ms/step - dense_2_loss: 1.0806 - dense_3_loss: 0.9804 - dense_4_loss: 0.5157 - loss: 2.5767\n",
      "Epoch 124/500\n",
      "\u001b[1m69/69\u001b[0m \u001b[32m━━━━━━━━━━━━━━━━━━━━\u001b[0m\u001b[37m\u001b[0m \u001b[1m0s\u001b[0m 2ms/step - dense_2_loss: 0.8317 - dense_3_loss: 0.4719 - dense_4_loss: 0.3718 - loss: 1.6750\n",
      "Epoch 125/500\n",
      "\u001b[1m69/69\u001b[0m \u001b[32m━━━━━━━━━━━━━━━━━━━━\u001b[0m\u001b[37m\u001b[0m \u001b[1m0s\u001b[0m 2ms/step - dense_2_loss: 0.7113 - dense_3_loss: 0.4334 - dense_4_loss: 0.2942 - loss: 1.4375\n",
      "Epoch 126/500\n",
      "\u001b[1m69/69\u001b[0m \u001b[32m━━━━━━━━━━━━━━━━━━━━\u001b[0m\u001b[37m\u001b[0m \u001b[1m0s\u001b[0m 2ms/step - dense_2_loss: 1.2142 - dense_3_loss: 0.6988 - dense_4_loss: 0.7455 - loss: 2.6589\n",
      "Epoch 127/500\n",
      "\u001b[1m69/69\u001b[0m \u001b[32m━━━━━━━━━━━━━━━━━━━━\u001b[0m\u001b[37m\u001b[0m \u001b[1m0s\u001b[0m 4ms/step - dense_2_loss: 1.1405 - dense_3_loss: 0.6955 - dense_4_loss: 0.2574 - loss: 2.0937\n",
      "Epoch 128/500\n",
      "\u001b[1m69/69\u001b[0m \u001b[32m━━━━━━━━━━━━━━━━━━━━\u001b[0m\u001b[37m\u001b[0m \u001b[1m0s\u001b[0m 2ms/step - dense_2_loss: 0.8462 - dense_3_loss: 0.4999 - dense_4_loss: 0.2181 - loss: 1.5648\n",
      "Epoch 129/500\n",
      "\u001b[1m69/69\u001b[0m \u001b[32m━━━━━━━━━━━━━━━━━━━━\u001b[0m\u001b[37m\u001b[0m \u001b[1m0s\u001b[0m 2ms/step - dense_2_loss: 0.7759 - dense_3_loss: 0.4758 - dense_4_loss: 0.4623 - loss: 1.7143\n",
      "Epoch 130/500\n",
      "\u001b[1m69/69\u001b[0m \u001b[32m━━━━━━━━━━━━━━━━━━━━\u001b[0m\u001b[37m\u001b[0m \u001b[1m0s\u001b[0m 2ms/step - dense_2_loss: 1.3099 - dense_3_loss: 0.5910 - dense_4_loss: 0.5320 - loss: 2.4336\n",
      "Epoch 131/500\n",
      "\u001b[1m69/69\u001b[0m \u001b[32m━━━━━━━━━━━━━━━━━━━━\u001b[0m\u001b[37m\u001b[0m \u001b[1m0s\u001b[0m 2ms/step - dense_2_loss: 0.7485 - dense_3_loss: 0.4847 - dense_4_loss: 0.3894 - loss: 1.6230\n",
      "Epoch 132/500\n",
      "\u001b[1m69/69\u001b[0m \u001b[32m━━━━━━━━━━━━━━━━━━━━\u001b[0m\u001b[37m\u001b[0m \u001b[1m0s\u001b[0m 4ms/step - dense_2_loss: 0.9438 - dense_3_loss: 1.0646 - dense_4_loss: 0.5927 - loss: 2.6010\n",
      "Epoch 133/500\n",
      "\u001b[1m69/69\u001b[0m \u001b[32m━━━━━━━━━━━━━━━━━━━━\u001b[0m\u001b[37m\u001b[0m \u001b[1m0s\u001b[0m 2ms/step - dense_2_loss: 0.7730 - dense_3_loss: 0.9577 - dense_4_loss: 0.2937 - loss: 2.0249\n",
      "Epoch 134/500\n",
      "\u001b[1m69/69\u001b[0m \u001b[32m━━━━━━━━━━━━━━━━━━━━\u001b[0m\u001b[37m\u001b[0m \u001b[1m0s\u001b[0m 2ms/step - dense_2_loss: 0.7671 - dense_3_loss: 0.7404 - dense_4_loss: 0.3242 - loss: 1.8321\n",
      "Epoch 135/500\n",
      "\u001b[1m69/69\u001b[0m \u001b[32m━━━━━━━━━━━━━━━━━━━━\u001b[0m\u001b[37m\u001b[0m \u001b[1m0s\u001b[0m 2ms/step - dense_2_loss: 0.8946 - dense_3_loss: 0.6445 - dense_4_loss: 0.8202 - loss: 2.3597\n",
      "Epoch 136/500\n",
      "\u001b[1m69/69\u001b[0m \u001b[32m━━━━━━━━━━━━━━━━━━━━\u001b[0m\u001b[37m\u001b[0m \u001b[1m0s\u001b[0m 3ms/step - dense_2_loss: 0.8952 - dense_3_loss: 0.5285 - dense_4_loss: 0.2337 - loss: 1.6573\n",
      "Epoch 137/500\n",
      "\u001b[1m69/69\u001b[0m \u001b[32m━━━━━━━━━━━━━━━━━━━━\u001b[0m\u001b[37m\u001b[0m \u001b[1m0s\u001b[0m 2ms/step - dense_2_loss: 1.6898 - dense_3_loss: 1.3310 - dense_4_loss: 0.7972 - loss: 3.8187\n",
      "Epoch 138/500\n",
      "\u001b[1m69/69\u001b[0m \u001b[32m━━━━━━━━━━━━━━━━━━━━\u001b[0m\u001b[37m\u001b[0m \u001b[1m0s\u001b[0m 4ms/step - dense_2_loss: 0.7062 - dense_3_loss: 0.4722 - dense_4_loss: 0.2295 - loss: 1.4080\n",
      "Epoch 139/500\n",
      "\u001b[1m69/69\u001b[0m \u001b[32m━━━━━━━━━━━━━━━━━━━━\u001b[0m\u001b[37m\u001b[0m \u001b[1m0s\u001b[0m 3ms/step - dense_2_loss: 0.6639 - dense_3_loss: 0.3617 - dense_4_loss: 0.2977 - loss: 1.3223\n",
      "Epoch 140/500\n",
      "\u001b[1m69/69\u001b[0m \u001b[32m━━━━━━━━━━━━━━━━━━━━\u001b[0m\u001b[37m\u001b[0m \u001b[1m0s\u001b[0m 2ms/step - dense_2_loss: 1.3551 - dense_3_loss: 1.4161 - dense_4_loss: 0.7213 - loss: 3.4921\n",
      "Epoch 141/500\n",
      "\u001b[1m69/69\u001b[0m \u001b[32m━━━━━━━━━━━━━━━━━━━━\u001b[0m\u001b[37m\u001b[0m \u001b[1m0s\u001b[0m 2ms/step - dense_2_loss: 0.7415 - dense_3_loss: 0.4307 - dense_4_loss: 0.2540 - loss: 1.4265\n",
      "Epoch 142/500\n",
      "\u001b[1m69/69\u001b[0m \u001b[32m━━━━━━━━━━━━━━━━━━━━\u001b[0m\u001b[37m\u001b[0m \u001b[1m0s\u001b[0m 2ms/step - dense_2_loss: 0.7615 - dense_3_loss: 0.6299 - dense_4_loss: 0.2503 - loss: 1.6418\n",
      "Epoch 143/500\n",
      "\u001b[1m69/69\u001b[0m \u001b[32m━━━━━━━━━━━━━━━━━━━━\u001b[0m\u001b[37m\u001b[0m \u001b[1m0s\u001b[0m 2ms/step - dense_2_loss: 0.9465 - dense_3_loss: 1.6235 - dense_4_loss: 0.3744 - loss: 2.9443\n",
      "Epoch 144/500\n",
      "\u001b[1m69/69\u001b[0m \u001b[32m━━━━━━━━━━━━━━━━━━━━\u001b[0m\u001b[37m\u001b[0m \u001b[1m0s\u001b[0m 3ms/step - dense_2_loss: 1.2472 - dense_3_loss: 0.6488 - dense_4_loss: 1.0191 - loss: 2.9154\n",
      "Epoch 145/500\n",
      "\u001b[1m69/69\u001b[0m \u001b[32m━━━━━━━━━━━━━━━━━━━━\u001b[0m\u001b[37m\u001b[0m \u001b[1m0s\u001b[0m 3ms/step - dense_2_loss: 0.9096 - dense_3_loss: 0.9139 - dense_4_loss: 0.2931 - loss: 2.1166\n",
      "Epoch 146/500\n",
      "\u001b[1m69/69\u001b[0m \u001b[32m━━━━━━━━━━━━━━━━━━━━\u001b[0m\u001b[37m\u001b[0m \u001b[1m0s\u001b[0m 3ms/step - dense_2_loss: 0.7976 - dense_3_loss: 0.5083 - dense_4_loss: 0.2957 - loss: 1.6011\n",
      "Epoch 147/500\n",
      "\u001b[1m69/69\u001b[0m \u001b[32m━━━━━━━━━━━━━━━━━━━━\u001b[0m\u001b[37m\u001b[0m \u001b[1m0s\u001b[0m 2ms/step - dense_2_loss: 1.0408 - dense_3_loss: 1.0587 - dense_4_loss: 0.3534 - loss: 2.4535\n",
      "Epoch 148/500\n",
      "\u001b[1m69/69\u001b[0m \u001b[32m━━━━━━━━━━━━━━━━━━━━\u001b[0m\u001b[37m\u001b[0m \u001b[1m0s\u001b[0m 3ms/step - dense_2_loss: 0.6624 - dense_3_loss: 0.3914 - dense_4_loss: 0.1990 - loss: 1.2532\n",
      "Epoch 149/500\n",
      "\u001b[1m69/69\u001b[0m \u001b[32m━━━━━━━━━━━━━━━━━━━━\u001b[0m\u001b[37m\u001b[0m \u001b[1m0s\u001b[0m 4ms/step - dense_2_loss: 0.7370 - dense_3_loss: 0.4600 - dense_4_loss: 0.3409 - loss: 1.5343\n",
      "Epoch 150/500\n",
      "\u001b[1m69/69\u001b[0m \u001b[32m━━━━━━━━━━━━━━━━━━━━\u001b[0m\u001b[37m\u001b[0m \u001b[1m0s\u001b[0m 3ms/step - dense_2_loss: 1.0236 - dense_3_loss: 0.9390 - dense_4_loss: 0.6403 - loss: 2.6032\n",
      "Epoch 151/500\n",
      "\u001b[1m69/69\u001b[0m \u001b[32m━━━━━━━━━━━━━━━━━━━━\u001b[0m\u001b[37m\u001b[0m \u001b[1m0s\u001b[0m 2ms/step - dense_2_loss: 0.9285 - dense_3_loss: 0.4985 - dense_4_loss: 0.4283 - loss: 1.8555\n",
      "Epoch 152/500\n",
      "\u001b[1m69/69\u001b[0m \u001b[32m━━━━━━━━━━━━━━━━━━━━\u001b[0m\u001b[37m\u001b[0m \u001b[1m0s\u001b[0m 2ms/step - dense_2_loss: 0.6590 - dense_3_loss: 0.4820 - dense_4_loss: 0.2052 - loss: 1.3456\n",
      "Epoch 153/500\n",
      "\u001b[1m69/69\u001b[0m \u001b[32m━━━━━━━━━━━━━━━━━━━━\u001b[0m\u001b[37m\u001b[0m \u001b[1m0s\u001b[0m 2ms/step - dense_2_loss: 0.8657 - dense_3_loss: 0.6729 - dense_4_loss: 0.4515 - loss: 1.9903\n",
      "Epoch 154/500\n",
      "\u001b[1m69/69\u001b[0m \u001b[32m━━━━━━━━━━━━━━━━━━━━\u001b[0m\u001b[37m\u001b[0m \u001b[1m0s\u001b[0m 2ms/step - dense_2_loss: 1.5627 - dense_3_loss: 1.0590 - dense_4_loss: 0.4156 - loss: 3.0378\n",
      "Epoch 155/500\n",
      "\u001b[1m69/69\u001b[0m \u001b[32m━━━━━━━━━━━━━━━━━━━━\u001b[0m\u001b[37m\u001b[0m \u001b[1m0s\u001b[0m 4ms/step - dense_2_loss: 0.9486 - dense_3_loss: 0.8196 - dense_4_loss: 0.2468 - loss: 2.0153\n",
      "Epoch 156/500\n",
      "\u001b[1m69/69\u001b[0m \u001b[32m━━━━━━━━━━━━━━━━━━━━\u001b[0m\u001b[37m\u001b[0m \u001b[1m0s\u001b[0m 2ms/step - dense_2_loss: 0.7851 - dense_3_loss: 0.6042 - dense_4_loss: 0.1904 - loss: 1.5800\n",
      "Epoch 157/500\n",
      "\u001b[1m69/69\u001b[0m \u001b[32m━━━━━━━━━━━━━━━━━━━━\u001b[0m\u001b[37m\u001b[0m \u001b[1m0s\u001b[0m 2ms/step - dense_2_loss: 1.0422 - dense_3_loss: 0.5513 - dense_4_loss: 0.3744 - loss: 1.9684\n",
      "Epoch 158/500\n",
      "\u001b[1m69/69\u001b[0m \u001b[32m━━━━━━━━━━━━━━━━━━━━\u001b[0m\u001b[37m\u001b[0m \u001b[1m0s\u001b[0m 2ms/step - dense_2_loss: 0.7319 - dense_3_loss: 0.5921 - dense_4_loss: 0.1488 - loss: 1.4727\n",
      "Epoch 159/500\n",
      "\u001b[1m69/69\u001b[0m \u001b[32m━━━━━━━━━━━━━━━━━━━━\u001b[0m\u001b[37m\u001b[0m \u001b[1m0s\u001b[0m 2ms/step - dense_2_loss: 1.7857 - dense_3_loss: 1.1555 - dense_4_loss: 0.4661 - loss: 3.4077\n",
      "Epoch 160/500\n",
      "\u001b[1m69/69\u001b[0m \u001b[32m━━━━━━━━━━━━━━━━━━━━\u001b[0m\u001b[37m\u001b[0m \u001b[1m0s\u001b[0m 4ms/step - dense_2_loss: 0.9376 - dense_3_loss: 0.6818 - dense_4_loss: 0.1720 - loss: 1.7917\n",
      "Epoch 161/500\n",
      "\u001b[1m69/69\u001b[0m \u001b[32m━━━━━━━━━━━━━━━━━━━━\u001b[0m\u001b[37m\u001b[0m \u001b[1m0s\u001b[0m 3ms/step - dense_2_loss: 0.5658 - dense_3_loss: 0.4146 - dense_4_loss: 0.1171 - loss: 1.0975\n",
      "Epoch 162/500\n",
      "\u001b[1m69/69\u001b[0m \u001b[32m━━━━━━━━━━━━━━━━━━━━\u001b[0m\u001b[37m\u001b[0m \u001b[1m0s\u001b[0m 2ms/step - dense_2_loss: 0.7900 - dense_3_loss: 0.6113 - dense_4_loss: 0.3059 - loss: 1.7076\n",
      "Epoch 163/500\n",
      "\u001b[1m69/69\u001b[0m \u001b[32m━━━━━━━━━━━━━━━━━━━━\u001b[0m\u001b[37m\u001b[0m \u001b[1m0s\u001b[0m 2ms/step - dense_2_loss: 1.3937 - dense_3_loss: 0.7405 - dense_4_loss: 0.2483 - loss: 2.3829\n",
      "Epoch 164/500\n",
      "\u001b[1m69/69\u001b[0m \u001b[32m━━━━━━━━━━━━━━━━━━━━\u001b[0m\u001b[37m\u001b[0m \u001b[1m0s\u001b[0m 2ms/step - dense_2_loss: 1.4605 - dense_3_loss: 1.0662 - dense_4_loss: 0.3944 - loss: 2.9213\n",
      "Epoch 165/500\n",
      "\u001b[1m69/69\u001b[0m \u001b[32m━━━━━━━━━━━━━━━━━━━━\u001b[0m\u001b[37m\u001b[0m \u001b[1m0s\u001b[0m 3ms/step - dense_2_loss: 1.0426 - dense_3_loss: 0.7093 - dense_4_loss: 0.2042 - loss: 1.9564\n",
      "Epoch 166/500\n",
      "\u001b[1m69/69\u001b[0m \u001b[32m━━━━━━━━━━━━━━━━━━━━\u001b[0m\u001b[37m\u001b[0m \u001b[1m0s\u001b[0m 2ms/step - dense_2_loss: 0.7204 - dense_3_loss: 0.4732 - dense_4_loss: 0.1560 - loss: 1.3499\n",
      "Epoch 167/500\n",
      "\u001b[1m69/69\u001b[0m \u001b[32m━━━━━━━━━━━━━━━━━━━━\u001b[0m\u001b[37m\u001b[0m \u001b[1m0s\u001b[0m 2ms/step - dense_2_loss: 1.1009 - dense_3_loss: 0.5911 - dense_4_loss: 0.2332 - loss: 1.9255\n",
      "Epoch 168/500\n",
      "\u001b[1m69/69\u001b[0m \u001b[32m━━━━━━━━━━━━━━━━━━━━\u001b[0m\u001b[37m\u001b[0m \u001b[1m0s\u001b[0m 2ms/step - dense_2_loss: 0.8872 - dense_3_loss: 0.4534 - dense_4_loss: 0.2212 - loss: 1.5622\n",
      "Epoch 169/500\n",
      "\u001b[1m69/69\u001b[0m \u001b[32m━━━━━━━━━━━━━━━━━━━━\u001b[0m\u001b[37m\u001b[0m \u001b[1m0s\u001b[0m 3ms/step - dense_2_loss: 0.8332 - dense_3_loss: 0.5238 - dense_4_loss: 0.1697 - loss: 1.5268\n",
      "Epoch 170/500\n",
      "\u001b[1m69/69\u001b[0m \u001b[32m━━━━━━━━━━━━━━━━━━━━\u001b[0m\u001b[37m\u001b[0m \u001b[1m0s\u001b[0m 2ms/step - dense_2_loss: 0.8050 - dense_3_loss: 0.5114 - dense_4_loss: 0.2869 - loss: 1.6035\n",
      "Epoch 171/500\n",
      "\u001b[1m69/69\u001b[0m \u001b[32m━━━━━━━━━━━━━━━━━━━━\u001b[0m\u001b[37m\u001b[0m \u001b[1m0s\u001b[0m 3ms/step - dense_2_loss: 0.5506 - dense_3_loss: 0.3527 - dense_4_loss: 0.1873 - loss: 1.0908\n",
      "Epoch 172/500\n",
      "\u001b[1m69/69\u001b[0m \u001b[32m━━━━━━━━━━━━━━━━━━━━\u001b[0m\u001b[37m\u001b[0m \u001b[1m0s\u001b[0m 3ms/step - dense_2_loss: 0.7858 - dense_3_loss: 0.5165 - dense_4_loss: 0.2161 - loss: 1.5187\n",
      "Epoch 173/500\n",
      "\u001b[1m69/69\u001b[0m \u001b[32m━━━━━━━━━━━━━━━━━━━━\u001b[0m\u001b[37m\u001b[0m \u001b[1m0s\u001b[0m 2ms/step - dense_2_loss: 0.8091 - dense_3_loss: 0.4907 - dense_4_loss: 0.2662 - loss: 1.5664\n",
      "Epoch 174/500\n",
      "\u001b[1m69/69\u001b[0m \u001b[32m━━━━━━━━━━━━━━━━━━━━\u001b[0m\u001b[37m\u001b[0m \u001b[1m0s\u001b[0m 2ms/step - dense_2_loss: 0.9634 - dense_3_loss: 0.7162 - dense_4_loss: 0.2055 - loss: 1.8853\n",
      "Epoch 175/500\n",
      "\u001b[1m69/69\u001b[0m \u001b[32m━━━━━━━━━━━━━━━━━━━━\u001b[0m\u001b[37m\u001b[0m \u001b[1m0s\u001b[0m 3ms/step - dense_2_loss: 0.6291 - dense_3_loss: 0.4709 - dense_4_loss: 0.1573 - loss: 1.2574\n",
      "Epoch 176/500\n",
      "\u001b[1m69/69\u001b[0m \u001b[32m━━━━━━━━━━━━━━━━━━━━\u001b[0m\u001b[37m\u001b[0m \u001b[1m0s\u001b[0m 2ms/step - dense_2_loss: 0.9690 - dense_3_loss: 0.8886 - dense_4_loss: 0.3481 - loss: 2.2039\n",
      "Epoch 177/500\n",
      "\u001b[1m69/69\u001b[0m \u001b[32m━━━━━━━━━━━━━━━━━━━━\u001b[0m\u001b[37m\u001b[0m \u001b[1m0s\u001b[0m 2ms/step - dense_2_loss: 1.5872 - dense_3_loss: 1.2741 - dense_4_loss: 0.8862 - loss: 3.7481\n",
      "Epoch 178/500\n",
      "\u001b[1m69/69\u001b[0m \u001b[32m━━━━━━━━━━━━━━━━━━━━\u001b[0m\u001b[37m\u001b[0m \u001b[1m0s\u001b[0m 2ms/step - dense_2_loss: 0.6612 - dense_3_loss: 0.4013 - dense_4_loss: 0.2473 - loss: 1.3101\n",
      "Epoch 179/500\n",
      "\u001b[1m69/69\u001b[0m \u001b[32m━━━━━━━━━━━━━━━━━━━━\u001b[0m\u001b[37m\u001b[0m \u001b[1m0s\u001b[0m 3ms/step - dense_2_loss: 0.8197 - dense_3_loss: 0.4308 - dense_4_loss: 0.1805 - loss: 1.4310\n",
      "Epoch 180/500\n",
      "\u001b[1m69/69\u001b[0m \u001b[32m━━━━━━━━━━━━━━━━━━━━\u001b[0m\u001b[37m\u001b[0m \u001b[1m0s\u001b[0m 2ms/step - dense_2_loss: 0.5509 - dense_3_loss: 0.3914 - dense_4_loss: 0.1590 - loss: 1.1016\n",
      "Epoch 181/500\n",
      "\u001b[1m69/69\u001b[0m \u001b[32m━━━━━━━━━━━━━━━━━━━━\u001b[0m\u001b[37m\u001b[0m \u001b[1m0s\u001b[0m 2ms/step - dense_2_loss: 0.6706 - dense_3_loss: 0.3879 - dense_4_loss: 0.1549 - loss: 1.2139\n",
      "Epoch 182/500\n",
      "\u001b[1m69/69\u001b[0m \u001b[32m━━━━━━━━━━━━━━━━━━━━\u001b[0m\u001b[37m\u001b[0m \u001b[1m0s\u001b[0m 6ms/step - dense_2_loss: 0.8852 - dense_3_loss: 0.4814 - dense_4_loss: 0.2476 - loss: 1.6147\n",
      "Epoch 183/500\n",
      "\u001b[1m69/69\u001b[0m \u001b[32m━━━━━━━━━━━━━━━━━━━━\u001b[0m\u001b[37m\u001b[0m \u001b[1m0s\u001b[0m 3ms/step - dense_2_loss: 0.9107 - dense_3_loss: 0.7457 - dense_4_loss: 0.1640 - loss: 1.8207\n",
      "Epoch 184/500\n",
      "\u001b[1m69/69\u001b[0m \u001b[32m━━━━━━━━━━━━━━━━━━━━\u001b[0m\u001b[37m\u001b[0m \u001b[1m0s\u001b[0m 4ms/step - dense_2_loss: 0.9275 - dense_3_loss: 0.5070 - dense_4_loss: 0.2851 - loss: 1.7184\n",
      "Epoch 185/500\n",
      "\u001b[1m69/69\u001b[0m \u001b[32m━━━━━━━━━━━━━━━━━━━━\u001b[0m\u001b[37m\u001b[0m \u001b[1m0s\u001b[0m 2ms/step - dense_2_loss: 1.6966 - dense_3_loss: 0.8587 - dense_4_loss: 0.2797 - loss: 2.8354\n",
      "Epoch 186/500\n",
      "\u001b[1m69/69\u001b[0m \u001b[32m━━━━━━━━━━━━━━━━━━━━\u001b[0m\u001b[37m\u001b[0m \u001b[1m0s\u001b[0m 2ms/step - dense_2_loss: 0.6001 - dense_3_loss: 0.3751 - dense_4_loss: 0.1427 - loss: 1.1178\n",
      "Epoch 187/500\n",
      "\u001b[1m69/69\u001b[0m \u001b[32m━━━━━━━━━━━━━━━━━━━━\u001b[0m\u001b[37m\u001b[0m \u001b[1m0s\u001b[0m 4ms/step - dense_2_loss: 1.0802 - dense_3_loss: 0.7909 - dense_4_loss: 0.1626 - loss: 2.0340\n",
      "Epoch 188/500\n",
      "\u001b[1m69/69\u001b[0m \u001b[32m━━━━━━━━━━━━━━━━━━━━\u001b[0m\u001b[37m\u001b[0m \u001b[1m0s\u001b[0m 2ms/step - dense_2_loss: 1.2839 - dense_3_loss: 0.8405 - dense_4_loss: 0.3814 - loss: 2.5063\n",
      "Epoch 189/500\n",
      "\u001b[1m69/69\u001b[0m \u001b[32m━━━━━━━━━━━━━━━━━━━━\u001b[0m\u001b[37m\u001b[0m \u001b[1m0s\u001b[0m 2ms/step - dense_2_loss: 0.8725 - dense_3_loss: 0.8163 - dense_4_loss: 0.2668 - loss: 1.9560\n",
      "Epoch 190/500\n",
      "\u001b[1m69/69\u001b[0m \u001b[32m━━━━━━━━━━━━━━━━━━━━\u001b[0m\u001b[37m\u001b[0m \u001b[1m0s\u001b[0m 2ms/step - dense_2_loss: 0.9230 - dense_3_loss: 0.5671 - dense_4_loss: 0.2927 - loss: 1.7824\n",
      "Epoch 191/500\n",
      "\u001b[1m69/69\u001b[0m \u001b[32m━━━━━━━━━━━━━━━━━━━━\u001b[0m\u001b[37m\u001b[0m \u001b[1m0s\u001b[0m 2ms/step - dense_2_loss: 0.8010 - dense_3_loss: 0.5390 - dense_4_loss: 0.2745 - loss: 1.6149\n",
      "Epoch 192/500\n",
      "\u001b[1m69/69\u001b[0m \u001b[32m━━━━━━━━━━━━━━━━━━━━\u001b[0m\u001b[37m\u001b[0m \u001b[1m0s\u001b[0m 3ms/step - dense_2_loss: 0.8046 - dense_3_loss: 0.6753 - dense_4_loss: 0.1971 - loss: 1.6772\n",
      "Epoch 193/500\n",
      "\u001b[1m69/69\u001b[0m \u001b[32m━━━━━━━━━━━━━━━━━━━━\u001b[0m\u001b[37m\u001b[0m \u001b[1m0s\u001b[0m 2ms/step - dense_2_loss: 0.5666 - dense_3_loss: 0.3022 - dense_4_loss: 0.1140 - loss: 0.9831\n",
      "Epoch 194/500\n",
      "\u001b[1m69/69\u001b[0m \u001b[32m━━━━━━━━━━━━━━━━━━━━\u001b[0m\u001b[37m\u001b[0m \u001b[1m0s\u001b[0m 2ms/step - dense_2_loss: 0.7501 - dense_3_loss: 0.5520 - dense_4_loss: 0.2009 - loss: 1.5032\n",
      "Epoch 195/500\n",
      "\u001b[1m69/69\u001b[0m \u001b[32m━━━━━━━━━━━━━━━━━━━━\u001b[0m\u001b[37m\u001b[0m \u001b[1m0s\u001b[0m 2ms/step - dense_2_loss: 0.9585 - dense_3_loss: 0.4545 - dense_4_loss: 0.3125 - loss: 1.7259\n",
      "Epoch 196/500\n",
      "\u001b[1m69/69\u001b[0m \u001b[32m━━━━━━━━━━━━━━━━━━━━\u001b[0m\u001b[37m\u001b[0m \u001b[1m0s\u001b[0m 2ms/step - dense_2_loss: 0.6982 - dense_3_loss: 0.6739 - dense_4_loss: 0.1898 - loss: 1.5621\n",
      "Epoch 197/500\n",
      "\u001b[1m69/69\u001b[0m \u001b[32m━━━━━━━━━━━━━━━━━━━━\u001b[0m\u001b[37m\u001b[0m \u001b[1m0s\u001b[0m 2ms/step - dense_2_loss: 0.5221 - dense_3_loss: 0.3370 - dense_4_loss: 0.1868 - loss: 1.0454\n",
      "Epoch 198/500\n",
      "\u001b[1m69/69\u001b[0m \u001b[32m━━━━━━━━━━━━━━━━━━━━\u001b[0m\u001b[37m\u001b[0m \u001b[1m0s\u001b[0m 2ms/step - dense_2_loss: 0.8064 - dense_3_loss: 0.5193 - dense_4_loss: 0.1797 - loss: 1.5057\n",
      "Epoch 199/500\n",
      "\u001b[1m69/69\u001b[0m \u001b[32m━━━━━━━━━━━━━━━━━━━━\u001b[0m\u001b[37m\u001b[0m \u001b[1m0s\u001b[0m 2ms/step - dense_2_loss: 0.6087 - dense_3_loss: 0.3731 - dense_4_loss: 0.1410 - loss: 1.1230\n",
      "Epoch 200/500\n",
      "\u001b[1m69/69\u001b[0m \u001b[32m━━━━━━━━━━━━━━━━━━━━\u001b[0m\u001b[37m\u001b[0m \u001b[1m0s\u001b[0m 2ms/step - dense_2_loss: 0.8526 - dense_3_loss: 0.5111 - dense_4_loss: 0.1161 - loss: 1.4797\n",
      "Epoch 201/500\n",
      "\u001b[1m69/69\u001b[0m \u001b[32m━━━━━━━━━━━━━━━━━━━━\u001b[0m\u001b[37m\u001b[0m \u001b[1m0s\u001b[0m 2ms/step - dense_2_loss: 0.6009 - dense_3_loss: 0.3357 - dense_4_loss: 0.1392 - loss: 1.0762\n",
      "Epoch 202/500\n",
      "\u001b[1m69/69\u001b[0m \u001b[32m━━━━━━━━━━━━━━━━━━━━\u001b[0m\u001b[37m\u001b[0m \u001b[1m0s\u001b[0m 2ms/step - dense_2_loss: 0.7925 - dense_3_loss: 0.5040 - dense_4_loss: 0.1326 - loss: 1.4292\n",
      "Epoch 203/500\n",
      "\u001b[1m69/69\u001b[0m \u001b[32m━━━━━━━━━━━━━━━━━━━━\u001b[0m\u001b[37m\u001b[0m \u001b[1m0s\u001b[0m 4ms/step - dense_2_loss: 0.8582 - dense_3_loss: 0.6592 - dense_4_loss: 0.3615 - loss: 1.8792\n",
      "Epoch 204/500\n",
      "\u001b[1m69/69\u001b[0m \u001b[32m━━━━━━━━━━━━━━━━━━━━\u001b[0m\u001b[37m\u001b[0m \u001b[1m0s\u001b[0m 2ms/step - dense_2_loss: 0.6671 - dense_3_loss: 0.4524 - dense_4_loss: 0.1386 - loss: 1.2582\n",
      "Epoch 205/500\n",
      "\u001b[1m69/69\u001b[0m \u001b[32m━━━━━━━━━━━━━━━━━━━━\u001b[0m\u001b[37m\u001b[0m \u001b[1m0s\u001b[0m 2ms/step - dense_2_loss: 0.4830 - dense_3_loss: 0.3951 - dense_4_loss: 0.1372 - loss: 1.0155\n",
      "Epoch 206/500\n",
      "\u001b[1m69/69\u001b[0m \u001b[32m━━━━━━━━━━━━━━━━━━━━\u001b[0m\u001b[37m\u001b[0m \u001b[1m0s\u001b[0m 2ms/step - dense_2_loss: 0.6446 - dense_3_loss: 0.4013 - dense_4_loss: 0.1686 - loss: 1.2145\n",
      "Epoch 207/500\n",
      "\u001b[1m69/69\u001b[0m \u001b[32m━━━━━━━━━━━━━━━━━━━━\u001b[0m\u001b[37m\u001b[0m \u001b[1m0s\u001b[0m 2ms/step - dense_2_loss: 1.1857 - dense_3_loss: 0.6899 - dense_4_loss: 0.1626 - loss: 2.0385\n",
      "Epoch 208/500\n",
      "\u001b[1m69/69\u001b[0m \u001b[32m━━━━━━━━━━━━━━━━━━━━\u001b[0m\u001b[37m\u001b[0m \u001b[1m0s\u001b[0m 4ms/step - dense_2_loss: 0.6003 - dense_3_loss: 0.4445 - dense_4_loss: 0.1725 - loss: 1.2175\n",
      "Epoch 209/500\n",
      "\u001b[1m69/69\u001b[0m \u001b[32m━━━━━━━━━━━━━━━━━━━━\u001b[0m\u001b[37m\u001b[0m \u001b[1m0s\u001b[0m 2ms/step - dense_2_loss: 1.0736 - dense_3_loss: 0.6409 - dense_4_loss: 0.1074 - loss: 1.8222\n",
      "Epoch 210/500\n",
      "\u001b[1m69/69\u001b[0m \u001b[32m━━━━━━━━━━━━━━━━━━━━\u001b[0m\u001b[37m\u001b[0m \u001b[1m0s\u001b[0m 2ms/step - dense_2_loss: 0.6296 - dense_3_loss: 0.4941 - dense_4_loss: 0.1374 - loss: 1.2614\n",
      "Epoch 211/500\n",
      "\u001b[1m69/69\u001b[0m \u001b[32m━━━━━━━━━━━━━━━━━━━━\u001b[0m\u001b[37m\u001b[0m \u001b[1m0s\u001b[0m 2ms/step - dense_2_loss: 0.6084 - dense_3_loss: 0.4925 - dense_4_loss: 0.1793 - loss: 1.2802\n",
      "Epoch 212/500\n",
      "\u001b[1m69/69\u001b[0m \u001b[32m━━━━━━━━━━━━━━━━━━━━\u001b[0m\u001b[37m\u001b[0m \u001b[1m0s\u001b[0m 3ms/step - dense_2_loss: 0.5020 - dense_3_loss: 0.4798 - dense_4_loss: 0.2566 - loss: 1.2387\n",
      "Epoch 213/500\n",
      "\u001b[1m69/69\u001b[0m \u001b[32m━━━━━━━━━━━━━━━━━━━━\u001b[0m\u001b[37m\u001b[0m \u001b[1m0s\u001b[0m 3ms/step - dense_2_loss: 0.6878 - dense_3_loss: 0.4172 - dense_4_loss: 0.1444 - loss: 1.2497\n",
      "Epoch 214/500\n",
      "\u001b[1m69/69\u001b[0m \u001b[32m━━━━━━━━━━━━━━━━━━━━\u001b[0m\u001b[37m\u001b[0m \u001b[1m0s\u001b[0m 2ms/step - dense_2_loss: 0.6028 - dense_3_loss: 0.4509 - dense_4_loss: 0.1563 - loss: 1.2103\n",
      "Epoch 215/500\n",
      "\u001b[1m69/69\u001b[0m \u001b[32m━━━━━━━━━━━━━━━━━━━━\u001b[0m\u001b[37m\u001b[0m \u001b[1m0s\u001b[0m 2ms/step - dense_2_loss: 0.8723 - dense_3_loss: 0.4324 - dense_4_loss: 0.1861 - loss: 1.4909\n",
      "Epoch 216/500\n",
      "\u001b[1m69/69\u001b[0m \u001b[32m━━━━━━━━━━━━━━━━━━━━\u001b[0m\u001b[37m\u001b[0m \u001b[1m0s\u001b[0m 2ms/step - dense_2_loss: 0.9779 - dense_3_loss: 0.6354 - dense_4_loss: 0.1317 - loss: 1.7454\n",
      "Epoch 217/500\n",
      "\u001b[1m69/69\u001b[0m \u001b[32m━━━━━━━━━━━━━━━━━━━━\u001b[0m\u001b[37m\u001b[0m \u001b[1m0s\u001b[0m 4ms/step - dense_2_loss: 0.5982 - dense_3_loss: 0.4434 - dense_4_loss: 0.1135 - loss: 1.1552\n",
      "Epoch 218/500\n",
      "\u001b[1m69/69\u001b[0m \u001b[32m━━━━━━━━━━━━━━━━━━━━\u001b[0m\u001b[37m\u001b[0m \u001b[1m0s\u001b[0m 2ms/step - dense_2_loss: 0.6740 - dense_3_loss: 0.3945 - dense_4_loss: 0.2543 - loss: 1.3231\n",
      "Epoch 219/500\n",
      "\u001b[1m69/69\u001b[0m \u001b[32m━━━━━━━━━━━━━━━━━━━━\u001b[0m\u001b[37m\u001b[0m \u001b[1m0s\u001b[0m 2ms/step - dense_2_loss: 0.9555 - dense_3_loss: 0.4397 - dense_4_loss: 0.2594 - loss: 1.6550\n",
      "Epoch 220/500\n",
      "\u001b[1m69/69\u001b[0m \u001b[32m━━━━━━━━━━━━━━━━━━━━\u001b[0m\u001b[37m\u001b[0m \u001b[1m0s\u001b[0m 2ms/step - dense_2_loss: 0.8018 - dense_3_loss: 0.5994 - dense_4_loss: 0.1753 - loss: 1.5767\n",
      "Epoch 221/500\n",
      "\u001b[1m69/69\u001b[0m \u001b[32m━━━━━━━━━━━━━━━━━━━━\u001b[0m\u001b[37m\u001b[0m \u001b[1m0s\u001b[0m 3ms/step - dense_2_loss: 0.8550 - dense_3_loss: 0.6834 - dense_4_loss: 0.1706 - loss: 1.7093\n",
      "Epoch 222/500\n",
      "\u001b[1m69/69\u001b[0m \u001b[32m━━━━━━━━━━━━━━━━━━━━\u001b[0m\u001b[37m\u001b[0m \u001b[1m0s\u001b[0m 4ms/step - dense_2_loss: 0.5641 - dense_3_loss: 0.4386 - dense_4_loss: 0.1065 - loss: 1.1069\n",
      "Epoch 223/500\n",
      "\u001b[1m69/69\u001b[0m \u001b[32m━━━━━━━━━━━━━━━━━━━━\u001b[0m\u001b[37m\u001b[0m \u001b[1m0s\u001b[0m 2ms/step - dense_2_loss: 0.8053 - dense_3_loss: 0.4325 - dense_4_loss: 0.2948 - loss: 1.5329\n",
      "Epoch 224/500\n",
      "\u001b[1m69/69\u001b[0m \u001b[32m━━━━━━━━━━━━━━━━━━━━\u001b[0m\u001b[37m\u001b[0m \u001b[1m0s\u001b[0m 2ms/step - dense_2_loss: 0.4976 - dense_3_loss: 0.3384 - dense_4_loss: 0.1065 - loss: 0.9427\n",
      "Epoch 225/500\n",
      "\u001b[1m69/69\u001b[0m \u001b[32m━━━━━━━━━━━━━━━━━━━━\u001b[0m\u001b[37m\u001b[0m \u001b[1m0s\u001b[0m 2ms/step - dense_2_loss: 0.7232 - dense_3_loss: 0.4829 - dense_4_loss: 0.1198 - loss: 1.3264\n",
      "Epoch 226/500\n",
      "\u001b[1m69/69\u001b[0m \u001b[32m━━━━━━━━━━━━━━━━━━━━\u001b[0m\u001b[37m\u001b[0m \u001b[1m0s\u001b[0m 4ms/step - dense_2_loss: 0.9656 - dense_3_loss: 0.5850 - dense_4_loss: 0.1408 - loss: 1.6917\n",
      "Epoch 227/500\n",
      "\u001b[1m69/69\u001b[0m \u001b[32m━━━━━━━━━━━━━━━━━━━━\u001b[0m\u001b[37m\u001b[0m \u001b[1m0s\u001b[0m 2ms/step - dense_2_loss: 0.5784 - dense_3_loss: 0.3756 - dense_4_loss: 0.0965 - loss: 1.0508\n",
      "Epoch 228/500\n",
      "\u001b[1m69/69\u001b[0m \u001b[32m━━━━━━━━━━━━━━━━━━━━\u001b[0m\u001b[37m\u001b[0m \u001b[1m0s\u001b[0m 2ms/step - dense_2_loss: 0.5305 - dense_3_loss: 0.2702 - dense_4_loss: 0.0997 - loss: 0.9005\n",
      "Epoch 229/500\n",
      "\u001b[1m69/69\u001b[0m \u001b[32m━━━━━━━━━━━━━━━━━━━━\u001b[0m\u001b[37m\u001b[0m \u001b[1m0s\u001b[0m 2ms/step - dense_2_loss: 0.9496 - dense_3_loss: 0.5222 - dense_4_loss: 0.1908 - loss: 1.6628\n",
      "Epoch 230/500\n",
      "\u001b[1m69/69\u001b[0m \u001b[32m━━━━━━━━━━━━━━━━━━━━\u001b[0m\u001b[37m\u001b[0m \u001b[1m0s\u001b[0m 2ms/step - dense_2_loss: 0.6396 - dense_3_loss: 0.3395 - dense_4_loss: 0.1318 - loss: 1.1111\n",
      "Epoch 231/500\n",
      "\u001b[1m69/69\u001b[0m \u001b[32m━━━━━━━━━━━━━━━━━━━━\u001b[0m\u001b[37m\u001b[0m \u001b[1m0s\u001b[0m 3ms/step - dense_2_loss: 0.5687 - dense_3_loss: 0.3310 - dense_4_loss: 0.0842 - loss: 0.9841\n",
      "Epoch 232/500\n",
      "\u001b[1m69/69\u001b[0m \u001b[32m━━━━━━━━━━━━━━━━━━━━\u001b[0m\u001b[37m\u001b[0m \u001b[1m0s\u001b[0m 3ms/step - dense_2_loss: 0.5952 - dense_3_loss: 0.3853 - dense_4_loss: 0.2022 - loss: 1.1829\n",
      "Epoch 233/500\n",
      "\u001b[1m69/69\u001b[0m \u001b[32m━━━━━━━━━━━━━━━━━━━━\u001b[0m\u001b[37m\u001b[0m \u001b[1m0s\u001b[0m 2ms/step - dense_2_loss: 0.7220 - dense_3_loss: 0.5203 - dense_4_loss: 0.1594 - loss: 1.4021\n",
      "Epoch 234/500\n",
      "\u001b[1m69/69\u001b[0m \u001b[32m━━━━━━━━━━━━━━━━━━━━\u001b[0m\u001b[37m\u001b[0m \u001b[1m0s\u001b[0m 3ms/step - dense_2_loss: 0.9577 - dense_3_loss: 0.6586 - dense_4_loss: 0.1242 - loss: 1.7408\n",
      "Epoch 235/500\n",
      "\u001b[1m69/69\u001b[0m \u001b[32m━━━━━━━━━━━━━━━━━━━━\u001b[0m\u001b[37m\u001b[0m \u001b[1m0s\u001b[0m 3ms/step - dense_2_loss: 0.6621 - dense_3_loss: 0.4028 - dense_4_loss: 0.1149 - loss: 1.1801\n",
      "Epoch 236/500\n",
      "\u001b[1m69/69\u001b[0m \u001b[32m━━━━━━━━━━━━━━━━━━━━\u001b[0m\u001b[37m\u001b[0m \u001b[1m0s\u001b[0m 2ms/step - dense_2_loss: 0.6907 - dense_3_loss: 0.4388 - dense_4_loss: 0.1100 - loss: 1.2397\n",
      "Epoch 237/500\n",
      "\u001b[1m69/69\u001b[0m \u001b[32m━━━━━━━━━━━━━━━━━━━━\u001b[0m\u001b[37m\u001b[0m \u001b[1m0s\u001b[0m 2ms/step - dense_2_loss: 0.9266 - dense_3_loss: 0.5197 - dense_4_loss: 0.0792 - loss: 1.5257\n",
      "Epoch 238/500\n",
      "\u001b[1m69/69\u001b[0m \u001b[32m━━━━━━━━━━━━━━━━━━━━\u001b[0m\u001b[37m\u001b[0m \u001b[1m0s\u001b[0m 2ms/step - dense_2_loss: 0.4514 - dense_3_loss: 0.2848 - dense_4_loss: 0.0818 - loss: 0.8181\n",
      "Epoch 239/500\n",
      "\u001b[1m69/69\u001b[0m \u001b[32m━━━━━━━━━━━━━━━━━━━━\u001b[0m\u001b[37m\u001b[0m \u001b[1m0s\u001b[0m 3ms/step - dense_2_loss: 0.5895 - dense_3_loss: 0.2956 - dense_4_loss: 0.1695 - loss: 1.0548\n",
      "Epoch 240/500\n",
      "\u001b[1m69/69\u001b[0m \u001b[32m━━━━━━━━━━━━━━━━━━━━\u001b[0m\u001b[37m\u001b[0m \u001b[1m0s\u001b[0m 3ms/step - dense_2_loss: 0.7796 - dense_3_loss: 0.3849 - dense_4_loss: 0.1995 - loss: 1.3643\n",
      "Epoch 241/500\n",
      "\u001b[1m69/69\u001b[0m \u001b[32m━━━━━━━━━━━━━━━━━━━━\u001b[0m\u001b[37m\u001b[0m \u001b[1m0s\u001b[0m 2ms/step - dense_2_loss: 0.5785 - dense_3_loss: 0.4279 - dense_4_loss: 0.0912 - loss: 1.0978\n",
      "Epoch 242/500\n",
      "\u001b[1m69/69\u001b[0m \u001b[32m━━━━━━━━━━━━━━━━━━━━\u001b[0m\u001b[37m\u001b[0m \u001b[1m0s\u001b[0m 2ms/step - dense_2_loss: 0.7191 - dense_3_loss: 0.4531 - dense_4_loss: 0.1065 - loss: 1.2790\n",
      "Epoch 243/500\n",
      "\u001b[1m69/69\u001b[0m \u001b[32m━━━━━━━━━━━━━━━━━━━━\u001b[0m\u001b[37m\u001b[0m \u001b[1m0s\u001b[0m 2ms/step - dense_2_loss: 0.7909 - dense_3_loss: 0.4467 - dense_4_loss: 0.1024 - loss: 1.3398\n",
      "Epoch 244/500\n",
      "\u001b[1m69/69\u001b[0m \u001b[32m━━━━━━━━━━━━━━━━━━━━\u001b[0m\u001b[37m\u001b[0m \u001b[1m0s\u001b[0m 2ms/step - dense_2_loss: 0.6576 - dense_3_loss: 0.4067 - dense_4_loss: 0.1153 - loss: 1.1798\n",
      "Epoch 245/500\n",
      "\u001b[1m69/69\u001b[0m \u001b[32m━━━━━━━━━━━━━━━━━━━━\u001b[0m\u001b[37m\u001b[0m \u001b[1m0s\u001b[0m 3ms/step - dense_2_loss: 1.2861 - dense_3_loss: 0.7934 - dense_4_loss: 0.1884 - loss: 2.2681\n",
      "Epoch 246/500\n",
      "\u001b[1m69/69\u001b[0m \u001b[32m━━━━━━━━━━━━━━━━━━━━\u001b[0m\u001b[37m\u001b[0m \u001b[1m0s\u001b[0m 2ms/step - dense_2_loss: 0.4785 - dense_3_loss: 0.2915 - dense_4_loss: 0.0861 - loss: 0.8561\n",
      "Epoch 247/500\n",
      "\u001b[1m69/69\u001b[0m \u001b[32m━━━━━━━━━━━━━━━━━━━━\u001b[0m\u001b[37m\u001b[0m \u001b[1m0s\u001b[0m 2ms/step - dense_2_loss: 0.4095 - dense_3_loss: 0.3481 - dense_4_loss: 0.1178 - loss: 0.8753\n",
      "Epoch 248/500\n",
      "\u001b[1m69/69\u001b[0m \u001b[32m━━━━━━━━━━━━━━━━━━━━\u001b[0m\u001b[37m\u001b[0m \u001b[1m0s\u001b[0m 2ms/step - dense_2_loss: 0.9680 - dense_3_loss: 0.4793 - dense_4_loss: 0.1549 - loss: 1.6024\n",
      "Epoch 249/500\n",
      "\u001b[1m69/69\u001b[0m \u001b[32m━━━━━━━━━━━━━━━━━━━━\u001b[0m\u001b[37m\u001b[0m \u001b[1m0s\u001b[0m 2ms/step - dense_2_loss: 0.5520 - dense_3_loss: 0.2749 - dense_4_loss: 0.0878 - loss: 0.9149\n",
      "Epoch 250/500\n",
      "\u001b[1m69/69\u001b[0m \u001b[32m━━━━━━━━━━━━━━━━━━━━\u001b[0m\u001b[37m\u001b[0m \u001b[1m0s\u001b[0m 4ms/step - dense_2_loss: 0.5277 - dense_3_loss: 0.3350 - dense_4_loss: 0.0720 - loss: 0.9350\n",
      "Epoch 251/500\n",
      "\u001b[1m69/69\u001b[0m \u001b[32m━━━━━━━━━━━━━━━━━━━━\u001b[0m\u001b[37m\u001b[0m \u001b[1m0s\u001b[0m 2ms/step - dense_2_loss: 0.7294 - dense_3_loss: 0.4597 - dense_4_loss: 0.0742 - loss: 1.2635\n",
      "Epoch 252/500\n",
      "\u001b[1m69/69\u001b[0m \u001b[32m━━━━━━━━━━━━━━━━━━━━\u001b[0m\u001b[37m\u001b[0m \u001b[1m0s\u001b[0m 2ms/step - dense_2_loss: 1.3431 - dense_3_loss: 0.7415 - dense_4_loss: 0.0763 - loss: 2.1611\n",
      "Epoch 253/500\n",
      "\u001b[1m69/69\u001b[0m \u001b[32m━━━━━━━━━━━━━━━━━━━━\u001b[0m\u001b[37m\u001b[0m \u001b[1m0s\u001b[0m 2ms/step - dense_2_loss: 0.6704 - dense_3_loss: 0.4195 - dense_4_loss: 0.1087 - loss: 1.1988\n",
      "Epoch 254/500\n",
      "\u001b[1m69/69\u001b[0m \u001b[32m━━━━━━━━━━━━━━━━━━━━\u001b[0m\u001b[37m\u001b[0m \u001b[1m0s\u001b[0m 4ms/step - dense_2_loss: 0.9071 - dense_3_loss: 0.5557 - dense_4_loss: 0.0995 - loss: 1.5627\n",
      "Epoch 255/500\n",
      "\u001b[1m69/69\u001b[0m \u001b[32m━━━━━━━━━━━━━━━━━━━━\u001b[0m\u001b[37m\u001b[0m \u001b[1m0s\u001b[0m 3ms/step - dense_2_loss: 0.5388 - dense_3_loss: 0.3442 - dense_4_loss: 0.0670 - loss: 0.9503\n",
      "Epoch 256/500\n",
      "\u001b[1m69/69\u001b[0m \u001b[32m━━━━━━━━━━━━━━━━━━━━\u001b[0m\u001b[37m\u001b[0m \u001b[1m0s\u001b[0m 3ms/step - dense_2_loss: 0.4352 - dense_3_loss: 0.3031 - dense_4_loss: 0.0988 - loss: 0.8373\n",
      "Epoch 257/500\n",
      "\u001b[1m69/69\u001b[0m \u001b[32m━━━━━━━━━━━━━━━━━━━━\u001b[0m\u001b[37m\u001b[0m \u001b[1m0s\u001b[0m 3ms/step - dense_2_loss: 0.4991 - dense_3_loss: 0.2735 - dense_4_loss: 0.0591 - loss: 0.8319\n",
      "Epoch 258/500\n",
      "\u001b[1m69/69\u001b[0m \u001b[32m━━━━━━━━━━━━━━━━━━━━\u001b[0m\u001b[37m\u001b[0m \u001b[1m0s\u001b[0m 3ms/step - dense_2_loss: 0.4241 - dense_3_loss: 0.2655 - dense_4_loss: 0.1074 - loss: 0.7972\n",
      "Epoch 259/500\n",
      "\u001b[1m69/69\u001b[0m \u001b[32m━━━━━━━━━━━━━━━━━━━━\u001b[0m\u001b[37m\u001b[0m \u001b[1m0s\u001b[0m 2ms/step - dense_2_loss: 0.4642 - dense_3_loss: 0.3516 - dense_4_loss: 0.1059 - loss: 0.9219\n",
      "Epoch 260/500\n",
      "\u001b[1m69/69\u001b[0m \u001b[32m━━━━━━━━━━━━━━━━━━━━\u001b[0m\u001b[37m\u001b[0m \u001b[1m0s\u001b[0m 2ms/step - dense_2_loss: 0.4248 - dense_3_loss: 0.2542 - dense_4_loss: 0.0802 - loss: 0.7593\n",
      "Epoch 261/500\n",
      "\u001b[1m69/69\u001b[0m \u001b[32m━━━━━━━━━━━━━━━━━━━━\u001b[0m\u001b[37m\u001b[0m \u001b[1m0s\u001b[0m 2ms/step - dense_2_loss: 0.7891 - dense_3_loss: 0.4463 - dense_4_loss: 0.1384 - loss: 1.3739\n",
      "Epoch 262/500\n",
      "\u001b[1m69/69\u001b[0m \u001b[32m━━━━━━━━━━━━━━━━━━━━\u001b[0m\u001b[37m\u001b[0m \u001b[1m0s\u001b[0m 2ms/step - dense_2_loss: 1.1915 - dense_3_loss: 0.6718 - dense_4_loss: 0.0727 - loss: 1.9362\n",
      "Epoch 263/500\n",
      "\u001b[1m69/69\u001b[0m \u001b[32m━━━━━━━━━━━━━━━━━━━━\u001b[0m\u001b[37m\u001b[0m \u001b[1m0s\u001b[0m 2ms/step - dense_2_loss: 0.6511 - dense_3_loss: 0.4150 - dense_4_loss: 0.0775 - loss: 1.1438\n",
      "Epoch 264/500\n",
      "\u001b[1m69/69\u001b[0m \u001b[32m━━━━━━━━━━━━━━━━━━━━\u001b[0m\u001b[37m\u001b[0m \u001b[1m0s\u001b[0m 2ms/step - dense_2_loss: 0.9817 - dense_3_loss: 0.4882 - dense_4_loss: 0.1368 - loss: 1.6070\n",
      "Epoch 265/500\n",
      "\u001b[1m69/69\u001b[0m \u001b[32m━━━━━━━━━━━━━━━━━━━━\u001b[0m\u001b[37m\u001b[0m \u001b[1m0s\u001b[0m 3ms/step - dense_2_loss: 0.5038 - dense_3_loss: 0.3476 - dense_4_loss: 0.1010 - loss: 0.9527\n",
      "Epoch 266/500\n",
      "\u001b[1m69/69\u001b[0m \u001b[32m━━━━━━━━━━━━━━━━━━━━\u001b[0m\u001b[37m\u001b[0m \u001b[1m0s\u001b[0m 2ms/step - dense_2_loss: 0.5472 - dense_3_loss: 0.4229 - dense_4_loss: 0.0681 - loss: 1.0384\n",
      "Epoch 267/500\n",
      "\u001b[1m69/69\u001b[0m \u001b[32m━━━━━━━━━━━━━━━━━━━━\u001b[0m\u001b[37m\u001b[0m \u001b[1m0s\u001b[0m 3ms/step - dense_2_loss: 0.4642 - dense_3_loss: 0.2817 - dense_4_loss: 0.1119 - loss: 0.8579\n",
      "Epoch 268/500\n",
      "\u001b[1m69/69\u001b[0m \u001b[32m━━━━━━━━━━━━━━━━━━━━\u001b[0m\u001b[37m\u001b[0m \u001b[1m0s\u001b[0m 2ms/step - dense_2_loss: 0.7890 - dense_3_loss: 0.5421 - dense_4_loss: 0.1220 - loss: 1.4534\n",
      "Epoch 269/500\n",
      "\u001b[1m69/69\u001b[0m \u001b[32m━━━━━━━━━━━━━━━━━━━━\u001b[0m\u001b[37m\u001b[0m \u001b[1m0s\u001b[0m 2ms/step - dense_2_loss: 0.4767 - dense_3_loss: 0.2584 - dense_4_loss: 0.0793 - loss: 0.8147\n",
      "Epoch 270/500\n",
      "\u001b[1m69/69\u001b[0m \u001b[32m━━━━━━━━━━━━━━━━━━━━\u001b[0m\u001b[37m\u001b[0m \u001b[1m0s\u001b[0m 2ms/step - dense_2_loss: 0.5025 - dense_3_loss: 0.3138 - dense_4_loss: 0.0965 - loss: 0.9130\n",
      "Epoch 271/500\n",
      "\u001b[1m69/69\u001b[0m \u001b[32m━━━━━━━━━━━━━━━━━━━━\u001b[0m\u001b[37m\u001b[0m \u001b[1m0s\u001b[0m 2ms/step - dense_2_loss: 0.9030 - dense_3_loss: 0.5055 - dense_4_loss: 0.0744 - loss: 1.4802\n",
      "Epoch 272/500\n",
      "\u001b[1m69/69\u001b[0m \u001b[32m━━━━━━━━━━━━━━━━━━━━\u001b[0m\u001b[37m\u001b[0m \u001b[1m0s\u001b[0m 2ms/step - dense_2_loss: 0.8119 - dense_3_loss: 0.4293 - dense_4_loss: 0.1005 - loss: 1.3420\n",
      "Epoch 273/500\n",
      "\u001b[1m69/69\u001b[0m \u001b[32m━━━━━━━━━━━━━━━━━━━━\u001b[0m\u001b[37m\u001b[0m \u001b[1m0s\u001b[0m 3ms/step - dense_2_loss: 1.2118 - dense_3_loss: 0.6175 - dense_4_loss: 0.0630 - loss: 1.8925\n",
      "Epoch 274/500\n",
      "\u001b[1m69/69\u001b[0m \u001b[32m━━━━━━━━━━━━━━━━━━━━\u001b[0m\u001b[37m\u001b[0m \u001b[1m0s\u001b[0m 2ms/step - dense_2_loss: 0.6117 - dense_3_loss: 0.3401 - dense_4_loss: 0.0794 - loss: 1.0315\n",
      "Epoch 275/500\n",
      "\u001b[1m69/69\u001b[0m \u001b[32m━━━━━━━━━━━━━━━━━━━━\u001b[0m\u001b[37m\u001b[0m \u001b[1m0s\u001b[0m 2ms/step - dense_2_loss: 0.4928 - dense_3_loss: 0.2867 - dense_4_loss: 0.0663 - loss: 0.8456\n",
      "Epoch 276/500\n",
      "\u001b[1m69/69\u001b[0m \u001b[32m━━━━━━━━━━━━━━━━━━━━\u001b[0m\u001b[37m\u001b[0m \u001b[1m0s\u001b[0m 2ms/step - dense_2_loss: 0.5581 - dense_3_loss: 0.2722 - dense_4_loss: 0.0609 - loss: 0.8913\n",
      "Epoch 277/500\n",
      "\u001b[1m69/69\u001b[0m \u001b[32m━━━━━━━━━━━━━━━━━━━━\u001b[0m\u001b[37m\u001b[0m \u001b[1m0s\u001b[0m 3ms/step - dense_2_loss: 0.6294 - dense_3_loss: 0.4809 - dense_4_loss: 0.0883 - loss: 1.1989\n",
      "Epoch 278/500\n",
      "\u001b[1m69/69\u001b[0m \u001b[32m━━━━━━━━━━━━━━━━━━━━\u001b[0m\u001b[37m\u001b[0m \u001b[1m0s\u001b[0m 2ms/step - dense_2_loss: 0.3834 - dense_3_loss: 0.2416 - dense_4_loss: 0.0633 - loss: 0.6885\n",
      "Epoch 279/500\n",
      "\u001b[1m69/69\u001b[0m \u001b[32m━━━━━━━━━━━━━━━━━━━━\u001b[0m\u001b[37m\u001b[0m \u001b[1m0s\u001b[0m 2ms/step - dense_2_loss: 0.6167 - dense_3_loss: 0.3727 - dense_4_loss: 0.0755 - loss: 1.0652\n",
      "Epoch 280/500\n",
      "\u001b[1m69/69\u001b[0m \u001b[32m━━━━━━━━━━━━━━━━━━━━\u001b[0m\u001b[37m\u001b[0m \u001b[1m0s\u001b[0m 2ms/step - dense_2_loss: 1.1761 - dense_3_loss: 0.6055 - dense_4_loss: 0.0790 - loss: 1.8610\n",
      "Epoch 281/500\n",
      "\u001b[1m69/69\u001b[0m \u001b[32m━━━━━━━━━━━━━━━━━━━━\u001b[0m\u001b[37m\u001b[0m \u001b[1m0s\u001b[0m 2ms/step - dense_2_loss: 0.4526 - dense_3_loss: 0.2723 - dense_4_loss: 0.0787 - loss: 0.8021\n",
      "Epoch 282/500\n",
      "\u001b[1m69/69\u001b[0m \u001b[32m━━━━━━━━━━━━━━━━━━━━\u001b[0m\u001b[37m\u001b[0m \u001b[1m0s\u001b[0m 4ms/step - dense_2_loss: 0.8394 - dense_3_loss: 0.4445 - dense_4_loss: 0.0921 - loss: 1.3760\n",
      "Epoch 283/500\n",
      "\u001b[1m69/69\u001b[0m \u001b[32m━━━━━━━━━━━━━━━━━━━━\u001b[0m\u001b[37m\u001b[0m \u001b[1m0s\u001b[0m 3ms/step - dense_2_loss: 0.4661 - dense_3_loss: 0.2772 - dense_4_loss: 0.0748 - loss: 0.8182\n",
      "Epoch 284/500\n",
      "\u001b[1m69/69\u001b[0m \u001b[32m━━━━━━━━━━━━━━━━━━━━\u001b[0m\u001b[37m\u001b[0m \u001b[1m0s\u001b[0m 2ms/step - dense_2_loss: 0.8383 - dense_3_loss: 0.4502 - dense_4_loss: 0.0832 - loss: 1.3719\n",
      "Epoch 285/500\n",
      "\u001b[1m69/69\u001b[0m \u001b[32m━━━━━━━━━━━━━━━━━━━━\u001b[0m\u001b[37m\u001b[0m \u001b[1m0s\u001b[0m 2ms/step - dense_2_loss: 0.9174 - dense_3_loss: 0.4933 - dense_4_loss: 0.0861 - loss: 1.4970\n",
      "Epoch 286/500\n",
      "\u001b[1m69/69\u001b[0m \u001b[32m━━━━━━━━━━━━━━━━━━━━\u001b[0m\u001b[37m\u001b[0m \u001b[1m0s\u001b[0m 4ms/step - dense_2_loss: 0.5537 - dense_3_loss: 0.3203 - dense_4_loss: 0.0713 - loss: 0.9455\n",
      "Epoch 287/500\n",
      "\u001b[1m69/69\u001b[0m \u001b[32m━━━━━━━━━━━━━━━━━━━━\u001b[0m\u001b[37m\u001b[0m \u001b[1m0s\u001b[0m 2ms/step - dense_2_loss: 0.4970 - dense_3_loss: 0.2589 - dense_4_loss: 0.0869 - loss: 0.8429\n",
      "Epoch 288/500\n",
      "\u001b[1m69/69\u001b[0m \u001b[32m━━━━━━━━━━━━━━━━━━━━\u001b[0m\u001b[37m\u001b[0m \u001b[1m0s\u001b[0m 2ms/step - dense_2_loss: 0.6620 - dense_3_loss: 0.3881 - dense_4_loss: 0.1032 - loss: 1.1533\n",
      "Epoch 289/500\n",
      "\u001b[1m69/69\u001b[0m \u001b[32m━━━━━━━━━━━━━━━━━━━━\u001b[0m\u001b[37m\u001b[0m \u001b[1m0s\u001b[0m 2ms/step - dense_2_loss: 0.7738 - dense_3_loss: 0.4332 - dense_4_loss: 0.0623 - loss: 1.2696\n",
      "Epoch 290/500\n",
      "\u001b[1m69/69\u001b[0m \u001b[32m━━━━━━━━━━━━━━━━━━━━\u001b[0m\u001b[37m\u001b[0m \u001b[1m0s\u001b[0m 2ms/step - dense_2_loss: 0.7409 - dense_3_loss: 0.4360 - dense_4_loss: 0.0797 - loss: 1.2544\n",
      "Epoch 291/500\n",
      "\u001b[1m69/69\u001b[0m \u001b[32m━━━━━━━━━━━━━━━━━━━━\u001b[0m\u001b[37m\u001b[0m \u001b[1m0s\u001b[0m 3ms/step - dense_2_loss: 0.8465 - dense_3_loss: 0.4080 - dense_4_loss: 0.0790 - loss: 1.3338\n",
      "Epoch 292/500\n",
      "\u001b[1m69/69\u001b[0m \u001b[32m━━━━━━━━━━━━━━━━━━━━\u001b[0m\u001b[37m\u001b[0m \u001b[1m0s\u001b[0m 2ms/step - dense_2_loss: 0.4902 - dense_3_loss: 0.2912 - dense_4_loss: 0.0844 - loss: 0.8660\n",
      "Epoch 293/500\n",
      "\u001b[1m69/69\u001b[0m \u001b[32m━━━━━━━━━━━━━━━━━━━━\u001b[0m\u001b[37m\u001b[0m \u001b[1m0s\u001b[0m 2ms/step - dense_2_loss: 0.4713 - dense_3_loss: 0.3116 - dense_4_loss: 0.0952 - loss: 0.8783\n",
      "Epoch 294/500\n",
      "\u001b[1m69/69\u001b[0m \u001b[32m━━━━━━━━━━━━━━━━━━━━\u001b[0m\u001b[37m\u001b[0m \u001b[1m0s\u001b[0m 2ms/step - dense_2_loss: 0.5607 - dense_3_loss: 0.3040 - dense_4_loss: 0.0854 - loss: 0.9503\n",
      "Epoch 295/500\n",
      "\u001b[1m69/69\u001b[0m \u001b[32m━━━━━━━━━━━━━━━━━━━━\u001b[0m\u001b[37m\u001b[0m \u001b[1m0s\u001b[0m 4ms/step - dense_2_loss: 0.6261 - dense_3_loss: 0.3575 - dense_4_loss: 0.0875 - loss: 1.0712\n",
      "Epoch 296/500\n",
      "\u001b[1m69/69\u001b[0m \u001b[32m━━━━━━━━━━━━━━━━━━━━\u001b[0m\u001b[37m\u001b[0m \u001b[1m0s\u001b[0m 2ms/step - dense_2_loss: 0.5226 - dense_3_loss: 0.2895 - dense_4_loss: 0.0668 - loss: 0.8793\n",
      "Epoch 297/500\n",
      "\u001b[1m69/69\u001b[0m \u001b[32m━━━━━━━━━━━━━━━━━━━━\u001b[0m\u001b[37m\u001b[0m \u001b[1m0s\u001b[0m 2ms/step - dense_2_loss: 0.7177 - dense_3_loss: 0.3655 - dense_4_loss: 0.0746 - loss: 1.1580\n",
      "Epoch 298/500\n",
      "\u001b[1m69/69\u001b[0m \u001b[32m━━━━━━━━━━━━━━━━━━━━\u001b[0m\u001b[37m\u001b[0m \u001b[1m0s\u001b[0m 3ms/step - dense_2_loss: 0.6235 - dense_3_loss: 0.3956 - dense_4_loss: 0.0885 - loss: 1.1078\n",
      "Epoch 299/500\n",
      "\u001b[1m69/69\u001b[0m \u001b[32m━━━━━━━━━━━━━━━━━━━━\u001b[0m\u001b[37m\u001b[0m \u001b[1m0s\u001b[0m 5ms/step - dense_2_loss: 0.4850 - dense_3_loss: 0.3364 - dense_4_loss: 0.0990 - loss: 0.9206\n",
      "Epoch 300/500\n",
      "\u001b[1m69/69\u001b[0m \u001b[32m━━━━━━━━━━━━━━━━━━━━\u001b[0m\u001b[37m\u001b[0m \u001b[1m0s\u001b[0m 3ms/step - dense_2_loss: 0.6286 - dense_3_loss: 0.3342 - dense_4_loss: 0.0588 - loss: 1.0216\n",
      "Epoch 301/500\n",
      "\u001b[1m69/69\u001b[0m \u001b[32m━━━━━━━━━━━━━━━━━━━━\u001b[0m\u001b[37m\u001b[0m \u001b[1m0s\u001b[0m 3ms/step - dense_2_loss: 0.4721 - dense_3_loss: 0.2936 - dense_4_loss: 0.0607 - loss: 0.8266\n",
      "Epoch 302/500\n",
      "\u001b[1m69/69\u001b[0m \u001b[32m━━━━━━━━━━━━━━━━━━━━\u001b[0m\u001b[37m\u001b[0m \u001b[1m0s\u001b[0m 3ms/step - dense_2_loss: 0.4651 - dense_3_loss: 0.2781 - dense_4_loss: 0.0639 - loss: 0.8044\n",
      "Epoch 303/500\n",
      "\u001b[1m69/69\u001b[0m \u001b[32m━━━━━━━━━━━━━━━━━━━━\u001b[0m\u001b[37m\u001b[0m \u001b[1m0s\u001b[0m 4ms/step - dense_2_loss: 0.7540 - dense_3_loss: 0.4172 - dense_4_loss: 0.0837 - loss: 1.2552\n",
      "Epoch 304/500\n",
      "\u001b[1m69/69\u001b[0m \u001b[32m━━━━━━━━━━━━━━━━━━━━\u001b[0m\u001b[37m\u001b[0m \u001b[1m0s\u001b[0m 2ms/step - dense_2_loss: 0.4611 - dense_3_loss: 0.2648 - dense_4_loss: 0.0554 - loss: 0.7816\n",
      "Epoch 305/500\n",
      "\u001b[1m69/69\u001b[0m \u001b[32m━━━━━━━━━━━━━━━━━━━━\u001b[0m\u001b[37m\u001b[0m \u001b[1m0s\u001b[0m 3ms/step - dense_2_loss: 0.3617 - dense_3_loss: 0.2168 - dense_4_loss: 0.0719 - loss: 0.6506\n",
      "Epoch 306/500\n",
      "\u001b[1m69/69\u001b[0m \u001b[32m━━━━━━━━━━━━━━━━━━━━\u001b[0m\u001b[37m\u001b[0m \u001b[1m0s\u001b[0m 4ms/step - dense_2_loss: 1.0645 - dense_3_loss: 0.5469 - dense_4_loss: 0.0642 - loss: 1.6754\n",
      "Epoch 307/500\n",
      "\u001b[1m69/69\u001b[0m \u001b[32m━━━━━━━━━━━━━━━━━━━━\u001b[0m\u001b[37m\u001b[0m \u001b[1m0s\u001b[0m 3ms/step - dense_2_loss: 0.9617 - dense_3_loss: 0.4974 - dense_4_loss: 0.0691 - loss: 1.5285\n",
      "Epoch 308/500\n",
      "\u001b[1m69/69\u001b[0m \u001b[32m━━━━━━━━━━━━━━━━━━━━\u001b[0m\u001b[37m\u001b[0m \u001b[1m0s\u001b[0m 2ms/step - dense_2_loss: 0.4277 - dense_3_loss: 0.2829 - dense_4_loss: 0.0718 - loss: 0.7827\n",
      "Epoch 309/500\n",
      "\u001b[1m69/69\u001b[0m \u001b[32m━━━━━━━━━━━━━━━━━━━━\u001b[0m\u001b[37m\u001b[0m \u001b[1m0s\u001b[0m 2ms/step - dense_2_loss: 1.1125 - dense_3_loss: 0.6190 - dense_4_loss: 0.0650 - loss: 1.7968\n",
      "Epoch 310/500\n",
      "\u001b[1m69/69\u001b[0m \u001b[32m━━━━━━━━━━━━━━━━━━━━\u001b[0m\u001b[37m\u001b[0m \u001b[1m0s\u001b[0m 3ms/step - dense_2_loss: 0.8520 - dense_3_loss: 0.4358 - dense_4_loss: 0.0516 - loss: 1.3396\n",
      "Epoch 311/500\n",
      "\u001b[1m69/69\u001b[0m \u001b[32m━━━━━━━━━━━━━━━━━━━━\u001b[0m\u001b[37m\u001b[0m \u001b[1m0s\u001b[0m 3ms/step - dense_2_loss: 0.5600 - dense_3_loss: 0.3318 - dense_4_loss: 0.0739 - loss: 0.9660\n",
      "Epoch 312/500\n",
      "\u001b[1m69/69\u001b[0m \u001b[32m━━━━━━━━━━━━━━━━━━━━\u001b[0m\u001b[37m\u001b[0m \u001b[1m0s\u001b[0m 4ms/step - dense_2_loss: 0.3990 - dense_3_loss: 0.2803 - dense_4_loss: 0.0659 - loss: 0.7452\n",
      "Epoch 313/500\n",
      "\u001b[1m69/69\u001b[0m \u001b[32m━━━━━━━━━━━━━━━━━━━━\u001b[0m\u001b[37m\u001b[0m \u001b[1m0s\u001b[0m 2ms/step - dense_2_loss: 0.5034 - dense_3_loss: 0.2888 - dense_4_loss: 0.0935 - loss: 0.8859\n",
      "Epoch 314/500\n",
      "\u001b[1m69/69\u001b[0m \u001b[32m━━━━━━━━━━━━━━━━━━━━\u001b[0m\u001b[37m\u001b[0m \u001b[1m0s\u001b[0m 2ms/step - dense_2_loss: 0.4509 - dense_3_loss: 0.2333 - dense_4_loss: 0.0769 - loss: 0.7611\n",
      "Epoch 315/500\n",
      "\u001b[1m69/69\u001b[0m \u001b[32m━━━━━━━━━━━━━━━━━━━━\u001b[0m\u001b[37m\u001b[0m \u001b[1m0s\u001b[0m 2ms/step - dense_2_loss: 1.5409 - dense_3_loss: 0.7907 - dense_4_loss: 0.2214 - loss: 2.5533\n",
      "Epoch 316/500\n",
      "\u001b[1m69/69\u001b[0m \u001b[32m━━━━━━━━━━━━━━━━━━━━\u001b[0m\u001b[37m\u001b[0m \u001b[1m0s\u001b[0m 4ms/step - dense_2_loss: 0.6136 - dense_3_loss: 0.2960 - dense_4_loss: 0.0546 - loss: 0.9629\n",
      "Epoch 317/500\n",
      "\u001b[1m69/69\u001b[0m \u001b[32m━━━━━━━━━━━━━━━━━━━━\u001b[0m\u001b[37m\u001b[0m \u001b[1m0s\u001b[0m 2ms/step - dense_2_loss: 0.7972 - dense_3_loss: 0.4427 - dense_4_loss: 0.0877 - loss: 1.3278\n",
      "Epoch 318/500\n",
      "\u001b[1m69/69\u001b[0m \u001b[32m━━━━━━━━━━━━━━━━━━━━\u001b[0m\u001b[37m\u001b[0m \u001b[1m0s\u001b[0m 2ms/step - dense_2_loss: 0.8160 - dense_3_loss: 0.4566 - dense_4_loss: 0.0841 - loss: 1.3570\n",
      "Epoch 319/500\n",
      "\u001b[1m69/69\u001b[0m \u001b[32m━━━━━━━━━━━━━━━━━━━━\u001b[0m\u001b[37m\u001b[0m \u001b[1m0s\u001b[0m 3ms/step - dense_2_loss: 0.5212 - dense_3_loss: 0.3338 - dense_4_loss: 0.0753 - loss: 0.9306\n",
      "Epoch 320/500\n",
      "\u001b[1m69/69\u001b[0m \u001b[32m━━━━━━━━━━━━━━━━━━━━\u001b[0m\u001b[37m\u001b[0m \u001b[1m0s\u001b[0m 3ms/step - dense_2_loss: 0.4095 - dense_3_loss: 0.2151 - dense_4_loss: 0.0625 - loss: 0.6869\n",
      "Epoch 321/500\n",
      "\u001b[1m69/69\u001b[0m \u001b[32m━━━━━━━━━━━━━━━━━━━━\u001b[0m\u001b[37m\u001b[0m \u001b[1m0s\u001b[0m 2ms/step - dense_2_loss: 0.4380 - dense_3_loss: 0.2191 - dense_4_loss: 0.0641 - loss: 0.7215\n",
      "Epoch 322/500\n",
      "\u001b[1m69/69\u001b[0m \u001b[32m━━━━━━━━━━━━━━━━━━━━\u001b[0m\u001b[37m\u001b[0m \u001b[1m0s\u001b[0m 2ms/step - dense_2_loss: 0.6417 - dense_3_loss: 0.3446 - dense_4_loss: 0.0767 - loss: 1.0631\n",
      "Epoch 323/500\n",
      "\u001b[1m69/69\u001b[0m \u001b[32m━━━━━━━━━━━━━━━━━━━━\u001b[0m\u001b[37m\u001b[0m \u001b[1m0s\u001b[0m 2ms/step - dense_2_loss: 0.4343 - dense_3_loss: 0.2555 - dense_4_loss: 0.0628 - loss: 0.7528\n",
      "Epoch 324/500\n",
      "\u001b[1m69/69\u001b[0m \u001b[32m━━━━━━━━━━━━━━━━━━━━\u001b[0m\u001b[37m\u001b[0m \u001b[1m0s\u001b[0m 2ms/step - dense_2_loss: 0.4798 - dense_3_loss: 0.2375 - dense_4_loss: 0.0606 - loss: 0.7780\n",
      "Epoch 325/500\n",
      "\u001b[1m69/69\u001b[0m \u001b[32m━━━━━━━━━━━━━━━━━━━━\u001b[0m\u001b[37m\u001b[0m \u001b[1m0s\u001b[0m 4ms/step - dense_2_loss: 0.3746 - dense_3_loss: 0.2423 - dense_4_loss: 0.0878 - loss: 0.7049\n",
      "Epoch 326/500\n",
      "\u001b[1m69/69\u001b[0m \u001b[32m━━━━━━━━━━━━━━━━━━━━\u001b[0m\u001b[37m\u001b[0m \u001b[1m0s\u001b[0m 2ms/step - dense_2_loss: 0.8054 - dense_3_loss: 0.4956 - dense_4_loss: 0.1301 - loss: 1.4314\n",
      "Epoch 327/500\n",
      "\u001b[1m69/69\u001b[0m \u001b[32m━━━━━━━━━━━━━━━━━━━━\u001b[0m\u001b[37m\u001b[0m \u001b[1m0s\u001b[0m 2ms/step - dense_2_loss: 0.3772 - dense_3_loss: 0.2080 - dense_4_loss: 0.0669 - loss: 0.6522\n",
      "Epoch 328/500\n",
      "\u001b[1m69/69\u001b[0m \u001b[32m━━━━━━━━━━━━━━━━━━━━\u001b[0m\u001b[37m\u001b[0m \u001b[1m0s\u001b[0m 2ms/step - dense_2_loss: 0.6974 - dense_3_loss: 0.4013 - dense_4_loss: 0.0823 - loss: 1.1813\n",
      "Epoch 329/500\n",
      "\u001b[1m69/69\u001b[0m \u001b[32m━━━━━━━━━━━━━━━━━━━━\u001b[0m\u001b[37m\u001b[0m \u001b[1m0s\u001b[0m 2ms/step - dense_2_loss: 0.6185 - dense_3_loss: 0.3252 - dense_4_loss: 0.0590 - loss: 1.0029\n",
      "Epoch 330/500\n",
      "\u001b[1m69/69\u001b[0m \u001b[32m━━━━━━━━━━━━━━━━━━━━\u001b[0m\u001b[37m\u001b[0m \u001b[1m0s\u001b[0m 3ms/step - dense_2_loss: 0.3794 - dense_3_loss: 0.2347 - dense_4_loss: 0.0610 - loss: 0.6753\n",
      "Epoch 331/500\n",
      "\u001b[1m69/69\u001b[0m \u001b[32m━━━━━━━━━━━━━━━━━━━━\u001b[0m\u001b[37m\u001b[0m \u001b[1m0s\u001b[0m 2ms/step - dense_2_loss: 0.4076 - dense_3_loss: 0.2245 - dense_4_loss: 0.0592 - loss: 0.6911\n",
      "Epoch 332/500\n",
      "\u001b[1m69/69\u001b[0m \u001b[32m━━━━━━━━━━━━━━━━━━━━\u001b[0m\u001b[37m\u001b[0m \u001b[1m0s\u001b[0m 3ms/step - dense_2_loss: 0.3691 - dense_3_loss: 0.2457 - dense_4_loss: 0.0770 - loss: 0.6920\n",
      "Epoch 333/500\n",
      "\u001b[1m69/69\u001b[0m \u001b[32m━━━━━━━━━━━━━━━━━━━━\u001b[0m\u001b[37m\u001b[0m \u001b[1m0s\u001b[0m 3ms/step - dense_2_loss: 0.9864 - dense_3_loss: 0.4806 - dense_4_loss: 0.0887 - loss: 1.5559\n",
      "Epoch 334/500\n",
      "\u001b[1m69/69\u001b[0m \u001b[32m━━━━━━━━━━━━━━━━━━━━\u001b[0m\u001b[37m\u001b[0m \u001b[1m0s\u001b[0m 3ms/step - dense_2_loss: 0.6110 - dense_3_loss: 0.3498 - dense_4_loss: 0.0666 - loss: 1.0276\n",
      "Epoch 335/500\n",
      "\u001b[1m69/69\u001b[0m \u001b[32m━━━━━━━━━━━━━━━━━━━━\u001b[0m\u001b[37m\u001b[0m \u001b[1m0s\u001b[0m 4ms/step - dense_2_loss: 0.6234 - dense_3_loss: 0.3294 - dense_4_loss: 0.0656 - loss: 1.0188\n",
      "Epoch 336/500\n",
      "\u001b[1m69/69\u001b[0m \u001b[32m━━━━━━━━━━━━━━━━━━━━\u001b[0m\u001b[37m\u001b[0m \u001b[1m0s\u001b[0m 2ms/step - dense_2_loss: 0.5761 - dense_3_loss: 0.3334 - dense_4_loss: 0.0698 - loss: 0.9795\n",
      "Epoch 337/500\n",
      "\u001b[1m69/69\u001b[0m \u001b[32m━━━━━━━━━━━━━━━━━━━━\u001b[0m\u001b[37m\u001b[0m \u001b[1m0s\u001b[0m 2ms/step - dense_2_loss: 0.8970 - dense_3_loss: 0.4728 - dense_4_loss: 0.0847 - loss: 1.4545\n",
      "Epoch 338/500\n",
      "\u001b[1m69/69\u001b[0m \u001b[32m━━━━━━━━━━━━━━━━━━━━\u001b[0m\u001b[37m\u001b[0m \u001b[1m0s\u001b[0m 3ms/step - dense_2_loss: 0.5008 - dense_3_loss: 0.3002 - dense_4_loss: 0.0613 - loss: 0.8624\n",
      "Epoch 339/500\n",
      "\u001b[1m69/69\u001b[0m \u001b[32m━━━━━━━━━━━━━━━━━━━━\u001b[0m\u001b[37m\u001b[0m \u001b[1m0s\u001b[0m 3ms/step - dense_2_loss: 0.6511 - dense_3_loss: 0.3439 - dense_4_loss: 0.0722 - loss: 1.0673\n",
      "Epoch 340/500\n",
      "\u001b[1m69/69\u001b[0m \u001b[32m━━━━━━━━━━━━━━━━━━━━\u001b[0m\u001b[37m\u001b[0m \u001b[1m0s\u001b[0m 3ms/step - dense_2_loss: 0.7582 - dense_3_loss: 0.3786 - dense_4_loss: 0.0713 - loss: 1.2084\n",
      "Epoch 341/500\n",
      "\u001b[1m69/69\u001b[0m \u001b[32m━━━━━━━━━━━━━━━━━━━━\u001b[0m\u001b[37m\u001b[0m \u001b[1m0s\u001b[0m 2ms/step - dense_2_loss: 0.5672 - dense_3_loss: 0.3088 - dense_4_loss: 0.0564 - loss: 0.9326\n",
      "Epoch 342/500\n",
      "\u001b[1m69/69\u001b[0m \u001b[32m━━━━━━━━━━━━━━━━━━━━\u001b[0m\u001b[37m\u001b[0m \u001b[1m0s\u001b[0m 3ms/step - dense_2_loss: 0.5414 - dense_3_loss: 0.2972 - dense_4_loss: 0.0895 - loss: 0.9284\n",
      "Epoch 343/500\n",
      "\u001b[1m69/69\u001b[0m \u001b[32m━━━━━━━━━━━━━━━━━━━━\u001b[0m\u001b[37m\u001b[0m \u001b[1m0s\u001b[0m 4ms/step - dense_2_loss: 1.0157 - dense_3_loss: 0.5404 - dense_4_loss: 0.0837 - loss: 1.6399\n",
      "Epoch 344/500\n",
      "\u001b[1m69/69\u001b[0m \u001b[32m━━━━━━━━━━━━━━━━━━━━\u001b[0m\u001b[37m\u001b[0m \u001b[1m0s\u001b[0m 2ms/step - dense_2_loss: 0.7110 - dense_3_loss: 0.4049 - dense_4_loss: 0.0742 - loss: 1.1905\n",
      "Epoch 345/500\n",
      "\u001b[1m69/69\u001b[0m \u001b[32m━━━━━━━━━━━━━━━━━━━━\u001b[0m\u001b[37m\u001b[0m \u001b[1m0s\u001b[0m 2ms/step - dense_2_loss: 0.3667 - dense_3_loss: 0.2366 - dense_4_loss: 0.0626 - loss: 0.6654\n",
      "Epoch 346/500\n",
      "\u001b[1m69/69\u001b[0m \u001b[32m━━━━━━━━━━━━━━━━━━━━\u001b[0m\u001b[37m\u001b[0m \u001b[1m0s\u001b[0m 3ms/step - dense_2_loss: 0.4412 - dense_3_loss: 0.2770 - dense_4_loss: 0.0578 - loss: 0.7760\n",
      "Epoch 347/500\n",
      "\u001b[1m69/69\u001b[0m \u001b[32m━━━━━━━━━━━━━━━━━━━━\u001b[0m\u001b[37m\u001b[0m \u001b[1m0s\u001b[0m 3ms/step - dense_2_loss: 1.1713 - dense_3_loss: 0.5715 - dense_4_loss: 0.0933 - loss: 1.8362\n",
      "Epoch 348/500\n",
      "\u001b[1m69/69\u001b[0m \u001b[32m━━━━━━━━━━━━━━━━━━━━\u001b[0m\u001b[37m\u001b[0m \u001b[1m0s\u001b[0m 2ms/step - dense_2_loss: 0.4416 - dense_3_loss: 0.2507 - dense_4_loss: 0.0745 - loss: 0.7670\n",
      "Epoch 349/500\n",
      "\u001b[1m69/69\u001b[0m \u001b[32m━━━━━━━━━━━━━━━━━━━━\u001b[0m\u001b[37m\u001b[0m \u001b[1m0s\u001b[0m 2ms/step - dense_2_loss: 0.8043 - dense_3_loss: 0.4114 - dense_4_loss: 0.0904 - loss: 1.3063\n",
      "Epoch 350/500\n",
      "\u001b[1m69/69\u001b[0m \u001b[32m━━━━━━━━━━━━━━━━━━━━\u001b[0m\u001b[37m\u001b[0m \u001b[1m0s\u001b[0m 2ms/step - dense_2_loss: 0.4655 - dense_3_loss: 0.2708 - dense_4_loss: 0.0589 - loss: 0.7954\n",
      "Epoch 351/500\n",
      "\u001b[1m69/69\u001b[0m \u001b[32m━━━━━━━━━━━━━━━━━━━━\u001b[0m\u001b[37m\u001b[0m \u001b[1m0s\u001b[0m 4ms/step - dense_2_loss: 0.5812 - dense_3_loss: 0.2920 - dense_4_loss: 0.0713 - loss: 0.9448\n",
      "Epoch 352/500\n",
      "\u001b[1m69/69\u001b[0m \u001b[32m━━━━━━━━━━━━━━━━━━━━\u001b[0m\u001b[37m\u001b[0m \u001b[1m0s\u001b[0m 2ms/step - dense_2_loss: 0.5749 - dense_3_loss: 0.2562 - dense_4_loss: 0.0920 - loss: 0.9234\n",
      "Epoch 353/500\n",
      "\u001b[1m69/69\u001b[0m \u001b[32m━━━━━━━━━━━━━━━━━━━━\u001b[0m\u001b[37m\u001b[0m \u001b[1m0s\u001b[0m 2ms/step - dense_2_loss: 0.4900 - dense_3_loss: 0.2287 - dense_4_loss: 0.0571 - loss: 0.7760\n",
      "Epoch 354/500\n",
      "\u001b[1m69/69\u001b[0m \u001b[32m━━━━━━━━━━━━━━━━━━━━\u001b[0m\u001b[37m\u001b[0m \u001b[1m0s\u001b[0m 3ms/step - dense_2_loss: 0.8349 - dense_3_loss: 0.4591 - dense_4_loss: 0.0684 - loss: 1.3626\n",
      "Epoch 355/500\n",
      "\u001b[1m69/69\u001b[0m \u001b[32m━━━━━━━━━━━━━━━━━━━━\u001b[0m\u001b[37m\u001b[0m \u001b[1m0s\u001b[0m 4ms/step - dense_2_loss: 0.4834 - dense_3_loss: 0.2616 - dense_4_loss: 0.0709 - loss: 0.8160\n",
      "Epoch 356/500\n",
      "\u001b[1m69/69\u001b[0m \u001b[32m━━━━━━━━━━━━━━━━━━━━\u001b[0m\u001b[37m\u001b[0m \u001b[1m0s\u001b[0m 2ms/step - dense_2_loss: 0.6917 - dense_3_loss: 0.3847 - dense_4_loss: 0.0681 - loss: 1.1448\n",
      "Epoch 357/500\n",
      "\u001b[1m69/69\u001b[0m \u001b[32m━━━━━━━━━━━━━━━━━━━━\u001b[0m\u001b[37m\u001b[0m \u001b[1m0s\u001b[0m 2ms/step - dense_2_loss: 0.4351 - dense_3_loss: 0.2367 - dense_4_loss: 0.0608 - loss: 0.7329\n",
      "Epoch 358/500\n",
      "\u001b[1m69/69\u001b[0m \u001b[32m━━━━━━━━━━━━━━━━━━━━\u001b[0m\u001b[37m\u001b[0m \u001b[1m0s\u001b[0m 2ms/step - dense_2_loss: 0.4853 - dense_3_loss: 0.2642 - dense_4_loss: 0.0599 - loss: 0.8095\n",
      "Epoch 359/500\n",
      "\u001b[1m69/69\u001b[0m \u001b[32m━━━━━━━━━━━━━━━━━━━━\u001b[0m\u001b[37m\u001b[0m \u001b[1m0s\u001b[0m 3ms/step - dense_2_loss: 0.5276 - dense_3_loss: 0.2814 - dense_4_loss: 0.0764 - loss: 0.8856\n",
      "Epoch 360/500\n",
      "\u001b[1m69/69\u001b[0m \u001b[32m━━━━━━━━━━━━━━━━━━━━\u001b[0m\u001b[37m\u001b[0m \u001b[1m0s\u001b[0m 3ms/step - dense_2_loss: 0.5268 - dense_3_loss: 0.3415 - dense_4_loss: 0.0810 - loss: 0.9494\n",
      "Epoch 361/500\n",
      "\u001b[1m69/69\u001b[0m \u001b[32m━━━━━━━━━━━━━━━━━━━━\u001b[0m\u001b[37m\u001b[0m \u001b[1m0s\u001b[0m 3ms/step - dense_2_loss: 0.6462 - dense_3_loss: 0.3645 - dense_4_loss: 0.0839 - loss: 1.0947\n",
      "Epoch 362/500\n",
      "\u001b[1m69/69\u001b[0m \u001b[32m━━━━━━━━━━━━━━━━━━━━\u001b[0m\u001b[37m\u001b[0m \u001b[1m0s\u001b[0m 3ms/step - dense_2_loss: 0.7576 - dense_3_loss: 0.4208 - dense_4_loss: 0.0986 - loss: 1.2771\n",
      "Epoch 363/500\n",
      "\u001b[1m69/69\u001b[0m \u001b[32m━━━━━━━━━━━━━━━━━━━━\u001b[0m\u001b[37m\u001b[0m \u001b[1m0s\u001b[0m 2ms/step - dense_2_loss: 0.4183 - dense_3_loss: 0.2054 - dense_4_loss: 0.0663 - loss: 0.6902\n",
      "Epoch 364/500\n",
      "\u001b[1m69/69\u001b[0m \u001b[32m━━━━━━━━━━━━━━━━━━━━\u001b[0m\u001b[37m\u001b[0m \u001b[1m0s\u001b[0m 3ms/step - dense_2_loss: 0.5404 - dense_3_loss: 0.3026 - dense_4_loss: 0.0755 - loss: 0.9187\n",
      "Epoch 365/500\n",
      "\u001b[1m69/69\u001b[0m \u001b[32m━━━━━━━━━━━━━━━━━━━━\u001b[0m\u001b[37m\u001b[0m \u001b[1m0s\u001b[0m 2ms/step - dense_2_loss: 1.0034 - dense_3_loss: 0.4969 - dense_4_loss: 0.0908 - loss: 1.5906\n",
      "Epoch 366/500\n",
      "\u001b[1m69/69\u001b[0m \u001b[32m━━━━━━━━━━━━━━━━━━━━\u001b[0m\u001b[37m\u001b[0m \u001b[1m0s\u001b[0m 3ms/step - dense_2_loss: 0.4892 - dense_3_loss: 0.2344 - dense_4_loss: 0.0571 - loss: 0.7804\n",
      "Epoch 367/500\n",
      "\u001b[1m69/69\u001b[0m \u001b[32m━━━━━━━━━━━━━━━━━━━━\u001b[0m\u001b[37m\u001b[0m \u001b[1m0s\u001b[0m 4ms/step - dense_2_loss: 0.6152 - dense_3_loss: 0.3339 - dense_4_loss: 0.1149 - loss: 1.0639\n",
      "Epoch 368/500\n",
      "\u001b[1m69/69\u001b[0m \u001b[32m━━━━━━━━━━━━━━━━━━━━\u001b[0m\u001b[37m\u001b[0m \u001b[1m0s\u001b[0m 2ms/step - dense_2_loss: 0.6974 - dense_3_loss: 0.3923 - dense_4_loss: 0.0797 - loss: 1.1697\n",
      "Epoch 369/500\n",
      "\u001b[1m69/69\u001b[0m \u001b[32m━━━━━━━━━━━━━━━━━━━━\u001b[0m\u001b[37m\u001b[0m \u001b[1m0s\u001b[0m 2ms/step - dense_2_loss: 0.4432 - dense_3_loss: 0.2768 - dense_4_loss: 0.0647 - loss: 0.7850\n",
      "Epoch 370/500\n",
      "\u001b[1m69/69\u001b[0m \u001b[32m━━━━━━━━━━━━━━━━━━━━\u001b[0m\u001b[37m\u001b[0m \u001b[1m0s\u001b[0m 2ms/step - dense_2_loss: 1.1207 - dense_3_loss: 0.5849 - dense_4_loss: 0.0789 - loss: 1.7848\n",
      "Epoch 371/500\n",
      "\u001b[1m69/69\u001b[0m \u001b[32m━━━━━━━━━━━━━━━━━━━━\u001b[0m\u001b[37m\u001b[0m \u001b[1m0s\u001b[0m 4ms/step - dense_2_loss: 0.4190 - dense_3_loss: 0.2480 - dense_4_loss: 0.0496 - loss: 0.7168\n",
      "Epoch 372/500\n",
      "\u001b[1m69/69\u001b[0m \u001b[32m━━━━━━━━━━━━━━━━━━━━\u001b[0m\u001b[37m\u001b[0m \u001b[1m0s\u001b[0m 2ms/step - dense_2_loss: 0.5359 - dense_3_loss: 0.2651 - dense_4_loss: 0.0710 - loss: 0.8723\n",
      "Epoch 373/500\n",
      "\u001b[1m69/69\u001b[0m \u001b[32m━━━━━━━━━━━━━━━━━━━━\u001b[0m\u001b[37m\u001b[0m \u001b[1m0s\u001b[0m 2ms/step - dense_2_loss: 0.5613 - dense_3_loss: 0.3072 - dense_4_loss: 0.0618 - loss: 0.9306\n",
      "Epoch 374/500\n",
      "\u001b[1m69/69\u001b[0m \u001b[32m━━━━━━━━━━━━━━━━━━━━\u001b[0m\u001b[37m\u001b[0m \u001b[1m0s\u001b[0m 2ms/step - dense_2_loss: 0.8416 - dense_3_loss: 0.4293 - dense_4_loss: 0.0658 - loss: 1.3369\n",
      "Epoch 375/500\n",
      "\u001b[1m69/69\u001b[0m \u001b[32m━━━━━━━━━━━━━━━━━━━━\u001b[0m\u001b[37m\u001b[0m \u001b[1m0s\u001b[0m 2ms/step - dense_2_loss: 0.3922 - dense_3_loss: 0.2483 - dense_4_loss: 0.0656 - loss: 0.7042\n",
      "Epoch 376/500\n",
      "\u001b[1m69/69\u001b[0m \u001b[32m━━━━━━━━━━━━━━━━━━━━\u001b[0m\u001b[37m\u001b[0m \u001b[1m0s\u001b[0m 2ms/step - dense_2_loss: 0.9028 - dense_3_loss: 0.5069 - dense_4_loss: 0.0844 - loss: 1.4944\n",
      "Epoch 377/500\n",
      "\u001b[1m69/69\u001b[0m \u001b[32m━━━━━━━━━━━━━━━━━━━━\u001b[0m\u001b[37m\u001b[0m \u001b[1m0s\u001b[0m 2ms/step - dense_2_loss: 0.4820 - dense_3_loss: 0.2974 - dense_4_loss: 0.0579 - loss: 0.8361\n",
      "Epoch 378/500\n",
      "\u001b[1m69/69\u001b[0m \u001b[32m━━━━━━━━━━━━━━━━━━━━\u001b[0m\u001b[37m\u001b[0m \u001b[1m0s\u001b[0m 6ms/step - dense_2_loss: 0.8132 - dense_3_loss: 0.4395 - dense_4_loss: 0.0874 - loss: 1.3403\n",
      "Epoch 379/500\n",
      "\u001b[1m69/69\u001b[0m \u001b[32m━━━━━━━━━━━━━━━━━━━━\u001b[0m\u001b[37m\u001b[0m \u001b[1m0s\u001b[0m 3ms/step - dense_2_loss: 0.9220 - dense_3_loss: 0.4889 - dense_4_loss: 0.0672 - loss: 1.4783\n",
      "Epoch 380/500\n",
      "\u001b[1m69/69\u001b[0m \u001b[32m━━━━━━━━━━━━━━━━━━━━\u001b[0m\u001b[37m\u001b[0m \u001b[1m0s\u001b[0m 4ms/step - dense_2_loss: 0.6842 - dense_3_loss: 0.3402 - dense_4_loss: 0.0734 - loss: 1.0981\n",
      "Epoch 381/500\n",
      "\u001b[1m69/69\u001b[0m \u001b[32m━━━━━━━━━━━━━━━━━━━━\u001b[0m\u001b[37m\u001b[0m \u001b[1m0s\u001b[0m 3ms/step - dense_2_loss: 0.3429 - dense_3_loss: 0.2126 - dense_4_loss: 0.0543 - loss: 0.6101\n",
      "Epoch 382/500\n",
      "\u001b[1m69/69\u001b[0m \u001b[32m━━━━━━━━━━━━━━━━━━━━\u001b[0m\u001b[37m\u001b[0m \u001b[1m0s\u001b[0m 2ms/step - dense_2_loss: 0.7399 - dense_3_loss: 0.3187 - dense_4_loss: 0.0697 - loss: 1.1286\n",
      "Epoch 383/500\n",
      "\u001b[1m69/69\u001b[0m \u001b[32m━━━━━━━━━━━━━━━━━━━━\u001b[0m\u001b[37m\u001b[0m \u001b[1m0s\u001b[0m 2ms/step - dense_2_loss: 0.7364 - dense_3_loss: 0.4091 - dense_4_loss: 0.0802 - loss: 1.2260\n",
      "Epoch 384/500\n",
      "\u001b[1m69/69\u001b[0m \u001b[32m━━━━━━━━━━━━━━━━━━━━\u001b[0m\u001b[37m\u001b[0m \u001b[1m0s\u001b[0m 2ms/step - dense_2_loss: 0.4386 - dense_3_loss: 0.2304 - dense_4_loss: 0.0563 - loss: 0.7253\n",
      "Epoch 385/500\n",
      "\u001b[1m69/69\u001b[0m \u001b[32m━━━━━━━━━━━━━━━━━━━━\u001b[0m\u001b[37m\u001b[0m \u001b[1m0s\u001b[0m 3ms/step - dense_2_loss: 0.6371 - dense_3_loss: 0.3568 - dense_4_loss: 0.0893 - loss: 1.0834\n",
      "Epoch 386/500\n",
      "\u001b[1m69/69\u001b[0m \u001b[32m━━━━━━━━━━━━━━━━━━━━\u001b[0m\u001b[37m\u001b[0m \u001b[1m0s\u001b[0m 2ms/step - dense_2_loss: 0.4662 - dense_3_loss: 0.2778 - dense_4_loss: 0.0629 - loss: 0.8072\n",
      "Epoch 387/500\n",
      "\u001b[1m69/69\u001b[0m \u001b[32m━━━━━━━━━━━━━━━━━━━━\u001b[0m\u001b[37m\u001b[0m \u001b[1m0s\u001b[0m 2ms/step - dense_2_loss: 0.4768 - dense_3_loss: 0.2320 - dense_4_loss: 0.0661 - loss: 0.7751\n",
      "Epoch 388/500\n",
      "\u001b[1m69/69\u001b[0m \u001b[32m━━━━━━━━━━━━━━━━━━━━\u001b[0m\u001b[37m\u001b[0m \u001b[1m0s\u001b[0m 3ms/step - dense_2_loss: 0.7426 - dense_3_loss: 0.3530 - dense_4_loss: 0.0787 - loss: 1.1748\n",
      "Epoch 389/500\n",
      "\u001b[1m69/69\u001b[0m \u001b[32m━━━━━━━━━━━━━━━━━━━━\u001b[0m\u001b[37m\u001b[0m \u001b[1m0s\u001b[0m 2ms/step - dense_2_loss: 0.5430 - dense_3_loss: 0.3110 - dense_4_loss: 0.0754 - loss: 0.9297\n",
      "Epoch 390/500\n",
      "\u001b[1m69/69\u001b[0m \u001b[32m━━━━━━━━━━━━━━━━━━━━\u001b[0m\u001b[37m\u001b[0m \u001b[1m0s\u001b[0m 2ms/step - dense_2_loss: 0.4890 - dense_3_loss: 0.2617 - dense_4_loss: 0.0565 - loss: 0.8074\n",
      "Epoch 391/500\n",
      "\u001b[1m69/69\u001b[0m \u001b[32m━━━━━━━━━━━━━━━━━━━━\u001b[0m\u001b[37m\u001b[0m \u001b[1m0s\u001b[0m 2ms/step - dense_2_loss: 0.6569 - dense_3_loss: 0.3420 - dense_4_loss: 0.0578 - loss: 1.0569\n",
      "Epoch 392/500\n",
      "\u001b[1m69/69\u001b[0m \u001b[32m━━━━━━━━━━━━━━━━━━━━\u001b[0m\u001b[37m\u001b[0m \u001b[1m0s\u001b[0m 2ms/step - dense_2_loss: 0.5217 - dense_3_loss: 0.2855 - dense_4_loss: 0.0570 - loss: 0.8640\n",
      "Epoch 393/500\n",
      "\u001b[1m69/69\u001b[0m \u001b[32m━━━━━━━━━━━━━━━━━━━━\u001b[0m\u001b[37m\u001b[0m \u001b[1m0s\u001b[0m 2ms/step - dense_2_loss: 0.9362 - dense_3_loss: 0.4241 - dense_4_loss: 0.0637 - loss: 1.4244\n",
      "Epoch 394/500\n",
      "\u001b[1m69/69\u001b[0m \u001b[32m━━━━━━━━━━━━━━━━━━━━\u001b[0m\u001b[37m\u001b[0m \u001b[1m0s\u001b[0m 2ms/step - dense_2_loss: 0.3656 - dense_3_loss: 0.2244 - dense_4_loss: 0.0656 - loss: 0.6550\n",
      "Epoch 395/500\n",
      "\u001b[1m69/69\u001b[0m \u001b[32m━━━━━━━━━━━━━━━━━━━━\u001b[0m\u001b[37m\u001b[0m \u001b[1m0s\u001b[0m 3ms/step - dense_2_loss: 0.5803 - dense_3_loss: 0.3067 - dense_4_loss: 0.0845 - loss: 0.9717\n",
      "Epoch 396/500\n",
      "\u001b[1m69/69\u001b[0m \u001b[32m━━━━━━━━━━━━━━━━━━━━\u001b[0m\u001b[37m\u001b[0m \u001b[1m0s\u001b[0m 2ms/step - dense_2_loss: 0.4705 - dense_3_loss: 0.2353 - dense_4_loss: 0.0623 - loss: 0.7684\n",
      "Epoch 397/500\n",
      "\u001b[1m69/69\u001b[0m \u001b[32m━━━━━━━━━━━━━━━━━━━━\u001b[0m\u001b[37m\u001b[0m \u001b[1m0s\u001b[0m 2ms/step - dense_2_loss: 0.7602 - dense_3_loss: 0.4188 - dense_4_loss: 0.0656 - loss: 1.2449\n",
      "Epoch 398/500\n",
      "\u001b[1m69/69\u001b[0m \u001b[32m━━━━━━━━━━━━━━━━━━━━\u001b[0m\u001b[37m\u001b[0m \u001b[1m0s\u001b[0m 2ms/step - dense_2_loss: 0.5405 - dense_3_loss: 0.3193 - dense_4_loss: 0.0734 - loss: 0.9333\n",
      "Epoch 399/500\n",
      "\u001b[1m69/69\u001b[0m \u001b[32m━━━━━━━━━━━━━━━━━━━━\u001b[0m\u001b[37m\u001b[0m \u001b[1m0s\u001b[0m 3ms/step - dense_2_loss: 1.6359 - dense_3_loss: 0.7752 - dense_4_loss: 0.0753 - loss: 2.4859\n",
      "Epoch 400/500\n",
      "\u001b[1m69/69\u001b[0m \u001b[32m━━━━━━━━━━━━━━━━━━━━\u001b[0m\u001b[37m\u001b[0m \u001b[1m0s\u001b[0m 2ms/step - dense_2_loss: 0.5841 - dense_3_loss: 0.3026 - dense_4_loss: 0.0573 - loss: 0.9430\n",
      "Epoch 401/500\n",
      "\u001b[1m69/69\u001b[0m \u001b[32m━━━━━━━━━━━━━━━━━━━━\u001b[0m\u001b[37m\u001b[0m \u001b[1m0s\u001b[0m 2ms/step - dense_2_loss: 0.6372 - dense_3_loss: 0.3528 - dense_4_loss: 0.0603 - loss: 1.0475\n",
      "Epoch 402/500\n",
      "\u001b[1m69/69\u001b[0m \u001b[32m━━━━━━━━━━━━━━━━━━━━\u001b[0m\u001b[37m\u001b[0m \u001b[1m0s\u001b[0m 3ms/step - dense_2_loss: 0.5348 - dense_3_loss: 0.2139 - dense_4_loss: 0.0651 - loss: 0.8141\n",
      "Epoch 403/500\n",
      "\u001b[1m69/69\u001b[0m \u001b[32m━━━━━━━━━━━━━━━━━━━━\u001b[0m\u001b[37m\u001b[0m \u001b[1m0s\u001b[0m 2ms/step - dense_2_loss: 0.8248 - dense_3_loss: 0.3533 - dense_4_loss: 0.0822 - loss: 1.2606\n",
      "Epoch 404/500\n",
      "\u001b[1m69/69\u001b[0m \u001b[32m━━━━━━━━━━━━━━━━━━━━\u001b[0m\u001b[37m\u001b[0m \u001b[1m0s\u001b[0m 2ms/step - dense_2_loss: 0.4568 - dense_3_loss: 0.2545 - dense_4_loss: 0.0627 - loss: 0.7742\n",
      "Epoch 405/500\n",
      "\u001b[1m69/69\u001b[0m \u001b[32m━━━━━━━━━━━━━━━━━━━━\u001b[0m\u001b[37m\u001b[0m \u001b[1m0s\u001b[0m 3ms/step - dense_2_loss: 1.4033 - dense_3_loss: 0.7749 - dense_4_loss: 0.0891 - loss: 2.2675\n",
      "Epoch 406/500\n",
      "\u001b[1m69/69\u001b[0m \u001b[32m━━━━━━━━━━━━━━━━━━━━\u001b[0m\u001b[37m\u001b[0m \u001b[1m0s\u001b[0m 2ms/step - dense_2_loss: 0.5938 - dense_3_loss: 0.3493 - dense_4_loss: 0.0645 - loss: 1.0078\n",
      "Epoch 407/500\n",
      "\u001b[1m69/69\u001b[0m \u001b[32m━━━━━━━━━━━━━━━━━━━━\u001b[0m\u001b[37m\u001b[0m \u001b[1m0s\u001b[0m 2ms/step - dense_2_loss: 0.4217 - dense_3_loss: 0.2167 - dense_4_loss: 0.0492 - loss: 0.6876\n",
      "Epoch 408/500\n",
      "\u001b[1m69/69\u001b[0m \u001b[32m━━━━━━━━━━━━━━━━━━━━\u001b[0m\u001b[37m\u001b[0m \u001b[1m0s\u001b[0m 3ms/step - dense_2_loss: 0.5630 - dense_3_loss: 0.3381 - dense_4_loss: 0.0754 - loss: 0.9753\n",
      "Epoch 409/500\n",
      "\u001b[1m69/69\u001b[0m \u001b[32m━━━━━━━━━━━━━━━━━━━━\u001b[0m\u001b[37m\u001b[0m \u001b[1m0s\u001b[0m 2ms/step - dense_2_loss: 0.4888 - dense_3_loss: 0.2463 - dense_4_loss: 0.0657 - loss: 0.8011\n",
      "Epoch 410/500\n",
      "\u001b[1m69/69\u001b[0m \u001b[32m━━━━━━━━━━━━━━━━━━━━\u001b[0m\u001b[37m\u001b[0m \u001b[1m0s\u001b[0m 2ms/step - dense_2_loss: 1.1764 - dense_3_loss: 0.6034 - dense_4_loss: 0.1070 - loss: 1.8872\n",
      "Epoch 411/500\n",
      "\u001b[1m69/69\u001b[0m \u001b[32m━━━━━━━━━━━━━━━━━━━━\u001b[0m\u001b[37m\u001b[0m \u001b[1m0s\u001b[0m 2ms/step - dense_2_loss: 0.8654 - dense_3_loss: 0.4792 - dense_4_loss: 0.0883 - loss: 1.4333\n",
      "Epoch 412/500\n",
      "\u001b[1m69/69\u001b[0m \u001b[32m━━━━━━━━━━━━━━━━━━━━\u001b[0m\u001b[37m\u001b[0m \u001b[1m0s\u001b[0m 3ms/step - dense_2_loss: 1.2728 - dense_3_loss: 0.6292 - dense_4_loss: 0.0689 - loss: 1.9712\n",
      "Epoch 413/500\n",
      "\u001b[1m69/69\u001b[0m \u001b[32m━━━━━━━━━━━━━━━━━━━━\u001b[0m\u001b[37m\u001b[0m \u001b[1m0s\u001b[0m 2ms/step - dense_2_loss: 0.4702 - dense_3_loss: 0.2749 - dense_4_loss: 0.0742 - loss: 0.8196\n",
      "Epoch 414/500\n",
      "\u001b[1m69/69\u001b[0m \u001b[32m━━━━━━━━━━━━━━━━━━━━\u001b[0m\u001b[37m\u001b[0m \u001b[1m0s\u001b[0m 2ms/step - dense_2_loss: 1.1404 - dense_3_loss: 0.6176 - dense_4_loss: 0.0615 - loss: 1.8197\n",
      "Epoch 415/500\n",
      "\u001b[1m69/69\u001b[0m \u001b[32m━━━━━━━━━━━━━━━━━━━━\u001b[0m\u001b[37m\u001b[0m \u001b[1m0s\u001b[0m 3ms/step - dense_2_loss: 0.4425 - dense_3_loss: 0.2446 - dense_4_loss: 0.0456 - loss: 0.7329\n",
      "Epoch 416/500\n",
      "\u001b[1m69/69\u001b[0m \u001b[32m━━━━━━━━━━━━━━━━━━━━\u001b[0m\u001b[37m\u001b[0m \u001b[1m0s\u001b[0m 2ms/step - dense_2_loss: 1.2872 - dense_3_loss: 0.6570 - dense_4_loss: 0.0548 - loss: 1.9991\n",
      "Epoch 417/500\n",
      "\u001b[1m69/69\u001b[0m \u001b[32m━━━━━━━━━━━━━━━━━━━━\u001b[0m\u001b[37m\u001b[0m \u001b[1m0s\u001b[0m 2ms/step - dense_2_loss: 0.6268 - dense_3_loss: 0.2719 - dense_4_loss: 0.0709 - loss: 0.9697\n",
      "Epoch 418/500\n",
      "\u001b[1m69/69\u001b[0m \u001b[32m━━━━━━━━━━━━━━━━━━━━\u001b[0m\u001b[37m\u001b[0m \u001b[1m0s\u001b[0m 2ms/step - dense_2_loss: 0.6615 - dense_3_loss: 0.3549 - dense_4_loss: 0.0676 - loss: 1.0843\n",
      "Epoch 419/500\n",
      "\u001b[1m69/69\u001b[0m \u001b[32m━━━━━━━━━━━━━━━━━━━━\u001b[0m\u001b[37m\u001b[0m \u001b[1m0s\u001b[0m 2ms/step - dense_2_loss: 0.5682 - dense_3_loss: 0.2755 - dense_4_loss: 0.0771 - loss: 0.9209\n",
      "Epoch 420/500\n",
      "\u001b[1m69/69\u001b[0m \u001b[32m━━━━━━━━━━━━━━━━━━━━\u001b[0m\u001b[37m\u001b[0m \u001b[1m0s\u001b[0m 2ms/step - dense_2_loss: 0.4609 - dense_3_loss: 0.2753 - dense_4_loss: 0.0908 - loss: 0.8273\n",
      "Epoch 421/500\n",
      "\u001b[1m69/69\u001b[0m \u001b[32m━━━━━━━━━━━━━━━━━━━━\u001b[0m\u001b[37m\u001b[0m \u001b[1m0s\u001b[0m 3ms/step - dense_2_loss: 0.7939 - dense_3_loss: 0.4042 - dense_4_loss: 0.0902 - loss: 1.2886\n",
      "Epoch 422/500\n",
      "\u001b[1m69/69\u001b[0m \u001b[32m━━━━━━━━━━━━━━━━━━━━\u001b[0m\u001b[37m\u001b[0m \u001b[1m0s\u001b[0m 2ms/step - dense_2_loss: 0.4528 - dense_3_loss: 0.2715 - dense_4_loss: 0.0563 - loss: 0.7807\n",
      "Epoch 423/500\n",
      "\u001b[1m69/69\u001b[0m \u001b[32m━━━━━━━━━━━━━━━━━━━━\u001b[0m\u001b[37m\u001b[0m \u001b[1m0s\u001b[0m 3ms/step - dense_2_loss: 0.5779 - dense_3_loss: 0.2823 - dense_4_loss: 0.0613 - loss: 0.9217\n",
      "Epoch 424/500\n",
      "\u001b[1m69/69\u001b[0m \u001b[32m━━━━━━━━━━━━━━━━━━━━\u001b[0m\u001b[37m\u001b[0m \u001b[1m0s\u001b[0m 2ms/step - dense_2_loss: 0.4489 - dense_3_loss: 0.2767 - dense_4_loss: 0.0676 - loss: 0.7935\n",
      "Epoch 425/500\n",
      "\u001b[1m69/69\u001b[0m \u001b[32m━━━━━━━━━━━━━━━━━━━━\u001b[0m\u001b[37m\u001b[0m \u001b[1m0s\u001b[0m 2ms/step - dense_2_loss: 0.6500 - dense_3_loss: 0.3513 - dense_4_loss: 0.0737 - loss: 1.0752\n",
      "Epoch 426/500\n",
      "\u001b[1m69/69\u001b[0m \u001b[32m━━━━━━━━━━━━━━━━━━━━\u001b[0m\u001b[37m\u001b[0m \u001b[1m0s\u001b[0m 2ms/step - dense_2_loss: 0.4531 - dense_3_loss: 0.2702 - dense_4_loss: 0.0806 - loss: 0.7800\n",
      "Epoch 427/500\n",
      "\u001b[1m69/69\u001b[0m \u001b[32m━━━━━━━━━━━━━━━━━━━━\u001b[0m\u001b[37m\u001b[0m \u001b[1m0s\u001b[0m 2ms/step - dense_2_loss: 1.2939 - dense_3_loss: 0.5602 - dense_4_loss: 0.1186 - loss: 1.9729\n",
      "Epoch 428/500\n",
      "\u001b[1m69/69\u001b[0m \u001b[32m━━━━━━━━━━━━━━━━━━━━\u001b[0m\u001b[37m\u001b[0m \u001b[1m0s\u001b[0m 3ms/step - dense_2_loss: 0.5727 - dense_3_loss: 0.3193 - dense_4_loss: 0.0806 - loss: 0.9722\n",
      "Epoch 429/500\n",
      "\u001b[1m69/69\u001b[0m \u001b[32m━━━━━━━━━━━━━━━━━━━━\u001b[0m\u001b[37m\u001b[0m \u001b[1m0s\u001b[0m 2ms/step - dense_2_loss: 0.8735 - dense_3_loss: 0.4708 - dense_4_loss: 0.0985 - loss: 1.4433\n",
      "Epoch 430/500\n",
      "\u001b[1m69/69\u001b[0m \u001b[32m━━━━━━━━━━━━━━━━━━━━\u001b[0m\u001b[37m\u001b[0m \u001b[1m0s\u001b[0m 2ms/step - dense_2_loss: 0.5739 - dense_3_loss: 0.2603 - dense_4_loss: 0.0815 - loss: 0.9160\n",
      "Epoch 431/500\n",
      "\u001b[1m69/69\u001b[0m \u001b[32m━━━━━━━━━━━━━━━━━━━━\u001b[0m\u001b[37m\u001b[0m \u001b[1m0s\u001b[0m 3ms/step - dense_2_loss: 0.9802 - dense_3_loss: 0.5204 - dense_4_loss: 0.0767 - loss: 1.5776\n",
      "Epoch 432/500\n",
      "\u001b[1m69/69\u001b[0m \u001b[32m━━━━━━━━━━━━━━━━━━━━\u001b[0m\u001b[37m\u001b[0m \u001b[1m0s\u001b[0m 2ms/step - dense_2_loss: 0.5965 - dense_3_loss: 0.3268 - dense_4_loss: 0.0684 - loss: 0.9919\n",
      "Epoch 433/500\n",
      "\u001b[1m69/69\u001b[0m \u001b[32m━━━━━━━━━━━━━━━━━━━━\u001b[0m\u001b[37m\u001b[0m \u001b[1m0s\u001b[0m 2ms/step - dense_2_loss: 0.9087 - dense_3_loss: 0.4556 - dense_4_loss: 0.0609 - loss: 1.4254\n",
      "Epoch 434/500\n",
      "\u001b[1m69/69\u001b[0m \u001b[32m━━━━━━━━━━━━━━━━━━━━\u001b[0m\u001b[37m\u001b[0m \u001b[1m0s\u001b[0m 2ms/step - dense_2_loss: 0.6092 - dense_3_loss: 0.3511 - dense_4_loss: 0.0726 - loss: 1.0331\n",
      "Epoch 435/500\n",
      "\u001b[1m69/69\u001b[0m \u001b[32m━━━━━━━━━━━━━━━━━━━━\u001b[0m\u001b[37m\u001b[0m \u001b[1m0s\u001b[0m 3ms/step - dense_2_loss: 0.4454 - dense_3_loss: 0.2518 - dense_4_loss: 0.0625 - loss: 0.7598\n",
      "Epoch 436/500\n",
      "\u001b[1m69/69\u001b[0m \u001b[32m━━━━━━━━━━━━━━━━━━━━\u001b[0m\u001b[37m\u001b[0m \u001b[1m0s\u001b[0m 2ms/step - dense_2_loss: 1.0287 - dense_3_loss: 0.5187 - dense_4_loss: 0.0590 - loss: 1.6066\n",
      "Epoch 437/500\n",
      "\u001b[1m69/69\u001b[0m \u001b[32m━━━━━━━━━━━━━━━━━━━━\u001b[0m\u001b[37m\u001b[0m \u001b[1m0s\u001b[0m 2ms/step - dense_2_loss: 0.4123 - dense_3_loss: 0.2602 - dense_4_loss: 0.0752 - loss: 0.7478\n",
      "Epoch 438/500\n",
      "\u001b[1m69/69\u001b[0m \u001b[32m━━━━━━━━━━━━━━━━━━━━\u001b[0m\u001b[37m\u001b[0m \u001b[1m0s\u001b[0m 3ms/step - dense_2_loss: 0.6628 - dense_3_loss: 0.3185 - dense_4_loss: 0.0778 - loss: 1.0594\n",
      "Epoch 439/500\n",
      "\u001b[1m69/69\u001b[0m \u001b[32m━━━━━━━━━━━━━━━━━━━━\u001b[0m\u001b[37m\u001b[0m \u001b[1m0s\u001b[0m 2ms/step - dense_2_loss: 1.1150 - dense_3_loss: 0.5607 - dense_4_loss: 0.0629 - loss: 1.7388\n",
      "Epoch 440/500\n",
      "\u001b[1m69/69\u001b[0m \u001b[32m━━━━━━━━━━━━━━━━━━━━\u001b[0m\u001b[37m\u001b[0m \u001b[1m0s\u001b[0m 2ms/step - dense_2_loss: 0.6203 - dense_3_loss: 0.3210 - dense_4_loss: 0.0762 - loss: 1.0176\n",
      "Epoch 441/500\n",
      "\u001b[1m69/69\u001b[0m \u001b[32m━━━━━━━━━━━━━━━━━━━━\u001b[0m\u001b[37m\u001b[0m \u001b[1m0s\u001b[0m 2ms/step - dense_2_loss: 0.4718 - dense_3_loss: 0.2578 - dense_4_loss: 0.0604 - loss: 0.7901\n",
      "Epoch 442/500\n",
      "\u001b[1m69/69\u001b[0m \u001b[32m━━━━━━━━━━━━━━━━━━━━\u001b[0m\u001b[37m\u001b[0m \u001b[1m0s\u001b[0m 3ms/step - dense_2_loss: 0.3654 - dense_3_loss: 0.2070 - dense_4_loss: 0.0536 - loss: 0.6262\n",
      "Epoch 443/500\n",
      "\u001b[1m69/69\u001b[0m \u001b[32m━━━━━━━━━━━━━━━━━━━━\u001b[0m\u001b[37m\u001b[0m \u001b[1m0s\u001b[0m 2ms/step - dense_2_loss: 0.7629 - dense_3_loss: 0.3505 - dense_4_loss: 0.0571 - loss: 1.1707\n",
      "Epoch 444/500\n",
      "\u001b[1m69/69\u001b[0m \u001b[32m━━━━━━━━━━━━━━━━━━━━\u001b[0m\u001b[37m\u001b[0m \u001b[1m0s\u001b[0m 2ms/step - dense_2_loss: 0.5046 - dense_3_loss: 0.2614 - dense_4_loss: 0.0610 - loss: 0.8271\n",
      "Epoch 445/500\n",
      "\u001b[1m69/69\u001b[0m \u001b[32m━━━━━━━━━━━━━━━━━━━━\u001b[0m\u001b[37m\u001b[0m \u001b[1m0s\u001b[0m 2ms/step - dense_2_loss: 0.6812 - dense_3_loss: 0.3504 - dense_4_loss: 0.0562 - loss: 1.0882\n",
      "Epoch 446/500\n",
      "\u001b[1m69/69\u001b[0m \u001b[32m━━━━━━━━━━━━━━━━━━━━\u001b[0m\u001b[37m\u001b[0m \u001b[1m0s\u001b[0m 2ms/step - dense_2_loss: 0.4449 - dense_3_loss: 0.2054 - dense_4_loss: 0.0775 - loss: 0.7280\n",
      "Epoch 447/500\n",
      "\u001b[1m69/69\u001b[0m \u001b[32m━━━━━━━━━━━━━━━━━━━━\u001b[0m\u001b[37m\u001b[0m \u001b[1m0s\u001b[0m 2ms/step - dense_2_loss: 0.6736 - dense_3_loss: 0.3324 - dense_4_loss: 0.0711 - loss: 1.0773\n",
      "Epoch 448/500\n",
      "\u001b[1m69/69\u001b[0m \u001b[32m━━━━━━━━━━━━━━━━━━━━\u001b[0m\u001b[37m\u001b[0m \u001b[1m0s\u001b[0m 2ms/step - dense_2_loss: 0.4635 - dense_3_loss: 0.2635 - dense_4_loss: 0.0569 - loss: 0.7840\n",
      "Epoch 449/500\n",
      "\u001b[1m69/69\u001b[0m \u001b[32m━━━━━━━━━━━━━━━━━━━━\u001b[0m\u001b[37m\u001b[0m \u001b[1m0s\u001b[0m 2ms/step - dense_2_loss: 0.8451 - dense_3_loss: 0.4208 - dense_4_loss: 0.0664 - loss: 1.3325\n",
      "Epoch 450/500\n",
      "\u001b[1m69/69\u001b[0m \u001b[32m━━━━━━━━━━━━━━━━━━━━\u001b[0m\u001b[37m\u001b[0m \u001b[1m0s\u001b[0m 2ms/step - dense_2_loss: 1.0558 - dense_3_loss: 0.5267 - dense_4_loss: 0.0851 - loss: 1.6678\n",
      "Epoch 451/500\n",
      "\u001b[1m69/69\u001b[0m \u001b[32m━━━━━━━━━━━━━━━━━━━━\u001b[0m\u001b[37m\u001b[0m \u001b[1m0s\u001b[0m 2ms/step - dense_2_loss: 0.6570 - dense_3_loss: 0.3357 - dense_4_loss: 0.0587 - loss: 1.0515\n",
      "Epoch 452/500\n",
      "\u001b[1m69/69\u001b[0m \u001b[32m━━━━━━━━━━━━━━━━━━━━\u001b[0m\u001b[37m\u001b[0m \u001b[1m0s\u001b[0m 2ms/step - dense_2_loss: 0.7240 - dense_3_loss: 0.3917 - dense_4_loss: 0.0659 - loss: 1.1812\n",
      "Epoch 453/500\n",
      "\u001b[1m69/69\u001b[0m \u001b[32m━━━━━━━━━━━━━━━━━━━━\u001b[0m\u001b[37m\u001b[0m \u001b[1m0s\u001b[0m 2ms/step - dense_2_loss: 0.4700 - dense_3_loss: 0.2741 - dense_4_loss: 0.0626 - loss: 0.8069\n",
      "Epoch 454/500\n",
      "\u001b[1m69/69\u001b[0m \u001b[32m━━━━━━━━━━━━━━━━━━━━\u001b[0m\u001b[37m\u001b[0m \u001b[1m0s\u001b[0m 3ms/step - dense_2_loss: 0.5702 - dense_3_loss: 0.3083 - dense_4_loss: 0.0650 - loss: 0.9437\n",
      "Epoch 455/500\n",
      "\u001b[1m69/69\u001b[0m \u001b[32m━━━━━━━━━━━━━━━━━━━━\u001b[0m\u001b[37m\u001b[0m \u001b[1m0s\u001b[0m 2ms/step - dense_2_loss: 0.6775 - dense_3_loss: 0.3536 - dense_4_loss: 0.0684 - loss: 1.0997\n",
      "Epoch 456/500\n",
      "\u001b[1m69/69\u001b[0m \u001b[32m━━━━━━━━━━━━━━━━━━━━\u001b[0m\u001b[37m\u001b[0m \u001b[1m0s\u001b[0m 2ms/step - dense_2_loss: 0.4944 - dense_3_loss: 0.2588 - dense_4_loss: 0.0535 - loss: 0.8070\n",
      "Epoch 457/500\n",
      "\u001b[1m69/69\u001b[0m \u001b[32m━━━━━━━━━━━━━━━━━━━━\u001b[0m\u001b[37m\u001b[0m \u001b[1m0s\u001b[0m 3ms/step - dense_2_loss: 0.3219 - dense_3_loss: 0.1878 - dense_4_loss: 0.0451 - loss: 0.5546\n",
      "Epoch 458/500\n",
      "\u001b[1m69/69\u001b[0m \u001b[32m━━━━━━━━━━━━━━━━━━━━\u001b[0m\u001b[37m\u001b[0m \u001b[1m0s\u001b[0m 2ms/step - dense_2_loss: 0.7989 - dense_3_loss: 0.4044 - dense_4_loss: 0.0627 - loss: 1.2663\n",
      "Epoch 459/500\n",
      "\u001b[1m69/69\u001b[0m \u001b[32m━━━━━━━━━━━━━━━━━━━━\u001b[0m\u001b[37m\u001b[0m \u001b[1m0s\u001b[0m 2ms/step - dense_2_loss: 0.6029 - dense_3_loss: 0.3336 - dense_4_loss: 0.0681 - loss: 1.0048\n",
      "Epoch 460/500\n",
      "\u001b[1m69/69\u001b[0m \u001b[32m━━━━━━━━━━━━━━━━━━━━\u001b[0m\u001b[37m\u001b[0m \u001b[1m0s\u001b[0m 2ms/step - dense_2_loss: 0.5964 - dense_3_loss: 0.3395 - dense_4_loss: 0.0614 - loss: 0.9975\n",
      "Epoch 461/500\n",
      "\u001b[1m69/69\u001b[0m \u001b[32m━━━━━━━━━━━━━━━━━━━━\u001b[0m\u001b[37m\u001b[0m \u001b[1m0s\u001b[0m 3ms/step - dense_2_loss: 0.8674 - dense_3_loss: 0.4888 - dense_4_loss: 0.0809 - loss: 1.4372\n",
      "Epoch 462/500\n",
      "\u001b[1m69/69\u001b[0m \u001b[32m━━━━━━━━━━━━━━━━━━━━\u001b[0m\u001b[37m\u001b[0m \u001b[1m0s\u001b[0m 2ms/step - dense_2_loss: 0.4294 - dense_3_loss: 0.2444 - dense_4_loss: 0.0732 - loss: 0.7469\n",
      "Epoch 463/500\n",
      "\u001b[1m69/69\u001b[0m \u001b[32m━━━━━━━━━━━━━━━━━━━━\u001b[0m\u001b[37m\u001b[0m \u001b[1m0s\u001b[0m 2ms/step - dense_2_loss: 0.8103 - dense_3_loss: 0.4037 - dense_4_loss: 0.0703 - loss: 1.2846\n",
      "Epoch 464/500\n",
      "\u001b[1m69/69\u001b[0m \u001b[32m━━━━━━━━━━━━━━━━━━━━\u001b[0m\u001b[37m\u001b[0m \u001b[1m0s\u001b[0m 2ms/step - dense_2_loss: 0.4851 - dense_3_loss: 0.2452 - dense_4_loss: 0.0743 - loss: 0.8045\n",
      "Epoch 465/500\n",
      "\u001b[1m69/69\u001b[0m \u001b[32m━━━━━━━━━━━━━━━━━━━━\u001b[0m\u001b[37m\u001b[0m \u001b[1m0s\u001b[0m 2ms/step - dense_2_loss: 0.5463 - dense_3_loss: 0.3140 - dense_4_loss: 0.0976 - loss: 0.9581\n",
      "Epoch 466/500\n",
      "\u001b[1m69/69\u001b[0m \u001b[32m━━━━━━━━━━━━━━━━━━━━\u001b[0m\u001b[37m\u001b[0m \u001b[1m0s\u001b[0m 3ms/step - dense_2_loss: 0.4317 - dense_3_loss: 0.2338 - dense_4_loss: 0.0523 - loss: 0.7181\n",
      "Epoch 467/500\n",
      "\u001b[1m69/69\u001b[0m \u001b[32m━━━━━━━━━━━━━━━━━━━━\u001b[0m\u001b[37m\u001b[0m \u001b[1m0s\u001b[0m 2ms/step - dense_2_loss: 1.0359 - dense_3_loss: 0.5463 - dense_4_loss: 0.0635 - loss: 1.6460\n",
      "Epoch 468/500\n",
      "\u001b[1m69/69\u001b[0m \u001b[32m━━━━━━━━━━━━━━━━━━━━\u001b[0m\u001b[37m\u001b[0m \u001b[1m0s\u001b[0m 2ms/step - dense_2_loss: 1.0094 - dense_3_loss: 0.4987 - dense_4_loss: 0.0609 - loss: 1.5694\n",
      "Epoch 469/500\n",
      "\u001b[1m69/69\u001b[0m \u001b[32m━━━━━━━━━━━━━━━━━━━━\u001b[0m\u001b[37m\u001b[0m \u001b[1m0s\u001b[0m 3ms/step - dense_2_loss: 0.4847 - dense_3_loss: 0.2714 - dense_4_loss: 0.0758 - loss: 0.8320\n",
      "Epoch 470/500\n",
      "\u001b[1m69/69\u001b[0m \u001b[32m━━━━━━━━━━━━━━━━━━━━\u001b[0m\u001b[37m\u001b[0m \u001b[1m0s\u001b[0m 3ms/step - dense_2_loss: 0.8912 - dense_3_loss: 0.4580 - dense_4_loss: 0.0704 - loss: 1.4198\n",
      "Epoch 471/500\n",
      "\u001b[1m69/69\u001b[0m \u001b[32m━━━━━━━━━━━━━━━━━━━━\u001b[0m\u001b[37m\u001b[0m \u001b[1m0s\u001b[0m 2ms/step - dense_2_loss: 1.0609 - dense_3_loss: 0.5670 - dense_4_loss: 0.0650 - loss: 1.6931\n",
      "Epoch 472/500\n",
      "\u001b[1m69/69\u001b[0m \u001b[32m━━━━━━━━━━━━━━━━━━━━\u001b[0m\u001b[37m\u001b[0m \u001b[1m0s\u001b[0m 3ms/step - dense_2_loss: 0.8644 - dense_3_loss: 0.4361 - dense_4_loss: 0.0637 - loss: 1.3643\n",
      "Epoch 473/500\n",
      "\u001b[1m69/69\u001b[0m \u001b[32m━━━━━━━━━━━━━━━━━━━━\u001b[0m\u001b[37m\u001b[0m \u001b[1m0s\u001b[0m 2ms/step - dense_2_loss: 0.3883 - dense_3_loss: 0.1879 - dense_4_loss: 0.0490 - loss: 0.6251\n",
      "Epoch 474/500\n",
      "\u001b[1m69/69\u001b[0m \u001b[32m━━━━━━━━━━━━━━━━━━━━\u001b[0m\u001b[37m\u001b[0m \u001b[1m0s\u001b[0m 2ms/step - dense_2_loss: 0.4219 - dense_3_loss: 0.2426 - dense_4_loss: 0.0558 - loss: 0.7205\n",
      "Epoch 475/500\n",
      "\u001b[1m69/69\u001b[0m \u001b[32m━━━━━━━━━━━━━━━━━━━━\u001b[0m\u001b[37m\u001b[0m \u001b[1m0s\u001b[0m 3ms/step - dense_2_loss: 0.7071 - dense_3_loss: 0.3643 - dense_4_loss: 0.0532 - loss: 1.1248\n",
      "Epoch 476/500\n",
      "\u001b[1m69/69\u001b[0m \u001b[32m━━━━━━━━━━━━━━━━━━━━\u001b[0m\u001b[37m\u001b[0m \u001b[1m0s\u001b[0m 2ms/step - dense_2_loss: 0.5874 - dense_3_loss: 0.3241 - dense_4_loss: 0.0644 - loss: 0.9761\n",
      "Epoch 477/500\n",
      "\u001b[1m69/69\u001b[0m \u001b[32m━━━━━━━━━━━━━━━━━━━━\u001b[0m\u001b[37m\u001b[0m \u001b[1m0s\u001b[0m 2ms/step - dense_2_loss: 0.8769 - dense_3_loss: 0.4493 - dense_4_loss: 0.0765 - loss: 1.4027\n",
      "Epoch 478/500\n",
      "\u001b[1m69/69\u001b[0m \u001b[32m━━━━━━━━━━━━━━━━━━━━\u001b[0m\u001b[37m\u001b[0m \u001b[1m0s\u001b[0m 2ms/step - dense_2_loss: 0.6776 - dense_3_loss: 0.3695 - dense_4_loss: 0.0681 - loss: 1.1148\n",
      "Epoch 479/500\n",
      "\u001b[1m69/69\u001b[0m \u001b[32m━━━━━━━━━━━━━━━━━━━━\u001b[0m\u001b[37m\u001b[0m \u001b[1m0s\u001b[0m 3ms/step - dense_2_loss: 0.3447 - dense_3_loss: 0.2024 - dense_4_loss: 0.0503 - loss: 0.5974\n",
      "Epoch 480/500\n",
      "\u001b[1m69/69\u001b[0m \u001b[32m━━━━━━━━━━━━━━━━━━━━\u001b[0m\u001b[37m\u001b[0m \u001b[1m0s\u001b[0m 2ms/step - dense_2_loss: 0.4212 - dense_3_loss: 0.2417 - dense_4_loss: 0.0732 - loss: 0.7363\n",
      "Epoch 481/500\n",
      "\u001b[1m69/69\u001b[0m \u001b[32m━━━━━━━━━━━━━━━━━━━━\u001b[0m\u001b[37m\u001b[0m \u001b[1m0s\u001b[0m 2ms/step - dense_2_loss: 0.8566 - dense_3_loss: 0.4626 - dense_4_loss: 0.0702 - loss: 1.3878\n",
      "Epoch 482/500\n",
      "\u001b[1m69/69\u001b[0m \u001b[32m━━━━━━━━━━━━━━━━━━━━\u001b[0m\u001b[37m\u001b[0m \u001b[1m0s\u001b[0m 2ms/step - dense_2_loss: 0.6438 - dense_3_loss: 0.3499 - dense_4_loss: 0.0737 - loss: 1.0666\n",
      "Epoch 483/500\n",
      "\u001b[1m69/69\u001b[0m \u001b[32m━━━━━━━━━━━━━━━━━━━━\u001b[0m\u001b[37m\u001b[0m \u001b[1m0s\u001b[0m 2ms/step - dense_2_loss: 0.3796 - dense_3_loss: 0.2188 - dense_4_loss: 0.0474 - loss: 0.6452\n",
      "Epoch 484/500\n",
      "\u001b[1m69/69\u001b[0m \u001b[32m━━━━━━━━━━━━━━━━━━━━\u001b[0m\u001b[37m\u001b[0m \u001b[1m0s\u001b[0m 3ms/step - dense_2_loss: 1.0368 - dense_3_loss: 0.5342 - dense_4_loss: 0.0712 - loss: 1.6424\n",
      "Epoch 485/500\n",
      "\u001b[1m69/69\u001b[0m \u001b[32m━━━━━━━━━━━━━━━━━━━━\u001b[0m\u001b[37m\u001b[0m \u001b[1m0s\u001b[0m 2ms/step - dense_2_loss: 0.5571 - dense_3_loss: 0.2982 - dense_4_loss: 0.0592 - loss: 0.9147\n",
      "Epoch 486/500\n",
      "\u001b[1m69/69\u001b[0m \u001b[32m━━━━━━━━━━━━━━━━━━━━\u001b[0m\u001b[37m\u001b[0m \u001b[1m0s\u001b[0m 2ms/step - dense_2_loss: 0.5308 - dense_3_loss: 0.3346 - dense_4_loss: 0.0724 - loss: 0.9380\n",
      "Epoch 487/500\n",
      "\u001b[1m69/69\u001b[0m \u001b[32m━━━━━━━━━━━━━━━━━━━━\u001b[0m\u001b[37m\u001b[0m \u001b[1m0s\u001b[0m 3ms/step - dense_2_loss: 0.4407 - dense_3_loss: 0.2396 - dense_4_loss: 0.0629 - loss: 0.7434\n",
      "Epoch 488/500\n",
      "\u001b[1m69/69\u001b[0m \u001b[32m━━━━━━━━━━━━━━━━━━━━\u001b[0m\u001b[37m\u001b[0m \u001b[1m0s\u001b[0m 2ms/step - dense_2_loss: 0.4938 - dense_3_loss: 0.2524 - dense_4_loss: 0.0731 - loss: 0.8194\n",
      "Epoch 489/500\n",
      "\u001b[1m69/69\u001b[0m \u001b[32m━━━━━━━━━━━━━━━━━━━━\u001b[0m\u001b[37m\u001b[0m \u001b[1m0s\u001b[0m 2ms/step - dense_2_loss: 0.6494 - dense_3_loss: 0.3337 - dense_4_loss: 0.0720 - loss: 1.0553\n",
      "Epoch 490/500\n",
      "\u001b[1m69/69\u001b[0m \u001b[32m━━━━━━━━━━━━━━━━━━━━\u001b[0m\u001b[37m\u001b[0m \u001b[1m0s\u001b[0m 2ms/step - dense_2_loss: 1.2298 - dense_3_loss: 0.6072 - dense_4_loss: 0.0741 - loss: 1.9114\n",
      "Epoch 491/500\n",
      "\u001b[1m69/69\u001b[0m \u001b[32m━━━━━━━━━━━━━━━━━━━━\u001b[0m\u001b[37m\u001b[0m \u001b[1m0s\u001b[0m 2ms/step - dense_2_loss: 0.6375 - dense_3_loss: 0.3231 - dense_4_loss: 0.0777 - loss: 1.0385\n",
      "Epoch 492/500\n",
      "\u001b[1m69/69\u001b[0m \u001b[32m━━━━━━━━━━━━━━━━━━━━\u001b[0m\u001b[37m\u001b[0m \u001b[1m0s\u001b[0m 2ms/step - dense_2_loss: 0.4934 - dense_3_loss: 0.2754 - dense_4_loss: 0.0646 - loss: 0.8334\n",
      "Epoch 493/500\n",
      "\u001b[1m69/69\u001b[0m \u001b[32m━━━━━━━━━━━━━━━━━━━━\u001b[0m\u001b[37m\u001b[0m \u001b[1m0s\u001b[0m 2ms/step - dense_2_loss: 0.4698 - dense_3_loss: 0.2780 - dense_4_loss: 0.0638 - loss: 0.8115\n",
      "Epoch 494/500\n",
      "\u001b[1m69/69\u001b[0m \u001b[32m━━━━━━━━━━━━━━━━━━━━\u001b[0m\u001b[37m\u001b[0m \u001b[1m0s\u001b[0m 3ms/step - dense_2_loss: 0.5605 - dense_3_loss: 0.2618 - dense_4_loss: 0.0657 - loss: 0.8881\n",
      "Epoch 495/500\n",
      "\u001b[1m69/69\u001b[0m \u001b[32m━━━━━━━━━━━━━━━━━━━━\u001b[0m\u001b[37m\u001b[0m \u001b[1m0s\u001b[0m 2ms/step - dense_2_loss: 0.5157 - dense_3_loss: 0.2836 - dense_4_loss: 0.0579 - loss: 0.8570\n",
      "Epoch 496/500\n",
      "\u001b[1m69/69\u001b[0m \u001b[32m━━━━━━━━━━━━━━━━━━━━\u001b[0m\u001b[37m\u001b[0m \u001b[1m0s\u001b[0m 2ms/step - dense_2_loss: 0.5099 - dense_3_loss: 0.2571 - dense_4_loss: 0.0539 - loss: 0.8212\n",
      "Epoch 497/500\n",
      "\u001b[1m69/69\u001b[0m \u001b[32m━━━━━━━━━━━━━━━━━━━━\u001b[0m\u001b[37m\u001b[0m \u001b[1m0s\u001b[0m 2ms/step - dense_2_loss: 0.6420 - dense_3_loss: 0.3496 - dense_4_loss: 0.0679 - loss: 1.0580\n",
      "Epoch 498/500\n",
      "\u001b[1m69/69\u001b[0m \u001b[32m━━━━━━━━━━━━━━━━━━━━\u001b[0m\u001b[37m\u001b[0m \u001b[1m0s\u001b[0m 2ms/step - dense_2_loss: 0.5057 - dense_3_loss: 0.2809 - dense_4_loss: 0.0758 - loss: 0.8626\n",
      "Epoch 499/500\n",
      "\u001b[1m69/69\u001b[0m \u001b[32m━━━━━━━━━━━━━━━━━━━━\u001b[0m\u001b[37m\u001b[0m \u001b[1m0s\u001b[0m 2ms/step - dense_2_loss: 0.8861 - dense_3_loss: 0.4012 - dense_4_loss: 0.0572 - loss: 1.3448\n",
      "Epoch 500/500\n",
      "\u001b[1m69/69\u001b[0m \u001b[32m━━━━━━━━━━━━━━━━━━━━\u001b[0m\u001b[37m\u001b[0m \u001b[1m0s\u001b[0m 2ms/step - dense_2_loss: 0.5785 - dense_3_loss: 0.2907 - dense_4_loss: 0.0530 - loss: 0.9224\n"
     ]
    },
    {
     "data": {
      "text/plain": [
       "<keras.src.callbacks.history.History at 0x2a0502a9390>"
      ]
     },
     "execution_count": 30,
     "metadata": {},
     "output_type": "execute_result"
    }
   ],
   "source": [
    "regressor.fit(X, [y_na, y_eu, y_jp], epochs=500, batch_size=100)"
   ]
  },
  {
   "cell_type": "code",
   "execution_count": 31,
   "metadata": {
    "colab": {
     "base_uri": "https://localhost:8080/"
    },
    "executionInfo": {
     "elapsed": 1086,
     "status": "ok",
     "timestamp": 1719506364292,
     "user": {
      "displayName": "Jones Granatyr",
      "userId": "10042675233362078631"
     },
     "user_tz": 180
    },
    "id": "VHmoo7YVkAdn",
    "outputId": "36d4378b-2a33-4977-e8f3-efb142dcdd76"
   },
   "outputs": [
    {
     "name": "stdout",
     "output_type": "stream",
     "text": [
      "\u001b[1m214/214\u001b[0m \u001b[32m━━━━━━━━━━━━━━━━━━━━\u001b[0m\u001b[37m\u001b[0m \u001b[1m0s\u001b[0m 1ms/step\n"
     ]
    }
   ],
   "source": [
    "previsao_na, previsao_eu, previsao_jp = regressor.predict(X) # Testando o modelo com os próprios dados de treinamento"
   ]
  },
  {
   "cell_type": "code",
   "execution_count": 32,
   "metadata": {
    "colab": {
     "base_uri": "https://localhost:8080/"
    },
    "executionInfo": {
     "elapsed": 288,
     "status": "ok",
     "timestamp": 1719506406152,
     "user": {
      "displayName": "Jones Granatyr",
      "userId": "10042675233362078631"
     },
     "user_tz": 180
    },
    "id": "9iD8uPcPkPBn",
    "outputId": "c9e0c1c4-c0f9-46c6-c3d7-6e37a2da73b3"
   },
   "outputs": [
    {
     "data": {
      "text/plain": [
       "(array([[ 6.183502  ],\n",
       "        [ 5.241153  ],\n",
       "        [ 4.1079545 ],\n",
       "        ...,\n",
       "        [-0.29109827],\n",
       "        [ 0.08104491],\n",
       "        [ 0.0444997 ]], dtype=float32),\n",
       " 0.47349498)"
      ]
     },
     "execution_count": 32,
     "metadata": {},
     "output_type": "execute_result"
    }
   ],
   "source": [
    "previsao_na, previsao_na.mean()"
   ]
  },
  {
   "cell_type": "code",
   "execution_count": 33,
   "metadata": {
    "colab": {
     "base_uri": "https://localhost:8080/"
    },
    "executionInfo": {
     "elapsed": 261,
     "status": "ok",
     "timestamp": 1719506425395,
     "user": {
      "displayName": "Jones Granatyr",
      "userId": "10042675233362078631"
     },
     "user_tz": 180
    },
    "id": "diUGr2wikT-S",
    "outputId": "f9cecbd0-13ba-457e-c4f2-d9f3776b445b"
   },
   "outputs": [
    {
     "data": {
      "text/plain": [
       "(array([4.136e+01, 1.568e+01, 1.561e+01, ..., 0.000e+00, 1.000e-02,\n",
       "        0.000e+00]),\n",
       " 0.3944835164835165)"
      ]
     },
     "execution_count": 33,
     "metadata": {},
     "output_type": "execute_result"
    }
   ],
   "source": [
    "y_na, y_na.mean()"
   ]
  },
  {
   "cell_type": "code",
   "execution_count": 34,
   "metadata": {
    "id": "qCdh94yYkfwO"
   },
   "outputs": [],
   "source": [
    "from sklearn.metrics import mean_absolute_error"
   ]
  },
  {
   "cell_type": "code",
   "execution_count": 35,
   "metadata": {
    "colab": {
     "base_uri": "https://localhost:8080/"
    },
    "executionInfo": {
     "elapsed": 314,
     "status": "ok",
     "timestamp": 1719506466383,
     "user": {
      "displayName": "Jones Granatyr",
      "userId": "10042675233362078631"
     },
     "user_tz": 180
    },
    "id": "9ojMyiU7kjtX",
    "outputId": "640a77ba-a581-4538-d937-8092deb03a41"
   },
   "outputs": [
    {
     "data": {
      "text/plain": [
       "0.3225100472481696"
      ]
     },
     "execution_count": 35,
     "metadata": {},
     "output_type": "execute_result"
    }
   ],
   "source": [
    "mean_absolute_error(y_na, previsao_na) # Quando a rede neural fizer uma previsão, ela errará em média 0.32 para a previsão da América do Norte"
   ]
  },
  {
   "cell_type": "code",
   "execution_count": 36,
   "metadata": {
    "colab": {
     "base_uri": "https://localhost:8080/"
    },
    "executionInfo": {
     "elapsed": 399,
     "status": "ok",
     "timestamp": 1719506509157,
     "user": {
      "displayName": "Jones Granatyr",
      "userId": "10042675233362078631"
     },
     "user_tz": 180
    },
    "id": "AJ7RA5mDksm4",
    "outputId": "a0301d6d-1f64-4785-e997-1ae5326b7e56"
   },
   "outputs": [
    {
     "data": {
      "text/plain": [
       "(array([[4.2102094 ],\n",
       "        [3.499757  ],\n",
       "        [2.5971322 ],\n",
       "        ...,\n",
       "        [0.01210006],\n",
       "        [0.03780045],\n",
       "        [0.014507  ]], dtype=float32),\n",
       " 0.2892797)"
      ]
     },
     "execution_count": 36,
     "metadata": {},
     "output_type": "execute_result"
    }
   ],
   "source": [
    "previsao_eu, previsao_eu.mean()"
   ]
  },
  {
   "cell_type": "code",
   "execution_count": 37,
   "metadata": {
    "colab": {
     "base_uri": "https://localhost:8080/"
    },
    "executionInfo": {
     "elapsed": 5,
     "status": "ok",
     "timestamp": 1719506523605,
     "user": {
      "displayName": "Jones Granatyr",
      "userId": "10042675233362078631"
     },
     "user_tz": 180
    },
    "id": "IP6kO0D_kyZv",
    "outputId": "43a04d0a-41c0-40f4-e600-c8e767cb8dea"
   },
   "outputs": [
    {
     "data": {
      "text/plain": [
       "(array([2.896e+01, 1.276e+01, 1.093e+01, ..., 1.000e-02, 0.000e+00,\n",
       "        1.000e-02]),\n",
       " 0.23608937728937732)"
      ]
     },
     "execution_count": 37,
     "metadata": {},
     "output_type": "execute_result"
    }
   ],
   "source": [
    "y_eu, y_eu.mean()"
   ]
  },
  {
   "cell_type": "code",
   "execution_count": 38,
   "metadata": {
    "colab": {
     "base_uri": "https://localhost:8080/"
    },
    "executionInfo": {
     "elapsed": 292,
     "status": "ok",
     "timestamp": 1719506596489,
     "user": {
      "displayName": "Jones Granatyr",
      "userId": "10042675233362078631"
     },
     "user_tz": 180
    },
    "id": "pd3baBO_lDVn",
    "outputId": "aa31d88e-cb66-4c81-968e-11333f573d9b"
   },
   "outputs": [
    {
     "data": {
      "text/plain": [
       "0.22454100766815108"
      ]
     },
     "execution_count": 38,
     "metadata": {},
     "output_type": "execute_result"
    }
   ],
   "source": [
    "mean_absolute_error(y_eu, previsao_eu)"
   ]
  },
  {
   "cell_type": "code",
   "execution_count": 39,
   "metadata": {
    "colab": {
     "base_uri": "https://localhost:8080/"
    },
    "executionInfo": {
     "elapsed": 369,
     "status": "ok",
     "timestamp": 1719506548353,
     "user": {
      "displayName": "Jones Granatyr",
      "userId": "10042675233362078631"
     },
     "user_tz": 180
    },
    "id": "TKHUF13dk4Ps",
    "outputId": "58c95c5f-5fd2-486a-b7a4-0efda7122d37"
   },
   "outputs": [
    {
     "data": {
      "text/plain": [
       "(array([[ 1.659661  ],\n",
       "        [ 1.3950778 ],\n",
       "        [ 1.1259577 ],\n",
       "        ...,\n",
       "        [-0.0136299 ],\n",
       "        [ 0.00764441],\n",
       "        [-0.00773841]], dtype=float32),\n",
       " 0.10616828)"
      ]
     },
     "execution_count": 39,
     "metadata": {},
     "output_type": "execute_result"
    }
   ],
   "source": [
    "previsao_jp, previsao_jp.mean()"
   ]
  },
  {
   "cell_type": "code",
   "execution_count": 40,
   "metadata": {
    "colab": {
     "base_uri": "https://localhost:8080/"
    },
    "executionInfo": {
     "elapsed": 5,
     "status": "ok",
     "timestamp": 1719506563323,
     "user": {
      "displayName": "Jones Granatyr",
      "userId": "10042675233362078631"
     },
     "user_tz": 180
    },
    "id": "YTOYsrgqk808",
    "outputId": "886568d1-0d06-4586-9338-9dffbcd86f80"
   },
   "outputs": [
    {
     "data": {
      "text/plain": [
       "(array([3.77, 3.79, 3.28, ..., 0.  , 0.  , 0.  ]), 0.06415824175824175)"
      ]
     },
     "execution_count": 40,
     "metadata": {},
     "output_type": "execute_result"
    }
   ],
   "source": [
    "y_jp, y_jp.mean()"
   ]
  },
  {
   "cell_type": "code",
   "execution_count": 42,
   "metadata": {
    "colab": {
     "base_uri": "https://localhost:8080/"
    },
    "executionInfo": {
     "elapsed": 321,
     "status": "ok",
     "timestamp": 1719506629073,
     "user": {
      "displayName": "Jones Granatyr",
      "userId": "10042675233362078631"
     },
     "user_tz": 180
    },
    "id": "bX8WO6BylMAR",
    "outputId": "52bbc4aa-7601-4653-bc92-f50c25d1ac5a"
   },
   "outputs": [
    {
     "data": {
      "text/plain": [
       "0.1189478561075179"
      ]
     },
     "execution_count": 42,
     "metadata": {},
     "output_type": "execute_result"
    }
   ],
   "source": [
    "mean_absolute_error(y_jp, previsao_jp)"
   ]
  }
 ],
 "metadata": {
  "colab": {
   "provenance": []
  },
  "kernelspec": {
   "display_name": "Python 3",
   "name": "python3"
  },
  "language_info": {
   "codemirror_mode": {
    "name": "ipython",
    "version": 3
   },
   "file_extension": ".py",
   "mimetype": "text/x-python",
   "name": "python",
   "nbconvert_exporter": "python",
   "pygments_lexer": "ipython3",
   "version": "3.11.9"
  }
 },
 "nbformat": 4,
 "nbformat_minor": 0
}
