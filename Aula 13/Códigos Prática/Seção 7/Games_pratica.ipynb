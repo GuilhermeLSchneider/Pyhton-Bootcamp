{
 "cells": [
  {
   "cell_type": "markdown",
   "metadata": {
    "id": "5KfkFZ2SrYgD"
   },
   "source": [
    "# Aplicação do Dropout na rede neural para verificar viabilidade"
   ]
  },
  {
   "cell_type": "code",
   "execution_count": 1,
   "metadata": {
    "id": "sndBP_WU3oh3"
   },
   "outputs": [],
   "source": [
    "import pandas as pd\n",
    "import tensorflow as tf\n",
    "import sklearn"
   ]
  },
  {
   "cell_type": "code",
   "execution_count": 2,
   "metadata": {
    "id": "TUDuIiNF4ET5"
   },
   "outputs": [],
   "source": [
    "from tensorflow.keras.layers import Dense, Dropout, Activation, Input\n",
    "from tensorflow.keras.models import Model # Utilizaremos a Model ao invés de Sequential\n",
    "from sklearn.preprocessing import OneHotEncoder\n",
    "from sklearn.compose import ColumnTransformer"
   ]
  },
  {
   "cell_type": "code",
   "execution_count": 3,
   "metadata": {
    "colab": {
     "base_uri": "https://localhost:8080/",
     "height": 604
    },
    "executionInfo": {
     "elapsed": 13,
     "status": "ok",
     "timestamp": 1719505536789,
     "user": {
      "displayName": "Jones Granatyr",
      "userId": "10042675233362078631"
     },
     "user_tz": 180
    },
    "id": "5enkMqvI4euw",
    "outputId": "0a212b81-5117-483d-e738-6c2f3af4ea2d"
   },
   "outputs": [
    {
     "data": {
      "text/html": [
       "<div>\n",
       "<style scoped>\n",
       "    .dataframe tbody tr th:only-of-type {\n",
       "        vertical-align: middle;\n",
       "    }\n",
       "\n",
       "    .dataframe tbody tr th {\n",
       "        vertical-align: top;\n",
       "    }\n",
       "\n",
       "    .dataframe thead th {\n",
       "        text-align: right;\n",
       "    }\n",
       "</style>\n",
       "<table border=\"1\" class=\"dataframe\">\n",
       "  <thead>\n",
       "    <tr style=\"text-align: right;\">\n",
       "      <th></th>\n",
       "      <th>Name</th>\n",
       "      <th>Platform</th>\n",
       "      <th>Year_of_Release</th>\n",
       "      <th>Genre</th>\n",
       "      <th>Publisher</th>\n",
       "      <th>NA_Sales</th>\n",
       "      <th>EU_Sales</th>\n",
       "      <th>JP_Sales</th>\n",
       "      <th>Other_Sales</th>\n",
       "      <th>Global_Sales</th>\n",
       "      <th>Critic_Score</th>\n",
       "      <th>Critic_Count</th>\n",
       "      <th>User_Score</th>\n",
       "      <th>User_Count</th>\n",
       "      <th>Developer</th>\n",
       "      <th>Rating</th>\n",
       "    </tr>\n",
       "  </thead>\n",
       "  <tbody>\n",
       "    <tr>\n",
       "      <th>0</th>\n",
       "      <td>Wii Sports</td>\n",
       "      <td>Wii</td>\n",
       "      <td>2006.0</td>\n",
       "      <td>Sports</td>\n",
       "      <td>Nintendo</td>\n",
       "      <td>41.36</td>\n",
       "      <td>28.96</td>\n",
       "      <td>3.77</td>\n",
       "      <td>8.45</td>\n",
       "      <td>82.53</td>\n",
       "      <td>76.0</td>\n",
       "      <td>51.0</td>\n",
       "      <td>8</td>\n",
       "      <td>322.0</td>\n",
       "      <td>Nintendo</td>\n",
       "      <td>E</td>\n",
       "    </tr>\n",
       "    <tr>\n",
       "      <th>1</th>\n",
       "      <td>Super Mario Bros.</td>\n",
       "      <td>NES</td>\n",
       "      <td>1985.0</td>\n",
       "      <td>Platform</td>\n",
       "      <td>Nintendo</td>\n",
       "      <td>29.08</td>\n",
       "      <td>3.58</td>\n",
       "      <td>6.81</td>\n",
       "      <td>0.77</td>\n",
       "      <td>40.24</td>\n",
       "      <td>NaN</td>\n",
       "      <td>NaN</td>\n",
       "      <td>NaN</td>\n",
       "      <td>NaN</td>\n",
       "      <td>NaN</td>\n",
       "      <td>NaN</td>\n",
       "    </tr>\n",
       "    <tr>\n",
       "      <th>2</th>\n",
       "      <td>Mario Kart Wii</td>\n",
       "      <td>Wii</td>\n",
       "      <td>2008.0</td>\n",
       "      <td>Racing</td>\n",
       "      <td>Nintendo</td>\n",
       "      <td>15.68</td>\n",
       "      <td>12.76</td>\n",
       "      <td>3.79</td>\n",
       "      <td>3.29</td>\n",
       "      <td>35.52</td>\n",
       "      <td>82.0</td>\n",
       "      <td>73.0</td>\n",
       "      <td>8.3</td>\n",
       "      <td>709.0</td>\n",
       "      <td>Nintendo</td>\n",
       "      <td>E</td>\n",
       "    </tr>\n",
       "    <tr>\n",
       "      <th>3</th>\n",
       "      <td>Wii Sports Resort</td>\n",
       "      <td>Wii</td>\n",
       "      <td>2009.0</td>\n",
       "      <td>Sports</td>\n",
       "      <td>Nintendo</td>\n",
       "      <td>15.61</td>\n",
       "      <td>10.93</td>\n",
       "      <td>3.28</td>\n",
       "      <td>2.95</td>\n",
       "      <td>32.77</td>\n",
       "      <td>80.0</td>\n",
       "      <td>73.0</td>\n",
       "      <td>8</td>\n",
       "      <td>192.0</td>\n",
       "      <td>Nintendo</td>\n",
       "      <td>E</td>\n",
       "    </tr>\n",
       "    <tr>\n",
       "      <th>4</th>\n",
       "      <td>Pokemon Red/Pokemon Blue</td>\n",
       "      <td>GB</td>\n",
       "      <td>1996.0</td>\n",
       "      <td>Role-Playing</td>\n",
       "      <td>Nintendo</td>\n",
       "      <td>11.27</td>\n",
       "      <td>8.89</td>\n",
       "      <td>10.22</td>\n",
       "      <td>1.00</td>\n",
       "      <td>31.37</td>\n",
       "      <td>NaN</td>\n",
       "      <td>NaN</td>\n",
       "      <td>NaN</td>\n",
       "      <td>NaN</td>\n",
       "      <td>NaN</td>\n",
       "      <td>NaN</td>\n",
       "    </tr>\n",
       "    <tr>\n",
       "      <th>...</th>\n",
       "      <td>...</td>\n",
       "      <td>...</td>\n",
       "      <td>...</td>\n",
       "      <td>...</td>\n",
       "      <td>...</td>\n",
       "      <td>...</td>\n",
       "      <td>...</td>\n",
       "      <td>...</td>\n",
       "      <td>...</td>\n",
       "      <td>...</td>\n",
       "      <td>...</td>\n",
       "      <td>...</td>\n",
       "      <td>...</td>\n",
       "      <td>...</td>\n",
       "      <td>...</td>\n",
       "      <td>...</td>\n",
       "    </tr>\n",
       "    <tr>\n",
       "      <th>16714</th>\n",
       "      <td>Samurai Warriors: Sanada Maru</td>\n",
       "      <td>PS3</td>\n",
       "      <td>2016.0</td>\n",
       "      <td>Action</td>\n",
       "      <td>Tecmo Koei</td>\n",
       "      <td>0.00</td>\n",
       "      <td>0.00</td>\n",
       "      <td>0.01</td>\n",
       "      <td>0.00</td>\n",
       "      <td>0.01</td>\n",
       "      <td>NaN</td>\n",
       "      <td>NaN</td>\n",
       "      <td>NaN</td>\n",
       "      <td>NaN</td>\n",
       "      <td>NaN</td>\n",
       "      <td>NaN</td>\n",
       "    </tr>\n",
       "    <tr>\n",
       "      <th>16715</th>\n",
       "      <td>LMA Manager 2007</td>\n",
       "      <td>X360</td>\n",
       "      <td>2006.0</td>\n",
       "      <td>Sports</td>\n",
       "      <td>Codemasters</td>\n",
       "      <td>0.00</td>\n",
       "      <td>0.01</td>\n",
       "      <td>0.00</td>\n",
       "      <td>0.00</td>\n",
       "      <td>0.01</td>\n",
       "      <td>NaN</td>\n",
       "      <td>NaN</td>\n",
       "      <td>NaN</td>\n",
       "      <td>NaN</td>\n",
       "      <td>NaN</td>\n",
       "      <td>NaN</td>\n",
       "    </tr>\n",
       "    <tr>\n",
       "      <th>16716</th>\n",
       "      <td>Haitaka no Psychedelica</td>\n",
       "      <td>PSV</td>\n",
       "      <td>2016.0</td>\n",
       "      <td>Adventure</td>\n",
       "      <td>Idea Factory</td>\n",
       "      <td>0.00</td>\n",
       "      <td>0.00</td>\n",
       "      <td>0.01</td>\n",
       "      <td>0.00</td>\n",
       "      <td>0.01</td>\n",
       "      <td>NaN</td>\n",
       "      <td>NaN</td>\n",
       "      <td>NaN</td>\n",
       "      <td>NaN</td>\n",
       "      <td>NaN</td>\n",
       "      <td>NaN</td>\n",
       "    </tr>\n",
       "    <tr>\n",
       "      <th>16717</th>\n",
       "      <td>Spirits &amp; Spells</td>\n",
       "      <td>GBA</td>\n",
       "      <td>2003.0</td>\n",
       "      <td>Platform</td>\n",
       "      <td>Wanadoo</td>\n",
       "      <td>0.01</td>\n",
       "      <td>0.00</td>\n",
       "      <td>0.00</td>\n",
       "      <td>0.00</td>\n",
       "      <td>0.01</td>\n",
       "      <td>NaN</td>\n",
       "      <td>NaN</td>\n",
       "      <td>NaN</td>\n",
       "      <td>NaN</td>\n",
       "      <td>NaN</td>\n",
       "      <td>NaN</td>\n",
       "    </tr>\n",
       "    <tr>\n",
       "      <th>16718</th>\n",
       "      <td>Winning Post 8 2016</td>\n",
       "      <td>PSV</td>\n",
       "      <td>2016.0</td>\n",
       "      <td>Simulation</td>\n",
       "      <td>Tecmo Koei</td>\n",
       "      <td>0.00</td>\n",
       "      <td>0.00</td>\n",
       "      <td>0.01</td>\n",
       "      <td>0.00</td>\n",
       "      <td>0.01</td>\n",
       "      <td>NaN</td>\n",
       "      <td>NaN</td>\n",
       "      <td>NaN</td>\n",
       "      <td>NaN</td>\n",
       "      <td>NaN</td>\n",
       "      <td>NaN</td>\n",
       "    </tr>\n",
       "  </tbody>\n",
       "</table>\n",
       "<p>16719 rows × 16 columns</p>\n",
       "</div>"
      ],
      "text/plain": [
       "                                Name Platform  Year_of_Release         Genre  \\\n",
       "0                         Wii Sports      Wii           2006.0        Sports   \n",
       "1                  Super Mario Bros.      NES           1985.0      Platform   \n",
       "2                     Mario Kart Wii      Wii           2008.0        Racing   \n",
       "3                  Wii Sports Resort      Wii           2009.0        Sports   \n",
       "4           Pokemon Red/Pokemon Blue       GB           1996.0  Role-Playing   \n",
       "...                              ...      ...              ...           ...   \n",
       "16714  Samurai Warriors: Sanada Maru      PS3           2016.0        Action   \n",
       "16715               LMA Manager 2007     X360           2006.0        Sports   \n",
       "16716        Haitaka no Psychedelica      PSV           2016.0     Adventure   \n",
       "16717               Spirits & Spells      GBA           2003.0      Platform   \n",
       "16718            Winning Post 8 2016      PSV           2016.0    Simulation   \n",
       "\n",
       "          Publisher  NA_Sales  EU_Sales  JP_Sales  Other_Sales  Global_Sales  \\\n",
       "0          Nintendo     41.36     28.96      3.77         8.45         82.53   \n",
       "1          Nintendo     29.08      3.58      6.81         0.77         40.24   \n",
       "2          Nintendo     15.68     12.76      3.79         3.29         35.52   \n",
       "3          Nintendo     15.61     10.93      3.28         2.95         32.77   \n",
       "4          Nintendo     11.27      8.89     10.22         1.00         31.37   \n",
       "...             ...       ...       ...       ...          ...           ...   \n",
       "16714    Tecmo Koei      0.00      0.00      0.01         0.00          0.01   \n",
       "16715   Codemasters      0.00      0.01      0.00         0.00          0.01   \n",
       "16716  Idea Factory      0.00      0.00      0.01         0.00          0.01   \n",
       "16717       Wanadoo      0.01      0.00      0.00         0.00          0.01   \n",
       "16718    Tecmo Koei      0.00      0.00      0.01         0.00          0.01   \n",
       "\n",
       "       Critic_Score  Critic_Count User_Score  User_Count Developer Rating  \n",
       "0              76.0          51.0          8       322.0  Nintendo      E  \n",
       "1               NaN           NaN        NaN         NaN       NaN    NaN  \n",
       "2              82.0          73.0        8.3       709.0  Nintendo      E  \n",
       "3              80.0          73.0          8       192.0  Nintendo      E  \n",
       "4               NaN           NaN        NaN         NaN       NaN    NaN  \n",
       "...             ...           ...        ...         ...       ...    ...  \n",
       "16714           NaN           NaN        NaN         NaN       NaN    NaN  \n",
       "16715           NaN           NaN        NaN         NaN       NaN    NaN  \n",
       "16716           NaN           NaN        NaN         NaN       NaN    NaN  \n",
       "16717           NaN           NaN        NaN         NaN       NaN    NaN  \n",
       "16718           NaN           NaN        NaN         NaN       NaN    NaN  \n",
       "\n",
       "[16719 rows x 16 columns]"
      ]
     },
     "execution_count": 3,
     "metadata": {},
     "output_type": "execute_result"
    }
   ],
   "source": [
    "# https://www.kaggle.com/datasets/gregorut/videogamesales\n",
    "base = pd.read_csv('games.csv')\n",
    "base"
   ]
  },
  {
   "cell_type": "code",
   "execution_count": 4,
   "metadata": {
    "id": "QtaVxizk5uBr"
   },
   "outputs": [],
   "source": [
    "# Removendo colunas que não serão utilizadas\n",
    "base = base.drop('Other_Sales', axis = 1)\n",
    "base = base.drop('Global_Sales', axis = 1)\n",
    "base = base.drop('Developer', axis = 1)"
   ]
  },
  {
   "cell_type": "code",
   "execution_count": 6,
   "metadata": {
    "colab": {
     "base_uri": "https://localhost:8080/"
    },
    "executionInfo": {
     "elapsed": 10,
     "status": "ok",
     "timestamp": 1719505536790,
     "user": {
      "displayName": "Jones Granatyr",
      "userId": "10042675233362078631"
     },
     "user_tz": 180
    },
    "id": "z8tvprnr6E5p",
    "outputId": "d0d103f4-b69c-4fcf-d3b4-205bbaf64669"
   },
   "outputs": [
    {
     "data": {
      "text/plain": [
       "(16719, 13)"
      ]
     },
     "execution_count": 6,
     "metadata": {},
     "output_type": "execute_result"
    }
   ],
   "source": [
    "base.shape"
   ]
  },
  {
   "cell_type": "markdown",
   "metadata": {},
   "source": [
    "# Processamento da base de dados"
   ]
  },
  {
   "cell_type": "code",
   "execution_count": 5,
   "metadata": {
    "colab": {
     "base_uri": "https://localhost:8080/"
    },
    "executionInfo": {
     "elapsed": 8,
     "status": "ok",
     "timestamp": 1719505536790,
     "user": {
      "displayName": "Jones Granatyr",
      "userId": "10042675233362078631"
     },
     "user_tz": 180
    },
    "id": "NpEPhyNf73K2",
    "outputId": "df8c1a6a-fd72-4655-d425-c6fa6449a125"
   },
   "outputs": [
    {
     "data": {
      "text/plain": [
       "Name                  2\n",
       "Platform              0\n",
       "Year_of_Release     269\n",
       "Genre                 2\n",
       "Publisher            54\n",
       "NA_Sales              0\n",
       "EU_Sales              0\n",
       "JP_Sales              0\n",
       "Critic_Score       8582\n",
       "Critic_Count       8582\n",
       "User_Score         6704\n",
       "User_Count         9129\n",
       "Rating             6769\n",
       "dtype: int64"
      ]
     },
     "execution_count": 5,
     "metadata": {},
     "output_type": "execute_result"
    }
   ],
   "source": [
    "base.isnull().sum()"
   ]
  },
  {
   "cell_type": "code",
   "execution_count": 7,
   "metadata": {
    "id": "H1ZeobG88W8G"
   },
   "outputs": [],
   "source": [
    "base = base.dropna(axis = 0) # Removendo linhas com valores nulos"
   ]
  },
  {
   "cell_type": "code",
   "execution_count": 8,
   "metadata": {
    "colab": {
     "base_uri": "https://localhost:8080/"
    },
    "executionInfo": {
     "elapsed": 6,
     "status": "ok",
     "timestamp": 1719505536790,
     "user": {
      "displayName": "Jones Granatyr",
      "userId": "10042675233362078631"
     },
     "user_tz": 180
    },
    "id": "P9FYgmwO8bLa",
    "outputId": "0b969a2d-7633-4e27-a327-4216efa99173"
   },
   "outputs": [
    {
     "data": {
      "text/plain": [
       "(6825, 13)"
      ]
     },
     "execution_count": 8,
     "metadata": {},
     "output_type": "execute_result"
    }
   ],
   "source": [
    "base.shape # Reduziu de 16.719 para 6825 linhas (não é muito recomendado remover linhas, ainda mais que representam 59% dos dados)"
   ]
  },
  {
   "cell_type": "code",
   "execution_count": 9,
   "metadata": {
    "colab": {
     "base_uri": "https://localhost:8080/"
    },
    "executionInfo": {
     "elapsed": 5,
     "status": "ok",
     "timestamp": 1719505536790,
     "user": {
      "displayName": "Jones Granatyr",
      "userId": "10042675233362078631"
     },
     "user_tz": 180
    },
    "id": "TWHa6FLT82UW",
    "outputId": "13e8835a-dd5f-4d2a-cf17-85b6404a4b8c"
   },
   "outputs": [
    {
     "data": {
      "text/plain": [
       "Name               0\n",
       "Platform           0\n",
       "Year_of_Release    0\n",
       "Genre              0\n",
       "Publisher          0\n",
       "NA_Sales           0\n",
       "EU_Sales           0\n",
       "JP_Sales           0\n",
       "Critic_Score       0\n",
       "Critic_Count       0\n",
       "User_Score         0\n",
       "User_Count         0\n",
       "Rating             0\n",
       "dtype: int64"
      ]
     },
     "execution_count": 9,
     "metadata": {},
     "output_type": "execute_result"
    }
   ],
   "source": [
    "base.isnull().sum()"
   ]
  },
  {
   "cell_type": "code",
   "execution_count": 10,
   "metadata": {
    "colab": {
     "base_uri": "https://localhost:8080/"
    },
    "executionInfo": {
     "elapsed": 475,
     "status": "ok",
     "timestamp": 1719505537261,
     "user": {
      "displayName": "Jones Granatyr",
      "userId": "10042675233362078631"
     },
     "user_tz": 180
    },
    "id": "M3HmrUX086E8",
    "outputId": "e506a5f2-6ff4-43d9-c062-98d9e265b13a"
   },
   "outputs": [
    {
     "data": {
      "text/plain": [
       "Name\n",
       "Need for Speed: Most Wanted                  8\n",
       "Madden NFL 07                                8\n",
       "LEGO Star Wars II: The Original Trilogy      8\n",
       "The Sims 2                                   7\n",
       "Terraria                                     7\n",
       "                                            ..\n",
       "Castlevania: Portrait of Ruin                1\n",
       "Suzuki TT Superbikes                         1\n",
       "Rumble Roses                                 1\n",
       "Sherlock Holmes: The Mystery of the Mummy    1\n",
       "STORM: Frontline Nation                      1\n",
       "Name: count, Length: 4377, dtype: int64"
      ]
     },
     "execution_count": 10,
     "metadata": {},
     "output_type": "execute_result"
    }
   ],
   "source": [
    "base['Name'].value_counts()"
   ]
  },
  {
   "cell_type": "code",
   "execution_count": 11,
   "metadata": {
    "id": "vbr_IGDW9awx"
   },
   "outputs": [],
   "source": [
    "base = base.drop('Name', axis = 1) # Iremos remover a coluna Name, pois ela não é útil para o modelo"
   ]
  },
  {
   "cell_type": "code",
   "execution_count": 12,
   "metadata": {
    "colab": {
     "base_uri": "https://localhost:8080/"
    },
    "executionInfo": {
     "elapsed": 14,
     "status": "ok",
     "timestamp": 1719505537262,
     "user": {
      "displayName": "Jones Granatyr",
      "userId": "10042675233362078631"
     },
     "user_tz": 180
    },
    "id": "01Z8_Vvg9mkd",
    "outputId": "eb0aa4a8-7035-4486-eae9-91ed8f5a5263"
   },
   "outputs": [
    {
     "data": {
      "text/plain": [
       "array([['Wii', 2006.0, 'Sports', ..., '8', 322.0, 'E'],\n",
       "       ['Wii', 2008.0, 'Racing', ..., '8.3', 709.0, 'E'],\n",
       "       ['Wii', 2009.0, 'Sports', ..., '8', 192.0, 'E'],\n",
       "       ...,\n",
       "       ['PC', 2014.0, 'Action', ..., '7.6', 412.0, 'M'],\n",
       "       ['PC', 2011.0, 'Shooter', ..., '5.8', 43.0, 'T'],\n",
       "       ['PC', 2011.0, 'Strategy', ..., '7.2', 13.0, 'E10+']], dtype=object)"
      ]
     },
     "execution_count": 12,
     "metadata": {},
     "output_type": "execute_result"
    }
   ],
   "source": [
    "X = base.iloc[:, [0, 1, 2, 3, 7, 8, 9, 10, 11]].values # Features ou atributos previsores\n",
    "X"
   ]
  },
  {
   "cell_type": "code",
   "execution_count": 13,
   "metadata": {
    "id": "h3WbTcUU-I8M"
   },
   "outputs": [],
   "source": [
    "y_na = base.iloc[:, 4].values # Atributo a serem previstos\n",
    "y_eu = base.iloc[:, 5].values\n",
    "y_jp = base.iloc[:, 6].values"
   ]
  },
  {
   "cell_type": "code",
   "execution_count": 14,
   "metadata": {
    "colab": {
     "base_uri": "https://localhost:8080/"
    },
    "executionInfo": {
     "elapsed": 9,
     "status": "ok",
     "timestamp": 1719505537262,
     "user": {
      "displayName": "Jones Granatyr",
      "userId": "10042675233362078631"
     },
     "user_tz": 180
    },
    "id": "w6_Y1OSf-jQI",
    "outputId": "71d16050-6736-442b-9096-db6321596a14"
   },
   "outputs": [
    {
     "data": {
      "text/plain": [
       "Platform\n",
       "PS2     1140\n",
       "X360     858\n",
       "PS3      769\n",
       "PC       651\n",
       "XB       565\n",
       "Wii      479\n",
       "DS       464\n",
       "PSP      390\n",
       "GC       348\n",
       "PS4      239\n",
       "GBA      237\n",
       "XOne     159\n",
       "3DS      155\n",
       "PS       150\n",
       "PSV      118\n",
       "WiiU      89\n",
       "DC        14\n",
       "Name: count, dtype: int64"
      ]
     },
     "execution_count": 14,
     "metadata": {},
     "output_type": "execute_result"
    }
   ],
   "source": [
    "# PS2  1 0 0 0 0 ...\n",
    "# X360 0 1 0 0 0 ...\n",
    "base['Platform'].value_counts()"
   ]
  },
  {
   "cell_type": "code",
   "execution_count": 15,
   "metadata": {
    "colab": {
     "base_uri": "https://localhost:8080/"
    },
    "executionInfo": {
     "elapsed": 8,
     "status": "ok",
     "timestamp": 1719505537262,
     "user": {
      "displayName": "Jones Granatyr",
      "userId": "10042675233362078631"
     },
     "user_tz": 180
    },
    "id": "MZG9-qvv_HLE",
    "outputId": "a7d69bb8-67dd-4e57-cebf-bf84a1252708"
   },
   "outputs": [
    {
     "data": {
      "text/plain": [
       "Index(['Platform', 'Year_of_Release', 'Genre', 'Publisher', 'NA_Sales',\n",
       "       'EU_Sales', 'JP_Sales', 'Critic_Score', 'Critic_Count', 'User_Score',\n",
       "       'User_Count', 'Rating'],\n",
       "      dtype='object')"
      ]
     },
     "execution_count": 15,
     "metadata": {},
     "output_type": "execute_result"
    }
   ],
   "source": [
    "base.columns"
   ]
  },
  {
   "cell_type": "code",
   "execution_count": 16,
   "metadata": {
    "id": "zOsHi615-4Mr"
   },
   "outputs": [],
   "source": [
    "onehotencoder = ColumnTransformer(transformers=[(\"OneHot\", OneHotEncoder(), [0, 2, 3, 8])], remainder='passthrough') # Passamos as colunas CATEGÓRICAS para o OneHotEncoder\n",
    "X = onehotencoder.fit_transform(X).toarray()"
   ]
  },
  {
   "cell_type": "code",
   "execution_count": 17,
   "metadata": {
    "colab": {
     "base_uri": "https://localhost:8080/"
    },
    "executionInfo": {
     "elapsed": 7,
     "status": "ok",
     "timestamp": 1719505537262,
     "user": {
      "displayName": "Jones Granatyr",
      "userId": "10042675233362078631"
     },
     "user_tz": 180
    },
    "id": "cX-TrmJO_Nz-",
    "outputId": "0977322e-a4fe-46a4-ed9e-02e628077112"
   },
   "outputs": [
    {
     "data": {
      "text/plain": [
       "(6825, 303)"
      ]
     },
     "execution_count": 17,
     "metadata": {},
     "output_type": "execute_result"
    }
   ],
   "source": [
    "X.shape # 6825 linhas e 303 colunas"
   ]
  },
  {
   "cell_type": "code",
   "execution_count": 18,
   "metadata": {
    "colab": {
     "base_uri": "https://localhost:8080/"
    },
    "executionInfo": {
     "elapsed": 6,
     "status": "ok",
     "timestamp": 1719505537262,
     "user": {
      "displayName": "Jones Granatyr",
      "userId": "10042675233362078631"
     },
     "user_tz": 180
    },
    "id": "lcqxpseO_YcY",
    "outputId": "82e402f3-3e6b-4c6d-b56b-c6d05f35cf78"
   },
   "outputs": [
    {
     "data": {
      "text/plain": [
       "array([0.000e+00, 0.000e+00, 0.000e+00, 0.000e+00, 0.000e+00, 0.000e+00,\n",
       "       0.000e+00, 0.000e+00, 0.000e+00, 0.000e+00, 0.000e+00, 0.000e+00,\n",
       "       1.000e+00, 0.000e+00, 0.000e+00, 0.000e+00, 0.000e+00, 0.000e+00,\n",
       "       0.000e+00, 0.000e+00, 0.000e+00, 0.000e+00, 0.000e+00, 0.000e+00,\n",
       "       0.000e+00, 0.000e+00, 0.000e+00, 1.000e+00, 0.000e+00, 0.000e+00,\n",
       "       0.000e+00, 0.000e+00, 0.000e+00, 0.000e+00, 0.000e+00, 0.000e+00,\n",
       "       0.000e+00, 0.000e+00, 0.000e+00, 0.000e+00, 0.000e+00, 0.000e+00,\n",
       "       0.000e+00, 0.000e+00, 0.000e+00, 0.000e+00, 0.000e+00, 0.000e+00,\n",
       "       0.000e+00, 0.000e+00, 0.000e+00, 0.000e+00, 0.000e+00, 0.000e+00,\n",
       "       0.000e+00, 0.000e+00, 0.000e+00, 0.000e+00, 0.000e+00, 0.000e+00,\n",
       "       0.000e+00, 0.000e+00, 0.000e+00, 0.000e+00, 0.000e+00, 0.000e+00,\n",
       "       0.000e+00, 0.000e+00, 0.000e+00, 0.000e+00, 0.000e+00, 0.000e+00,\n",
       "       0.000e+00, 0.000e+00, 0.000e+00, 0.000e+00, 0.000e+00, 0.000e+00,\n",
       "       0.000e+00, 0.000e+00, 0.000e+00, 0.000e+00, 0.000e+00, 0.000e+00,\n",
       "       0.000e+00, 0.000e+00, 0.000e+00, 0.000e+00, 0.000e+00, 0.000e+00,\n",
       "       0.000e+00, 0.000e+00, 0.000e+00, 0.000e+00, 0.000e+00, 0.000e+00,\n",
       "       0.000e+00, 0.000e+00, 0.000e+00, 0.000e+00, 0.000e+00, 0.000e+00,\n",
       "       0.000e+00, 0.000e+00, 0.000e+00, 0.000e+00, 0.000e+00, 0.000e+00,\n",
       "       0.000e+00, 0.000e+00, 0.000e+00, 0.000e+00, 0.000e+00, 0.000e+00,\n",
       "       0.000e+00, 0.000e+00, 0.000e+00, 0.000e+00, 0.000e+00, 0.000e+00,\n",
       "       0.000e+00, 0.000e+00, 0.000e+00, 0.000e+00, 0.000e+00, 0.000e+00,\n",
       "       0.000e+00, 0.000e+00, 0.000e+00, 0.000e+00, 0.000e+00, 0.000e+00,\n",
       "       0.000e+00, 0.000e+00, 0.000e+00, 0.000e+00, 0.000e+00, 0.000e+00,\n",
       "       0.000e+00, 0.000e+00, 0.000e+00, 0.000e+00, 0.000e+00, 0.000e+00,\n",
       "       0.000e+00, 0.000e+00, 0.000e+00, 0.000e+00, 0.000e+00, 0.000e+00,\n",
       "       0.000e+00, 0.000e+00, 0.000e+00, 0.000e+00, 0.000e+00, 0.000e+00,\n",
       "       0.000e+00, 0.000e+00, 0.000e+00, 0.000e+00, 0.000e+00, 0.000e+00,\n",
       "       0.000e+00, 0.000e+00, 0.000e+00, 0.000e+00, 0.000e+00, 0.000e+00,\n",
       "       0.000e+00, 0.000e+00, 0.000e+00, 0.000e+00, 0.000e+00, 0.000e+00,\n",
       "       0.000e+00, 0.000e+00, 0.000e+00, 0.000e+00, 0.000e+00, 0.000e+00,\n",
       "       0.000e+00, 0.000e+00, 0.000e+00, 0.000e+00, 0.000e+00, 0.000e+00,\n",
       "       0.000e+00, 0.000e+00, 0.000e+00, 1.000e+00, 0.000e+00, 0.000e+00,\n",
       "       0.000e+00, 0.000e+00, 0.000e+00, 0.000e+00, 0.000e+00, 0.000e+00,\n",
       "       0.000e+00, 0.000e+00, 0.000e+00, 0.000e+00, 0.000e+00, 0.000e+00,\n",
       "       0.000e+00, 0.000e+00, 0.000e+00, 0.000e+00, 0.000e+00, 0.000e+00,\n",
       "       0.000e+00, 0.000e+00, 0.000e+00, 0.000e+00, 0.000e+00, 0.000e+00,\n",
       "       0.000e+00, 0.000e+00, 0.000e+00, 0.000e+00, 0.000e+00, 0.000e+00,\n",
       "       0.000e+00, 0.000e+00, 0.000e+00, 0.000e+00, 0.000e+00, 0.000e+00,\n",
       "       0.000e+00, 0.000e+00, 0.000e+00, 0.000e+00, 0.000e+00, 0.000e+00,\n",
       "       0.000e+00, 0.000e+00, 0.000e+00, 0.000e+00, 0.000e+00, 0.000e+00,\n",
       "       0.000e+00, 0.000e+00, 0.000e+00, 0.000e+00, 0.000e+00, 0.000e+00,\n",
       "       0.000e+00, 0.000e+00, 0.000e+00, 0.000e+00, 0.000e+00, 0.000e+00,\n",
       "       0.000e+00, 0.000e+00, 0.000e+00, 0.000e+00, 0.000e+00, 0.000e+00,\n",
       "       0.000e+00, 0.000e+00, 0.000e+00, 0.000e+00, 0.000e+00, 0.000e+00,\n",
       "       0.000e+00, 0.000e+00, 0.000e+00, 0.000e+00, 0.000e+00, 0.000e+00,\n",
       "       0.000e+00, 0.000e+00, 0.000e+00, 0.000e+00, 0.000e+00, 0.000e+00,\n",
       "       0.000e+00, 0.000e+00, 0.000e+00, 0.000e+00, 0.000e+00, 0.000e+00,\n",
       "       0.000e+00, 0.000e+00, 0.000e+00, 0.000e+00, 0.000e+00, 0.000e+00,\n",
       "       0.000e+00, 0.000e+00, 0.000e+00, 0.000e+00, 1.000e+00, 0.000e+00,\n",
       "       0.000e+00, 0.000e+00, 0.000e+00, 0.000e+00, 2.006e+03, 7.600e+01,\n",
       "       5.100e+01, 8.000e+00, 3.220e+02])"
      ]
     },
     "execution_count": 18,
     "metadata": {},
     "output_type": "execute_result"
    }
   ],
   "source": [
    "X[0]"
   ]
  },
  {
   "cell_type": "code",
   "execution_count": 19,
   "metadata": {
    "id": "7ncz201xA--g"
   },
   "outputs": [],
   "source": [
    "# Criação da rede neural a partir da biblioteca Model\n",
    "camada_entrada = Input(shape = (303,)) # Quantidade de neurônios é sempre igual a quantidade de colunas (303)\n",
    "camada_oculta1 = Dense(units = 153, activation='relu')(camada_entrada) # Adicionamos uma camada oculta com 153 neurônios conectada à camada de entrada\n",
    "camada_dropout1 = Dropout(0.2)(camada_oculta1) # Adicionamos uma camada de Dropout para evitar overfitting\n",
    "camada_oculta2 = Dense(units = 153, activation='relu')(camada_oculta1)\n",
    "camada_dropout2 = Dropout(0.2)(camada_oculta2)\n",
    "camada_saida1 = Dense(units = 1, activation='linear')(camada_oculta2) # As camadas de saída estarão conectadas à última camada oculta (camada_oculta2)\n",
    "camada_saida2 = Dense(units = 1, activation='linear')(camada_oculta2)\n",
    "camada_saida3 = Dense(units = 1, activation='linear')(camada_oculta2)"
   ]
  },
  {
   "cell_type": "code",
   "execution_count": 20,
   "metadata": {
    "id": "nUH6lRN1CTVb"
   },
   "outputs": [],
   "source": [
    "regressor = Model(inputs = camada_entrada, outputs = [camada_saida1, camada_saida2, camada_saida3])"
   ]
  },
  {
   "cell_type": "code",
   "execution_count": 21,
   "metadata": {
    "id": "NH0PHXhHCktn"
   },
   "outputs": [],
   "source": [
    "regressor.compile(optimizer='adam', loss = 'mse') # A função de loss mse (mean squared error)"
   ]
  },
  {
   "cell_type": "code",
   "execution_count": 25,
   "metadata": {
    "colab": {
     "base_uri": "https://localhost:8080/"
    },
    "executionInfo": {
     "elapsed": 281264,
     "status": "ok",
     "timestamp": 1719506229505,
     "user": {
      "displayName": "Jones Granatyr",
      "userId": "10042675233362078631"
     },
     "user_tz": 180
    },
    "id": "Uce7P_U1iVQ0",
    "outputId": "cdc70634-cb81-405d-e495-37d5797b6901"
   },
   "outputs": [
    {
     "name": "stdout",
     "output_type": "stream",
     "text": [
      "Epoch 1/500\n",
      "\u001b[1m69/69\u001b[0m \u001b[32m━━━━━━━━━━━━━━━━━━━━\u001b[0m\u001b[37m\u001b[0m \u001b[1m0s\u001b[0m 2ms/step - dense_2_loss: 1.0688 - dense_3_loss: 0.8748 - dense_4_loss: 0.1219 - loss: 2.0641\n",
      "Epoch 2/500\n",
      "\u001b[1m69/69\u001b[0m \u001b[32m━━━━━━━━━━━━━━━━━━━━\u001b[0m\u001b[37m\u001b[0m \u001b[1m0s\u001b[0m 2ms/step - dense_2_loss: 0.6499 - dense_3_loss: 0.6273 - dense_4_loss: 0.1287 - loss: 1.4057\n",
      "Epoch 3/500\n",
      "\u001b[1m69/69\u001b[0m \u001b[32m━━━━━━━━━━━━━━━━━━━━\u001b[0m\u001b[37m\u001b[0m \u001b[1m0s\u001b[0m 2ms/step - dense_2_loss: 1.1657 - dense_3_loss: 0.7175 - dense_4_loss: 0.3003 - loss: 2.1832\n",
      "Epoch 4/500\n",
      "\u001b[1m69/69\u001b[0m \u001b[32m━━━━━━━━━━━━━━━━━━━━\u001b[0m\u001b[37m\u001b[0m \u001b[1m0s\u001b[0m 2ms/step - dense_2_loss: 1.0467 - dense_3_loss: 0.9300 - dense_4_loss: 0.1850 - loss: 2.1622\n",
      "Epoch 5/500\n",
      "\u001b[1m69/69\u001b[0m \u001b[32m━━━━━━━━━━━━━━━━━━━━\u001b[0m\u001b[37m\u001b[0m \u001b[1m0s\u001b[0m 2ms/step - dense_2_loss: 1.4998 - dense_3_loss: 1.2516 - dense_4_loss: 0.1176 - loss: 2.8693\n",
      "Epoch 6/500\n",
      "\u001b[1m69/69\u001b[0m \u001b[32m━━━━━━━━━━━━━━━━━━━━\u001b[0m\u001b[37m\u001b[0m \u001b[1m0s\u001b[0m 2ms/step - dense_2_loss: 0.8107 - dense_3_loss: 0.5425 - dense_4_loss: 0.1539 - loss: 1.5074\n",
      "Epoch 7/500\n",
      "\u001b[1m69/69\u001b[0m \u001b[32m━━━━━━━━━━━━━━━━━━━━\u001b[0m\u001b[37m\u001b[0m \u001b[1m0s\u001b[0m 2ms/step - dense_2_loss: 1.1429 - dense_3_loss: 0.9379 - dense_4_loss: 0.1644 - loss: 2.2456\n",
      "Epoch 8/500\n",
      "\u001b[1m69/69\u001b[0m \u001b[32m━━━━━━━━━━━━━━━━━━━━\u001b[0m\u001b[37m\u001b[0m \u001b[1m0s\u001b[0m 2ms/step - dense_2_loss: 1.0251 - dense_3_loss: 0.9030 - dense_4_loss: 0.1761 - loss: 2.1042\n",
      "Epoch 9/500\n",
      "\u001b[1m69/69\u001b[0m \u001b[32m━━━━━━━━━━━━━━━━━━━━\u001b[0m\u001b[37m\u001b[0m \u001b[1m0s\u001b[0m 2ms/step - dense_2_loss: 1.0178 - dense_3_loss: 0.7299 - dense_4_loss: 0.1430 - loss: 1.8909\n",
      "Epoch 10/500\n",
      "\u001b[1m69/69\u001b[0m \u001b[32m━━━━━━━━━━━━━━━━━━━━\u001b[0m\u001b[37m\u001b[0m \u001b[1m0s\u001b[0m 2ms/step - dense_2_loss: 1.0107 - dense_3_loss: 1.1046 - dense_4_loss: 0.2031 - loss: 2.3182\n",
      "Epoch 11/500\n",
      "\u001b[1m69/69\u001b[0m \u001b[32m━━━━━━━━━━━━━━━━━━━━\u001b[0m\u001b[37m\u001b[0m \u001b[1m0s\u001b[0m 2ms/step - dense_2_loss: 2.7639 - dense_3_loss: 1.3734 - dense_4_loss: 0.5335 - loss: 4.6716\n",
      "Epoch 12/500\n",
      "\u001b[1m69/69\u001b[0m \u001b[32m━━━━━━━━━━━━━━━━━━━━\u001b[0m\u001b[37m\u001b[0m \u001b[1m0s\u001b[0m 2ms/step - dense_2_loss: 0.8264 - dense_3_loss: 0.7007 - dense_4_loss: 0.3429 - loss: 1.8704\n",
      "Epoch 13/500\n",
      "\u001b[1m69/69\u001b[0m \u001b[32m━━━━━━━━━━━━━━━━━━━━\u001b[0m\u001b[37m\u001b[0m \u001b[1m0s\u001b[0m 2ms/step - dense_2_loss: 0.8838 - dense_3_loss: 0.8255 - dense_4_loss: 0.2274 - loss: 1.9370\n",
      "Epoch 14/500\n",
      "\u001b[1m69/69\u001b[0m \u001b[32m━━━━━━━━━━━━━━━━━━━━\u001b[0m\u001b[37m\u001b[0m \u001b[1m0s\u001b[0m 2ms/step - dense_2_loss: 1.3444 - dense_3_loss: 1.5168 - dense_4_loss: 0.3454 - loss: 3.2067\n",
      "Epoch 15/500\n",
      "\u001b[1m69/69\u001b[0m \u001b[32m━━━━━━━━━━━━━━━━━━━━\u001b[0m\u001b[37m\u001b[0m \u001b[1m0s\u001b[0m 2ms/step - dense_2_loss: 1.5455 - dense_3_loss: 1.2526 - dense_4_loss: 0.2347 - loss: 3.0333\n",
      "Epoch 16/500\n",
      "\u001b[1m69/69\u001b[0m \u001b[32m━━━━━━━━━━━━━━━━━━━━\u001b[0m\u001b[37m\u001b[0m \u001b[1m0s\u001b[0m 2ms/step - dense_2_loss: 0.7813 - dense_3_loss: 0.5428 - dense_4_loss: 0.1671 - loss: 1.4914\n",
      "Epoch 17/500\n",
      "\u001b[1m69/69\u001b[0m \u001b[32m━━━━━━━━━━━━━━━━━━━━\u001b[0m\u001b[37m\u001b[0m \u001b[1m0s\u001b[0m 2ms/step - dense_2_loss: 1.1939 - dense_3_loss: 0.9813 - dense_4_loss: 0.3268 - loss: 2.5023\n",
      "Epoch 18/500\n",
      "\u001b[1m69/69\u001b[0m \u001b[32m━━━━━━━━━━━━━━━━━━━━\u001b[0m\u001b[37m\u001b[0m \u001b[1m0s\u001b[0m 2ms/step - dense_2_loss: 0.9015 - dense_3_loss: 0.8104 - dense_4_loss: 0.2262 - loss: 1.9378\n",
      "Epoch 19/500\n",
      "\u001b[1m69/69\u001b[0m \u001b[32m━━━━━━━━━━━━━━━━━━━━\u001b[0m\u001b[37m\u001b[0m \u001b[1m0s\u001b[0m 2ms/step - dense_2_loss: 1.3760 - dense_3_loss: 1.4209 - dense_4_loss: 0.4753 - loss: 3.2727\n",
      "Epoch 20/500\n",
      "\u001b[1m69/69\u001b[0m \u001b[32m━━━━━━━━━━━━━━━━━━━━\u001b[0m\u001b[37m\u001b[0m \u001b[1m0s\u001b[0m 2ms/step - dense_2_loss: 1.3627 - dense_3_loss: 1.4409 - dense_4_loss: 0.4159 - loss: 3.2186\n",
      "Epoch 21/500\n",
      "\u001b[1m69/69\u001b[0m \u001b[32m━━━━━━━━━━━━━━━━━━━━\u001b[0m\u001b[37m\u001b[0m \u001b[1m0s\u001b[0m 2ms/step - dense_2_loss: 2.9932 - dense_3_loss: 4.3840 - dense_4_loss: 0.4272 - loss: 7.7869\n",
      "Epoch 22/500\n",
      "\u001b[1m69/69\u001b[0m \u001b[32m━━━━━━━━━━━━━━━━━━━━\u001b[0m\u001b[37m\u001b[0m \u001b[1m0s\u001b[0m 2ms/step - dense_2_loss: 24.1433 - dense_3_loss: 32.0367 - dense_4_loss: 11.8008 - loss: 67.9980\n",
      "Epoch 23/500\n",
      "\u001b[1m69/69\u001b[0m \u001b[32m━━━━━━━━━━━━━━━━━━━━\u001b[0m\u001b[37m\u001b[0m \u001b[1m0s\u001b[0m 2ms/step - dense_2_loss: 1.1638 - dense_3_loss: 0.9425 - dense_4_loss: 0.5600 - loss: 2.6669\n",
      "Epoch 24/500\n",
      "\u001b[1m69/69\u001b[0m \u001b[32m━━━━━━━━━━━━━━━━━━━━\u001b[0m\u001b[37m\u001b[0m \u001b[1m0s\u001b[0m 2ms/step - dense_2_loss: 0.7692 - dense_3_loss: 0.4928 - dense_4_loss: 0.2336 - loss: 1.4961\n",
      "Epoch 25/500\n",
      "\u001b[1m69/69\u001b[0m \u001b[32m━━━━━━━━━━━━━━━━━━━━\u001b[0m\u001b[37m\u001b[0m \u001b[1m0s\u001b[0m 2ms/step - dense_2_loss: 1.4667 - dense_3_loss: 0.7300 - dense_4_loss: 0.1429 - loss: 2.3399\n",
      "Epoch 26/500\n",
      "\u001b[1m69/69\u001b[0m \u001b[32m━━━━━━━━━━━━━━━━━━━━\u001b[0m\u001b[37m\u001b[0m \u001b[1m0s\u001b[0m 2ms/step - dense_2_loss: 0.9072 - dense_3_loss: 0.5266 - dense_4_loss: 0.1225 - loss: 1.5559\n",
      "Epoch 27/500\n",
      "\u001b[1m69/69\u001b[0m \u001b[32m━━━━━━━━━━━━━━━━━━━━\u001b[0m\u001b[37m\u001b[0m \u001b[1m0s\u001b[0m 2ms/step - dense_2_loss: 0.9432 - dense_3_loss: 0.5301 - dense_4_loss: 0.1467 - loss: 1.6202\n",
      "Epoch 28/500\n",
      "\u001b[1m69/69\u001b[0m \u001b[32m━━━━━━━━━━━━━━━━━━━━\u001b[0m\u001b[37m\u001b[0m \u001b[1m0s\u001b[0m 2ms/step - dense_2_loss: 0.8431 - dense_3_loss: 0.5213 - dense_4_loss: 0.1379 - loss: 1.5026\n",
      "Epoch 29/500\n",
      "\u001b[1m69/69\u001b[0m \u001b[32m━━━━━━━━━━━━━━━━━━━━\u001b[0m\u001b[37m\u001b[0m \u001b[1m0s\u001b[0m 3ms/step - dense_2_loss: 0.9847 - dense_3_loss: 0.4432 - dense_4_loss: 0.1249 - loss: 1.5524\n",
      "Epoch 30/500\n",
      "\u001b[1m69/69\u001b[0m \u001b[32m━━━━━━━━━━━━━━━━━━━━\u001b[0m\u001b[37m\u001b[0m \u001b[1m0s\u001b[0m 2ms/step - dense_2_loss: 1.3139 - dense_3_loss: 0.6499 - dense_4_loss: 0.2251 - loss: 2.1892\n",
      "Epoch 31/500\n",
      "\u001b[1m69/69\u001b[0m \u001b[32m━━━━━━━━━━━━━━━━━━━━\u001b[0m\u001b[37m\u001b[0m \u001b[1m0s\u001b[0m 3ms/step - dense_2_loss: 0.8432 - dense_3_loss: 0.4936 - dense_4_loss: 0.2136 - loss: 1.5507\n",
      "Epoch 32/500\n",
      "\u001b[1m69/69\u001b[0m \u001b[32m━━━━━━━━━━━━━━━━━━━━\u001b[0m\u001b[37m\u001b[0m \u001b[1m0s\u001b[0m 4ms/step - dense_2_loss: 1.0084 - dense_3_loss: 0.4629 - dense_4_loss: 0.1895 - loss: 1.6597\n",
      "Epoch 33/500\n",
      "\u001b[1m69/69\u001b[0m \u001b[32m━━━━━━━━━━━━━━━━━━━━\u001b[0m\u001b[37m\u001b[0m \u001b[1m0s\u001b[0m 3ms/step - dense_2_loss: 0.8685 - dense_3_loss: 0.7095 - dense_4_loss: 0.1928 - loss: 1.7710\n",
      "Epoch 34/500\n",
      "\u001b[1m69/69\u001b[0m \u001b[32m━━━━━━━━━━━━━━━━━━━━\u001b[0m\u001b[37m\u001b[0m \u001b[1m0s\u001b[0m 3ms/step - dense_2_loss: 0.5206 - dense_3_loss: 0.3448 - dense_4_loss: 0.1112 - loss: 0.9768\n",
      "Epoch 35/500\n",
      "\u001b[1m69/69\u001b[0m \u001b[32m━━━━━━━━━━━━━━━━━━━━\u001b[0m\u001b[37m\u001b[0m \u001b[1m0s\u001b[0m 3ms/step - dense_2_loss: 1.3053 - dense_3_loss: 0.7769 - dense_4_loss: 0.2201 - loss: 2.3027\n",
      "Epoch 36/500\n",
      "\u001b[1m69/69\u001b[0m \u001b[32m━━━━━━━━━━━━━━━━━━━━\u001b[0m\u001b[37m\u001b[0m \u001b[1m0s\u001b[0m 2ms/step - dense_2_loss: 0.8093 - dense_3_loss: 0.4602 - dense_4_loss: 0.1493 - loss: 1.4191\n",
      "Epoch 37/500\n",
      "\u001b[1m69/69\u001b[0m \u001b[32m━━━━━━━━━━━━━━━━━━━━\u001b[0m\u001b[37m\u001b[0m \u001b[1m0s\u001b[0m 4ms/step - dense_2_loss: 0.8757 - dense_3_loss: 0.4877 - dense_4_loss: 0.1503 - loss: 1.5139\n",
      "Epoch 38/500\n",
      "\u001b[1m69/69\u001b[0m \u001b[32m━━━━━━━━━━━━━━━━━━━━\u001b[0m\u001b[37m\u001b[0m \u001b[1m0s\u001b[0m 3ms/step - dense_2_loss: 1.2146 - dense_3_loss: 0.6138 - dense_4_loss: 0.1891 - loss: 2.0176\n",
      "Epoch 39/500\n",
      "\u001b[1m69/69\u001b[0m \u001b[32m━━━━━━━━━━━━━━━━━━━━\u001b[0m\u001b[37m\u001b[0m \u001b[1m0s\u001b[0m 2ms/step - dense_2_loss: 1.3872 - dense_3_loss: 0.9142 - dense_4_loss: 0.2846 - loss: 2.5859\n",
      "Epoch 40/500\n",
      "\u001b[1m69/69\u001b[0m \u001b[32m━━━━━━━━━━━━━━━━━━━━\u001b[0m\u001b[37m\u001b[0m \u001b[1m0s\u001b[0m 3ms/step - dense_2_loss: 1.3565 - dense_3_loss: 0.8527 - dense_4_loss: 0.3984 - loss: 2.6073\n",
      "Epoch 41/500\n",
      "\u001b[1m69/69\u001b[0m \u001b[32m━━━━━━━━━━━━━━━━━━━━\u001b[0m\u001b[37m\u001b[0m \u001b[1m0s\u001b[0m 3ms/step - dense_2_loss: 1.0157 - dense_3_loss: 0.6231 - dense_4_loss: 0.5028 - loss: 2.1419\n",
      "Epoch 42/500\n",
      "\u001b[1m69/69\u001b[0m \u001b[32m━━━━━━━━━━━━━━━━━━━━\u001b[0m\u001b[37m\u001b[0m \u001b[1m0s\u001b[0m 3ms/step - dense_2_loss: 1.4296 - dense_3_loss: 0.7693 - dense_4_loss: 0.3323 - loss: 2.5315\n",
      "Epoch 43/500\n",
      "\u001b[1m69/69\u001b[0m \u001b[32m━━━━━━━━━━━━━━━━━━━━\u001b[0m\u001b[37m\u001b[0m \u001b[1m0s\u001b[0m 3ms/step - dense_2_loss: 1.0590 - dense_3_loss: 0.5832 - dense_4_loss: 0.3838 - loss: 2.0266\n",
      "Epoch 44/500\n",
      "\u001b[1m69/69\u001b[0m \u001b[32m━━━━━━━━━━━━━━━━━━━━\u001b[0m\u001b[37m\u001b[0m \u001b[1m0s\u001b[0m 2ms/step - dense_2_loss: 0.8521 - dense_3_loss: 0.5126 - dense_4_loss: 0.1784 - loss: 1.5431\n",
      "Epoch 45/500\n",
      "\u001b[1m69/69\u001b[0m \u001b[32m━━━━━━━━━━━━━━━━━━━━\u001b[0m\u001b[37m\u001b[0m \u001b[1m0s\u001b[0m 2ms/step - dense_2_loss: 1.6241 - dense_3_loss: 0.9691 - dense_4_loss: 0.2595 - loss: 2.8525\n",
      "Epoch 46/500\n",
      "\u001b[1m69/69\u001b[0m \u001b[32m━━━━━━━━━━━━━━━━━━━━\u001b[0m\u001b[37m\u001b[0m \u001b[1m0s\u001b[0m 2ms/step - dense_2_loss: 0.8857 - dense_3_loss: 0.6159 - dense_4_loss: 0.4418 - loss: 1.9436\n",
      "Epoch 47/500\n",
      "\u001b[1m69/69\u001b[0m \u001b[32m━━━━━━━━━━━━━━━━━━━━\u001b[0m\u001b[37m\u001b[0m \u001b[1m0s\u001b[0m 2ms/step - dense_2_loss: 1.4383 - dense_3_loss: 0.6828 - dense_4_loss: 0.2477 - loss: 2.3692\n",
      "Epoch 48/500\n",
      "\u001b[1m69/69\u001b[0m \u001b[32m━━━━━━━━━━━━━━━━━━━━\u001b[0m\u001b[37m\u001b[0m \u001b[1m0s\u001b[0m 2ms/step - dense_2_loss: 1.5063 - dense_3_loss: 0.8454 - dense_4_loss: 0.3030 - loss: 2.6550\n",
      "Epoch 49/500\n",
      "\u001b[1m69/69\u001b[0m \u001b[32m━━━━━━━━━━━━━━━━━━━━\u001b[0m\u001b[37m\u001b[0m \u001b[1m0s\u001b[0m 2ms/step - dense_2_loss: 1.5343 - dense_3_loss: 0.8497 - dense_4_loss: 0.2858 - loss: 2.6703\n",
      "Epoch 50/500\n",
      "\u001b[1m69/69\u001b[0m \u001b[32m━━━━━━━━━━━━━━━━━━━━\u001b[0m\u001b[37m\u001b[0m \u001b[1m0s\u001b[0m 2ms/step - dense_2_loss: 1.7585 - dense_3_loss: 1.0386 - dense_4_loss: 0.8274 - loss: 3.6248\n",
      "Epoch 51/500\n",
      "\u001b[1m69/69\u001b[0m \u001b[32m━━━━━━━━━━━━━━━━━━━━\u001b[0m\u001b[37m\u001b[0m \u001b[1m0s\u001b[0m 2ms/step - dense_2_loss: 0.9353 - dense_3_loss: 0.6081 - dense_4_loss: 0.2209 - loss: 1.7647\n",
      "Epoch 52/500\n",
      "\u001b[1m69/69\u001b[0m \u001b[32m━━━━━━━━━━━━━━━━━━━━\u001b[0m\u001b[37m\u001b[0m \u001b[1m0s\u001b[0m 2ms/step - dense_2_loss: 0.7573 - dense_3_loss: 0.6256 - dense_4_loss: 0.2566 - loss: 1.6371\n",
      "Epoch 53/500\n",
      "\u001b[1m69/69\u001b[0m \u001b[32m━━━━━━━━━━━━━━━━━━━━\u001b[0m\u001b[37m\u001b[0m \u001b[1m0s\u001b[0m 2ms/step - dense_2_loss: 1.2745 - dense_3_loss: 0.6521 - dense_4_loss: 0.2154 - loss: 2.1424\n",
      "Epoch 54/500\n",
      "\u001b[1m69/69\u001b[0m \u001b[32m━━━━━━━━━━━━━━━━━━━━\u001b[0m\u001b[37m\u001b[0m \u001b[1m0s\u001b[0m 2ms/step - dense_2_loss: 0.9347 - dense_3_loss: 0.6794 - dense_4_loss: 0.3170 - loss: 1.9302\n",
      "Epoch 55/500\n",
      "\u001b[1m69/69\u001b[0m \u001b[32m━━━━━━━━━━━━━━━━━━━━\u001b[0m\u001b[37m\u001b[0m \u001b[1m0s\u001b[0m 2ms/step - dense_2_loss: 1.3336 - dense_3_loss: 0.6425 - dense_4_loss: 0.3387 - loss: 2.3150\n",
      "Epoch 56/500\n",
      "\u001b[1m69/69\u001b[0m \u001b[32m━━━━━━━━━━━━━━━━━━━━\u001b[0m\u001b[37m\u001b[0m \u001b[1m0s\u001b[0m 2ms/step - dense_2_loss: 0.8076 - dense_3_loss: 0.4240 - dense_4_loss: 0.2610 - loss: 1.4916\n",
      "Epoch 57/500\n",
      "\u001b[1m69/69\u001b[0m \u001b[32m━━━━━━━━━━━━━━━━━━━━\u001b[0m\u001b[37m\u001b[0m \u001b[1m0s\u001b[0m 2ms/step - dense_2_loss: 1.6283 - dense_3_loss: 1.4762 - dense_4_loss: 0.4195 - loss: 3.5247\n",
      "Epoch 58/500\n",
      "\u001b[1m69/69\u001b[0m \u001b[32m━━━━━━━━━━━━━━━━━━━━\u001b[0m\u001b[37m\u001b[0m \u001b[1m0s\u001b[0m 2ms/step - dense_2_loss: 1.5501 - dense_3_loss: 0.7681 - dense_4_loss: 0.1606 - loss: 2.4789\n",
      "Epoch 59/500\n",
      "\u001b[1m69/69\u001b[0m \u001b[32m━━━━━━━━━━━━━━━━━━━━\u001b[0m\u001b[37m\u001b[0m \u001b[1m0s\u001b[0m 2ms/step - dense_2_loss: 0.9656 - dense_3_loss: 0.5470 - dense_4_loss: 0.2927 - loss: 1.8056\n",
      "Epoch 60/500\n",
      "\u001b[1m69/69\u001b[0m \u001b[32m━━━━━━━━━━━━━━━━━━━━\u001b[0m\u001b[37m\u001b[0m \u001b[1m0s\u001b[0m 2ms/step - dense_2_loss: 1.3486 - dense_3_loss: 0.7118 - dense_4_loss: 0.2999 - loss: 2.3597\n",
      "Epoch 61/500\n",
      "\u001b[1m69/69\u001b[0m \u001b[32m━━━━━━━━━━━━━━━━━━━━\u001b[0m\u001b[37m\u001b[0m \u001b[1m0s\u001b[0m 2ms/step - dense_2_loss: 1.0735 - dense_3_loss: 0.6601 - dense_4_loss: 0.3885 - loss: 2.1220\n",
      "Epoch 62/500\n",
      "\u001b[1m69/69\u001b[0m \u001b[32m━━━━━━━━━━━━━━━━━━━━\u001b[0m\u001b[37m\u001b[0m \u001b[1m0s\u001b[0m 2ms/step - dense_2_loss: 1.2724 - dense_3_loss: 0.8652 - dense_4_loss: 0.2476 - loss: 2.3856\n",
      "Epoch 63/500\n",
      "\u001b[1m69/69\u001b[0m \u001b[32m━━━━━━━━━━━━━━━━━━━━\u001b[0m\u001b[37m\u001b[0m \u001b[1m0s\u001b[0m 2ms/step - dense_2_loss: 0.8404 - dense_3_loss: 0.5302 - dense_4_loss: 0.1540 - loss: 1.5226\n",
      "Epoch 64/500\n",
      "\u001b[1m69/69\u001b[0m \u001b[32m━━━━━━━━━━━━━━━━━━━━\u001b[0m\u001b[37m\u001b[0m \u001b[1m0s\u001b[0m 3ms/step - dense_2_loss: 1.3850 - dense_3_loss: 0.5564 - dense_4_loss: 0.3725 - loss: 2.3142\n",
      "Epoch 65/500\n",
      "\u001b[1m69/69\u001b[0m \u001b[32m━━━━━━━━━━━━━━━━━━━━\u001b[0m\u001b[37m\u001b[0m \u001b[1m0s\u001b[0m 2ms/step - dense_2_loss: 0.8543 - dense_3_loss: 0.8508 - dense_4_loss: 0.4193 - loss: 2.1240\n",
      "Epoch 66/500\n",
      "\u001b[1m69/69\u001b[0m \u001b[32m━━━━━━━━━━━━━━━━━━━━\u001b[0m\u001b[37m\u001b[0m \u001b[1m0s\u001b[0m 2ms/step - dense_2_loss: 1.0552 - dense_3_loss: 0.7486 - dense_4_loss: 0.3372 - loss: 2.1405\n",
      "Epoch 67/500\n",
      "\u001b[1m69/69\u001b[0m \u001b[32m━━━━━━━━━━━━━━━━━━━━\u001b[0m\u001b[37m\u001b[0m \u001b[1m0s\u001b[0m 2ms/step - dense_2_loss: 1.1384 - dense_3_loss: 0.7473 - dense_4_loss: 0.4546 - loss: 2.3405\n",
      "Epoch 68/500\n",
      "\u001b[1m69/69\u001b[0m \u001b[32m━━━━━━━━━━━━━━━━━━━━\u001b[0m\u001b[37m\u001b[0m \u001b[1m0s\u001b[0m 2ms/step - dense_2_loss: 1.1346 - dense_3_loss: 0.7530 - dense_4_loss: 0.4613 - loss: 2.3478\n",
      "Epoch 69/500\n",
      "\u001b[1m69/69\u001b[0m \u001b[32m━━━━━━━━━━━━━━━━━━━━\u001b[0m\u001b[37m\u001b[0m \u001b[1m0s\u001b[0m 2ms/step - dense_2_loss: 2.1552 - dense_3_loss: 1.2846 - dense_4_loss: 0.3855 - loss: 3.8260\n",
      "Epoch 70/500\n",
      "\u001b[1m69/69\u001b[0m \u001b[32m━━━━━━━━━━━━━━━━━━━━\u001b[0m\u001b[37m\u001b[0m \u001b[1m0s\u001b[0m 2ms/step - dense_2_loss: 0.9267 - dense_3_loss: 0.4453 - dense_4_loss: 0.2172 - loss: 1.5876\n",
      "Epoch 71/500\n",
      "\u001b[1m69/69\u001b[0m \u001b[32m━━━━━━━━━━━━━━━━━━━━\u001b[0m\u001b[37m\u001b[0m \u001b[1m0s\u001b[0m 2ms/step - dense_2_loss: 1.4018 - dense_3_loss: 0.8956 - dense_4_loss: 0.5156 - loss: 2.8135\n",
      "Epoch 72/500\n",
      "\u001b[1m69/69\u001b[0m \u001b[32m━━━━━━━━━━━━━━━━━━━━\u001b[0m\u001b[37m\u001b[0m \u001b[1m0s\u001b[0m 1ms/step - dense_2_loss: 0.8805 - dense_3_loss: 0.4958 - dense_4_loss: 0.1425 - loss: 1.5190\n",
      "Epoch 73/500\n",
      "\u001b[1m69/69\u001b[0m \u001b[32m━━━━━━━━━━━━━━━━━━━━\u001b[0m\u001b[37m\u001b[0m \u001b[1m0s\u001b[0m 2ms/step - dense_2_loss: 0.8350 - dense_3_loss: 0.5442 - dense_4_loss: 0.1673 - loss: 1.5471\n",
      "Epoch 74/500\n",
      "\u001b[1m69/69\u001b[0m \u001b[32m━━━━━━━━━━━━━━━━━━━━\u001b[0m\u001b[37m\u001b[0m \u001b[1m0s\u001b[0m 2ms/step - dense_2_loss: 1.9048 - dense_3_loss: 1.0085 - dense_4_loss: 0.3007 - loss: 3.2142\n",
      "Epoch 75/500\n",
      "\u001b[1m69/69\u001b[0m \u001b[32m━━━━━━━━━━━━━━━━━━━━\u001b[0m\u001b[37m\u001b[0m \u001b[1m0s\u001b[0m 2ms/step - dense_2_loss: 0.6580 - dense_3_loss: 0.3940 - dense_4_loss: 0.1865 - loss: 1.2380\n",
      "Epoch 76/500\n",
      "\u001b[1m69/69\u001b[0m \u001b[32m━━━━━━━━━━━━━━━━━━━━\u001b[0m\u001b[37m\u001b[0m \u001b[1m0s\u001b[0m 2ms/step - dense_2_loss: 0.7946 - dense_3_loss: 0.4075 - dense_4_loss: 0.2837 - loss: 1.4862\n",
      "Epoch 77/500\n",
      "\u001b[1m69/69\u001b[0m \u001b[32m━━━━━━━━━━━━━━━━━━━━\u001b[0m\u001b[37m\u001b[0m \u001b[1m0s\u001b[0m 2ms/step - dense_2_loss: 1.1608 - dense_3_loss: 0.6594 - dense_4_loss: 0.5452 - loss: 2.3659\n",
      "Epoch 78/500\n",
      "\u001b[1m69/69\u001b[0m \u001b[32m━━━━━━━━━━━━━━━━━━━━\u001b[0m\u001b[37m\u001b[0m \u001b[1m0s\u001b[0m 2ms/step - dense_2_loss: 1.2490 - dense_3_loss: 0.8220 - dense_4_loss: 0.2815 - loss: 2.3524\n",
      "Epoch 79/500\n",
      "\u001b[1m69/69\u001b[0m \u001b[32m━━━━━━━━━━━━━━━━━━━━\u001b[0m\u001b[37m\u001b[0m \u001b[1m0s\u001b[0m 2ms/step - dense_2_loss: 1.1134 - dense_3_loss: 0.6263 - dense_4_loss: 0.2893 - loss: 2.0293\n",
      "Epoch 80/500\n",
      "\u001b[1m69/69\u001b[0m \u001b[32m━━━━━━━━━━━━━━━━━━━━\u001b[0m\u001b[37m\u001b[0m \u001b[1m0s\u001b[0m 2ms/step - dense_2_loss: 0.8435 - dense_3_loss: 0.3985 - dense_4_loss: 0.2384 - loss: 1.4803\n",
      "Epoch 81/500\n",
      "\u001b[1m69/69\u001b[0m \u001b[32m━━━━━━━━━━━━━━━━━━━━\u001b[0m\u001b[37m\u001b[0m \u001b[1m0s\u001b[0m 2ms/step - dense_2_loss: 0.6643 - dense_3_loss: 0.4620 - dense_4_loss: 0.3946 - loss: 1.5205\n",
      "Epoch 82/500\n",
      "\u001b[1m69/69\u001b[0m \u001b[32m━━━━━━━━━━━━━━━━━━━━\u001b[0m\u001b[37m\u001b[0m \u001b[1m0s\u001b[0m 2ms/step - dense_2_loss: 1.2427 - dense_3_loss: 0.6027 - dense_4_loss: 0.2606 - loss: 2.1066\n",
      "Epoch 83/500\n",
      "\u001b[1m69/69\u001b[0m \u001b[32m━━━━━━━━━━━━━━━━━━━━\u001b[0m\u001b[37m\u001b[0m \u001b[1m0s\u001b[0m 3ms/step - dense_2_loss: 0.6650 - dense_3_loss: 0.4523 - dense_4_loss: 0.2520 - loss: 1.3692\n",
      "Epoch 84/500\n",
      "\u001b[1m69/69\u001b[0m \u001b[32m━━━━━━━━━━━━━━━━━━━━\u001b[0m\u001b[37m\u001b[0m \u001b[1m0s\u001b[0m 2ms/step - dense_2_loss: 0.9115 - dense_3_loss: 0.5690 - dense_4_loss: 0.2493 - loss: 1.7299\n",
      "Epoch 85/500\n",
      "\u001b[1m69/69\u001b[0m \u001b[32m━━━━━━━━━━━━━━━━━━━━\u001b[0m\u001b[37m\u001b[0m \u001b[1m0s\u001b[0m 2ms/step - dense_2_loss: 1.1491 - dense_3_loss: 0.8073 - dense_4_loss: 0.4350 - loss: 2.3919\n",
      "Epoch 86/500\n",
      "\u001b[1m69/69\u001b[0m \u001b[32m━━━━━━━━━━━━━━━━━━━━\u001b[0m\u001b[37m\u001b[0m \u001b[1m0s\u001b[0m 2ms/step - dense_2_loss: 1.3289 - dense_3_loss: 0.7945 - dense_4_loss: 0.3305 - loss: 2.4540\n",
      "Epoch 87/500\n",
      "\u001b[1m69/69\u001b[0m \u001b[32m━━━━━━━━━━━━━━━━━━━━\u001b[0m\u001b[37m\u001b[0m \u001b[1m0s\u001b[0m 2ms/step - dense_2_loss: 0.9873 - dense_3_loss: 0.5207 - dense_4_loss: 0.2080 - loss: 1.7164\n",
      "Epoch 88/500\n",
      "\u001b[1m69/69\u001b[0m \u001b[32m━━━━━━━━━━━━━━━━━━━━\u001b[0m\u001b[37m\u001b[0m \u001b[1m0s\u001b[0m 2ms/step - dense_2_loss: 0.7608 - dense_3_loss: 0.5933 - dense_4_loss: 0.2456 - loss: 1.6000\n",
      "Epoch 89/500\n",
      "\u001b[1m69/69\u001b[0m \u001b[32m━━━━━━━━━━━━━━━━━━━━\u001b[0m\u001b[37m\u001b[0m \u001b[1m0s\u001b[0m 2ms/step - dense_2_loss: 0.9063 - dense_3_loss: 0.4789 - dense_4_loss: 0.2536 - loss: 1.6390\n",
      "Epoch 90/500\n",
      "\u001b[1m69/69\u001b[0m \u001b[32m━━━━━━━━━━━━━━━━━━━━\u001b[0m\u001b[37m\u001b[0m \u001b[1m0s\u001b[0m 2ms/step - dense_2_loss: 1.0182 - dense_3_loss: 0.5619 - dense_4_loss: 0.2415 - loss: 1.8216\n",
      "Epoch 91/500\n",
      "\u001b[1m69/69\u001b[0m \u001b[32m━━━━━━━━━━━━━━━━━━━━\u001b[0m\u001b[37m\u001b[0m \u001b[1m0s\u001b[0m 2ms/step - dense_2_loss: 0.7123 - dense_3_loss: 0.4711 - dense_4_loss: 0.2903 - loss: 1.4732\n",
      "Epoch 92/500\n",
      "\u001b[1m69/69\u001b[0m \u001b[32m━━━━━━━━━━━━━━━━━━━━\u001b[0m\u001b[37m\u001b[0m \u001b[1m0s\u001b[0m 2ms/step - dense_2_loss: 1.0905 - dense_3_loss: 0.6150 - dense_4_loss: 0.3345 - loss: 2.0403\n",
      "Epoch 93/500\n",
      "\u001b[1m69/69\u001b[0m \u001b[32m━━━━━━━━━━━━━━━━━━━━\u001b[0m\u001b[37m\u001b[0m \u001b[1m0s\u001b[0m 2ms/step - dense_2_loss: 1.0078 - dense_3_loss: 0.6211 - dense_4_loss: 0.2079 - loss: 1.8338\n",
      "Epoch 94/500\n",
      "\u001b[1m69/69\u001b[0m \u001b[32m━━━━━━━━━━━━━━━━━━━━\u001b[0m\u001b[37m\u001b[0m \u001b[1m0s\u001b[0m 2ms/step - dense_2_loss: 0.8279 - dense_3_loss: 0.6064 - dense_4_loss: 0.2560 - loss: 1.6905\n",
      "Epoch 95/500\n",
      "\u001b[1m69/69\u001b[0m \u001b[32m━━━━━━━━━━━━━━━━━━━━\u001b[0m\u001b[37m\u001b[0m \u001b[1m0s\u001b[0m 3ms/step - dense_2_loss: 1.2504 - dense_3_loss: 0.9090 - dense_4_loss: 0.2334 - loss: 2.3927\n",
      "Epoch 96/500\n",
      "\u001b[1m69/69\u001b[0m \u001b[32m━━━━━━━━━━━━━━━━━━━━\u001b[0m\u001b[37m\u001b[0m \u001b[1m0s\u001b[0m 2ms/step - dense_2_loss: 1.0069 - dense_3_loss: 0.5203 - dense_4_loss: 0.2573 - loss: 1.7844\n",
      "Epoch 97/500\n",
      "\u001b[1m69/69\u001b[0m \u001b[32m━━━━━━━━━━━━━━━━━━━━\u001b[0m\u001b[37m\u001b[0m \u001b[1m0s\u001b[0m 2ms/step - dense_2_loss: 0.7366 - dense_3_loss: 0.4451 - dense_4_loss: 0.1306 - loss: 1.3122\n",
      "Epoch 98/500\n",
      "\u001b[1m69/69\u001b[0m \u001b[32m━━━━━━━━━━━━━━━━━━━━\u001b[0m\u001b[37m\u001b[0m \u001b[1m0s\u001b[0m 2ms/step - dense_2_loss: 1.2470 - dense_3_loss: 0.6911 - dense_4_loss: 0.4678 - loss: 2.4064\n",
      "Epoch 99/500\n",
      "\u001b[1m69/69\u001b[0m \u001b[32m━━━━━━━━━━━━━━━━━━━━\u001b[0m\u001b[37m\u001b[0m \u001b[1m0s\u001b[0m 2ms/step - dense_2_loss: 0.7120 - dense_3_loss: 0.3328 - dense_4_loss: 0.1199 - loss: 1.1646\n",
      "Epoch 100/500\n",
      "\u001b[1m69/69\u001b[0m \u001b[32m━━━━━━━━━━━━━━━━━━━━\u001b[0m\u001b[37m\u001b[0m \u001b[1m0s\u001b[0m 2ms/step - dense_2_loss: 0.7253 - dense_3_loss: 0.5292 - dense_4_loss: 0.1079 - loss: 1.3627\n",
      "Epoch 101/500\n",
      "\u001b[1m69/69\u001b[0m \u001b[32m━━━━━━━━━━━━━━━━━━━━\u001b[0m\u001b[37m\u001b[0m \u001b[1m0s\u001b[0m 2ms/step - dense_2_loss: 0.5681 - dense_3_loss: 0.2983 - dense_4_loss: 0.1377 - loss: 1.0043\n",
      "Epoch 102/500\n",
      "\u001b[1m69/69\u001b[0m \u001b[32m━━━━━━━━━━━━━━━━━━━━\u001b[0m\u001b[37m\u001b[0m \u001b[1m0s\u001b[0m 2ms/step - dense_2_loss: 0.8749 - dense_3_loss: 0.8630 - dense_4_loss: 0.3981 - loss: 2.1364\n",
      "Epoch 103/500\n",
      "\u001b[1m69/69\u001b[0m \u001b[32m━━━━━━━━━━━━━━━━━━━━\u001b[0m\u001b[37m\u001b[0m \u001b[1m0s\u001b[0m 2ms/step - dense_2_loss: 0.9433 - dense_3_loss: 0.5248 - dense_4_loss: 0.1965 - loss: 1.6645\n",
      "Epoch 104/500\n",
      "\u001b[1m69/69\u001b[0m \u001b[32m━━━━━━━━━━━━━━━━━━━━\u001b[0m\u001b[37m\u001b[0m \u001b[1m0s\u001b[0m 2ms/step - dense_2_loss: 1.0615 - dense_3_loss: 0.9806 - dense_4_loss: 0.3369 - loss: 2.3794\n",
      "Epoch 105/500\n",
      "\u001b[1m69/69\u001b[0m \u001b[32m━━━━━━━━━━━━━━━━━━━━\u001b[0m\u001b[37m\u001b[0m \u001b[1m0s\u001b[0m 2ms/step - dense_2_loss: 1.1687 - dense_3_loss: 0.6555 - dense_4_loss: 0.0975 - loss: 1.9221\n",
      "Epoch 106/500\n",
      "\u001b[1m69/69\u001b[0m \u001b[32m━━━━━━━━━━━━━━━━━━━━\u001b[0m\u001b[37m\u001b[0m \u001b[1m0s\u001b[0m 2ms/step - dense_2_loss: 0.5740 - dense_3_loss: 0.3327 - dense_4_loss: 0.1545 - loss: 1.0612\n",
      "Epoch 107/500\n",
      "\u001b[1m69/69\u001b[0m \u001b[32m━━━━━━━━━━━━━━━━━━━━\u001b[0m\u001b[37m\u001b[0m \u001b[1m0s\u001b[0m 2ms/step - dense_2_loss: 1.1578 - dense_3_loss: 0.6225 - dense_4_loss: 0.1675 - loss: 1.9466\n",
      "Epoch 108/500\n",
      "\u001b[1m69/69\u001b[0m \u001b[32m━━━━━━━━━━━━━━━━━━━━\u001b[0m\u001b[37m\u001b[0m \u001b[1m0s\u001b[0m 2ms/step - dense_2_loss: 1.1791 - dense_3_loss: 0.8367 - dense_4_loss: 0.4132 - loss: 2.4295\n",
      "Epoch 109/500\n",
      "\u001b[1m69/69\u001b[0m \u001b[32m━━━━━━━━━━━━━━━━━━━━\u001b[0m\u001b[37m\u001b[0m \u001b[1m0s\u001b[0m 2ms/step - dense_2_loss: 1.5217 - dense_3_loss: 0.8993 - dense_4_loss: 0.0835 - loss: 2.5047\n",
      "Epoch 110/500\n",
      "\u001b[1m69/69\u001b[0m \u001b[32m━━━━━━━━━━━━━━━━━━━━\u001b[0m\u001b[37m\u001b[0m \u001b[1m0s\u001b[0m 2ms/step - dense_2_loss: 0.6468 - dense_3_loss: 0.4154 - dense_4_loss: 0.0945 - loss: 1.1572\n",
      "Epoch 111/500\n",
      "\u001b[1m69/69\u001b[0m \u001b[32m━━━━━━━━━━━━━━━━━━━━\u001b[0m\u001b[37m\u001b[0m \u001b[1m0s\u001b[0m 3ms/step - dense_2_loss: 0.9530 - dense_3_loss: 0.4892 - dense_4_loss: 0.1947 - loss: 1.6373\n",
      "Epoch 112/500\n",
      "\u001b[1m69/69\u001b[0m \u001b[32m━━━━━━━━━━━━━━━━━━━━\u001b[0m\u001b[37m\u001b[0m \u001b[1m0s\u001b[0m 2ms/step - dense_2_loss: 0.8248 - dense_3_loss: 0.4705 - dense_4_loss: 0.1550 - loss: 1.4507\n",
      "Epoch 113/500\n",
      "\u001b[1m69/69\u001b[0m \u001b[32m━━━━━━━━━━━━━━━━━━━━\u001b[0m\u001b[37m\u001b[0m \u001b[1m0s\u001b[0m 2ms/step - dense_2_loss: 0.5006 - dense_3_loss: 0.3170 - dense_4_loss: 0.0912 - loss: 0.9092\n",
      "Epoch 114/500\n",
      "\u001b[1m69/69\u001b[0m \u001b[32m━━━━━━━━━━━━━━━━━━━━\u001b[0m\u001b[37m\u001b[0m \u001b[1m0s\u001b[0m 2ms/step - dense_2_loss: 0.5440 - dense_3_loss: 0.3355 - dense_4_loss: 0.1497 - loss: 1.0294\n",
      "Epoch 115/500\n",
      "\u001b[1m69/69\u001b[0m \u001b[32m━━━━━━━━━━━━━━━━━━━━\u001b[0m\u001b[37m\u001b[0m \u001b[1m0s\u001b[0m 2ms/step - dense_2_loss: 0.6483 - dense_3_loss: 0.3723 - dense_4_loss: 0.1335 - loss: 1.1544\n",
      "Epoch 116/500\n",
      "\u001b[1m69/69\u001b[0m \u001b[32m━━━━━━━━━━━━━━━━━━━━\u001b[0m\u001b[37m\u001b[0m \u001b[1m0s\u001b[0m 2ms/step - dense_2_loss: 0.8158 - dense_3_loss: 0.4806 - dense_4_loss: 0.1041 - loss: 1.4006\n",
      "Epoch 117/500\n",
      "\u001b[1m69/69\u001b[0m \u001b[32m━━━━━━━━━━━━━━━━━━━━\u001b[0m\u001b[37m\u001b[0m \u001b[1m0s\u001b[0m 2ms/step - dense_2_loss: 1.1552 - dense_3_loss: 0.5963 - dense_4_loss: 0.1798 - loss: 1.9315\n",
      "Epoch 118/500\n",
      "\u001b[1m69/69\u001b[0m \u001b[32m━━━━━━━━━━━━━━━━━━━━\u001b[0m\u001b[37m\u001b[0m \u001b[1m0s\u001b[0m 2ms/step - dense_2_loss: 0.4291 - dense_3_loss: 0.3161 - dense_4_loss: 0.1061 - loss: 0.8514\n",
      "Epoch 119/500\n",
      "\u001b[1m69/69\u001b[0m \u001b[32m━━━━━━━━━━━━━━━━━━━━\u001b[0m\u001b[37m\u001b[0m \u001b[1m0s\u001b[0m 2ms/step - dense_2_loss: 0.7588 - dense_3_loss: 0.4712 - dense_4_loss: 0.1229 - loss: 1.3531\n",
      "Epoch 120/500\n",
      "\u001b[1m69/69\u001b[0m \u001b[32m━━━━━━━━━━━━━━━━━━━━\u001b[0m\u001b[37m\u001b[0m \u001b[1m0s\u001b[0m 2ms/step - dense_2_loss: 1.3562 - dense_3_loss: 0.7866 - dense_4_loss: 0.1977 - loss: 2.3408\n",
      "Epoch 121/500\n",
      "\u001b[1m69/69\u001b[0m \u001b[32m━━━━━━━━━━━━━━━━━━━━\u001b[0m\u001b[37m\u001b[0m \u001b[1m0s\u001b[0m 2ms/step - dense_2_loss: 0.7522 - dense_3_loss: 0.5259 - dense_4_loss: 0.1294 - loss: 1.4077\n",
      "Epoch 122/500\n",
      "\u001b[1m69/69\u001b[0m \u001b[32m━━━━━━━━━━━━━━━━━━━━\u001b[0m\u001b[37m\u001b[0m \u001b[1m0s\u001b[0m 2ms/step - dense_2_loss: 1.3696 - dense_3_loss: 0.6925 - dense_4_loss: 0.0843 - loss: 2.1466\n",
      "Epoch 123/500\n",
      "\u001b[1m69/69\u001b[0m \u001b[32m━━━━━━━━━━━━━━━━━━━━\u001b[0m\u001b[37m\u001b[0m \u001b[1m0s\u001b[0m 2ms/step - dense_2_loss: 0.8567 - dense_3_loss: 0.5795 - dense_4_loss: 0.1258 - loss: 1.5623\n",
      "Epoch 124/500\n",
      "\u001b[1m69/69\u001b[0m \u001b[32m━━━━━━━━━━━━━━━━━━━━\u001b[0m\u001b[37m\u001b[0m \u001b[1m0s\u001b[0m 2ms/step - dense_2_loss: 0.7269 - dense_3_loss: 0.4776 - dense_4_loss: 0.1207 - loss: 1.3252\n",
      "Epoch 125/500\n",
      "\u001b[1m69/69\u001b[0m \u001b[32m━━━━━━━━━━━━━━━━━━━━\u001b[0m\u001b[37m\u001b[0m \u001b[1m0s\u001b[0m 2ms/step - dense_2_loss: 0.8280 - dense_3_loss: 0.4738 - dense_4_loss: 0.1332 - loss: 1.4354\n",
      "Epoch 126/500\n",
      "\u001b[1m69/69\u001b[0m \u001b[32m━━━━━━━━━━━━━━━━━━━━\u001b[0m\u001b[37m\u001b[0m \u001b[1m0s\u001b[0m 2ms/step - dense_2_loss: 1.0791 - dense_3_loss: 0.5189 - dense_4_loss: 0.1802 - loss: 1.7784\n",
      "Epoch 127/500\n",
      "\u001b[1m69/69\u001b[0m \u001b[32m━━━━━━━━━━━━━━━━━━━━\u001b[0m\u001b[37m\u001b[0m \u001b[1m0s\u001b[0m 2ms/step - dense_2_loss: 0.5489 - dense_3_loss: 0.3382 - dense_4_loss: 0.1358 - loss: 1.0227\n",
      "Epoch 128/500\n",
      "\u001b[1m69/69\u001b[0m \u001b[32m━━━━━━━━━━━━━━━━━━━━\u001b[0m\u001b[37m\u001b[0m \u001b[1m0s\u001b[0m 2ms/step - dense_2_loss: 0.7541 - dense_3_loss: 0.4231 - dense_4_loss: 0.2137 - loss: 1.3911\n",
      "Epoch 129/500\n",
      "\u001b[1m69/69\u001b[0m \u001b[32m━━━━━━━━━━━━━━━━━━━━\u001b[0m\u001b[37m\u001b[0m \u001b[1m0s\u001b[0m 2ms/step - dense_2_loss: 0.5521 - dense_3_loss: 0.3706 - dense_4_loss: 0.1523 - loss: 1.0752\n",
      "Epoch 130/500\n",
      "\u001b[1m69/69\u001b[0m \u001b[32m━━━━━━━━━━━━━━━━━━━━\u001b[0m\u001b[37m\u001b[0m \u001b[1m0s\u001b[0m 2ms/step - dense_2_loss: 1.0494 - dense_3_loss: 0.6794 - dense_4_loss: 0.1506 - loss: 1.8797\n",
      "Epoch 131/500\n",
      "\u001b[1m69/69\u001b[0m \u001b[32m━━━━━━━━━━━━━━━━━━━━\u001b[0m\u001b[37m\u001b[0m \u001b[1m0s\u001b[0m 2ms/step - dense_2_loss: 0.5784 - dense_3_loss: 0.4444 - dense_4_loss: 0.2081 - loss: 1.2286\n",
      "Epoch 132/500\n",
      "\u001b[1m69/69\u001b[0m \u001b[32m━━━━━━━━━━━━━━━━━━━━\u001b[0m\u001b[37m\u001b[0m \u001b[1m0s\u001b[0m 2ms/step - dense_2_loss: 0.9317 - dense_3_loss: 0.6209 - dense_4_loss: 0.3023 - loss: 1.8556\n",
      "Epoch 133/500\n",
      "\u001b[1m69/69\u001b[0m \u001b[32m━━━━━━━━━━━━━━━━━━━━\u001b[0m\u001b[37m\u001b[0m \u001b[1m0s\u001b[0m 2ms/step - dense_2_loss: 0.5553 - dense_3_loss: 0.3617 - dense_4_loss: 0.1846 - loss: 1.1018\n",
      "Epoch 134/500\n",
      "\u001b[1m69/69\u001b[0m \u001b[32m━━━━━━━━━━━━━━━━━━━━\u001b[0m\u001b[37m\u001b[0m \u001b[1m0s\u001b[0m 2ms/step - dense_2_loss: 0.6485 - dense_3_loss: 0.3564 - dense_4_loss: 0.0936 - loss: 1.0988\n",
      "Epoch 135/500\n",
      "\u001b[1m69/69\u001b[0m \u001b[32m━━━━━━━━━━━━━━━━━━━━\u001b[0m\u001b[37m\u001b[0m \u001b[1m0s\u001b[0m 2ms/step - dense_2_loss: 0.9247 - dense_3_loss: 0.5323 - dense_4_loss: 0.1587 - loss: 1.6160\n",
      "Epoch 136/500\n",
      "\u001b[1m69/69\u001b[0m \u001b[32m━━━━━━━━━━━━━━━━━━━━\u001b[0m\u001b[37m\u001b[0m \u001b[1m0s\u001b[0m 2ms/step - dense_2_loss: 1.6365 - dense_3_loss: 0.8505 - dense_4_loss: 0.1927 - loss: 2.6800\n",
      "Epoch 137/500\n",
      "\u001b[1m69/69\u001b[0m \u001b[32m━━━━━━━━━━━━━━━━━━━━\u001b[0m\u001b[37m\u001b[0m \u001b[1m0s\u001b[0m 2ms/step - dense_2_loss: 0.6839 - dense_3_loss: 0.3877 - dense_4_loss: 0.0837 - loss: 1.1555\n",
      "Epoch 138/500\n",
      "\u001b[1m69/69\u001b[0m \u001b[32m━━━━━━━━━━━━━━━━━━━━\u001b[0m\u001b[37m\u001b[0m \u001b[1m0s\u001b[0m 2ms/step - dense_2_loss: 0.5645 - dense_3_loss: 0.3277 - dense_4_loss: 0.0841 - loss: 0.9763\n",
      "Epoch 139/500\n",
      "\u001b[1m69/69\u001b[0m \u001b[32m━━━━━━━━━━━━━━━━━━━━\u001b[0m\u001b[37m\u001b[0m \u001b[1m0s\u001b[0m 2ms/step - dense_2_loss: 0.8981 - dense_3_loss: 0.5520 - dense_4_loss: 0.2901 - loss: 1.7403\n",
      "Epoch 140/500\n",
      "\u001b[1m69/69\u001b[0m \u001b[32m━━━━━━━━━━━━━━━━━━━━\u001b[0m\u001b[37m\u001b[0m \u001b[1m0s\u001b[0m 2ms/step - dense_2_loss: 0.6672 - dense_3_loss: 0.4276 - dense_4_loss: 0.1875 - loss: 1.2826\n",
      "Epoch 141/500\n",
      "\u001b[1m69/69\u001b[0m \u001b[32m━━━━━━━━━━━━━━━━━━━━\u001b[0m\u001b[37m\u001b[0m \u001b[1m0s\u001b[0m 2ms/step - dense_2_loss: 1.1577 - dense_3_loss: 0.6549 - dense_4_loss: 0.1350 - loss: 1.9476\n",
      "Epoch 142/500\n",
      "\u001b[1m69/69\u001b[0m \u001b[32m━━━━━━━━━━━━━━━━━━━━\u001b[0m\u001b[37m\u001b[0m \u001b[1m0s\u001b[0m 2ms/step - dense_2_loss: 0.4980 - dense_3_loss: 0.3116 - dense_4_loss: 0.1191 - loss: 0.9287\n",
      "Epoch 143/500\n",
      "\u001b[1m69/69\u001b[0m \u001b[32m━━━━━━━━━━━━━━━━━━━━\u001b[0m\u001b[37m\u001b[0m \u001b[1m0s\u001b[0m 2ms/step - dense_2_loss: 0.5402 - dense_3_loss: 0.3237 - dense_4_loss: 0.1284 - loss: 0.9924\n",
      "Epoch 144/500\n",
      "\u001b[1m69/69\u001b[0m \u001b[32m━━━━━━━━━━━━━━━━━━━━\u001b[0m\u001b[37m\u001b[0m \u001b[1m0s\u001b[0m 2ms/step - dense_2_loss: 0.5064 - dense_3_loss: 0.4035 - dense_4_loss: 0.2681 - loss: 1.1781\n",
      "Epoch 145/500\n",
      "\u001b[1m69/69\u001b[0m \u001b[32m━━━━━━━━━━━━━━━━━━━━\u001b[0m\u001b[37m\u001b[0m \u001b[1m0s\u001b[0m 3ms/step - dense_2_loss: 0.4805 - dense_3_loss: 0.3099 - dense_4_loss: 0.2137 - loss: 1.0044\n",
      "Epoch 146/500\n",
      "\u001b[1m69/69\u001b[0m \u001b[32m━━━━━━━━━━━━━━━━━━━━\u001b[0m\u001b[37m\u001b[0m \u001b[1m0s\u001b[0m 2ms/step - dense_2_loss: 0.6141 - dense_3_loss: 0.4016 - dense_4_loss: 0.1258 - loss: 1.1418\n",
      "Epoch 147/500\n",
      "\u001b[1m69/69\u001b[0m \u001b[32m━━━━━━━━━━━━━━━━━━━━\u001b[0m\u001b[37m\u001b[0m \u001b[1m0s\u001b[0m 2ms/step - dense_2_loss: 0.5223 - dense_3_loss: 0.3287 - dense_4_loss: 0.0892 - loss: 0.9404\n",
      "Epoch 148/500\n",
      "\u001b[1m69/69\u001b[0m \u001b[32m━━━━━━━━━━━━━━━━━━━━\u001b[0m\u001b[37m\u001b[0m \u001b[1m0s\u001b[0m 2ms/step - dense_2_loss: 0.6212 - dense_3_loss: 0.3461 - dense_4_loss: 0.1109 - loss: 1.0782\n",
      "Epoch 149/500\n",
      "\u001b[1m69/69\u001b[0m \u001b[32m━━━━━━━━━━━━━━━━━━━━\u001b[0m\u001b[37m\u001b[0m \u001b[1m0s\u001b[0m 2ms/step - dense_2_loss: 0.5220 - dense_3_loss: 0.4012 - dense_4_loss: 0.1055 - loss: 1.0290\n",
      "Epoch 150/500\n",
      "\u001b[1m69/69\u001b[0m \u001b[32m━━━━━━━━━━━━━━━━━━━━\u001b[0m\u001b[37m\u001b[0m \u001b[1m0s\u001b[0m 2ms/step - dense_2_loss: 0.6419 - dense_3_loss: 0.3404 - dense_4_loss: 0.1531 - loss: 1.1358\n",
      "Epoch 151/500\n",
      "\u001b[1m69/69\u001b[0m \u001b[32m━━━━━━━━━━━━━━━━━━━━\u001b[0m\u001b[37m\u001b[0m \u001b[1m0s\u001b[0m 2ms/step - dense_2_loss: 0.8820 - dense_3_loss: 0.5374 - dense_4_loss: 0.1001 - loss: 1.5190\n",
      "Epoch 152/500\n",
      "\u001b[1m69/69\u001b[0m \u001b[32m━━━━━━━━━━━━━━━━━━━━\u001b[0m\u001b[37m\u001b[0m \u001b[1m0s\u001b[0m 2ms/step - dense_2_loss: 0.7183 - dense_3_loss: 0.3451 - dense_4_loss: 0.1093 - loss: 1.1727\n",
      "Epoch 153/500\n",
      "\u001b[1m69/69\u001b[0m \u001b[32m━━━━━━━━━━━━━━━━━━━━\u001b[0m\u001b[37m\u001b[0m \u001b[1m0s\u001b[0m 3ms/step - dense_2_loss: 0.6054 - dense_3_loss: 0.3894 - dense_4_loss: 0.1337 - loss: 1.1285\n",
      "Epoch 154/500\n",
      "\u001b[1m69/69\u001b[0m \u001b[32m━━━━━━━━━━━━━━━━━━━━\u001b[0m\u001b[37m\u001b[0m \u001b[1m0s\u001b[0m 2ms/step - dense_2_loss: 0.6412 - dense_3_loss: 0.3348 - dense_4_loss: 0.1313 - loss: 1.1075\n",
      "Epoch 155/500\n",
      "\u001b[1m69/69\u001b[0m \u001b[32m━━━━━━━━━━━━━━━━━━━━\u001b[0m\u001b[37m\u001b[0m \u001b[1m0s\u001b[0m 3ms/step - dense_2_loss: 0.8017 - dense_3_loss: 0.3927 - dense_4_loss: 0.1151 - loss: 1.3099\n",
      "Epoch 156/500\n",
      "\u001b[1m69/69\u001b[0m \u001b[32m━━━━━━━━━━━━━━━━━━━━\u001b[0m\u001b[37m\u001b[0m \u001b[1m0s\u001b[0m 2ms/step - dense_2_loss: 0.5968 - dense_3_loss: 0.3677 - dense_4_loss: 0.0782 - loss: 1.0429\n",
      "Epoch 157/500\n",
      "\u001b[1m69/69\u001b[0m \u001b[32m━━━━━━━━━━━━━━━━━━━━\u001b[0m\u001b[37m\u001b[0m \u001b[1m0s\u001b[0m 2ms/step - dense_2_loss: 0.6924 - dense_3_loss: 0.3707 - dense_4_loss: 0.0877 - loss: 1.1510\n",
      "Epoch 158/500\n",
      "\u001b[1m69/69\u001b[0m \u001b[32m━━━━━━━━━━━━━━━━━━━━\u001b[0m\u001b[37m\u001b[0m \u001b[1m0s\u001b[0m 2ms/step - dense_2_loss: 0.9274 - dense_3_loss: 0.4931 - dense_4_loss: 0.0951 - loss: 1.5156\n",
      "Epoch 159/500\n",
      "\u001b[1m69/69\u001b[0m \u001b[32m━━━━━━━━━━━━━━━━━━━━\u001b[0m\u001b[37m\u001b[0m \u001b[1m0s\u001b[0m 2ms/step - dense_2_loss: 0.7136 - dense_3_loss: 0.4425 - dense_4_loss: 0.1054 - loss: 1.2619\n",
      "Epoch 160/500\n",
      "\u001b[1m69/69\u001b[0m \u001b[32m━━━━━━━━━━━━━━━━━━━━\u001b[0m\u001b[37m\u001b[0m \u001b[1m0s\u001b[0m 2ms/step - dense_2_loss: 0.4916 - dense_3_loss: 0.3006 - dense_4_loss: 0.0847 - loss: 0.8772\n",
      "Epoch 161/500\n",
      "\u001b[1m69/69\u001b[0m \u001b[32m━━━━━━━━━━━━━━━━━━━━\u001b[0m\u001b[37m\u001b[0m \u001b[1m0s\u001b[0m 2ms/step - dense_2_loss: 1.6311 - dense_3_loss: 0.8434 - dense_4_loss: 0.0887 - loss: 2.5636\n",
      "Epoch 162/500\n",
      "\u001b[1m69/69\u001b[0m \u001b[32m━━━━━━━━━━━━━━━━━━━━\u001b[0m\u001b[37m\u001b[0m \u001b[1m0s\u001b[0m 2ms/step - dense_2_loss: 0.5509 - dense_3_loss: 0.3230 - dense_4_loss: 0.0919 - loss: 0.9661\n",
      "Epoch 163/500\n",
      "\u001b[1m69/69\u001b[0m \u001b[32m━━━━━━━━━━━━━━━━━━━━\u001b[0m\u001b[37m\u001b[0m \u001b[1m0s\u001b[0m 3ms/step - dense_2_loss: 0.5174 - dense_3_loss: 0.3112 - dense_4_loss: 0.0896 - loss: 0.9184\n",
      "Epoch 164/500\n",
      "\u001b[1m69/69\u001b[0m \u001b[32m━━━━━━━━━━━━━━━━━━━━\u001b[0m\u001b[37m\u001b[0m \u001b[1m0s\u001b[0m 4ms/step - dense_2_loss: 0.6148 - dense_3_loss: 0.3971 - dense_4_loss: 0.1490 - loss: 1.1611\n",
      "Epoch 165/500\n",
      "\u001b[1m69/69\u001b[0m \u001b[32m━━━━━━━━━━━━━━━━━━━━\u001b[0m\u001b[37m\u001b[0m \u001b[1m0s\u001b[0m 4ms/step - dense_2_loss: 0.8175 - dense_3_loss: 0.4502 - dense_4_loss: 0.0973 - loss: 1.3653\n",
      "Epoch 166/500\n",
      "\u001b[1m69/69\u001b[0m \u001b[32m━━━━━━━━━━━━━━━━━━━━\u001b[0m\u001b[37m\u001b[0m \u001b[1m0s\u001b[0m 3ms/step - dense_2_loss: 0.6276 - dense_3_loss: 0.3618 - dense_4_loss: 0.0890 - loss: 1.0787\n",
      "Epoch 167/500\n",
      "\u001b[1m69/69\u001b[0m \u001b[32m━━━━━━━━━━━━━━━━━━━━\u001b[0m\u001b[37m\u001b[0m \u001b[1m0s\u001b[0m 2ms/step - dense_2_loss: 0.5175 - dense_3_loss: 0.3053 - dense_4_loss: 0.0752 - loss: 0.8983\n",
      "Epoch 168/500\n",
      "\u001b[1m69/69\u001b[0m \u001b[32m━━━━━━━━━━━━━━━━━━━━\u001b[0m\u001b[37m\u001b[0m \u001b[1m0s\u001b[0m 2ms/step - dense_2_loss: 0.5490 - dense_3_loss: 0.4213 - dense_4_loss: 0.0888 - loss: 1.0593\n",
      "Epoch 169/500\n",
      "\u001b[1m69/69\u001b[0m \u001b[32m━━━━━━━━━━━━━━━━━━━━\u001b[0m\u001b[37m\u001b[0m \u001b[1m0s\u001b[0m 2ms/step - dense_2_loss: 0.5896 - dense_3_loss: 0.3646 - dense_4_loss: 0.1129 - loss: 1.0673\n",
      "Epoch 170/500\n",
      "\u001b[1m69/69\u001b[0m \u001b[32m━━━━━━━━━━━━━━━━━━━━\u001b[0m\u001b[37m\u001b[0m \u001b[1m0s\u001b[0m 2ms/step - dense_2_loss: 0.4914 - dense_3_loss: 0.3145 - dense_4_loss: 0.0989 - loss: 0.9051\n",
      "Epoch 171/500\n",
      "\u001b[1m69/69\u001b[0m \u001b[32m━━━━━━━━━━━━━━━━━━━━\u001b[0m\u001b[37m\u001b[0m \u001b[1m0s\u001b[0m 2ms/step - dense_2_loss: 0.5958 - dense_3_loss: 0.3315 - dense_4_loss: 0.0686 - loss: 0.9952\n",
      "Epoch 172/500\n",
      "\u001b[1m69/69\u001b[0m \u001b[32m━━━━━━━━━━━━━━━━━━━━\u001b[0m\u001b[37m\u001b[0m \u001b[1m0s\u001b[0m 2ms/step - dense_2_loss: 0.7938 - dense_3_loss: 0.4115 - dense_4_loss: 0.1281 - loss: 1.3338\n",
      "Epoch 173/500\n",
      "\u001b[1m69/69\u001b[0m \u001b[32m━━━━━━━━━━━━━━━━━━━━\u001b[0m\u001b[37m\u001b[0m \u001b[1m0s\u001b[0m 5ms/step - dense_2_loss: 0.6295 - dense_3_loss: 0.3284 - dense_4_loss: 0.0858 - loss: 1.0440\n",
      "Epoch 174/500\n",
      "\u001b[1m69/69\u001b[0m \u001b[32m━━━━━━━━━━━━━━━━━━━━\u001b[0m\u001b[37m\u001b[0m \u001b[1m0s\u001b[0m 3ms/step - dense_2_loss: 0.8842 - dense_3_loss: 0.5245 - dense_4_loss: 0.0920 - loss: 1.5009\n",
      "Epoch 175/500\n",
      "\u001b[1m69/69\u001b[0m \u001b[32m━━━━━━━━━━━━━━━━━━━━\u001b[0m\u001b[37m\u001b[0m \u001b[1m0s\u001b[0m 3ms/step - dense_2_loss: 1.1500 - dense_3_loss: 0.6899 - dense_4_loss: 0.1150 - loss: 1.9552\n",
      "Epoch 176/500\n",
      "\u001b[1m69/69\u001b[0m \u001b[32m━━━━━━━━━━━━━━━━━━━━\u001b[0m\u001b[37m\u001b[0m \u001b[1m0s\u001b[0m 2ms/step - dense_2_loss: 0.8310 - dense_3_loss: 0.4921 - dense_4_loss: 0.0936 - loss: 1.4169\n",
      "Epoch 177/500\n",
      "\u001b[1m69/69\u001b[0m \u001b[32m━━━━━━━━━━━━━━━━━━━━\u001b[0m\u001b[37m\u001b[0m \u001b[1m0s\u001b[0m 3ms/step - dense_2_loss: 0.6685 - dense_3_loss: 0.3963 - dense_4_loss: 0.1068 - loss: 1.1717\n",
      "Epoch 178/500\n",
      "\u001b[1m69/69\u001b[0m \u001b[32m━━━━━━━━━━━━━━━━━━━━\u001b[0m\u001b[37m\u001b[0m \u001b[1m0s\u001b[0m 2ms/step - dense_2_loss: 0.5810 - dense_3_loss: 0.3250 - dense_4_loss: 0.1050 - loss: 1.0113\n",
      "Epoch 179/500\n",
      "\u001b[1m69/69\u001b[0m \u001b[32m━━━━━━━━━━━━━━━━━━━━\u001b[0m\u001b[37m\u001b[0m \u001b[1m0s\u001b[0m 2ms/step - dense_2_loss: 0.4448 - dense_3_loss: 0.2427 - dense_4_loss: 0.0879 - loss: 0.7755\n",
      "Epoch 180/500\n",
      "\u001b[1m69/69\u001b[0m \u001b[32m━━━━━━━━━━━━━━━━━━━━\u001b[0m\u001b[37m\u001b[0m \u001b[1m0s\u001b[0m 3ms/step - dense_2_loss: 0.7123 - dense_3_loss: 0.5742 - dense_4_loss: 0.1685 - loss: 1.4547\n",
      "Epoch 181/500\n",
      "\u001b[1m69/69\u001b[0m \u001b[32m━━━━━━━━━━━━━━━━━━━━\u001b[0m\u001b[37m\u001b[0m \u001b[1m0s\u001b[0m 3ms/step - dense_2_loss: 0.6009 - dense_3_loss: 0.2954 - dense_4_loss: 0.0811 - loss: 0.9777\n",
      "Epoch 182/500\n",
      "\u001b[1m69/69\u001b[0m \u001b[32m━━━━━━━━━━━━━━━━━━━━\u001b[0m\u001b[37m\u001b[0m \u001b[1m0s\u001b[0m 2ms/step - dense_2_loss: 0.4664 - dense_3_loss: 0.2620 - dense_4_loss: 0.0748 - loss: 0.8030\n",
      "Epoch 183/500\n",
      "\u001b[1m69/69\u001b[0m \u001b[32m━━━━━━━━━━━━━━━━━━━━\u001b[0m\u001b[37m\u001b[0m \u001b[1m0s\u001b[0m 2ms/step - dense_2_loss: 0.5515 - dense_3_loss: 0.2677 - dense_4_loss: 0.0652 - loss: 0.8845\n",
      "Epoch 184/500\n",
      "\u001b[1m69/69\u001b[0m \u001b[32m━━━━━━━━━━━━━━━━━━━━\u001b[0m\u001b[37m\u001b[0m \u001b[1m0s\u001b[0m 2ms/step - dense_2_loss: 0.4999 - dense_3_loss: 0.3039 - dense_4_loss: 0.1180 - loss: 0.9222\n",
      "Epoch 185/500\n",
      "\u001b[1m69/69\u001b[0m \u001b[32m━━━━━━━━━━━━━━━━━━━━\u001b[0m\u001b[37m\u001b[0m \u001b[1m0s\u001b[0m 2ms/step - dense_2_loss: 0.7484 - dense_3_loss: 0.3606 - dense_4_loss: 0.0871 - loss: 1.1964\n",
      "Epoch 186/500\n",
      "\u001b[1m69/69\u001b[0m \u001b[32m━━━━━━━━━━━━━━━━━━━━\u001b[0m\u001b[37m\u001b[0m \u001b[1m0s\u001b[0m 2ms/step - dense_2_loss: 0.6093 - dense_3_loss: 0.3482 - dense_4_loss: 0.0650 - loss: 1.0227\n",
      "Epoch 187/500\n",
      "\u001b[1m69/69\u001b[0m \u001b[32m━━━━━━━━━━━━━━━━━━━━\u001b[0m\u001b[37m\u001b[0m \u001b[1m0s\u001b[0m 2ms/step - dense_2_loss: 0.9482 - dense_3_loss: 0.4742 - dense_4_loss: 0.0866 - loss: 1.5093\n",
      "Epoch 188/500\n",
      "\u001b[1m69/69\u001b[0m \u001b[32m━━━━━━━━━━━━━━━━━━━━\u001b[0m\u001b[37m\u001b[0m \u001b[1m0s\u001b[0m 2ms/step - dense_2_loss: 0.7431 - dense_3_loss: 0.4072 - dense_4_loss: 0.0800 - loss: 1.2306\n",
      "Epoch 189/500\n",
      "\u001b[1m69/69\u001b[0m \u001b[32m━━━━━━━━━━━━━━━━━━━━\u001b[0m\u001b[37m\u001b[0m \u001b[1m0s\u001b[0m 2ms/step - dense_2_loss: 0.5831 - dense_3_loss: 0.3400 - dense_4_loss: 0.0666 - loss: 0.9893\n",
      "Epoch 190/500\n",
      "\u001b[1m69/69\u001b[0m \u001b[32m━━━━━━━━━━━━━━━━━━━━\u001b[0m\u001b[37m\u001b[0m \u001b[1m0s\u001b[0m 2ms/step - dense_2_loss: 0.6476 - dense_3_loss: 0.4464 - dense_4_loss: 0.1010 - loss: 1.1952\n",
      "Epoch 191/500\n",
      "\u001b[1m69/69\u001b[0m \u001b[32m━━━━━━━━━━━━━━━━━━━━\u001b[0m\u001b[37m\u001b[0m \u001b[1m0s\u001b[0m 2ms/step - dense_2_loss: 0.4421 - dense_3_loss: 0.2651 - dense_4_loss: 0.0752 - loss: 0.7826\n",
      "Epoch 192/500\n",
      "\u001b[1m69/69\u001b[0m \u001b[32m━━━━━━━━━━━━━━━━━━━━\u001b[0m\u001b[37m\u001b[0m \u001b[1m0s\u001b[0m 2ms/step - dense_2_loss: 0.5196 - dense_3_loss: 0.3224 - dense_4_loss: 0.0771 - loss: 0.9192\n",
      "Epoch 193/500\n",
      "\u001b[1m69/69\u001b[0m \u001b[32m━━━━━━━━━━━━━━━━━━━━\u001b[0m\u001b[37m\u001b[0m \u001b[1m0s\u001b[0m 2ms/step - dense_2_loss: 0.6861 - dense_3_loss: 0.3826 - dense_4_loss: 0.0827 - loss: 1.1517\n",
      "Epoch 194/500\n",
      "\u001b[1m69/69\u001b[0m \u001b[32m━━━━━━━━━━━━━━━━━━━━\u001b[0m\u001b[37m\u001b[0m \u001b[1m0s\u001b[0m 2ms/step - dense_2_loss: 0.3887 - dense_3_loss: 0.1997 - dense_4_loss: 0.0656 - loss: 0.6541\n",
      "Epoch 195/500\n",
      "\u001b[1m69/69\u001b[0m \u001b[32m━━━━━━━━━━━━━━━━━━━━\u001b[0m\u001b[37m\u001b[0m \u001b[1m0s\u001b[0m 2ms/step - dense_2_loss: 0.5225 - dense_3_loss: 0.3722 - dense_4_loss: 0.1058 - loss: 1.0003\n",
      "Epoch 196/500\n",
      "\u001b[1m69/69\u001b[0m \u001b[32m━━━━━━━━━━━━━━━━━━━━\u001b[0m\u001b[37m\u001b[0m \u001b[1m0s\u001b[0m 3ms/step - dense_2_loss: 1.2431 - dense_3_loss: 0.6534 - dense_4_loss: 0.0707 - loss: 1.9675\n",
      "Epoch 197/500\n",
      "\u001b[1m69/69\u001b[0m \u001b[32m━━━━━━━━━━━━━━━━━━━━\u001b[0m\u001b[37m\u001b[0m \u001b[1m0s\u001b[0m 2ms/step - dense_2_loss: 0.4970 - dense_3_loss: 0.3324 - dense_4_loss: 0.0949 - loss: 0.9245\n",
      "Epoch 198/500\n",
      "\u001b[1m69/69\u001b[0m \u001b[32m━━━━━━━━━━━━━━━━━━━━\u001b[0m\u001b[37m\u001b[0m \u001b[1m0s\u001b[0m 3ms/step - dense_2_loss: 0.6654 - dense_3_loss: 0.3452 - dense_4_loss: 0.0793 - loss: 1.0900\n",
      "Epoch 199/500\n",
      "\u001b[1m69/69\u001b[0m \u001b[32m━━━━━━━━━━━━━━━━━━━━\u001b[0m\u001b[37m\u001b[0m \u001b[1m0s\u001b[0m 2ms/step - dense_2_loss: 0.9786 - dense_3_loss: 0.5527 - dense_4_loss: 0.0795 - loss: 1.6109\n",
      "Epoch 200/500\n",
      "\u001b[1m69/69\u001b[0m \u001b[32m━━━━━━━━━━━━━━━━━━━━\u001b[0m\u001b[37m\u001b[0m \u001b[1m0s\u001b[0m 2ms/step - dense_2_loss: 0.6913 - dense_3_loss: 0.3710 - dense_4_loss: 0.0723 - loss: 1.1349\n",
      "Epoch 201/500\n",
      "\u001b[1m69/69\u001b[0m \u001b[32m━━━━━━━━━━━━━━━━━━━━\u001b[0m\u001b[37m\u001b[0m \u001b[1m0s\u001b[0m 2ms/step - dense_2_loss: 0.5541 - dense_3_loss: 0.3230 - dense_4_loss: 0.0889 - loss: 0.9663\n",
      "Epoch 202/500\n",
      "\u001b[1m69/69\u001b[0m \u001b[32m━━━━━━━━━━━━━━━━━━━━\u001b[0m\u001b[37m\u001b[0m \u001b[1m0s\u001b[0m 2ms/step - dense_2_loss: 0.5231 - dense_3_loss: 0.2670 - dense_4_loss: 0.0680 - loss: 0.8584\n",
      "Epoch 203/500\n",
      "\u001b[1m69/69\u001b[0m \u001b[32m━━━━━━━━━━━━━━━━━━━━\u001b[0m\u001b[37m\u001b[0m \u001b[1m0s\u001b[0m 2ms/step - dense_2_loss: 0.7233 - dense_3_loss: 0.4234 - dense_4_loss: 0.0832 - loss: 1.2301\n",
      "Epoch 204/500\n",
      "\u001b[1m69/69\u001b[0m \u001b[32m━━━━━━━━━━━━━━━━━━━━\u001b[0m\u001b[37m\u001b[0m \u001b[1m0s\u001b[0m 2ms/step - dense_2_loss: 0.4183 - dense_3_loss: 0.2293 - dense_4_loss: 0.0655 - loss: 0.7131\n",
      "Epoch 205/500\n",
      "\u001b[1m69/69\u001b[0m \u001b[32m━━━━━━━━━━━━━━━━━━━━\u001b[0m\u001b[37m\u001b[0m \u001b[1m0s\u001b[0m 2ms/step - dense_2_loss: 0.5810 - dense_3_loss: 0.3800 - dense_4_loss: 0.1449 - loss: 1.1060\n",
      "Epoch 206/500\n",
      "\u001b[1m69/69\u001b[0m \u001b[32m━━━━━━━━━━━━━━━━━━━━\u001b[0m\u001b[37m\u001b[0m \u001b[1m0s\u001b[0m 2ms/step - dense_2_loss: 0.8213 - dense_3_loss: 0.4638 - dense_4_loss: 0.1032 - loss: 1.3886\n",
      "Epoch 207/500\n",
      "\u001b[1m69/69\u001b[0m \u001b[32m━━━━━━━━━━━━━━━━━━━━\u001b[0m\u001b[37m\u001b[0m \u001b[1m0s\u001b[0m 2ms/step - dense_2_loss: 0.5896 - dense_3_loss: 0.3402 - dense_4_loss: 0.0870 - loss: 1.0170\n",
      "Epoch 208/500\n",
      "\u001b[1m69/69\u001b[0m \u001b[32m━━━━━━━━━━━━━━━━━━━━\u001b[0m\u001b[37m\u001b[0m \u001b[1m0s\u001b[0m 2ms/step - dense_2_loss: 0.5979 - dense_3_loss: 0.3467 - dense_4_loss: 0.0707 - loss: 1.0154\n",
      "Epoch 209/500\n",
      "\u001b[1m69/69\u001b[0m \u001b[32m━━━━━━━━━━━━━━━━━━━━\u001b[0m\u001b[37m\u001b[0m \u001b[1m0s\u001b[0m 2ms/step - dense_2_loss: 0.7293 - dense_3_loss: 0.4077 - dense_4_loss: 0.0714 - loss: 1.2087\n",
      "Epoch 210/500\n",
      "\u001b[1m69/69\u001b[0m \u001b[32m━━━━━━━━━━━━━━━━━━━━\u001b[0m\u001b[37m\u001b[0m \u001b[1m0s\u001b[0m 2ms/step - dense_2_loss: 0.4748 - dense_3_loss: 0.2793 - dense_4_loss: 0.0768 - loss: 0.8297\n",
      "Epoch 211/500\n",
      "\u001b[1m69/69\u001b[0m \u001b[32m━━━━━━━━━━━━━━━━━━━━\u001b[0m\u001b[37m\u001b[0m \u001b[1m0s\u001b[0m 2ms/step - dense_2_loss: 0.5933 - dense_3_loss: 0.3469 - dense_4_loss: 0.1279 - loss: 1.0684\n",
      "Epoch 212/500\n",
      "\u001b[1m69/69\u001b[0m \u001b[32m━━━━━━━━━━━━━━━━━━━━\u001b[0m\u001b[37m\u001b[0m \u001b[1m0s\u001b[0m 2ms/step - dense_2_loss: 0.6712 - dense_3_loss: 0.3535 - dense_4_loss: 0.0835 - loss: 1.1083\n",
      "Epoch 213/500\n",
      "\u001b[1m69/69\u001b[0m \u001b[32m━━━━━━━━━━━━━━━━━━━━\u001b[0m\u001b[37m\u001b[0m \u001b[1m0s\u001b[0m 2ms/step - dense_2_loss: 0.7110 - dense_3_loss: 0.3812 - dense_4_loss: 0.0851 - loss: 1.1773\n",
      "Epoch 214/500\n",
      "\u001b[1m69/69\u001b[0m \u001b[32m━━━━━━━━━━━━━━━━━━━━\u001b[0m\u001b[37m\u001b[0m \u001b[1m0s\u001b[0m 2ms/step - dense_2_loss: 0.4591 - dense_3_loss: 0.2461 - dense_4_loss: 0.0815 - loss: 0.7867\n",
      "Epoch 215/500\n",
      "\u001b[1m69/69\u001b[0m \u001b[32m━━━━━━━━━━━━━━━━━━━━\u001b[0m\u001b[37m\u001b[0m \u001b[1m0s\u001b[0m 2ms/step - dense_2_loss: 0.4771 - dense_3_loss: 0.2587 - dense_4_loss: 0.0840 - loss: 0.8199\n",
      "Epoch 216/500\n",
      "\u001b[1m69/69\u001b[0m \u001b[32m━━━━━━━━━━━━━━━━━━━━\u001b[0m\u001b[37m\u001b[0m \u001b[1m0s\u001b[0m 2ms/step - dense_2_loss: 0.7779 - dense_3_loss: 0.4392 - dense_4_loss: 0.0850 - loss: 1.3008\n",
      "Epoch 217/500\n",
      "\u001b[1m69/69\u001b[0m \u001b[32m━━━━━━━━━━━━━━━━━━━━\u001b[0m\u001b[37m\u001b[0m \u001b[1m0s\u001b[0m 2ms/step - dense_2_loss: 0.5974 - dense_3_loss: 0.3696 - dense_4_loss: 0.0945 - loss: 1.0606\n",
      "Epoch 218/500\n",
      "\u001b[1m69/69\u001b[0m \u001b[32m━━━━━━━━━━━━━━━━━━━━\u001b[0m\u001b[37m\u001b[0m \u001b[1m0s\u001b[0m 2ms/step - dense_2_loss: 0.7477 - dense_3_loss: 0.4234 - dense_4_loss: 0.0836 - loss: 1.2549\n",
      "Epoch 219/500\n",
      "\u001b[1m69/69\u001b[0m \u001b[32m━━━━━━━━━━━━━━━━━━━━\u001b[0m\u001b[37m\u001b[0m \u001b[1m0s\u001b[0m 3ms/step - dense_2_loss: 0.5188 - dense_3_loss: 0.2828 - dense_4_loss: 0.0852 - loss: 0.8870\n",
      "Epoch 220/500\n",
      "\u001b[1m69/69\u001b[0m \u001b[32m━━━━━━━━━━━━━━━━━━━━\u001b[0m\u001b[37m\u001b[0m \u001b[1m0s\u001b[0m 2ms/step - dense_2_loss: 0.5562 - dense_3_loss: 0.3281 - dense_4_loss: 0.0554 - loss: 0.9397\n",
      "Epoch 221/500\n",
      "\u001b[1m69/69\u001b[0m \u001b[32m━━━━━━━━━━━━━━━━━━━━\u001b[0m\u001b[37m\u001b[0m \u001b[1m0s\u001b[0m 2ms/step - dense_2_loss: 0.6380 - dense_3_loss: 0.3547 - dense_4_loss: 0.0703 - loss: 1.0627\n",
      "Epoch 222/500\n",
      "\u001b[1m69/69\u001b[0m \u001b[32m━━━━━━━━━━━━━━━━━━━━\u001b[0m\u001b[37m\u001b[0m \u001b[1m0s\u001b[0m 2ms/step - dense_2_loss: 0.4428 - dense_3_loss: 0.2602 - dense_4_loss: 0.0605 - loss: 0.7636\n",
      "Epoch 223/500\n",
      "\u001b[1m69/69\u001b[0m \u001b[32m━━━━━━━━━━━━━━━━━━━━\u001b[0m\u001b[37m\u001b[0m \u001b[1m0s\u001b[0m 3ms/step - dense_2_loss: 0.5072 - dense_3_loss: 0.2832 - dense_4_loss: 0.0650 - loss: 0.8557\n",
      "Epoch 224/500\n",
      "\u001b[1m69/69\u001b[0m \u001b[32m━━━━━━━━━━━━━━━━━━━━\u001b[0m\u001b[37m\u001b[0m \u001b[1m0s\u001b[0m 2ms/step - dense_2_loss: 0.4525 - dense_3_loss: 0.2315 - dense_4_loss: 0.0611 - loss: 0.7451\n",
      "Epoch 225/500\n",
      "\u001b[1m69/69\u001b[0m \u001b[32m━━━━━━━━━━━━━━━━━━━━\u001b[0m\u001b[37m\u001b[0m \u001b[1m0s\u001b[0m 2ms/step - dense_2_loss: 0.5012 - dense_3_loss: 0.3057 - dense_4_loss: 0.0724 - loss: 0.8795\n",
      "Epoch 226/500\n",
      "\u001b[1m69/69\u001b[0m \u001b[32m━━━━━━━━━━━━━━━━━━━━\u001b[0m\u001b[37m\u001b[0m \u001b[1m0s\u001b[0m 2ms/step - dense_2_loss: 0.5726 - dense_3_loss: 0.2961 - dense_4_loss: 0.0740 - loss: 0.9429\n",
      "Epoch 227/500\n",
      "\u001b[1m69/69\u001b[0m \u001b[32m━━━━━━━━━━━━━━━━━━━━\u001b[0m\u001b[37m\u001b[0m \u001b[1m0s\u001b[0m 2ms/step - dense_2_loss: 0.5219 - dense_3_loss: 0.2816 - dense_4_loss: 0.0685 - loss: 0.8721\n",
      "Epoch 228/500\n",
      "\u001b[1m69/69\u001b[0m \u001b[32m━━━━━━━━━━━━━━━━━━━━\u001b[0m\u001b[37m\u001b[0m \u001b[1m0s\u001b[0m 2ms/step - dense_2_loss: 0.6708 - dense_3_loss: 0.4333 - dense_4_loss: 0.0748 - loss: 1.1791\n",
      "Epoch 229/500\n",
      "\u001b[1m69/69\u001b[0m \u001b[32m━━━━━━━━━━━━━━━━━━━━\u001b[0m\u001b[37m\u001b[0m \u001b[1m0s\u001b[0m 2ms/step - dense_2_loss: 0.4975 - dense_3_loss: 0.2708 - dense_4_loss: 0.0622 - loss: 0.8307\n",
      "Epoch 230/500\n",
      "\u001b[1m69/69\u001b[0m \u001b[32m━━━━━━━━━━━━━━━━━━━━\u001b[0m\u001b[37m\u001b[0m \u001b[1m0s\u001b[0m 2ms/step - dense_2_loss: 0.8325 - dense_3_loss: 0.4558 - dense_4_loss: 0.0712 - loss: 1.3597\n",
      "Epoch 231/500\n",
      "\u001b[1m69/69\u001b[0m \u001b[32m━━━━━━━━━━━━━━━━━━━━\u001b[0m\u001b[37m\u001b[0m \u001b[1m0s\u001b[0m 2ms/step - dense_2_loss: 0.6323 - dense_3_loss: 0.3374 - dense_4_loss: 0.0730 - loss: 1.0429\n",
      "Epoch 232/500\n",
      "\u001b[1m69/69\u001b[0m \u001b[32m━━━━━━━━━━━━━━━━━━━━\u001b[0m\u001b[37m\u001b[0m \u001b[1m0s\u001b[0m 2ms/step - dense_2_loss: 0.4559 - dense_3_loss: 0.2779 - dense_4_loss: 0.0549 - loss: 0.7889\n",
      "Epoch 233/500\n",
      "\u001b[1m69/69\u001b[0m \u001b[32m━━━━━━━━━━━━━━━━━━━━\u001b[0m\u001b[37m\u001b[0m \u001b[1m0s\u001b[0m 4ms/step - dense_2_loss: 0.8211 - dense_3_loss: 0.4565 - dense_4_loss: 0.0606 - loss: 1.3385\n",
      "Epoch 234/500\n",
      "\u001b[1m69/69\u001b[0m \u001b[32m━━━━━━━━━━━━━━━━━━━━\u001b[0m\u001b[37m\u001b[0m \u001b[1m0s\u001b[0m 3ms/step - dense_2_loss: 0.4908 - dense_3_loss: 0.2710 - dense_4_loss: 0.0584 - loss: 0.8205\n",
      "Epoch 235/500\n",
      "\u001b[1m69/69\u001b[0m \u001b[32m━━━━━━━━━━━━━━━━━━━━\u001b[0m\u001b[37m\u001b[0m \u001b[1m0s\u001b[0m 3ms/step - dense_2_loss: 0.4567 - dense_3_loss: 0.3013 - dense_4_loss: 0.0885 - loss: 0.8468\n",
      "Epoch 236/500\n",
      "\u001b[1m69/69\u001b[0m \u001b[32m━━━━━━━━━━━━━━━━━━━━\u001b[0m\u001b[37m\u001b[0m \u001b[1m0s\u001b[0m 2ms/step - dense_2_loss: 0.3564 - dense_3_loss: 0.2268 - dense_4_loss: 0.0573 - loss: 0.6407\n",
      "Epoch 237/500\n",
      "\u001b[1m69/69\u001b[0m \u001b[32m━━━━━━━━━━━━━━━━━━━━\u001b[0m\u001b[37m\u001b[0m \u001b[1m0s\u001b[0m 2ms/step - dense_2_loss: 0.5442 - dense_3_loss: 0.2967 - dense_4_loss: 0.0637 - loss: 0.9048\n",
      "Epoch 238/500\n",
      "\u001b[1m69/69\u001b[0m \u001b[32m━━━━━━━━━━━━━━━━━━━━\u001b[0m\u001b[37m\u001b[0m \u001b[1m0s\u001b[0m 2ms/step - dense_2_loss: 0.3549 - dense_3_loss: 0.2108 - dense_4_loss: 0.0564 - loss: 0.6222\n",
      "Epoch 239/500\n",
      "\u001b[1m69/69\u001b[0m \u001b[32m━━━━━━━━━━━━━━━━━━━━\u001b[0m\u001b[37m\u001b[0m \u001b[1m0s\u001b[0m 2ms/step - dense_2_loss: 0.4592 - dense_3_loss: 0.2734 - dense_4_loss: 0.0670 - loss: 0.7997\n",
      "Epoch 240/500\n",
      "\u001b[1m69/69\u001b[0m \u001b[32m━━━━━━━━━━━━━━━━━━━━\u001b[0m\u001b[37m\u001b[0m \u001b[1m0s\u001b[0m 2ms/step - dense_2_loss: 0.4605 - dense_3_loss: 0.2278 - dense_4_loss: 0.0561 - loss: 0.7446\n",
      "Epoch 241/500\n",
      "\u001b[1m69/69\u001b[0m \u001b[32m━━━━━━━━━━━━━━━━━━━━\u001b[0m\u001b[37m\u001b[0m \u001b[1m0s\u001b[0m 3ms/step - dense_2_loss: 0.5420 - dense_3_loss: 0.3085 - dense_4_loss: 0.0806 - loss: 0.9314\n",
      "Epoch 242/500\n",
      "\u001b[1m69/69\u001b[0m \u001b[32m━━━━━━━━━━━━━━━━━━━━\u001b[0m\u001b[37m\u001b[0m \u001b[1m0s\u001b[0m 4ms/step - dense_2_loss: 0.4383 - dense_3_loss: 0.2595 - dense_4_loss: 0.0651 - loss: 0.7632\n",
      "Epoch 243/500\n",
      "\u001b[1m69/69\u001b[0m \u001b[32m━━━━━━━━━━━━━━━━━━━━\u001b[0m\u001b[37m\u001b[0m \u001b[1m0s\u001b[0m 3ms/step - dense_2_loss: 0.5788 - dense_3_loss: 0.3451 - dense_4_loss: 0.0686 - loss: 0.9924\n",
      "Epoch 244/500\n",
      "\u001b[1m69/69\u001b[0m \u001b[32m━━━━━━━━━━━━━━━━━━━━\u001b[0m\u001b[37m\u001b[0m \u001b[1m0s\u001b[0m 3ms/step - dense_2_loss: 1.1847 - dense_3_loss: 0.6445 - dense_4_loss: 0.0767 - loss: 1.9059\n",
      "Epoch 245/500\n",
      "\u001b[1m69/69\u001b[0m \u001b[32m━━━━━━━━━━━━━━━━━━━━\u001b[0m\u001b[37m\u001b[0m \u001b[1m0s\u001b[0m 3ms/step - dense_2_loss: 0.9907 - dense_3_loss: 0.5183 - dense_4_loss: 0.0728 - loss: 1.5819\n",
      "Epoch 246/500\n",
      "\u001b[1m69/69\u001b[0m \u001b[32m━━━━━━━━━━━━━━━━━━━━\u001b[0m\u001b[37m\u001b[0m \u001b[1m0s\u001b[0m 5ms/step - dense_2_loss: 0.6949 - dense_3_loss: 0.3265 - dense_4_loss: 0.0679 - loss: 1.0896\n",
      "Epoch 247/500\n",
      "\u001b[1m69/69\u001b[0m \u001b[32m━━━━━━━━━━━━━━━━━━━━\u001b[0m\u001b[37m\u001b[0m \u001b[1m0s\u001b[0m 3ms/step - dense_2_loss: 0.3507 - dense_3_loss: 0.2229 - dense_4_loss: 0.0684 - loss: 0.6423\n",
      "Epoch 248/500\n",
      "\u001b[1m69/69\u001b[0m \u001b[32m━━━━━━━━━━━━━━━━━━━━\u001b[0m\u001b[37m\u001b[0m \u001b[1m0s\u001b[0m 3ms/step - dense_2_loss: 0.5799 - dense_3_loss: 0.3346 - dense_4_loss: 0.0811 - loss: 0.9958\n",
      "Epoch 249/500\n",
      "\u001b[1m69/69\u001b[0m \u001b[32m━━━━━━━━━━━━━━━━━━━━\u001b[0m\u001b[37m\u001b[0m \u001b[1m0s\u001b[0m 4ms/step - dense_2_loss: 0.4259 - dense_3_loss: 0.2633 - dense_4_loss: 0.0530 - loss: 0.7425\n",
      "Epoch 250/500\n",
      "\u001b[1m69/69\u001b[0m \u001b[32m━━━━━━━━━━━━━━━━━━━━\u001b[0m\u001b[37m\u001b[0m \u001b[1m0s\u001b[0m 2ms/step - dense_2_loss: 0.4846 - dense_3_loss: 0.2662 - dense_4_loss: 0.0561 - loss: 0.8069\n",
      "Epoch 251/500\n",
      "\u001b[1m69/69\u001b[0m \u001b[32m━━━━━━━━━━━━━━━━━━━━\u001b[0m\u001b[37m\u001b[0m \u001b[1m0s\u001b[0m 3ms/step - dense_2_loss: 0.5026 - dense_3_loss: 0.3289 - dense_4_loss: 0.0743 - loss: 0.9061\n",
      "Epoch 252/500\n",
      "\u001b[1m69/69\u001b[0m \u001b[32m━━━━━━━━━━━━━━━━━━━━\u001b[0m\u001b[37m\u001b[0m \u001b[1m0s\u001b[0m 2ms/step - dense_2_loss: 0.4550 - dense_3_loss: 0.2764 - dense_4_loss: 0.0743 - loss: 0.8060\n",
      "Epoch 253/500\n",
      "\u001b[1m69/69\u001b[0m \u001b[32m━━━━━━━━━━━━━━━━━━━━\u001b[0m\u001b[37m\u001b[0m \u001b[1m0s\u001b[0m 2ms/step - dense_2_loss: 0.5185 - dense_3_loss: 0.2754 - dense_4_loss: 0.0624 - loss: 0.8565\n",
      "Epoch 254/500\n",
      "\u001b[1m69/69\u001b[0m \u001b[32m━━━━━━━━━━━━━━━━━━━━\u001b[0m\u001b[37m\u001b[0m \u001b[1m0s\u001b[0m 3ms/step - dense_2_loss: 0.4365 - dense_3_loss: 0.2335 - dense_4_loss: 0.0617 - loss: 0.7316\n",
      "Epoch 255/500\n",
      "\u001b[1m69/69\u001b[0m \u001b[32m━━━━━━━━━━━━━━━━━━━━\u001b[0m\u001b[37m\u001b[0m \u001b[1m0s\u001b[0m 3ms/step - dense_2_loss: 1.2232 - dense_3_loss: 0.6173 - dense_4_loss: 0.0875 - loss: 1.9280\n",
      "Epoch 256/500\n",
      "\u001b[1m69/69\u001b[0m \u001b[32m━━━━━━━━━━━━━━━━━━━━\u001b[0m\u001b[37m\u001b[0m \u001b[1m0s\u001b[0m 4ms/step - dense_2_loss: 0.8113 - dense_3_loss: 0.4001 - dense_4_loss: 0.0610 - loss: 1.2725\n",
      "Epoch 257/500\n",
      "\u001b[1m69/69\u001b[0m \u001b[32m━━━━━━━━━━━━━━━━━━━━\u001b[0m\u001b[37m\u001b[0m \u001b[1m0s\u001b[0m 3ms/step - dense_2_loss: 0.4630 - dense_3_loss: 0.2518 - dense_4_loss: 0.0744 - loss: 0.7895\n",
      "Epoch 258/500\n",
      "\u001b[1m69/69\u001b[0m \u001b[32m━━━━━━━━━━━━━━━━━━━━\u001b[0m\u001b[37m\u001b[0m \u001b[1m0s\u001b[0m 3ms/step - dense_2_loss: 0.5139 - dense_3_loss: 0.2642 - dense_4_loss: 0.0604 - loss: 0.8386\n",
      "Epoch 259/500\n",
      "\u001b[1m69/69\u001b[0m \u001b[32m━━━━━━━━━━━━━━━━━━━━\u001b[0m\u001b[37m\u001b[0m \u001b[1m0s\u001b[0m 2ms/step - dense_2_loss: 0.9404 - dense_3_loss: 0.5448 - dense_4_loss: 0.0847 - loss: 1.5701\n",
      "Epoch 260/500\n",
      "\u001b[1m69/69\u001b[0m \u001b[32m━━━━━━━━━━━━━━━━━━━━\u001b[0m\u001b[37m\u001b[0m \u001b[1m0s\u001b[0m 3ms/step - dense_2_loss: 0.5943 - dense_3_loss: 0.3150 - dense_4_loss: 0.0604 - loss: 0.9698\n",
      "Epoch 261/500\n",
      "\u001b[1m69/69\u001b[0m \u001b[32m━━━━━━━━━━━━━━━━━━━━\u001b[0m\u001b[37m\u001b[0m \u001b[1m0s\u001b[0m 3ms/step - dense_2_loss: 0.4285 - dense_3_loss: 0.2465 - dense_4_loss: 0.0733 - loss: 0.7485\n",
      "Epoch 262/500\n",
      "\u001b[1m69/69\u001b[0m \u001b[32m━━━━━━━━━━━━━━━━━━━━\u001b[0m\u001b[37m\u001b[0m \u001b[1m0s\u001b[0m 4ms/step - dense_2_loss: 0.7857 - dense_3_loss: 0.3841 - dense_4_loss: 0.0685 - loss: 1.2348\n",
      "Epoch 263/500\n",
      "\u001b[1m69/69\u001b[0m \u001b[32m━━━━━━━━━━━━━━━━━━━━\u001b[0m\u001b[37m\u001b[0m \u001b[1m0s\u001b[0m 2ms/step - dense_2_loss: 0.5332 - dense_3_loss: 0.2929 - dense_4_loss: 0.0686 - loss: 0.8950\n",
      "Epoch 264/500\n",
      "\u001b[1m69/69\u001b[0m \u001b[32m━━━━━━━━━━━━━━━━━━━━\u001b[0m\u001b[37m\u001b[0m \u001b[1m0s\u001b[0m 2ms/step - dense_2_loss: 0.4231 - dense_3_loss: 0.2979 - dense_4_loss: 0.0550 - loss: 0.7762\n",
      "Epoch 265/500\n",
      "\u001b[1m69/69\u001b[0m \u001b[32m━━━━━━━━━━━━━━━━━━━━\u001b[0m\u001b[37m\u001b[0m \u001b[1m0s\u001b[0m 3ms/step - dense_2_loss: 0.5820 - dense_3_loss: 0.3411 - dense_4_loss: 0.0798 - loss: 1.0030\n",
      "Epoch 266/500\n",
      "\u001b[1m69/69\u001b[0m \u001b[32m━━━━━━━━━━━━━━━━━━━━\u001b[0m\u001b[37m\u001b[0m \u001b[1m0s\u001b[0m 3ms/step - dense_2_loss: 0.6949 - dense_3_loss: 0.3732 - dense_4_loss: 0.0853 - loss: 1.1536\n",
      "Epoch 267/500\n",
      "\u001b[1m69/69\u001b[0m \u001b[32m━━━━━━━━━━━━━━━━━━━━\u001b[0m\u001b[37m\u001b[0m \u001b[1m0s\u001b[0m 2ms/step - dense_2_loss: 0.5379 - dense_3_loss: 0.2874 - dense_4_loss: 0.0553 - loss: 0.8806\n",
      "Epoch 268/500\n",
      "\u001b[1m69/69\u001b[0m \u001b[32m━━━━━━━━━━━━━━━━━━━━\u001b[0m\u001b[37m\u001b[0m \u001b[1m0s\u001b[0m 3ms/step - dense_2_loss: 0.7189 - dense_3_loss: 0.3468 - dense_4_loss: 0.0592 - loss: 1.1250\n",
      "Epoch 269/500\n",
      "\u001b[1m69/69\u001b[0m \u001b[32m━━━━━━━━━━━━━━━━━━━━\u001b[0m\u001b[37m\u001b[0m \u001b[1m0s\u001b[0m 2ms/step - dense_2_loss: 0.4819 - dense_3_loss: 0.3123 - dense_4_loss: 0.0721 - loss: 0.8666\n",
      "Epoch 270/500\n",
      "\u001b[1m69/69\u001b[0m \u001b[32m━━━━━━━━━━━━━━━━━━━━\u001b[0m\u001b[37m\u001b[0m \u001b[1m0s\u001b[0m 2ms/step - dense_2_loss: 0.5773 - dense_3_loss: 0.3338 - dense_4_loss: 0.0680 - loss: 0.9792\n",
      "Epoch 271/500\n",
      "\u001b[1m69/69\u001b[0m \u001b[32m━━━━━━━━━━━━━━━━━━━━\u001b[0m\u001b[37m\u001b[0m \u001b[1m0s\u001b[0m 2ms/step - dense_2_loss: 0.3974 - dense_3_loss: 0.2326 - dense_4_loss: 0.0532 - loss: 0.6832\n",
      "Epoch 272/500\n",
      "\u001b[1m69/69\u001b[0m \u001b[32m━━━━━━━━━━━━━━━━━━━━\u001b[0m\u001b[37m\u001b[0m \u001b[1m0s\u001b[0m 2ms/step - dense_2_loss: 0.4121 - dense_3_loss: 0.2274 - dense_4_loss: 0.0630 - loss: 0.7026\n",
      "Epoch 273/500\n",
      "\u001b[1m69/69\u001b[0m \u001b[32m━━━━━━━━━━━━━━━━━━━━\u001b[0m\u001b[37m\u001b[0m \u001b[1m0s\u001b[0m 2ms/step - dense_2_loss: 0.9337 - dense_3_loss: 0.5136 - dense_4_loss: 0.0928 - loss: 1.5403\n",
      "Epoch 274/500\n",
      "\u001b[1m69/69\u001b[0m \u001b[32m━━━━━━━━━━━━━━━━━━━━\u001b[0m\u001b[37m\u001b[0m \u001b[1m0s\u001b[0m 3ms/step - dense_2_loss: 0.8625 - dense_3_loss: 0.4629 - dense_4_loss: 0.0708 - loss: 1.3964\n",
      "Epoch 275/500\n",
      "\u001b[1m69/69\u001b[0m \u001b[32m━━━━━━━━━━━━━━━━━━━━\u001b[0m\u001b[37m\u001b[0m \u001b[1m0s\u001b[0m 2ms/step - dense_2_loss: 0.4275 - dense_3_loss: 0.2824 - dense_4_loss: 0.0687 - loss: 0.7784\n",
      "Epoch 276/500\n",
      "\u001b[1m69/69\u001b[0m \u001b[32m━━━━━━━━━━━━━━━━━━━━\u001b[0m\u001b[37m\u001b[0m \u001b[1m0s\u001b[0m 2ms/step - dense_2_loss: 0.4832 - dense_3_loss: 0.2404 - dense_4_loss: 0.0651 - loss: 0.7881\n",
      "Epoch 277/500\n",
      "\u001b[1m69/69\u001b[0m \u001b[32m━━━━━━━━━━━━━━━━━━━━\u001b[0m\u001b[37m\u001b[0m \u001b[1m0s\u001b[0m 3ms/step - dense_2_loss: 0.7187 - dense_3_loss: 0.3817 - dense_4_loss: 0.0764 - loss: 1.1770\n",
      "Epoch 278/500\n",
      "\u001b[1m69/69\u001b[0m \u001b[32m━━━━━━━━━━━━━━━━━━━━\u001b[0m\u001b[37m\u001b[0m \u001b[1m0s\u001b[0m 2ms/step - dense_2_loss: 0.3429 - dense_3_loss: 0.1946 - dense_4_loss: 0.0528 - loss: 0.5903\n",
      "Epoch 279/500\n",
      "\u001b[1m69/69\u001b[0m \u001b[32m━━━━━━━━━━━━━━━━━━━━\u001b[0m\u001b[37m\u001b[0m \u001b[1m0s\u001b[0m 2ms/step - dense_2_loss: 0.5466 - dense_3_loss: 0.2870 - dense_4_loss: 0.0816 - loss: 0.9155\n",
      "Epoch 280/500\n",
      "\u001b[1m69/69\u001b[0m \u001b[32m━━━━━━━━━━━━━━━━━━━━\u001b[0m\u001b[37m\u001b[0m \u001b[1m0s\u001b[0m 2ms/step - dense_2_loss: 0.3886 - dense_3_loss: 0.2251 - dense_4_loss: 0.0485 - loss: 0.6624\n",
      "Epoch 281/500\n",
      "\u001b[1m69/69\u001b[0m \u001b[32m━━━━━━━━━━━━━━━━━━━━\u001b[0m\u001b[37m\u001b[0m \u001b[1m0s\u001b[0m 3ms/step - dense_2_loss: 0.3937 - dense_3_loss: 0.2014 - dense_4_loss: 0.0662 - loss: 0.6614\n",
      "Epoch 282/500\n",
      "\u001b[1m69/69\u001b[0m \u001b[32m━━━━━━━━━━━━━━━━━━━━\u001b[0m\u001b[37m\u001b[0m \u001b[1m0s\u001b[0m 2ms/step - dense_2_loss: 0.4479 - dense_3_loss: 0.2639 - dense_4_loss: 0.0886 - loss: 0.8005\n",
      "Epoch 283/500\n",
      "\u001b[1m69/69\u001b[0m \u001b[32m━━━━━━━━━━━━━━━━━━━━\u001b[0m\u001b[37m\u001b[0m \u001b[1m0s\u001b[0m 2ms/step - dense_2_loss: 0.4835 - dense_3_loss: 0.2604 - dense_4_loss: 0.0760 - loss: 0.8202\n",
      "Epoch 284/500\n",
      "\u001b[1m69/69\u001b[0m \u001b[32m━━━━━━━━━━━━━━━━━━━━\u001b[0m\u001b[37m\u001b[0m \u001b[1m0s\u001b[0m 3ms/step - dense_2_loss: 0.5379 - dense_3_loss: 0.3085 - dense_4_loss: 0.0608 - loss: 0.9073\n",
      "Epoch 285/500\n",
      "\u001b[1m69/69\u001b[0m \u001b[32m━━━━━━━━━━━━━━━━━━━━\u001b[0m\u001b[37m\u001b[0m \u001b[1m0s\u001b[0m 2ms/step - dense_2_loss: 0.7037 - dense_3_loss: 0.3786 - dense_4_loss: 0.0655 - loss: 1.1458\n",
      "Epoch 286/500\n",
      "\u001b[1m69/69\u001b[0m \u001b[32m━━━━━━━━━━━━━━━━━━━━\u001b[0m\u001b[37m\u001b[0m \u001b[1m0s\u001b[0m 2ms/step - dense_2_loss: 0.6491 - dense_3_loss: 0.3459 - dense_4_loss: 0.0737 - loss: 1.0690\n",
      "Epoch 287/500\n",
      "\u001b[1m69/69\u001b[0m \u001b[32m━━━━━━━━━━━━━━━━━━━━\u001b[0m\u001b[37m\u001b[0m \u001b[1m0s\u001b[0m 2ms/step - dense_2_loss: 0.3580 - dense_3_loss: 0.2022 - dense_4_loss: 0.0587 - loss: 0.6189\n",
      "Epoch 288/500\n",
      "\u001b[1m69/69\u001b[0m \u001b[32m━━━━━━━━━━━━━━━━━━━━\u001b[0m\u001b[37m\u001b[0m \u001b[1m0s\u001b[0m 3ms/step - dense_2_loss: 1.0178 - dense_3_loss: 0.4887 - dense_4_loss: 0.0645 - loss: 1.5713\n",
      "Epoch 289/500\n",
      "\u001b[1m69/69\u001b[0m \u001b[32m━━━━━━━━━━━━━━━━━━━━\u001b[0m\u001b[37m\u001b[0m \u001b[1m0s\u001b[0m 4ms/step - dense_2_loss: 0.6405 - dense_3_loss: 0.3447 - dense_4_loss: 0.0525 - loss: 1.0379\n",
      "Epoch 290/500\n",
      "\u001b[1m69/69\u001b[0m \u001b[32m━━━━━━━━━━━━━━━━━━━━\u001b[0m\u001b[37m\u001b[0m \u001b[1m0s\u001b[0m 3ms/step - dense_2_loss: 0.6657 - dense_3_loss: 0.3444 - dense_4_loss: 0.0674 - loss: 1.0779\n",
      "Epoch 291/500\n",
      "\u001b[1m69/69\u001b[0m \u001b[32m━━━━━━━━━━━━━━━━━━━━\u001b[0m\u001b[37m\u001b[0m \u001b[1m0s\u001b[0m 2ms/step - dense_2_loss: 0.5620 - dense_3_loss: 0.3427 - dense_4_loss: 0.0547 - loss: 0.9589\n",
      "Epoch 292/500\n",
      "\u001b[1m69/69\u001b[0m \u001b[32m━━━━━━━━━━━━━━━━━━━━\u001b[0m\u001b[37m\u001b[0m \u001b[1m0s\u001b[0m 2ms/step - dense_2_loss: 0.5788 - dense_3_loss: 0.2740 - dense_4_loss: 0.0582 - loss: 0.9110\n",
      "Epoch 293/500\n",
      "\u001b[1m69/69\u001b[0m \u001b[32m━━━━━━━━━━━━━━━━━━━━\u001b[0m\u001b[37m\u001b[0m \u001b[1m0s\u001b[0m 2ms/step - dense_2_loss: 0.4815 - dense_3_loss: 0.2482 - dense_4_loss: 0.0571 - loss: 0.7868\n",
      "Epoch 294/500\n",
      "\u001b[1m69/69\u001b[0m \u001b[32m━━━━━━━━━━━━━━━━━━━━\u001b[0m\u001b[37m\u001b[0m \u001b[1m0s\u001b[0m 4ms/step - dense_2_loss: 0.5752 - dense_3_loss: 0.3008 - dense_4_loss: 0.0762 - loss: 0.9524\n",
      "Epoch 295/500\n",
      "\u001b[1m69/69\u001b[0m \u001b[32m━━━━━━━━━━━━━━━━━━━━\u001b[0m\u001b[37m\u001b[0m \u001b[1m0s\u001b[0m 3ms/step - dense_2_loss: 0.5604 - dense_3_loss: 0.3023 - dense_4_loss: 0.0782 - loss: 0.9412\n",
      "Epoch 296/500\n",
      "\u001b[1m69/69\u001b[0m \u001b[32m━━━━━━━━━━━━━━━━━━━━\u001b[0m\u001b[37m\u001b[0m \u001b[1m0s\u001b[0m 4ms/step - dense_2_loss: 0.7141 - dense_3_loss: 0.3700 - dense_4_loss: 0.0668 - loss: 1.1512\n",
      "Epoch 297/500\n",
      "\u001b[1m69/69\u001b[0m \u001b[32m━━━━━━━━━━━━━━━━━━━━\u001b[0m\u001b[37m\u001b[0m \u001b[1m1s\u001b[0m 4ms/step - dense_2_loss: 0.6112 - dense_3_loss: 0.3031 - dense_4_loss: 0.0636 - loss: 0.9780\n",
      "Epoch 298/500\n",
      "\u001b[1m69/69\u001b[0m \u001b[32m━━━━━━━━━━━━━━━━━━━━\u001b[0m\u001b[37m\u001b[0m \u001b[1m0s\u001b[0m 3ms/step - dense_2_loss: 0.6263 - dense_3_loss: 0.3584 - dense_4_loss: 0.0640 - loss: 1.0488\n",
      "Epoch 299/500\n",
      "\u001b[1m69/69\u001b[0m \u001b[32m━━━━━━━━━━━━━━━━━━━━\u001b[0m\u001b[37m\u001b[0m \u001b[1m0s\u001b[0m 3ms/step - dense_2_loss: 0.6681 - dense_3_loss: 0.3576 - dense_4_loss: 0.0787 - loss: 1.1048\n",
      "Epoch 300/500\n",
      "\u001b[1m69/69\u001b[0m \u001b[32m━━━━━━━━━━━━━━━━━━━━\u001b[0m\u001b[37m\u001b[0m \u001b[1m0s\u001b[0m 2ms/step - dense_2_loss: 0.5930 - dense_3_loss: 0.3180 - dense_4_loss: 0.0585 - loss: 0.9674\n",
      "Epoch 301/500\n",
      "\u001b[1m69/69\u001b[0m \u001b[32m━━━━━━━━━━━━━━━━━━━━\u001b[0m\u001b[37m\u001b[0m \u001b[1m0s\u001b[0m 3ms/step - dense_2_loss: 0.4735 - dense_3_loss: 0.2572 - dense_4_loss: 0.0510 - loss: 0.7819\n",
      "Epoch 302/500\n",
      "\u001b[1m69/69\u001b[0m \u001b[32m━━━━━━━━━━━━━━━━━━━━\u001b[0m\u001b[37m\u001b[0m \u001b[1m0s\u001b[0m 3ms/step - dense_2_loss: 0.6539 - dense_3_loss: 0.3416 - dense_4_loss: 0.0765 - loss: 1.0723\n",
      "Epoch 303/500\n",
      "\u001b[1m69/69\u001b[0m \u001b[32m━━━━━━━━━━━━━━━━━━━━\u001b[0m\u001b[37m\u001b[0m \u001b[1m0s\u001b[0m 4ms/step - dense_2_loss: 0.4377 - dense_3_loss: 0.2306 - dense_4_loss: 0.0646 - loss: 0.7330\n",
      "Epoch 304/500\n",
      "\u001b[1m69/69\u001b[0m \u001b[32m━━━━━━━━━━━━━━━━━━━━\u001b[0m\u001b[37m\u001b[0m \u001b[1m0s\u001b[0m 2ms/step - dense_2_loss: 0.4678 - dense_3_loss: 0.2303 - dense_4_loss: 0.0557 - loss: 0.7539\n",
      "Epoch 305/500\n",
      "\u001b[1m69/69\u001b[0m \u001b[32m━━━━━━━━━━━━━━━━━━━━\u001b[0m\u001b[37m\u001b[0m \u001b[1m0s\u001b[0m 3ms/step - dense_2_loss: 0.6608 - dense_3_loss: 0.3849 - dense_4_loss: 0.0886 - loss: 1.1345\n",
      "Epoch 306/500\n",
      "\u001b[1m69/69\u001b[0m \u001b[32m━━━━━━━━━━━━━━━━━━━━\u001b[0m\u001b[37m\u001b[0m \u001b[1m0s\u001b[0m 3ms/step - dense_2_loss: 0.5517 - dense_3_loss: 0.2801 - dense_4_loss: 0.0694 - loss: 0.9015\n",
      "Epoch 307/500\n",
      "\u001b[1m69/69\u001b[0m \u001b[32m━━━━━━━━━━━━━━━━━━━━\u001b[0m\u001b[37m\u001b[0m \u001b[1m0s\u001b[0m 3ms/step - dense_2_loss: 0.7531 - dense_3_loss: 0.3591 - dense_4_loss: 0.0637 - loss: 1.1762\n",
      "Epoch 308/500\n",
      "\u001b[1m69/69\u001b[0m \u001b[32m━━━━━━━━━━━━━━━━━━━━\u001b[0m\u001b[37m\u001b[0m \u001b[1m0s\u001b[0m 3ms/step - dense_2_loss: 0.3837 - dense_3_loss: 0.2463 - dense_4_loss: 0.0587 - loss: 0.6875\n",
      "Epoch 309/500\n",
      "\u001b[1m69/69\u001b[0m \u001b[32m━━━━━━━━━━━━━━━━━━━━\u001b[0m\u001b[37m\u001b[0m \u001b[1m0s\u001b[0m 3ms/step - dense_2_loss: 0.5633 - dense_3_loss: 0.3401 - dense_4_loss: 0.0631 - loss: 0.9667\n",
      "Epoch 310/500\n",
      "\u001b[1m69/69\u001b[0m \u001b[32m━━━━━━━━━━━━━━━━━━━━\u001b[0m\u001b[37m\u001b[0m \u001b[1m1s\u001b[0m 5ms/step - dense_2_loss: 0.4380 - dense_3_loss: 0.2152 - dense_4_loss: 0.0577 - loss: 0.7111\n",
      "Epoch 311/500\n",
      "\u001b[1m69/69\u001b[0m \u001b[32m━━━━━━━━━━━━━━━━━━━━\u001b[0m\u001b[37m\u001b[0m \u001b[1m0s\u001b[0m 2ms/step - dense_2_loss: 0.5671 - dense_3_loss: 0.3677 - dense_4_loss: 0.0942 - loss: 1.0292\n",
      "Epoch 312/500\n",
      "\u001b[1m69/69\u001b[0m \u001b[32m━━━━━━━━━━━━━━━━━━━━\u001b[0m\u001b[37m\u001b[0m \u001b[1m0s\u001b[0m 2ms/step - dense_2_loss: 0.4592 - dense_3_loss: 0.2967 - dense_4_loss: 0.0781 - loss: 0.8341\n",
      "Epoch 313/500\n",
      "\u001b[1m69/69\u001b[0m \u001b[32m━━━━━━━━━━━━━━━━━━━━\u001b[0m\u001b[37m\u001b[0m \u001b[1m0s\u001b[0m 2ms/step - dense_2_loss: 0.9867 - dense_3_loss: 0.5554 - dense_4_loss: 0.0950 - loss: 1.6375\n",
      "Epoch 314/500\n",
      "\u001b[1m69/69\u001b[0m \u001b[32m━━━━━━━━━━━━━━━━━━━━\u001b[0m\u001b[37m\u001b[0m \u001b[1m0s\u001b[0m 2ms/step - dense_2_loss: 0.3222 - dense_3_loss: 0.2246 - dense_4_loss: 0.0597 - loss: 0.6038\n",
      "Epoch 315/500\n",
      "\u001b[1m69/69\u001b[0m \u001b[32m━━━━━━━━━━━━━━━━━━━━\u001b[0m\u001b[37m\u001b[0m \u001b[1m0s\u001b[0m 3ms/step - dense_2_loss: 0.5854 - dense_3_loss: 0.2579 - dense_4_loss: 0.0710 - loss: 0.9146\n",
      "Epoch 316/500\n",
      "\u001b[1m69/69\u001b[0m \u001b[32m━━━━━━━━━━━━━━━━━━━━\u001b[0m\u001b[37m\u001b[0m \u001b[1m0s\u001b[0m 3ms/step - dense_2_loss: 0.5324 - dense_3_loss: 0.3149 - dense_4_loss: 0.0673 - loss: 0.9148\n",
      "Epoch 317/500\n",
      "\u001b[1m69/69\u001b[0m \u001b[32m━━━━━━━━━━━━━━━━━━━━\u001b[0m\u001b[37m\u001b[0m \u001b[1m0s\u001b[0m 2ms/step - dense_2_loss: 0.5209 - dense_3_loss: 0.2773 - dense_4_loss: 0.0591 - loss: 0.8576\n",
      "Epoch 318/500\n",
      "\u001b[1m69/69\u001b[0m \u001b[32m━━━━━━━━━━━━━━━━━━━━\u001b[0m\u001b[37m\u001b[0m \u001b[1m0s\u001b[0m 2ms/step - dense_2_loss: 0.5853 - dense_3_loss: 0.3016 - dense_4_loss: 0.0734 - loss: 0.9595\n",
      "Epoch 319/500\n",
      "\u001b[1m69/69\u001b[0m \u001b[32m━━━━━━━━━━━━━━━━━━━━\u001b[0m\u001b[37m\u001b[0m \u001b[1m0s\u001b[0m 3ms/step - dense_2_loss: 0.6672 - dense_3_loss: 0.3656 - dense_4_loss: 0.0713 - loss: 1.1043\n",
      "Epoch 320/500\n",
      "\u001b[1m69/69\u001b[0m \u001b[32m━━━━━━━━━━━━━━━━━━━━\u001b[0m\u001b[37m\u001b[0m \u001b[1m0s\u001b[0m 2ms/step - dense_2_loss: 0.5042 - dense_3_loss: 0.2837 - dense_4_loss: 0.0535 - loss: 0.8416\n",
      "Epoch 321/500\n",
      "\u001b[1m69/69\u001b[0m \u001b[32m━━━━━━━━━━━━━━━━━━━━\u001b[0m\u001b[37m\u001b[0m \u001b[1m0s\u001b[0m 2ms/step - dense_2_loss: 0.6695 - dense_3_loss: 0.3542 - dense_4_loss: 0.0648 - loss: 1.0887\n",
      "Epoch 322/500\n",
      "\u001b[1m69/69\u001b[0m \u001b[32m━━━━━━━━━━━━━━━━━━━━\u001b[0m\u001b[37m\u001b[0m \u001b[1m0s\u001b[0m 2ms/step - dense_2_loss: 0.7502 - dense_3_loss: 0.3867 - dense_4_loss: 0.0466 - loss: 1.1837\n",
      "Epoch 323/500\n",
      "\u001b[1m69/69\u001b[0m \u001b[32m━━━━━━━━━━━━━━━━━━━━\u001b[0m\u001b[37m\u001b[0m \u001b[1m0s\u001b[0m 2ms/step - dense_2_loss: 0.5972 - dense_3_loss: 0.3435 - dense_4_loss: 0.0637 - loss: 1.0046\n",
      "Epoch 324/500\n",
      "\u001b[1m69/69\u001b[0m \u001b[32m━━━━━━━━━━━━━━━━━━━━\u001b[0m\u001b[37m\u001b[0m \u001b[1m0s\u001b[0m 2ms/step - dense_2_loss: 0.6991 - dense_3_loss: 0.3956 - dense_4_loss: 0.0625 - loss: 1.1576\n",
      "Epoch 325/500\n",
      "\u001b[1m69/69\u001b[0m \u001b[32m━━━━━━━━━━━━━━━━━━━━\u001b[0m\u001b[37m\u001b[0m \u001b[1m0s\u001b[0m 3ms/step - dense_2_loss: 0.3975 - dense_3_loss: 0.2021 - dense_4_loss: 0.0495 - loss: 0.6493\n",
      "Epoch 326/500\n",
      "\u001b[1m69/69\u001b[0m \u001b[32m━━━━━━━━━━━━━━━━━━━━\u001b[0m\u001b[37m\u001b[0m \u001b[1m0s\u001b[0m 2ms/step - dense_2_loss: 0.5308 - dense_3_loss: 0.2741 - dense_4_loss: 0.0651 - loss: 0.8699\n",
      "Epoch 327/500\n",
      "\u001b[1m69/69\u001b[0m \u001b[32m━━━━━━━━━━━━━━━━━━━━\u001b[0m\u001b[37m\u001b[0m \u001b[1m0s\u001b[0m 2ms/step - dense_2_loss: 0.3800 - dense_3_loss: 0.1937 - dense_4_loss: 0.0684 - loss: 0.6423\n",
      "Epoch 328/500\n",
      "\u001b[1m69/69\u001b[0m \u001b[32m━━━━━━━━━━━━━━━━━━━━\u001b[0m\u001b[37m\u001b[0m \u001b[1m0s\u001b[0m 2ms/step - dense_2_loss: 0.6219 - dense_3_loss: 0.3368 - dense_4_loss: 0.0689 - loss: 1.0275\n",
      "Epoch 329/500\n",
      "\u001b[1m69/69\u001b[0m \u001b[32m━━━━━━━━━━━━━━━━━━━━\u001b[0m\u001b[37m\u001b[0m \u001b[1m0s\u001b[0m 2ms/step - dense_2_loss: 0.6975 - dense_3_loss: 0.3843 - dense_4_loss: 0.0707 - loss: 1.1527\n",
      "Epoch 330/500\n",
      "\u001b[1m69/69\u001b[0m \u001b[32m━━━━━━━━━━━━━━━━━━━━\u001b[0m\u001b[37m\u001b[0m \u001b[1m0s\u001b[0m 2ms/step - dense_2_loss: 0.3110 - dense_3_loss: 0.1859 - dense_4_loss: 0.0578 - loss: 0.5548\n",
      "Epoch 331/500\n",
      "\u001b[1m69/69\u001b[0m \u001b[32m━━━━━━━━━━━━━━━━━━━━\u001b[0m\u001b[37m\u001b[0m \u001b[1m0s\u001b[0m 2ms/step - dense_2_loss: 0.6697 - dense_3_loss: 0.3485 - dense_4_loss: 0.0706 - loss: 1.0890\n",
      "Epoch 332/500\n",
      "\u001b[1m69/69\u001b[0m \u001b[32m━━━━━━━━━━━━━━━━━━━━\u001b[0m\u001b[37m\u001b[0m \u001b[1m0s\u001b[0m 2ms/step - dense_2_loss: 0.5538 - dense_3_loss: 0.2565 - dense_4_loss: 0.0496 - loss: 0.8602\n",
      "Epoch 333/500\n",
      "\u001b[1m69/69\u001b[0m \u001b[32m━━━━━━━━━━━━━━━━━━━━\u001b[0m\u001b[37m\u001b[0m \u001b[1m0s\u001b[0m 2ms/step - dense_2_loss: 0.3589 - dense_3_loss: 0.2166 - dense_4_loss: 0.0557 - loss: 0.6313\n",
      "Epoch 334/500\n",
      "\u001b[1m69/69\u001b[0m \u001b[32m━━━━━━━━━━━━━━━━━━━━\u001b[0m\u001b[37m\u001b[0m \u001b[1m0s\u001b[0m 2ms/step - dense_2_loss: 0.9381 - dense_3_loss: 0.4670 - dense_4_loss: 0.0725 - loss: 1.4774\n",
      "Epoch 335/500\n",
      "\u001b[1m69/69\u001b[0m \u001b[32m━━━━━━━━━━━━━━━━━━━━\u001b[0m\u001b[37m\u001b[0m \u001b[1m0s\u001b[0m 2ms/step - dense_2_loss: 0.8105 - dense_3_loss: 0.3633 - dense_4_loss: 0.0827 - loss: 1.2568\n",
      "Epoch 336/500\n",
      "\u001b[1m69/69\u001b[0m \u001b[32m━━━━━━━━━━━━━━━━━━━━\u001b[0m\u001b[37m\u001b[0m \u001b[1m0s\u001b[0m 2ms/step - dense_2_loss: 0.3060 - dense_3_loss: 0.2034 - dense_4_loss: 0.0520 - loss: 0.5616\n",
      "Epoch 337/500\n",
      "\u001b[1m69/69\u001b[0m \u001b[32m━━━━━━━━━━━━━━━━━━━━\u001b[0m\u001b[37m\u001b[0m \u001b[1m0s\u001b[0m 2ms/step - dense_2_loss: 0.6169 - dense_3_loss: 0.3390 - dense_4_loss: 0.0596 - loss: 1.0156\n",
      "Epoch 338/500\n",
      "\u001b[1m69/69\u001b[0m \u001b[32m━━━━━━━━━━━━━━━━━━━━\u001b[0m\u001b[37m\u001b[0m \u001b[1m0s\u001b[0m 2ms/step - dense_2_loss: 0.3710 - dense_3_loss: 0.1932 - dense_4_loss: 0.0572 - loss: 0.6213\n",
      "Epoch 339/500\n",
      "\u001b[1m69/69\u001b[0m \u001b[32m━━━━━━━━━━━━━━━━━━━━\u001b[0m\u001b[37m\u001b[0m \u001b[1m0s\u001b[0m 2ms/step - dense_2_loss: 0.9804 - dense_3_loss: 0.4837 - dense_4_loss: 0.0695 - loss: 1.5339\n",
      "Epoch 340/500\n",
      "\u001b[1m69/69\u001b[0m \u001b[32m━━━━━━━━━━━━━━━━━━━━\u001b[0m\u001b[37m\u001b[0m \u001b[1m0s\u001b[0m 3ms/step - dense_2_loss: 0.4430 - dense_3_loss: 0.2303 - dense_4_loss: 0.0514 - loss: 0.7249\n",
      "Epoch 341/500\n",
      "\u001b[1m69/69\u001b[0m \u001b[32m━━━━━━━━━━━━━━━━━━━━\u001b[0m\u001b[37m\u001b[0m \u001b[1m0s\u001b[0m 2ms/step - dense_2_loss: 1.4061 - dense_3_loss: 0.6834 - dense_4_loss: 0.0905 - loss: 2.1803\n",
      "Epoch 342/500\n",
      "\u001b[1m69/69\u001b[0m \u001b[32m━━━━━━━━━━━━━━━━━━━━\u001b[0m\u001b[37m\u001b[0m \u001b[1m0s\u001b[0m 4ms/step - dense_2_loss: 0.6210 - dense_3_loss: 0.3600 - dense_4_loss: 0.0706 - loss: 1.0517\n",
      "Epoch 343/500\n",
      "\u001b[1m69/69\u001b[0m \u001b[32m━━━━━━━━━━━━━━━━━━━━\u001b[0m\u001b[37m\u001b[0m \u001b[1m0s\u001b[0m 3ms/step - dense_2_loss: 0.8808 - dense_3_loss: 0.4703 - dense_4_loss: 0.0858 - loss: 1.4371\n",
      "Epoch 344/500\n",
      "\u001b[1m69/69\u001b[0m \u001b[32m━━━━━━━━━━━━━━━━━━━━\u001b[0m\u001b[37m\u001b[0m \u001b[1m0s\u001b[0m 2ms/step - dense_2_loss: 0.6558 - dense_3_loss: 0.3344 - dense_4_loss: 0.0768 - loss: 1.0673\n",
      "Epoch 345/500\n",
      "\u001b[1m69/69\u001b[0m \u001b[32m━━━━━━━━━━━━━━━━━━━━\u001b[0m\u001b[37m\u001b[0m \u001b[1m0s\u001b[0m 2ms/step - dense_2_loss: 0.6092 - dense_3_loss: 0.3171 - dense_4_loss: 0.0762 - loss: 1.0027\n",
      "Epoch 346/500\n",
      "\u001b[1m69/69\u001b[0m \u001b[32m━━━━━━━━━━━━━━━━━━━━\u001b[0m\u001b[37m\u001b[0m \u001b[1m0s\u001b[0m 2ms/step - dense_2_loss: 0.6569 - dense_3_loss: 0.3413 - dense_4_loss: 0.0706 - loss: 1.0688\n",
      "Epoch 347/500\n",
      "\u001b[1m69/69\u001b[0m \u001b[32m━━━━━━━━━━━━━━━━━━━━\u001b[0m\u001b[37m\u001b[0m \u001b[1m0s\u001b[0m 2ms/step - dense_2_loss: 1.1021 - dense_3_loss: 0.5772 - dense_4_loss: 0.0712 - loss: 1.7508\n",
      "Epoch 348/500\n",
      "\u001b[1m69/69\u001b[0m \u001b[32m━━━━━━━━━━━━━━━━━━━━\u001b[0m\u001b[37m\u001b[0m \u001b[1m0s\u001b[0m 2ms/step - dense_2_loss: 0.3925 - dense_3_loss: 0.2235 - dense_4_loss: 0.0463 - loss: 0.6624\n",
      "Epoch 349/500\n",
      "\u001b[1m69/69\u001b[0m \u001b[32m━━━━━━━━━━━━━━━━━━━━\u001b[0m\u001b[37m\u001b[0m \u001b[1m0s\u001b[0m 2ms/step - dense_2_loss: 0.6872 - dense_3_loss: 0.3291 - dense_4_loss: 0.0500 - loss: 1.0665\n",
      "Epoch 350/500\n",
      "\u001b[1m69/69\u001b[0m \u001b[32m━━━━━━━━━━━━━━━━━━━━\u001b[0m\u001b[37m\u001b[0m \u001b[1m0s\u001b[0m 3ms/step - dense_2_loss: 0.6630 - dense_3_loss: 0.3586 - dense_4_loss: 0.0505 - loss: 1.0723\n",
      "Epoch 351/500\n",
      "\u001b[1m69/69\u001b[0m \u001b[32m━━━━━━━━━━━━━━━━━━━━\u001b[0m\u001b[37m\u001b[0m \u001b[1m0s\u001b[0m 2ms/step - dense_2_loss: 0.3032 - dense_3_loss: 0.1699 - dense_4_loss: 0.0478 - loss: 0.5210\n",
      "Epoch 352/500\n",
      "\u001b[1m69/69\u001b[0m \u001b[32m━━━━━━━━━━━━━━━━━━━━\u001b[0m\u001b[37m\u001b[0m \u001b[1m0s\u001b[0m 2ms/step - dense_2_loss: 0.5211 - dense_3_loss: 0.2548 - dense_4_loss: 0.0609 - loss: 0.8369\n",
      "Epoch 353/500\n",
      "\u001b[1m69/69\u001b[0m \u001b[32m━━━━━━━━━━━━━━━━━━━━\u001b[0m\u001b[37m\u001b[0m \u001b[1m0s\u001b[0m 2ms/step - dense_2_loss: 0.9388 - dense_3_loss: 0.4527 - dense_4_loss: 0.0621 - loss: 1.4539\n",
      "Epoch 354/500\n",
      "\u001b[1m69/69\u001b[0m \u001b[32m━━━━━━━━━━━━━━━━━━━━\u001b[0m\u001b[37m\u001b[0m \u001b[1m0s\u001b[0m 2ms/step - dense_2_loss: 0.5179 - dense_3_loss: 0.2524 - dense_4_loss: 0.0718 - loss: 0.8424\n",
      "Epoch 355/500\n",
      "\u001b[1m69/69\u001b[0m \u001b[32m━━━━━━━━━━━━━━━━━━━━\u001b[0m\u001b[37m\u001b[0m \u001b[1m0s\u001b[0m 2ms/step - dense_2_loss: 0.3564 - dense_3_loss: 0.2165 - dense_4_loss: 0.0616 - loss: 0.6348\n",
      "Epoch 356/500\n",
      "\u001b[1m69/69\u001b[0m \u001b[32m━━━━━━━━━━━━━━━━━━━━\u001b[0m\u001b[37m\u001b[0m \u001b[1m0s\u001b[0m 2ms/step - dense_2_loss: 0.8553 - dense_3_loss: 0.4416 - dense_4_loss: 0.0753 - loss: 1.3726\n",
      "Epoch 357/500\n",
      "\u001b[1m69/69\u001b[0m \u001b[32m━━━━━━━━━━━━━━━━━━━━\u001b[0m\u001b[37m\u001b[0m \u001b[1m0s\u001b[0m 2ms/step - dense_2_loss: 0.6432 - dense_3_loss: 0.3318 - dense_4_loss: 0.0819 - loss: 1.0571\n",
      "Epoch 358/500\n",
      "\u001b[1m69/69\u001b[0m \u001b[32m━━━━━━━━━━━━━━━━━━━━\u001b[0m\u001b[37m\u001b[0m \u001b[1m0s\u001b[0m 2ms/step - dense_2_loss: 0.4549 - dense_3_loss: 0.2379 - dense_4_loss: 0.0803 - loss: 0.7734\n",
      "Epoch 359/500\n",
      "\u001b[1m69/69\u001b[0m \u001b[32m━━━━━━━━━━━━━━━━━━━━\u001b[0m\u001b[37m\u001b[0m \u001b[1m0s\u001b[0m 2ms/step - dense_2_loss: 0.7889 - dense_3_loss: 0.3494 - dense_4_loss: 0.0863 - loss: 1.2249\n",
      "Epoch 360/500\n",
      "\u001b[1m69/69\u001b[0m \u001b[32m━━━━━━━━━━━━━━━━━━━━\u001b[0m\u001b[37m\u001b[0m \u001b[1m0s\u001b[0m 3ms/step - dense_2_loss: 0.9047 - dense_3_loss: 0.4539 - dense_4_loss: 0.0694 - loss: 1.4280\n",
      "Epoch 361/500\n",
      "\u001b[1m69/69\u001b[0m \u001b[32m━━━━━━━━━━━━━━━━━━━━\u001b[0m\u001b[37m\u001b[0m \u001b[1m0s\u001b[0m 2ms/step - dense_2_loss: 0.9894 - dense_3_loss: 0.5141 - dense_4_loss: 0.0696 - loss: 1.5733\n",
      "Epoch 362/500\n",
      "\u001b[1m69/69\u001b[0m \u001b[32m━━━━━━━━━━━━━━━━━━━━\u001b[0m\u001b[37m\u001b[0m \u001b[1m0s\u001b[0m 2ms/step - dense_2_loss: 0.5811 - dense_3_loss: 0.3417 - dense_4_loss: 0.0685 - loss: 0.9915\n",
      "Epoch 363/500\n",
      "\u001b[1m69/69\u001b[0m \u001b[32m━━━━━━━━━━━━━━━━━━━━\u001b[0m\u001b[37m\u001b[0m \u001b[1m0s\u001b[0m 2ms/step - dense_2_loss: 0.4705 - dense_3_loss: 0.2354 - dense_4_loss: 0.0775 - loss: 0.7835\n",
      "Epoch 364/500\n",
      "\u001b[1m69/69\u001b[0m \u001b[32m━━━━━━━━━━━━━━━━━━━━\u001b[0m\u001b[37m\u001b[0m \u001b[1m0s\u001b[0m 2ms/step - dense_2_loss: 0.3502 - dense_3_loss: 0.2199 - dense_4_loss: 0.0596 - loss: 0.6299\n",
      "Epoch 365/500\n",
      "\u001b[1m69/69\u001b[0m \u001b[32m━━━━━━━━━━━━━━━━━━━━\u001b[0m\u001b[37m\u001b[0m \u001b[1m0s\u001b[0m 2ms/step - dense_2_loss: 0.7120 - dense_3_loss: 0.3571 - dense_4_loss: 0.0668 - loss: 1.1362\n",
      "Epoch 366/500\n",
      "\u001b[1m69/69\u001b[0m \u001b[32m━━━━━━━━━━━━━━━━━━━━\u001b[0m\u001b[37m\u001b[0m \u001b[1m0s\u001b[0m 2ms/step - dense_2_loss: 0.4779 - dense_3_loss: 0.2773 - dense_4_loss: 0.0747 - loss: 0.8302\n",
      "Epoch 367/500\n",
      "\u001b[1m69/69\u001b[0m \u001b[32m━━━━━━━━━━━━━━━━━━━━\u001b[0m\u001b[37m\u001b[0m \u001b[1m0s\u001b[0m 2ms/step - dense_2_loss: 0.5740 - dense_3_loss: 0.2735 - dense_4_loss: 0.0677 - loss: 0.9155\n",
      "Epoch 368/500\n",
      "\u001b[1m69/69\u001b[0m \u001b[32m━━━━━━━━━━━━━━━━━━━━\u001b[0m\u001b[37m\u001b[0m \u001b[1m0s\u001b[0m 2ms/step - dense_2_loss: 0.6482 - dense_3_loss: 0.3693 - dense_4_loss: 0.0744 - loss: 1.0921\n",
      "Epoch 369/500\n",
      "\u001b[1m69/69\u001b[0m \u001b[32m━━━━━━━━━━━━━━━━━━━━\u001b[0m\u001b[37m\u001b[0m \u001b[1m0s\u001b[0m 2ms/step - dense_2_loss: 0.6409 - dense_3_loss: 0.3423 - dense_4_loss: 0.0680 - loss: 1.0515\n",
      "Epoch 370/500\n",
      "\u001b[1m69/69\u001b[0m \u001b[32m━━━━━━━━━━━━━━━━━━━━\u001b[0m\u001b[37m\u001b[0m \u001b[1m0s\u001b[0m 2ms/step - dense_2_loss: 0.3816 - dense_3_loss: 0.2731 - dense_4_loss: 0.0791 - loss: 0.7338\n",
      "Epoch 371/500\n",
      "\u001b[1m69/69\u001b[0m \u001b[32m━━━━━━━━━━━━━━━━━━━━\u001b[0m\u001b[37m\u001b[0m \u001b[1m0s\u001b[0m 2ms/step - dense_2_loss: 0.4560 - dense_3_loss: 0.2747 - dense_4_loss: 0.0712 - loss: 0.8022\n",
      "Epoch 372/500\n",
      "\u001b[1m69/69\u001b[0m \u001b[32m━━━━━━━━━━━━━━━━━━━━\u001b[0m\u001b[37m\u001b[0m \u001b[1m0s\u001b[0m 3ms/step - dense_2_loss: 0.4871 - dense_3_loss: 0.2566 - dense_4_loss: 0.0595 - loss: 0.8031\n",
      "Epoch 373/500\n",
      "\u001b[1m69/69\u001b[0m \u001b[32m━━━━━━━━━━━━━━━━━━━━\u001b[0m\u001b[37m\u001b[0m \u001b[1m0s\u001b[0m 2ms/step - dense_2_loss: 0.5205 - dense_3_loss: 0.2907 - dense_4_loss: 0.0615 - loss: 0.8727\n",
      "Epoch 374/500\n",
      "\u001b[1m69/69\u001b[0m \u001b[32m━━━━━━━━━━━━━━━━━━━━\u001b[0m\u001b[37m\u001b[0m \u001b[1m0s\u001b[0m 2ms/step - dense_2_loss: 0.6312 - dense_3_loss: 0.3723 - dense_4_loss: 0.0782 - loss: 1.0819\n",
      "Epoch 375/500\n",
      "\u001b[1m69/69\u001b[0m \u001b[32m━━━━━━━━━━━━━━━━━━━━\u001b[0m\u001b[37m\u001b[0m \u001b[1m0s\u001b[0m 2ms/step - dense_2_loss: 0.5148 - dense_3_loss: 0.2385 - dense_4_loss: 0.0570 - loss: 0.8106\n",
      "Epoch 376/500\n",
      "\u001b[1m69/69\u001b[0m \u001b[32m━━━━━━━━━━━━━━━━━━━━\u001b[0m\u001b[37m\u001b[0m \u001b[1m0s\u001b[0m 2ms/step - dense_2_loss: 0.6250 - dense_3_loss: 0.3356 - dense_4_loss: 0.0577 - loss: 1.0186\n",
      "Epoch 377/500\n",
      "\u001b[1m69/69\u001b[0m \u001b[32m━━━━━━━━━━━━━━━━━━━━\u001b[0m\u001b[37m\u001b[0m \u001b[1m0s\u001b[0m 2ms/step - dense_2_loss: 0.5836 - dense_3_loss: 0.3512 - dense_4_loss: 0.0734 - loss: 1.0084\n",
      "Epoch 378/500\n",
      "\u001b[1m69/69\u001b[0m \u001b[32m━━━━━━━━━━━━━━━━━━━━\u001b[0m\u001b[37m\u001b[0m \u001b[1m0s\u001b[0m 2ms/step - dense_2_loss: 0.4857 - dense_3_loss: 0.2755 - dense_4_loss: 0.0879 - loss: 0.8493\n",
      "Epoch 379/500\n",
      "\u001b[1m69/69\u001b[0m \u001b[32m━━━━━━━━━━━━━━━━━━━━\u001b[0m\u001b[37m\u001b[0m \u001b[1m0s\u001b[0m 2ms/step - dense_2_loss: 0.5053 - dense_3_loss: 0.3057 - dense_4_loss: 0.0714 - loss: 0.8826\n",
      "Epoch 380/500\n",
      "\u001b[1m69/69\u001b[0m \u001b[32m━━━━━━━━━━━━━━━━━━━━\u001b[0m\u001b[37m\u001b[0m \u001b[1m0s\u001b[0m 2ms/step - dense_2_loss: 0.6102 - dense_3_loss: 0.3727 - dense_4_loss: 0.0763 - loss: 1.0594\n",
      "Epoch 381/500\n",
      "\u001b[1m69/69\u001b[0m \u001b[32m━━━━━━━━━━━━━━━━━━━━\u001b[0m\u001b[37m\u001b[0m \u001b[1m0s\u001b[0m 2ms/step - dense_2_loss: 0.5919 - dense_3_loss: 0.3459 - dense_4_loss: 0.0704 - loss: 1.0083\n",
      "Epoch 382/500\n",
      "\u001b[1m69/69\u001b[0m \u001b[32m━━━━━━━━━━━━━━━━━━━━\u001b[0m\u001b[37m\u001b[0m \u001b[1m0s\u001b[0m 3ms/step - dense_2_loss: 0.7134 - dense_3_loss: 0.3616 - dense_4_loss: 0.0748 - loss: 1.1496\n",
      "Epoch 383/500\n",
      "\u001b[1m69/69\u001b[0m \u001b[32m━━━━━━━━━━━━━━━━━━━━\u001b[0m\u001b[37m\u001b[0m \u001b[1m0s\u001b[0m 2ms/step - dense_2_loss: 0.4921 - dense_3_loss: 0.2914 - dense_4_loss: 0.0802 - loss: 0.8634\n",
      "Epoch 384/500\n",
      "\u001b[1m69/69\u001b[0m \u001b[32m━━━━━━━━━━━━━━━━━━━━\u001b[0m\u001b[37m\u001b[0m \u001b[1m0s\u001b[0m 2ms/step - dense_2_loss: 0.5683 - dense_3_loss: 0.2997 - dense_4_loss: 0.0807 - loss: 0.9489\n",
      "Epoch 385/500\n",
      "\u001b[1m69/69\u001b[0m \u001b[32m━━━━━━━━━━━━━━━━━━━━\u001b[0m\u001b[37m\u001b[0m \u001b[1m0s\u001b[0m 2ms/step - dense_2_loss: 0.4685 - dense_3_loss: 0.2941 - dense_4_loss: 0.0858 - loss: 0.8487\n",
      "Epoch 386/500\n",
      "\u001b[1m69/69\u001b[0m \u001b[32m━━━━━━━━━━━━━━━━━━━━\u001b[0m\u001b[37m\u001b[0m \u001b[1m0s\u001b[0m 2ms/step - dense_2_loss: 0.5337 - dense_3_loss: 0.3035 - dense_4_loss: 0.0784 - loss: 0.9154\n",
      "Epoch 387/500\n",
      "\u001b[1m69/69\u001b[0m \u001b[32m━━━━━━━━━━━━━━━━━━━━\u001b[0m\u001b[37m\u001b[0m \u001b[1m0s\u001b[0m 2ms/step - dense_2_loss: 0.4777 - dense_3_loss: 0.2992 - dense_4_loss: 0.0677 - loss: 0.8443\n",
      "Epoch 388/500\n",
      "\u001b[1m69/69\u001b[0m \u001b[32m━━━━━━━━━━━━━━━━━━━━\u001b[0m\u001b[37m\u001b[0m \u001b[1m0s\u001b[0m 2ms/step - dense_2_loss: 0.4456 - dense_3_loss: 0.2615 - dense_4_loss: 0.0729 - loss: 0.7802\n",
      "Epoch 389/500\n",
      "\u001b[1m69/69\u001b[0m \u001b[32m━━━━━━━━━━━━━━━━━━━━\u001b[0m\u001b[37m\u001b[0m \u001b[1m0s\u001b[0m 2ms/step - dense_2_loss: 0.6808 - dense_3_loss: 0.3458 - dense_4_loss: 0.0722 - loss: 1.0990\n",
      "Epoch 390/500\n",
      "\u001b[1m69/69\u001b[0m \u001b[32m━━━━━━━━━━━━━━━━━━━━\u001b[0m\u001b[37m\u001b[0m \u001b[1m0s\u001b[0m 2ms/step - dense_2_loss: 0.5283 - dense_3_loss: 0.2917 - dense_4_loss: 0.0603 - loss: 0.8806\n",
      "Epoch 391/500\n",
      "\u001b[1m69/69\u001b[0m \u001b[32m━━━━━━━━━━━━━━━━━━━━\u001b[0m\u001b[37m\u001b[0m \u001b[1m0s\u001b[0m 2ms/step - dense_2_loss: 0.4013 - dense_3_loss: 0.2665 - dense_4_loss: 0.0699 - loss: 0.7379\n",
      "Epoch 392/500\n",
      "\u001b[1m69/69\u001b[0m \u001b[32m━━━━━━━━━━━━━━━━━━━━\u001b[0m\u001b[37m\u001b[0m \u001b[1m0s\u001b[0m 2ms/step - dense_2_loss: 0.4106 - dense_3_loss: 0.2354 - dense_4_loss: 0.0556 - loss: 0.7018\n",
      "Epoch 393/500\n",
      "\u001b[1m69/69\u001b[0m \u001b[32m━━━━━━━━━━━━━━━━━━━━\u001b[0m\u001b[37m\u001b[0m \u001b[1m0s\u001b[0m 2ms/step - dense_2_loss: 0.5648 - dense_3_loss: 0.3426 - dense_4_loss: 0.0725 - loss: 0.9801\n",
      "Epoch 394/500\n",
      "\u001b[1m69/69\u001b[0m \u001b[32m━━━━━━━━━━━━━━━━━━━━\u001b[0m\u001b[37m\u001b[0m \u001b[1m0s\u001b[0m 3ms/step - dense_2_loss: 0.8111 - dense_3_loss: 0.4472 - dense_4_loss: 0.0759 - loss: 1.3343\n",
      "Epoch 395/500\n",
      "\u001b[1m69/69\u001b[0m \u001b[32m━━━━━━━━━━━━━━━━━━━━\u001b[0m\u001b[37m\u001b[0m \u001b[1m0s\u001b[0m 2ms/step - dense_2_loss: 0.4621 - dense_3_loss: 0.2930 - dense_4_loss: 0.0774 - loss: 0.8327\n",
      "Epoch 396/500\n",
      "\u001b[1m69/69\u001b[0m \u001b[32m━━━━━━━━━━━━━━━━━━━━\u001b[0m\u001b[37m\u001b[0m \u001b[1m0s\u001b[0m 2ms/step - dense_2_loss: 1.2046 - dense_3_loss: 0.6783 - dense_4_loss: 0.0722 - loss: 1.9553\n",
      "Epoch 397/500\n",
      "\u001b[1m69/69\u001b[0m \u001b[32m━━━━━━━━━━━━━━━━━━━━\u001b[0m\u001b[37m\u001b[0m \u001b[1m0s\u001b[0m 2ms/step - dense_2_loss: 0.3857 - dense_3_loss: 0.2187 - dense_4_loss: 0.0626 - loss: 0.6672\n",
      "Epoch 398/500\n",
      "\u001b[1m69/69\u001b[0m \u001b[32m━━━━━━━━━━━━━━━━━━━━\u001b[0m\u001b[37m\u001b[0m \u001b[1m0s\u001b[0m 2ms/step - dense_2_loss: 0.5378 - dense_3_loss: 0.3055 - dense_4_loss: 0.0604 - loss: 0.9036\n",
      "Epoch 399/500\n",
      "\u001b[1m69/69\u001b[0m \u001b[32m━━━━━━━━━━━━━━━━━━━━\u001b[0m\u001b[37m\u001b[0m \u001b[1m0s\u001b[0m 2ms/step - dense_2_loss: 0.4833 - dense_3_loss: 0.2781 - dense_4_loss: 0.0555 - loss: 0.8171\n",
      "Epoch 400/500\n",
      "\u001b[1m69/69\u001b[0m \u001b[32m━━━━━━━━━━━━━━━━━━━━\u001b[0m\u001b[37m\u001b[0m \u001b[1m0s\u001b[0m 2ms/step - dense_2_loss: 0.3270 - dense_3_loss: 0.1940 - dense_4_loss: 0.0811 - loss: 0.6018\n",
      "Epoch 401/500\n",
      "\u001b[1m69/69\u001b[0m \u001b[32m━━━━━━━━━━━━━━━━━━━━\u001b[0m\u001b[37m\u001b[0m \u001b[1m0s\u001b[0m 3ms/step - dense_2_loss: 0.7418 - dense_3_loss: 0.3738 - dense_4_loss: 0.0750 - loss: 1.1908\n",
      "Epoch 402/500\n",
      "\u001b[1m69/69\u001b[0m \u001b[32m━━━━━━━━━━━━━━━━━━━━\u001b[0m\u001b[37m\u001b[0m \u001b[1m0s\u001b[0m 2ms/step - dense_2_loss: 0.3590 - dense_3_loss: 0.2019 - dense_4_loss: 0.0650 - loss: 0.6261\n",
      "Epoch 403/500\n",
      "\u001b[1m69/69\u001b[0m \u001b[32m━━━━━━━━━━━━━━━━━━━━\u001b[0m\u001b[37m\u001b[0m \u001b[1m0s\u001b[0m 2ms/step - dense_2_loss: 0.6518 - dense_3_loss: 0.3591 - dense_4_loss: 0.0783 - loss: 1.0894\n",
      "Epoch 404/500\n",
      "\u001b[1m69/69\u001b[0m \u001b[32m━━━━━━━━━━━━━━━━━━━━\u001b[0m\u001b[37m\u001b[0m \u001b[1m0s\u001b[0m 2ms/step - dense_2_loss: 0.6080 - dense_3_loss: 0.3245 - dense_4_loss: 0.0686 - loss: 1.0014\n",
      "Epoch 405/500\n",
      "\u001b[1m69/69\u001b[0m \u001b[32m━━━━━━━━━━━━━━━━━━━━\u001b[0m\u001b[37m\u001b[0m \u001b[1m0s\u001b[0m 2ms/step - dense_2_loss: 0.4509 - dense_3_loss: 0.2448 - dense_4_loss: 0.0660 - loss: 0.7619\n",
      "Epoch 406/500\n",
      "\u001b[1m69/69\u001b[0m \u001b[32m━━━━━━━━━━━━━━━━━━━━\u001b[0m\u001b[37m\u001b[0m \u001b[1m0s\u001b[0m 2ms/step - dense_2_loss: 0.9924 - dense_3_loss: 0.4963 - dense_4_loss: 0.0762 - loss: 1.5652\n",
      "Epoch 407/500\n",
      "\u001b[1m69/69\u001b[0m \u001b[32m━━━━━━━━━━━━━━━━━━━━\u001b[0m\u001b[37m\u001b[0m \u001b[1m0s\u001b[0m 2ms/step - dense_2_loss: 0.7240 - dense_3_loss: 0.3756 - dense_4_loss: 0.0657 - loss: 1.1656\n",
      "Epoch 408/500\n",
      "\u001b[1m69/69\u001b[0m \u001b[32m━━━━━━━━━━━━━━━━━━━━\u001b[0m\u001b[37m\u001b[0m \u001b[1m0s\u001b[0m 2ms/step - dense_2_loss: 0.4361 - dense_3_loss: 0.2396 - dense_4_loss: 0.0573 - loss: 0.7332\n",
      "Epoch 409/500\n",
      "\u001b[1m69/69\u001b[0m \u001b[32m━━━━━━━━━━━━━━━━━━━━\u001b[0m\u001b[37m\u001b[0m \u001b[1m0s\u001b[0m 2ms/step - dense_2_loss: 0.4105 - dense_3_loss: 0.2404 - dense_4_loss: 0.0624 - loss: 0.7135\n",
      "Epoch 410/500\n",
      "\u001b[1m69/69\u001b[0m \u001b[32m━━━━━━━━━━━━━━━━━━━━\u001b[0m\u001b[37m\u001b[0m \u001b[1m0s\u001b[0m 2ms/step - dense_2_loss: 0.5571 - dense_3_loss: 0.2553 - dense_4_loss: 0.0728 - loss: 0.8854\n",
      "Epoch 411/500\n",
      "\u001b[1m69/69\u001b[0m \u001b[32m━━━━━━━━━━━━━━━━━━━━\u001b[0m\u001b[37m\u001b[0m \u001b[1m0s\u001b[0m 2ms/step - dense_2_loss: 0.3588 - dense_3_loss: 0.2106 - dense_4_loss: 0.0661 - loss: 0.6356\n",
      "Epoch 412/500\n",
      "\u001b[1m69/69\u001b[0m \u001b[32m━━━━━━━━━━━━━━━━━━━━\u001b[0m\u001b[37m\u001b[0m \u001b[1m0s\u001b[0m 2ms/step - dense_2_loss: 1.0139 - dense_3_loss: 0.5410 - dense_4_loss: 0.0868 - loss: 1.6417\n",
      "Epoch 413/500\n",
      "\u001b[1m69/69\u001b[0m \u001b[32m━━━━━━━━━━━━━━━━━━━━\u001b[0m\u001b[37m\u001b[0m \u001b[1m0s\u001b[0m 2ms/step - dense_2_loss: 0.6487 - dense_3_loss: 0.3536 - dense_4_loss: 0.0691 - loss: 1.0716\n",
      "Epoch 414/500\n",
      "\u001b[1m69/69\u001b[0m \u001b[32m━━━━━━━━━━━━━━━━━━━━\u001b[0m\u001b[37m\u001b[0m \u001b[1m0s\u001b[0m 2ms/step - dense_2_loss: 1.3144 - dense_3_loss: 0.6676 - dense_4_loss: 0.0705 - loss: 2.0527\n",
      "Epoch 415/500\n",
      "\u001b[1m69/69\u001b[0m \u001b[32m━━━━━━━━━━━━━━━━━━━━\u001b[0m\u001b[37m\u001b[0m \u001b[1m0s\u001b[0m 2ms/step - dense_2_loss: 0.5397 - dense_3_loss: 0.3519 - dense_4_loss: 0.0600 - loss: 0.9505\n",
      "Epoch 416/500\n",
      "\u001b[1m69/69\u001b[0m \u001b[32m━━━━━━━━━━━━━━━━━━━━\u001b[0m\u001b[37m\u001b[0m \u001b[1m0s\u001b[0m 3ms/step - dense_2_loss: 0.4705 - dense_3_loss: 0.2601 - dense_4_loss: 0.0705 - loss: 0.8011\n",
      "Epoch 417/500\n",
      "\u001b[1m69/69\u001b[0m \u001b[32m━━━━━━━━━━━━━━━━━━━━\u001b[0m\u001b[37m\u001b[0m \u001b[1m0s\u001b[0m 2ms/step - dense_2_loss: 0.5136 - dense_3_loss: 0.2818 - dense_4_loss: 0.0622 - loss: 0.8579\n",
      "Epoch 418/500\n",
      "\u001b[1m69/69\u001b[0m \u001b[32m━━━━━━━━━━━━━━━━━━━━\u001b[0m\u001b[37m\u001b[0m \u001b[1m0s\u001b[0m 2ms/step - dense_2_loss: 0.5963 - dense_3_loss: 0.3257 - dense_4_loss: 0.0790 - loss: 1.0011\n",
      "Epoch 419/500\n",
      "\u001b[1m69/69\u001b[0m \u001b[32m━━━━━━━━━━━━━━━━━━━━\u001b[0m\u001b[37m\u001b[0m \u001b[1m0s\u001b[0m 2ms/step - dense_2_loss: 0.4055 - dense_3_loss: 0.2364 - dense_4_loss: 0.0617 - loss: 0.7039\n",
      "Epoch 420/500\n",
      "\u001b[1m69/69\u001b[0m \u001b[32m━━━━━━━━━━━━━━━━━━━━\u001b[0m\u001b[37m\u001b[0m \u001b[1m0s\u001b[0m 2ms/step - dense_2_loss: 0.7625 - dense_3_loss: 0.3866 - dense_4_loss: 0.0696 - loss: 1.2189\n",
      "Epoch 421/500\n",
      "\u001b[1m69/69\u001b[0m \u001b[32m━━━━━━━━━━━━━━━━━━━━\u001b[0m\u001b[37m\u001b[0m \u001b[1m0s\u001b[0m 2ms/step - dense_2_loss: 0.4803 - dense_3_loss: 0.2786 - dense_4_loss: 0.0615 - loss: 0.8206\n",
      "Epoch 422/500\n",
      "\u001b[1m69/69\u001b[0m \u001b[32m━━━━━━━━━━━━━━━━━━━━\u001b[0m\u001b[37m\u001b[0m \u001b[1m0s\u001b[0m 2ms/step - dense_2_loss: 1.2079 - dense_3_loss: 0.6017 - dense_4_loss: 0.0705 - loss: 1.8804\n",
      "Epoch 423/500\n",
      "\u001b[1m69/69\u001b[0m \u001b[32m━━━━━━━━━━━━━━━━━━━━\u001b[0m\u001b[37m\u001b[0m \u001b[1m0s\u001b[0m 2ms/step - dense_2_loss: 0.7606 - dense_3_loss: 0.4492 - dense_4_loss: 0.0730 - loss: 1.2830\n",
      "Epoch 424/500\n",
      "\u001b[1m69/69\u001b[0m \u001b[32m━━━━━━━━━━━━━━━━━━━━\u001b[0m\u001b[37m\u001b[0m \u001b[1m0s\u001b[0m 2ms/step - dense_2_loss: 0.4829 - dense_3_loss: 0.2530 - dense_4_loss: 0.0512 - loss: 0.7864\n",
      "Epoch 425/500\n",
      "\u001b[1m69/69\u001b[0m \u001b[32m━━━━━━━━━━━━━━━━━━━━\u001b[0m\u001b[37m\u001b[0m \u001b[1m0s\u001b[0m 2ms/step - dense_2_loss: 0.7775 - dense_3_loss: 0.4200 - dense_4_loss: 0.0792 - loss: 1.2763\n",
      "Epoch 426/500\n",
      "\u001b[1m69/69\u001b[0m \u001b[32m━━━━━━━━━━━━━━━━━━━━\u001b[0m\u001b[37m\u001b[0m \u001b[1m0s\u001b[0m 2ms/step - dense_2_loss: 0.5865 - dense_3_loss: 0.3239 - dense_4_loss: 0.0730 - loss: 0.9836\n",
      "Epoch 427/500\n",
      "\u001b[1m69/69\u001b[0m \u001b[32m━━━━━━━━━━━━━━━━━━━━\u001b[0m\u001b[37m\u001b[0m \u001b[1m0s\u001b[0m 2ms/step - dense_2_loss: 0.7604 - dense_3_loss: 0.4123 - dense_4_loss: 0.0771 - loss: 1.2500\n",
      "Epoch 428/500\n",
      "\u001b[1m69/69\u001b[0m \u001b[32m━━━━━━━━━━━━━━━━━━━━\u001b[0m\u001b[37m\u001b[0m \u001b[1m0s\u001b[0m 2ms/step - dense_2_loss: 0.5472 - dense_3_loss: 0.2997 - dense_4_loss: 0.0618 - loss: 0.9089\n",
      "Epoch 429/500\n",
      "\u001b[1m69/69\u001b[0m \u001b[32m━━━━━━━━━━━━━━━━━━━━\u001b[0m\u001b[37m\u001b[0m \u001b[1m0s\u001b[0m 2ms/step - dense_2_loss: 0.6920 - dense_3_loss: 0.3887 - dense_4_loss: 0.0835 - loss: 1.1641\n",
      "Epoch 430/500\n",
      "\u001b[1m69/69\u001b[0m \u001b[32m━━━━━━━━━━━━━━━━━━━━\u001b[0m\u001b[37m\u001b[0m \u001b[1m0s\u001b[0m 2ms/step - dense_2_loss: 0.3749 - dense_3_loss: 0.2383 - dense_4_loss: 0.0732 - loss: 0.6866\n",
      "Epoch 431/500\n",
      "\u001b[1m69/69\u001b[0m \u001b[32m━━━━━━━━━━━━━━━━━━━━\u001b[0m\u001b[37m\u001b[0m \u001b[1m0s\u001b[0m 2ms/step - dense_2_loss: 0.4830 - dense_3_loss: 0.2433 - dense_4_loss: 0.0668 - loss: 0.7934\n",
      "Epoch 432/500\n",
      "\u001b[1m69/69\u001b[0m \u001b[32m━━━━━━━━━━━━━━━━━━━━\u001b[0m\u001b[37m\u001b[0m \u001b[1m0s\u001b[0m 2ms/step - dense_2_loss: 0.5067 - dense_3_loss: 0.2912 - dense_4_loss: 0.0717 - loss: 0.8698\n",
      "Epoch 433/500\n",
      "\u001b[1m69/69\u001b[0m \u001b[32m━━━━━━━━━━━━━━━━━━━━\u001b[0m\u001b[37m\u001b[0m \u001b[1m0s\u001b[0m 2ms/step - dense_2_loss: 0.4560 - dense_3_loss: 0.2459 - dense_4_loss: 0.0634 - loss: 0.7651\n",
      "Epoch 434/500\n",
      "\u001b[1m69/69\u001b[0m \u001b[32m━━━━━━━━━━━━━━━━━━━━\u001b[0m\u001b[37m\u001b[0m \u001b[1m0s\u001b[0m 2ms/step - dense_2_loss: 0.5583 - dense_3_loss: 0.2910 - dense_4_loss: 0.0699 - loss: 0.9181\n",
      "Epoch 435/500\n",
      "\u001b[1m69/69\u001b[0m \u001b[32m━━━━━━━━━━━━━━━━━━━━\u001b[0m\u001b[37m\u001b[0m \u001b[1m0s\u001b[0m 2ms/step - dense_2_loss: 0.7277 - dense_3_loss: 0.3953 - dense_4_loss: 0.0933 - loss: 1.2160\n",
      "Epoch 436/500\n",
      "\u001b[1m69/69\u001b[0m \u001b[32m━━━━━━━━━━━━━━━━━━━━\u001b[0m\u001b[37m\u001b[0m \u001b[1m0s\u001b[0m 2ms/step - dense_2_loss: 0.7145 - dense_3_loss: 0.3835 - dense_4_loss: 0.0628 - loss: 1.1611\n",
      "Epoch 437/500\n",
      "\u001b[1m69/69\u001b[0m \u001b[32m━━━━━━━━━━━━━━━━━━━━\u001b[0m\u001b[37m\u001b[0m \u001b[1m0s\u001b[0m 2ms/step - dense_2_loss: 0.2984 - dense_3_loss: 0.2009 - dense_4_loss: 0.0659 - loss: 0.5653\n",
      "Epoch 438/500\n",
      "\u001b[1m69/69\u001b[0m \u001b[32m━━━━━━━━━━━━━━━━━━━━\u001b[0m\u001b[37m\u001b[0m \u001b[1m0s\u001b[0m 2ms/step - dense_2_loss: 0.4225 - dense_3_loss: 0.2487 - dense_4_loss: 0.0589 - loss: 0.7300\n",
      "Epoch 439/500\n",
      "\u001b[1m69/69\u001b[0m \u001b[32m━━━━━━━━━━━━━━━━━━━━\u001b[0m\u001b[37m\u001b[0m \u001b[1m0s\u001b[0m 2ms/step - dense_2_loss: 0.9045 - dense_3_loss: 0.4649 - dense_4_loss: 0.0625 - loss: 1.4322\n",
      "Epoch 440/500\n",
      "\u001b[1m69/69\u001b[0m \u001b[32m━━━━━━━━━━━━━━━━━━━━\u001b[0m\u001b[37m\u001b[0m \u001b[1m0s\u001b[0m 2ms/step - dense_2_loss: 0.3901 - dense_3_loss: 0.2605 - dense_4_loss: 0.0685 - loss: 0.7193\n",
      "Epoch 441/500\n",
      "\u001b[1m69/69\u001b[0m \u001b[32m━━━━━━━━━━━━━━━━━━━━\u001b[0m\u001b[37m\u001b[0m \u001b[1m0s\u001b[0m 2ms/step - dense_2_loss: 1.2879 - dense_3_loss: 0.6476 - dense_4_loss: 0.1020 - loss: 2.0379\n",
      "Epoch 442/500\n",
      "\u001b[1m69/69\u001b[0m \u001b[32m━━━━━━━━━━━━━━━━━━━━\u001b[0m\u001b[37m\u001b[0m \u001b[1m0s\u001b[0m 2ms/step - dense_2_loss: 0.6261 - dense_3_loss: 0.3352 - dense_4_loss: 0.0716 - loss: 1.0332\n",
      "Epoch 443/500\n",
      "\u001b[1m69/69\u001b[0m \u001b[32m━━━━━━━━━━━━━━━━━━━━\u001b[0m\u001b[37m\u001b[0m \u001b[1m0s\u001b[0m 2ms/step - dense_2_loss: 0.5313 - dense_3_loss: 0.3104 - dense_4_loss: 0.0690 - loss: 0.9102\n",
      "Epoch 444/500\n",
      "\u001b[1m69/69\u001b[0m \u001b[32m━━━━━━━━━━━━━━━━━━━━\u001b[0m\u001b[37m\u001b[0m \u001b[1m0s\u001b[0m 2ms/step - dense_2_loss: 0.6985 - dense_3_loss: 0.4182 - dense_4_loss: 0.0814 - loss: 1.1985\n",
      "Epoch 445/500\n",
      "\u001b[1m69/69\u001b[0m \u001b[32m━━━━━━━━━━━━━━━━━━━━\u001b[0m\u001b[37m\u001b[0m \u001b[1m0s\u001b[0m 2ms/step - dense_2_loss: 0.4064 - dense_3_loss: 0.2606 - dense_4_loss: 0.0789 - loss: 0.7462\n",
      "Epoch 446/500\n",
      "\u001b[1m69/69\u001b[0m \u001b[32m━━━━━━━━━━━━━━━━━━━━\u001b[0m\u001b[37m\u001b[0m \u001b[1m0s\u001b[0m 2ms/step - dense_2_loss: 0.5315 - dense_3_loss: 0.3089 - dense_4_loss: 0.0593 - loss: 0.9000\n",
      "Epoch 447/500\n",
      "\u001b[1m69/69\u001b[0m \u001b[32m━━━━━━━━━━━━━━━━━━━━\u001b[0m\u001b[37m\u001b[0m \u001b[1m0s\u001b[0m 2ms/step - dense_2_loss: 0.4919 - dense_3_loss: 0.3201 - dense_4_loss: 0.0621 - loss: 0.8743\n",
      "Epoch 448/500\n",
      "\u001b[1m69/69\u001b[0m \u001b[32m━━━━━━━━━━━━━━━━━━━━\u001b[0m\u001b[37m\u001b[0m \u001b[1m0s\u001b[0m 2ms/step - dense_2_loss: 0.3642 - dense_3_loss: 0.2533 - dense_4_loss: 0.0725 - loss: 0.6872\n",
      "Epoch 449/500\n",
      "\u001b[1m69/69\u001b[0m \u001b[32m━━━━━━━━━━━━━━━━━━━━\u001b[0m\u001b[37m\u001b[0m \u001b[1m0s\u001b[0m 2ms/step - dense_2_loss: 0.8006 - dense_3_loss: 0.3977 - dense_4_loss: 0.0722 - loss: 1.2707\n",
      "Epoch 450/500\n",
      "\u001b[1m69/69\u001b[0m \u001b[32m━━━━━━━━━━━━━━━━━━━━\u001b[0m\u001b[37m\u001b[0m \u001b[1m0s\u001b[0m 2ms/step - dense_2_loss: 0.3327 - dense_3_loss: 0.2095 - dense_4_loss: 0.0797 - loss: 0.6218\n",
      "Epoch 451/500\n",
      "\u001b[1m69/69\u001b[0m \u001b[32m━━━━━━━━━━━━━━━━━━━━\u001b[0m\u001b[37m\u001b[0m \u001b[1m0s\u001b[0m 2ms/step - dense_2_loss: 1.0412 - dense_3_loss: 0.5581 - dense_4_loss: 0.0641 - loss: 1.6637\n",
      "Epoch 452/500\n",
      "\u001b[1m69/69\u001b[0m \u001b[32m━━━━━━━━━━━━━━━━━━━━\u001b[0m\u001b[37m\u001b[0m \u001b[1m0s\u001b[0m 2ms/step - dense_2_loss: 0.4684 - dense_3_loss: 0.2673 - dense_4_loss: 0.0614 - loss: 0.7973\n",
      "Epoch 453/500\n",
      "\u001b[1m69/69\u001b[0m \u001b[32m━━━━━━━━━━━━━━━━━━━━\u001b[0m\u001b[37m\u001b[0m \u001b[1m0s\u001b[0m 2ms/step - dense_2_loss: 0.6089 - dense_3_loss: 0.2945 - dense_4_loss: 0.0660 - loss: 0.9692\n",
      "Epoch 454/500\n",
      "\u001b[1m69/69\u001b[0m \u001b[32m━━━━━━━━━━━━━━━━━━━━\u001b[0m\u001b[37m\u001b[0m \u001b[1m0s\u001b[0m 3ms/step - dense_2_loss: 0.3472 - dense_3_loss: 0.2205 - dense_4_loss: 0.0697 - loss: 0.6377\n",
      "Epoch 455/500\n",
      "\u001b[1m69/69\u001b[0m \u001b[32m━━━━━━━━━━━━━━━━━━━━\u001b[0m\u001b[37m\u001b[0m \u001b[1m0s\u001b[0m 2ms/step - dense_2_loss: 0.6331 - dense_3_loss: 0.3590 - dense_4_loss: 0.0749 - loss: 1.0671\n",
      "Epoch 456/500\n",
      "\u001b[1m69/69\u001b[0m \u001b[32m━━━━━━━━━━━━━━━━━━━━\u001b[0m\u001b[37m\u001b[0m \u001b[1m0s\u001b[0m 2ms/step - dense_2_loss: 0.3386 - dense_3_loss: 0.2090 - dense_4_loss: 0.0538 - loss: 0.6014\n",
      "Epoch 457/500\n",
      "\u001b[1m69/69\u001b[0m \u001b[32m━━━━━━━━━━━━━━━━━━━━\u001b[0m\u001b[37m\u001b[0m \u001b[1m0s\u001b[0m 2ms/step - dense_2_loss: 0.4379 - dense_3_loss: 0.2572 - dense_4_loss: 0.0611 - loss: 0.7564\n",
      "Epoch 458/500\n",
      "\u001b[1m69/69\u001b[0m \u001b[32m━━━━━━━━━━━━━━━━━━━━\u001b[0m\u001b[37m\u001b[0m \u001b[1m0s\u001b[0m 2ms/step - dense_2_loss: 0.4392 - dense_3_loss: 0.2348 - dense_4_loss: 0.0608 - loss: 0.7347\n",
      "Epoch 459/500\n",
      "\u001b[1m69/69\u001b[0m \u001b[32m━━━━━━━━━━━━━━━━━━━━\u001b[0m\u001b[37m\u001b[0m \u001b[1m0s\u001b[0m 3ms/step - dense_2_loss: 0.4603 - dense_3_loss: 0.2675 - dense_4_loss: 0.0608 - loss: 0.7888\n",
      "Epoch 460/500\n",
      "\u001b[1m69/69\u001b[0m \u001b[32m━━━━━━━━━━━━━━━━━━━━\u001b[0m\u001b[37m\u001b[0m \u001b[1m0s\u001b[0m 2ms/step - dense_2_loss: 0.3988 - dense_3_loss: 0.2231 - dense_4_loss: 0.0709 - loss: 0.6929\n",
      "Epoch 461/500\n",
      "\u001b[1m69/69\u001b[0m \u001b[32m━━━━━━━━━━━━━━━━━━━━\u001b[0m\u001b[37m\u001b[0m \u001b[1m0s\u001b[0m 2ms/step - dense_2_loss: 0.3817 - dense_3_loss: 0.2377 - dense_4_loss: 0.0546 - loss: 0.6742\n",
      "Epoch 462/500\n",
      "\u001b[1m69/69\u001b[0m \u001b[32m━━━━━━━━━━━━━━━━━━━━\u001b[0m\u001b[37m\u001b[0m \u001b[1m0s\u001b[0m 2ms/step - dense_2_loss: 0.6162 - dense_3_loss: 0.3369 - dense_4_loss: 0.0894 - loss: 1.0428\n",
      "Epoch 463/500\n",
      "\u001b[1m69/69\u001b[0m \u001b[32m━━━━━━━━━━━━━━━━━━━━\u001b[0m\u001b[37m\u001b[0m \u001b[1m0s\u001b[0m 3ms/step - dense_2_loss: 0.9004 - dense_3_loss: 0.4388 - dense_4_loss: 0.0768 - loss: 1.4153\n",
      "Epoch 464/500\n",
      "\u001b[1m69/69\u001b[0m \u001b[32m━━━━━━━━━━━━━━━━━━━━\u001b[0m\u001b[37m\u001b[0m \u001b[1m0s\u001b[0m 2ms/step - dense_2_loss: 0.8492 - dense_3_loss: 0.4000 - dense_4_loss: 0.0796 - loss: 1.3291\n",
      "Epoch 465/500\n",
      "\u001b[1m69/69\u001b[0m \u001b[32m━━━━━━━━━━━━━━━━━━━━\u001b[0m\u001b[37m\u001b[0m \u001b[1m0s\u001b[0m 2ms/step - dense_2_loss: 0.6583 - dense_3_loss: 0.3722 - dense_4_loss: 0.0777 - loss: 1.1086\n",
      "Epoch 466/500\n",
      "\u001b[1m69/69\u001b[0m \u001b[32m━━━━━━━━━━━━━━━━━━━━\u001b[0m\u001b[37m\u001b[0m \u001b[1m0s\u001b[0m 2ms/step - dense_2_loss: 1.3811 - dense_3_loss: 0.7233 - dense_4_loss: 0.0764 - loss: 2.1810\n",
      "Epoch 467/500\n",
      "\u001b[1m69/69\u001b[0m \u001b[32m━━━━━━━━━━━━━━━━━━━━\u001b[0m\u001b[37m\u001b[0m \u001b[1m0s\u001b[0m 2ms/step - dense_2_loss: 0.4067 - dense_3_loss: 0.2323 - dense_4_loss: 0.0846 - loss: 0.7238\n",
      "Epoch 468/500\n",
      "\u001b[1m69/69\u001b[0m \u001b[32m━━━━━━━━━━━━━━━━━━━━\u001b[0m\u001b[37m\u001b[0m \u001b[1m0s\u001b[0m 2ms/step - dense_2_loss: 0.5874 - dense_3_loss: 0.3392 - dense_4_loss: 0.0750 - loss: 1.0019\n",
      "Epoch 469/500\n",
      "\u001b[1m69/69\u001b[0m \u001b[32m━━━━━━━━━━━━━━━━━━━━\u001b[0m\u001b[37m\u001b[0m \u001b[1m0s\u001b[0m 2ms/step - dense_2_loss: 0.6467 - dense_3_loss: 0.3194 - dense_4_loss: 0.0691 - loss: 1.0353\n",
      "Epoch 470/500\n",
      "\u001b[1m69/69\u001b[0m \u001b[32m━━━━━━━━━━━━━━━━━━━━\u001b[0m\u001b[37m\u001b[0m \u001b[1m0s\u001b[0m 2ms/step - dense_2_loss: 0.7022 - dense_3_loss: 0.3456 - dense_4_loss: 0.0741 - loss: 1.1222\n",
      "Epoch 471/500\n",
      "\u001b[1m69/69\u001b[0m \u001b[32m━━━━━━━━━━━━━━━━━━━━\u001b[0m\u001b[37m\u001b[0m \u001b[1m0s\u001b[0m 2ms/step - dense_2_loss: 0.4810 - dense_3_loss: 0.2288 - dense_4_loss: 0.0723 - loss: 0.7824\n",
      "Epoch 472/500\n",
      "\u001b[1m69/69\u001b[0m \u001b[32m━━━━━━━━━━━━━━━━━━━━\u001b[0m\u001b[37m\u001b[0m \u001b[1m0s\u001b[0m 2ms/step - dense_2_loss: 0.5782 - dense_3_loss: 0.2950 - dense_4_loss: 0.0691 - loss: 0.9425\n",
      "Epoch 473/500\n",
      "\u001b[1m69/69\u001b[0m \u001b[32m━━━━━━━━━━━━━━━━━━━━\u001b[0m\u001b[37m\u001b[0m \u001b[1m0s\u001b[0m 2ms/step - dense_2_loss: 0.6108 - dense_3_loss: 0.3358 - dense_4_loss: 0.0750 - loss: 1.0218\n",
      "Epoch 474/500\n",
      "\u001b[1m69/69\u001b[0m \u001b[32m━━━━━━━━━━━━━━━━━━━━\u001b[0m\u001b[37m\u001b[0m \u001b[1m0s\u001b[0m 2ms/step - dense_2_loss: 0.7202 - dense_3_loss: 0.3442 - dense_4_loss: 0.0559 - loss: 1.1205\n",
      "Epoch 475/500\n",
      "\u001b[1m69/69\u001b[0m \u001b[32m━━━━━━━━━━━━━━━━━━━━\u001b[0m\u001b[37m\u001b[0m \u001b[1m0s\u001b[0m 3ms/step - dense_2_loss: 1.1999 - dense_3_loss: 0.6388 - dense_4_loss: 0.0797 - loss: 1.9184\n",
      "Epoch 476/500\n",
      "\u001b[1m69/69\u001b[0m \u001b[32m━━━━━━━━━━━━━━━━━━━━\u001b[0m\u001b[37m\u001b[0m \u001b[1m0s\u001b[0m 2ms/step - dense_2_loss: 0.4456 - dense_3_loss: 0.2288 - dense_4_loss: 0.0713 - loss: 0.7458\n",
      "Epoch 477/500\n",
      "\u001b[1m69/69\u001b[0m \u001b[32m━━━━━━━━━━━━━━━━━━━━\u001b[0m\u001b[37m\u001b[0m \u001b[1m0s\u001b[0m 2ms/step - dense_2_loss: 0.7025 - dense_3_loss: 0.3730 - dense_4_loss: 0.0664 - loss: 1.1421\n",
      "Epoch 478/500\n",
      "\u001b[1m69/69\u001b[0m \u001b[32m━━━━━━━━━━━━━━━━━━━━\u001b[0m\u001b[37m\u001b[0m \u001b[1m0s\u001b[0m 3ms/step - dense_2_loss: 0.5445 - dense_3_loss: 0.2651 - dense_4_loss: 0.0572 - loss: 0.8671\n",
      "Epoch 479/500\n",
      "\u001b[1m69/69\u001b[0m \u001b[32m━━━━━━━━━━━━━━━━━━━━\u001b[0m\u001b[37m\u001b[0m \u001b[1m0s\u001b[0m 2ms/step - dense_2_loss: 0.6161 - dense_3_loss: 0.3135 - dense_4_loss: 0.0587 - loss: 0.9885\n",
      "Epoch 480/500\n",
      "\u001b[1m69/69\u001b[0m \u001b[32m━━━━━━━━━━━━━━━━━━━━\u001b[0m\u001b[37m\u001b[0m \u001b[1m0s\u001b[0m 2ms/step - dense_2_loss: 0.4262 - dense_3_loss: 0.2189 - dense_4_loss: 0.0506 - loss: 0.6958\n",
      "Epoch 481/500\n",
      "\u001b[1m69/69\u001b[0m \u001b[32m━━━━━━━━━━━━━━━━━━━━\u001b[0m\u001b[37m\u001b[0m \u001b[1m0s\u001b[0m 2ms/step - dense_2_loss: 0.6671 - dense_3_loss: 0.3666 - dense_4_loss: 0.0828 - loss: 1.1166\n",
      "Epoch 482/500\n",
      "\u001b[1m69/69\u001b[0m \u001b[32m━━━━━━━━━━━━━━━━━━━━\u001b[0m\u001b[37m\u001b[0m \u001b[1m0s\u001b[0m 2ms/step - dense_2_loss: 0.7219 - dense_3_loss: 0.3636 - dense_4_loss: 0.0683 - loss: 1.1542\n",
      "Epoch 483/500\n",
      "\u001b[1m69/69\u001b[0m \u001b[32m━━━━━━━━━━━━━━━━━━━━\u001b[0m\u001b[37m\u001b[0m \u001b[1m0s\u001b[0m 3ms/step - dense_2_loss: 0.7188 - dense_3_loss: 0.4179 - dense_4_loss: 0.0725 - loss: 1.2094\n",
      "Epoch 484/500\n",
      "\u001b[1m69/69\u001b[0m \u001b[32m━━━━━━━━━━━━━━━━━━━━\u001b[0m\u001b[37m\u001b[0m \u001b[1m0s\u001b[0m 2ms/step - dense_2_loss: 0.5519 - dense_3_loss: 0.3017 - dense_4_loss: 0.0981 - loss: 0.9521\n",
      "Epoch 485/500\n",
      "\u001b[1m69/69\u001b[0m \u001b[32m━━━━━━━━━━━━━━━━━━━━\u001b[0m\u001b[37m\u001b[0m \u001b[1m0s\u001b[0m 2ms/step - dense_2_loss: 0.8400 - dense_3_loss: 0.4602 - dense_4_loss: 0.0646 - loss: 1.3651\n",
      "Epoch 486/500\n",
      "\u001b[1m69/69\u001b[0m \u001b[32m━━━━━━━━━━━━━━━━━━━━\u001b[0m\u001b[37m\u001b[0m \u001b[1m0s\u001b[0m 2ms/step - dense_2_loss: 1.2546 - dense_3_loss: 0.6487 - dense_4_loss: 0.0864 - loss: 1.9900\n",
      "Epoch 487/500\n",
      "\u001b[1m69/69\u001b[0m \u001b[32m━━━━━━━━━━━━━━━━━━━━\u001b[0m\u001b[37m\u001b[0m \u001b[1m0s\u001b[0m 2ms/step - dense_2_loss: 0.7105 - dense_3_loss: 0.3584 - dense_4_loss: 0.0778 - loss: 1.1468\n",
      "Epoch 488/500\n",
      "\u001b[1m69/69\u001b[0m \u001b[32m━━━━━━━━━━━━━━━━━━━━\u001b[0m\u001b[37m\u001b[0m \u001b[1m0s\u001b[0m 2ms/step - dense_2_loss: 0.5507 - dense_3_loss: 0.2760 - dense_4_loss: 0.0620 - loss: 0.8889\n",
      "Epoch 489/500\n",
      "\u001b[1m69/69\u001b[0m \u001b[32m━━━━━━━━━━━━━━━━━━━━\u001b[0m\u001b[37m\u001b[0m \u001b[1m0s\u001b[0m 2ms/step - dense_2_loss: 0.7241 - dense_3_loss: 0.4034 - dense_4_loss: 0.0721 - loss: 1.1998\n",
      "Epoch 490/500\n",
      "\u001b[1m69/69\u001b[0m \u001b[32m━━━━━━━━━━━━━━━━━━━━\u001b[0m\u001b[37m\u001b[0m \u001b[1m0s\u001b[0m 2ms/step - dense_2_loss: 0.3397 - dense_3_loss: 0.2045 - dense_4_loss: 0.0520 - loss: 0.5963\n",
      "Epoch 491/500\n",
      "\u001b[1m69/69\u001b[0m \u001b[32m━━━━━━━━━━━━━━━━━━━━\u001b[0m\u001b[37m\u001b[0m \u001b[1m0s\u001b[0m 2ms/step - dense_2_loss: 0.6854 - dense_3_loss: 0.3697 - dense_4_loss: 0.0865 - loss: 1.1416\n",
      "Epoch 492/500\n",
      "\u001b[1m69/69\u001b[0m \u001b[32m━━━━━━━━━━━━━━━━━━━━\u001b[0m\u001b[37m\u001b[0m \u001b[1m0s\u001b[0m 2ms/step - dense_2_loss: 0.6344 - dense_3_loss: 0.3269 - dense_4_loss: 0.0763 - loss: 1.0377\n",
      "Epoch 493/500\n",
      "\u001b[1m69/69\u001b[0m \u001b[32m━━━━━━━━━━━━━━━━━━━━\u001b[0m\u001b[37m\u001b[0m \u001b[1m0s\u001b[0m 2ms/step - dense_2_loss: 0.6306 - dense_3_loss: 0.3143 - dense_4_loss: 0.0611 - loss: 1.0063\n",
      "Epoch 494/500\n",
      "\u001b[1m69/69\u001b[0m \u001b[32m━━━━━━━━━━━━━━━━━━━━\u001b[0m\u001b[37m\u001b[0m \u001b[1m0s\u001b[0m 2ms/step - dense_2_loss: 0.3835 - dense_3_loss: 0.2200 - dense_4_loss: 0.0529 - loss: 0.6567\n",
      "Epoch 495/500\n",
      "\u001b[1m69/69\u001b[0m \u001b[32m━━━━━━━━━━━━━━━━━━━━\u001b[0m\u001b[37m\u001b[0m \u001b[1m0s\u001b[0m 2ms/step - dense_2_loss: 0.6265 - dense_3_loss: 0.3352 - dense_4_loss: 0.0706 - loss: 1.0326\n",
      "Epoch 496/500\n",
      "\u001b[1m69/69\u001b[0m \u001b[32m━━━━━━━━━━━━━━━━━━━━\u001b[0m\u001b[37m\u001b[0m \u001b[1m0s\u001b[0m 2ms/step - dense_2_loss: 0.5397 - dense_3_loss: 0.2861 - dense_4_loss: 0.0543 - loss: 0.8803\n",
      "Epoch 497/500\n",
      "\u001b[1m69/69\u001b[0m \u001b[32m━━━━━━━━━━━━━━━━━━━━\u001b[0m\u001b[37m\u001b[0m \u001b[1m0s\u001b[0m 2ms/step - dense_2_loss: 0.5145 - dense_3_loss: 0.2394 - dense_4_loss: 0.0642 - loss: 0.8184\n",
      "Epoch 498/500\n",
      "\u001b[1m69/69\u001b[0m \u001b[32m━━━━━━━━━━━━━━━━━━━━\u001b[0m\u001b[37m\u001b[0m \u001b[1m0s\u001b[0m 2ms/step - dense_2_loss: 0.7871 - dense_3_loss: 0.4055 - dense_4_loss: 0.0574 - loss: 1.2502\n",
      "Epoch 499/500\n",
      "\u001b[1m69/69\u001b[0m \u001b[32m━━━━━━━━━━━━━━━━━━━━\u001b[0m\u001b[37m\u001b[0m \u001b[1m0s\u001b[0m 2ms/step - dense_2_loss: 0.6822 - dense_3_loss: 0.3315 - dense_4_loss: 0.0983 - loss: 1.1121\n",
      "Epoch 500/500\n",
      "\u001b[1m69/69\u001b[0m \u001b[32m━━━━━━━━━━━━━━━━━━━━\u001b[0m\u001b[37m\u001b[0m \u001b[1m0s\u001b[0m 2ms/step - dense_2_loss: 0.7175 - dense_3_loss: 0.4024 - dense_4_loss: 0.0787 - loss: 1.1988\n"
     ]
    },
    {
     "data": {
      "text/plain": [
       "<keras.src.callbacks.history.History at 0x28163abe290>"
      ]
     },
     "execution_count": 25,
     "metadata": {},
     "output_type": "execute_result"
    }
   ],
   "source": [
    "regressor.fit(X, [y_na, y_eu, y_jp], epochs=500, batch_size=100)"
   ]
  },
  {
   "cell_type": "code",
   "execution_count": 26,
   "metadata": {
    "colab": {
     "base_uri": "https://localhost:8080/"
    },
    "executionInfo": {
     "elapsed": 1086,
     "status": "ok",
     "timestamp": 1719506364292,
     "user": {
      "displayName": "Jones Granatyr",
      "userId": "10042675233362078631"
     },
     "user_tz": 180
    },
    "id": "VHmoo7YVkAdn",
    "outputId": "36d4378b-2a33-4977-e8f3-efb142dcdd76"
   },
   "outputs": [
    {
     "name": "stdout",
     "output_type": "stream",
     "text": [
      "\u001b[1m214/214\u001b[0m \u001b[32m━━━━━━━━━━━━━━━━━━━━\u001b[0m\u001b[37m\u001b[0m \u001b[1m0s\u001b[0m 977us/step\n"
     ]
    }
   ],
   "source": [
    "previsao_na, previsao_eu, previsao_jp = regressor.predict(X) # Testando o modelo com os próprios dados de treinamento"
   ]
  },
  {
   "cell_type": "markdown",
   "metadata": {},
   "source": [
    "# Previsão com o Dropout de 20%"
   ]
  },
  {
   "cell_type": "code",
   "execution_count": 38,
   "metadata": {},
   "outputs": [
    {
     "data": {
      "text/plain": [
       "(array([[ 8.381581  ],\n",
       "        [ 9.650656  ],\n",
       "        [ 6.082191  ],\n",
       "        ...,\n",
       "        [-0.012909  ],\n",
       "        [-0.1028443 ],\n",
       "        [-0.29132205]], dtype=float32),\n",
       " 0.3234921,\n",
       " array([4.136e+01, 1.568e+01, 1.561e+01, ..., 0.000e+00, 1.000e-02,\n",
       "        0.000e+00]),\n",
       " 0.3944835164835165)"
      ]
     },
     "execution_count": 38,
     "metadata": {},
     "output_type": "execute_result"
    }
   ],
   "source": [
    "previsao_na, previsao_na.mean(), y_na, y_na.mean()"
   ]
  },
  {
   "cell_type": "code",
   "execution_count": 39,
   "metadata": {},
   "outputs": [
    {
     "data": {
      "text/plain": [
       "(array([[ 5.9325094e+00],\n",
       "        [ 6.6482086e+00],\n",
       "        [ 4.2632928e+00],\n",
       "        ...,\n",
       "        [ 3.7254691e-03],\n",
       "        [-4.3580413e-02],\n",
       "        [-1.4271954e-01]], dtype=float32),\n",
       " 0.19636914,\n",
       " array([2.896e+01, 1.276e+01, 1.093e+01, ..., 1.000e-02, 0.000e+00,\n",
       "        1.000e-02]),\n",
       " 0.23608937728937732)"
      ]
     },
     "execution_count": 39,
     "metadata": {},
     "output_type": "execute_result"
    }
   ],
   "source": [
    "previsao_eu, previsao_eu.mean(), y_eu, y_eu.mean()"
   ]
  },
  {
   "cell_type": "code",
   "execution_count": 40,
   "metadata": {},
   "outputs": [
    {
     "data": {
      "text/plain": [
       "(array([[ 2.6732123e+00],\n",
       "        [ 2.7076676e+00],\n",
       "        [ 1.9526049e+00],\n",
       "        ...,\n",
       "        [-1.6678572e-03],\n",
       "        [-1.7802827e-02],\n",
       "        [-5.1616915e-02]], dtype=float32),\n",
       " 0.05936809,\n",
       " array([3.77, 3.79, 3.28, ..., 0.  , 0.  , 0.  ]),\n",
       " 0.06415824175824175)"
      ]
     },
     "execution_count": 40,
     "metadata": {},
     "output_type": "execute_result"
    }
   ],
   "source": [
    "previsao_jp, previsao_jp.mean(), y_jp, y_jp.mean()"
   ]
  },
  {
   "cell_type": "code",
   "execution_count": 29,
   "metadata": {
    "id": "qCdh94yYkfwO"
   },
   "outputs": [],
   "source": [
    "from sklearn.metrics import mean_absolute_error"
   ]
  },
  {
   "cell_type": "markdown",
   "metadata": {},
   "source": [
    "# Erro absoluto com o Dropout"
   ]
  },
  {
   "cell_type": "code",
   "execution_count": 30,
   "metadata": {},
   "outputs": [
    {
     "data": {
      "text/plain": [
       "0.260387293560601"
      ]
     },
     "execution_count": 30,
     "metadata": {},
     "output_type": "execute_result"
    }
   ],
   "source": [
    "mean_absolute_error(y_na, previsao_na)"
   ]
  },
  {
   "cell_type": "code",
   "execution_count": 41,
   "metadata": {},
   "outputs": [
    {
     "data": {
      "text/plain": [
       "0.18426966578209353"
      ]
     },
     "execution_count": 41,
     "metadata": {},
     "output_type": "execute_result"
    }
   ],
   "source": [
    "mean_absolute_error(y_eu, previsao_eu)"
   ]
  },
  {
   "cell_type": "code",
   "execution_count": 42,
   "metadata": {},
   "outputs": [
    {
     "data": {
      "text/plain": [
       "0.08722818011471203"
      ]
     },
     "execution_count": 42,
     "metadata": {},
     "output_type": "execute_result"
    }
   ],
   "source": [
    "mean_absolute_error(y_jp, previsao_jp)"
   ]
  },
  {
   "cell_type": "markdown",
   "metadata": {},
   "source": [
    "# Erro absoluto sem o Dropout"
   ]
  },
  {
   "cell_type": "code",
   "execution_count": 35,
   "metadata": {
    "colab": {
     "base_uri": "https://localhost:8080/"
    },
    "executionInfo": {
     "elapsed": 314,
     "status": "ok",
     "timestamp": 1719506466383,
     "user": {
      "displayName": "Jones Granatyr",
      "userId": "10042675233362078631"
     },
     "user_tz": 180
    },
    "id": "9ojMyiU7kjtX",
    "outputId": "640a77ba-a581-4538-d937-8092deb03a41"
   },
   "outputs": [
    {
     "data": {
      "text/plain": [
       "0.3225100472481696"
      ]
     },
     "execution_count": 35,
     "metadata": {},
     "output_type": "execute_result"
    }
   ],
   "source": [
    "mean_absolute_error(y_na, previsao_na)"
   ]
  },
  {
   "cell_type": "code",
   "execution_count": 38,
   "metadata": {
    "colab": {
     "base_uri": "https://localhost:8080/"
    },
    "executionInfo": {
     "elapsed": 292,
     "status": "ok",
     "timestamp": 1719506596489,
     "user": {
      "displayName": "Jones Granatyr",
      "userId": "10042675233362078631"
     },
     "user_tz": 180
    },
    "id": "pd3baBO_lDVn",
    "outputId": "aa31d88e-cb66-4c81-968e-11333f573d9b"
   },
   "outputs": [
    {
     "data": {
      "text/plain": [
       "0.22454100766815108"
      ]
     },
     "execution_count": 38,
     "metadata": {},
     "output_type": "execute_result"
    }
   ],
   "source": [
    "mean_absolute_error(y_eu, previsao_eu)"
   ]
  },
  {
   "cell_type": "code",
   "execution_count": 42,
   "metadata": {
    "colab": {
     "base_uri": "https://localhost:8080/"
    },
    "executionInfo": {
     "elapsed": 321,
     "status": "ok",
     "timestamp": 1719506629073,
     "user": {
      "displayName": "Jones Granatyr",
      "userId": "10042675233362078631"
     },
     "user_tz": 180
    },
    "id": "bX8WO6BylMAR",
    "outputId": "52bbc4aa-7601-4653-bc92-f50c25d1ac5a"
   },
   "outputs": [
    {
     "data": {
      "text/plain": [
       "0.1189478561075179"
      ]
     },
     "execution_count": 42,
     "metadata": {},
     "output_type": "execute_result"
    }
   ],
   "source": [
    "mean_absolute_error(y_jp, previsao_jp)"
   ]
  }
 ],
 "metadata": {
  "colab": {
   "provenance": []
  },
  "kernelspec": {
   "display_name": "Python 3",
   "name": "python3"
  },
  "language_info": {
   "codemirror_mode": {
    "name": "ipython",
    "version": 3
   },
   "file_extension": ".py",
   "mimetype": "text/x-python",
   "name": "python",
   "nbconvert_exporter": "python",
   "pygments_lexer": "ipython3",
   "version": "3.11.9"
  }
 },
 "nbformat": 4,
 "nbformat_minor": 0
}
