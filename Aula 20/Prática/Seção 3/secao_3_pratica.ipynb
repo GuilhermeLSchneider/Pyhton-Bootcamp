{
 "cells": [
  {
   "cell_type": "code",
   "execution_count": 1,
   "id": "46a6fa6a",
   "metadata": {},
   "outputs": [],
   "source": [
    "import torch\n",
    "import torch.nn as nn\n",
    "from torch.optim import SGD\n",
    "import matplotlib.pyplot as plt\n",
    "from sklearn.preprocessing import StandardScaler\n",
    "import numpy as np"
   ]
  },
  {
   "cell_type": "code",
   "execution_count": 2,
   "id": "88a80f6e",
   "metadata": {},
   "outputs": [],
   "source": [
    "x = [[2,1], [4,2], [6,5], [17,13]]\n",
    "y = [[1], [2], [1], [4]]"
   ]
  },
  {
   "cell_type": "code",
   "execution_count": 3,
   "id": "2242ea11",
   "metadata": {},
   "outputs": [],
   "source": [
    "scaler = StandardScaler()\n",
    "x_scaled = scaler.fit_transform(x)"
   ]
  },
  {
   "cell_type": "code",
   "execution_count": 4,
   "id": "853be51a",
   "metadata": {},
   "outputs": [],
   "source": [
    "X = torch.tensor(x_scaled).float()\n",
    "Y = torch.tensor(y).float()"
   ]
  },
  {
   "cell_type": "code",
   "execution_count": 5,
   "id": "8208f988",
   "metadata": {},
   "outputs": [],
   "source": [
    "import torch.nn as nn"
   ]
  },
  {
   "cell_type": "code",
   "execution_count": 6,
   "id": "c624a1b0",
   "metadata": {},
   "outputs": [],
   "source": [
    "class MyNeuralNet(nn.Module):\n",
    "    def __init__(self):\n",
    "        super().__init__()\n",
    "        self.layer1 = nn.Linear(2,8)\n",
    "        self.activation2 = nn.ReLU()\n",
    "        self.layer3 = nn.Linear(8, 1)\n",
    "\n",
    "    def forward(self, x):\n",
    "        x = self.layer1(x)\n",
    "        x = self.activation2(x)\n",
    "        x = self.layer3(x)\n",
    "        return x"
   ]
  },
  {
   "cell_type": "code",
   "execution_count": 7,
   "id": "46163b26",
   "metadata": {},
   "outputs": [],
   "source": [
    "model = MyNeuralNet()"
   ]
  },
  {
   "cell_type": "code",
   "execution_count": 8,
   "id": "08f77f51",
   "metadata": {},
   "outputs": [
    {
     "data": {
      "text/plain": [
       "MyNeuralNet(\n",
       "  (layer1): Linear(in_features=2, out_features=8, bias=True)\n",
       "  (activation2): ReLU()\n",
       "  (layer3): Linear(in_features=8, out_features=1, bias=True)\n",
       ")"
      ]
     },
     "execution_count": 8,
     "metadata": {},
     "output_type": "execute_result"
    }
   ],
   "source": [
    "model"
   ]
  },
  {
   "cell_type": "code",
   "execution_count": 9,
   "id": "8f9bf352",
   "metadata": {},
   "outputs": [],
   "source": [
    "loss_fn = nn.MSELoss()"
   ]
  },
  {
   "cell_type": "code",
   "execution_count": 10,
   "id": "7e0d7feb",
   "metadata": {},
   "outputs": [],
   "source": [
    "opt = SGD(model.parameters(), lr=0.01)"
   ]
  },
  {
   "cell_type": "markdown",
   "id": "41fe36e3",
   "metadata": {},
   "source": [
    "# Training Loop"
   ]
  },
  {
   "cell_type": "code",
   "execution_count": 14,
   "id": "f965625c",
   "metadata": {},
   "outputs": [],
   "source": [
    "losses = []\n",
    "for _ in range(100): # 50 epochs\n",
    "    opt.zero_grad() # Reinicia o gradiente\n",
    "    y_pred = model(X)\n",
    "    loss_value = loss_fn(model(X), Y) # Calcula a perda\n",
    "    \n",
    "    loss_value.backward() # Calcula o gradiente\n",
    "    \n",
    "    opt.step() # Atualiza os pesos\n",
    "    # Salva a perda para plotar depois\n",
    "    losses.append(loss_value.detach().numpy())"
   ]
  },
  {
   "cell_type": "code",
   "execution_count": 15,
   "id": "e088ef02",
   "metadata": {},
   "outputs": [
    {
     "data": {
      "text/plain": [
       "Text(0, 0.5, 'Valor do Erro')"
      ]
     },
     "execution_count": 15,
     "metadata": {},
     "output_type": "execute_result"
    },
    {
     "data": {
      "image/png": "[encoded data removed]",
      "text/plain": [
       "<Figure size 640x480 with 1 Axes>"
      ]
     },
     "metadata": {},
     "output_type": "display_data"
    }
   ],
   "source": [
    "plt.plot(losses)\n",
    "plt.title(\"Variação do erro com o tempo\")\n",
    "plt.xlabel(\"Épocas\")\n",
    "plt.ylabel(\"Valor do Erro\")"
   ]
  },
  {
   "cell_type": "code",
   "execution_count": 22,
   "id": "92d0c235",
   "metadata": {},
   "outputs": [
    {
     "name": "stderr",
     "output_type": "stream",
     "text": [
      "C:\\Users\\guilh\\AppData\\Local\\Temp\\ipykernel_3484\\4276197563.py:4: UserWarning: To copy construct from a tensor, it is recommended to use sourceTensor.clone().detach() or sourceTensor.clone().detach().requires_grad_(True), rather than torch.tensor(sourceTensor).\n",
      "  model(torch.tensor(val_tensor).to(device='cpu'))\n"
     ]
    },
    {
     "data": {
      "text/plain": [
       "tensor([[1.9545],\n",
       "        [1.3379],\n",
       "        [1.6443],\n",
       "        [2.2647]], grad_fn=<AddmmBackward0>)"
      ]
     },
     "execution_count": 22,
     "metadata": {},
     "output_type": "execute_result"
    }
   ],
   "source": [
    "val = [[9,7], [6,5], [8,6], [10,8]]\n",
    "val_scaled = scaler.transform(val)\n",
    "val_tensor = torch.tensor(val_scaled).float()\n",
    "model(torch.tensor(val_tensor).to(device='cpu'))"
   ]
  }
 ],
 "metadata": {
  "kernelspec": {
   "display_name": "Python 3",
   "language": "python",
   "name": "python3"
  },
  "language_info": {
   "codemirror_mode": {
    "name": "ipython",
    "version": 3
   },
   "file_extension": ".py",
   "mimetype": "text/x-python",
   "name": "python",
   "nbconvert_exporter": "python",
   "pygments_lexer": "ipython3",
   "version": "3.12.10"
  }
 },
 "nbformat": 4,
 "nbformat_minor": 5
}
