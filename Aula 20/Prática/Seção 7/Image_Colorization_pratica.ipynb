{
 "cells": [
  {
   "cell_type": "code",
   "execution_count": 4,
   "id": "7750c670",
   "metadata": {},
   "outputs": [],
   "source": [
    "import torch\n",
    "import torchvision\n",
    "from torch import optim\n",
    "from torch_snippets import *\n",
    "from torch.utils.data import DataLoader\n",
    "device = 'cuda' if torch.cuda.is_available() else 'cpu'"
   ]
  },
  {
   "cell_type": "code",
   "execution_count": 5,
   "id": "a6e07519",
   "metadata": {},
   "outputs": [
    {
     "data": {
      "text/plain": [
       "'cuda'"
      ]
     },
     "execution_count": 5,
     "metadata": {},
     "output_type": "execute_result"
    }
   ],
   "source": [
    "device"
   ]
  },
  {
   "cell_type": "code",
   "execution_count": 6,
   "id": "aabc850c",
   "metadata": {},
   "outputs": [
    {
     "name": "stdout",
     "output_type": "stream",
     "text": [
      "Files already downloaded and verified\n"
     ]
    },
    {
     "data": {
      "text/plain": [
       "Dataset CIFAR10\n",
       "    Number of datapoints: 50000\n",
       "    Root location: ./CIFAR10\n",
       "    Split: Train"
      ]
     },
     "execution_count": 6,
     "metadata": {},
     "output_type": "execute_result"
    }
   ],
   "source": [
    "from torchvision import datasets\n",
    "\n",
    "data_folder = './CIFAR10'\n",
    "datasets.CIFAR10(data_folder, download=True)"
   ]
  },
  {
   "cell_type": "code",
   "execution_count": 7,
   "id": "d6732569",
   "metadata": {},
   "outputs": [],
   "source": [
    "class Colorize(torchvision.datasets.CIFAR10):\n",
    "    def __init__(self, root, train):\n",
    "        super().__init__(root,train)\n",
    "    def __getitem__(self,ix):\n",
    "        im,_ = super().__getitem__(ix)\n",
    "        bw = im.convert('L').convert('RGB')\n",
    "        bw, im = np.array(bw)/255., np.array(im)/255.\n",
    "        bw, im = [torch.tensor(i).permute(2,0,1).to(device).float() for i in [bw,im]]\n",
    "        return bw, im\n",
    "\n",
    "trn_ds = Colorize(data_folder, train=True)\n",
    "val_ds = Colorize(data_folder, train=False)\n",
    "\n",
    "trn_dl = DataLoader(trn_ds, batch_size=256, shuffle=True)\n",
    "val_dl = DataLoader(val_ds, batch_size=256, shuffle=False)"
   ]
  },
  {
   "cell_type": "code",
   "execution_count": 8,
   "id": "08298341",
   "metadata": {},
   "outputs": [
    {
     "data": {
      "image/png": "[encoded data removed]",
      "text/plain": [
       "<Figure size 500x500 with 2 Axes>"
      ]
     },
     "metadata": {},
     "output_type": "display_data"
    }
   ],
   "source": [
    "a,b = trn_ds[5]\n",
    "subplots([a,b], nc=2)"
   ]
  },
  {
   "cell_type": "code",
   "execution_count": null,
   "id": "55f9d926",
   "metadata": {},
   "outputs": [],
   "source": [
    "# Principais alterações feitas são na arquitetura do modelo\n",
    "\n",
    "import torch.nn as nn\n",
    "\n",
    "class Identity(nn.Module):\n",
    "    def __init__(self):\n",
    "        super().__init__()\n",
    "    def forward(self, x):\n",
    "        return x\n",
    "\n",
    "class DownConv(nn.Module):\n",
    "    def __init__(self, ni, no, maxpool=True, dropout=0.2):\n",
    "        super().__init__()\n",
    "        self.model = nn.Sequential(\n",
    "            nn.MaxPool2d(2) if maxpool else Identity(),\n",
    "            nn.Conv2d(ni, no, 3, padding=1),\n",
    "            nn.BatchNorm2d(no),\n",
    "            nn.LeakyReLU(0.2, inplace=True),\n",
    "            nn.Dropout2d(dropout), # Camada de dropout adicionada\n",
    "            nn.Conv2d(no, no, 3, padding=1),\n",
    "            nn.BatchNorm2d(no),\n",
    "            nn.LeakyReLU(0.2, inplace=True),\n",
    "            nn.Dropout2d(dropout), # Camada de dropout adicionada\n",
    "        )\n",
    "    def forward(self, x):\n",
    "        return self.model(x)\n",
    "\n",
    "class UpConv(nn.Module):\n",
    "    def __init__(self, ni, no, dropout=0.2):\n",
    "        super().__init__()\n",
    "        self.convtranspose = nn.ConvTranspose2d(ni, no, 2, stride=2)\n",
    "        self.convlayers = nn.Sequential(\n",
    "            nn.Conv2d(no+no, no, 3, padding=1),\n",
    "            nn.BatchNorm2d(no),\n",
    "            nn.LeakyReLU(0.2, inplace=True),\n",
    "            nn.Dropout2d(dropout), # Camada de dropout adicionada\n",
    "            nn.Conv2d(no, no, 3, padding=1),\n",
    "            nn.BatchNorm2d(no),\n",
    "            nn.LeakyReLU(0.2, inplace=True),\n",
    "            nn.Dropout2d(dropout), # Camada de dropout adicionada\n",
    "        )\n",
    "    def forward(self, x, y):\n",
    "        x = self.convtranspose(x)\n",
    "        x = torch.cat([x, y], axis=1)\n",
    "        x = self.convlayers(x)\n",
    "        return x\n",
    "\n",
    "class UNet(nn.Module):\n",
    "    def __init__(self):\n",
    "        super().__init__()\n",
    "        self.d1 = DownConv(3, 64, maxpool=False)\n",
    "        self.d2 = DownConv(64, 128)\n",
    "        self.d3 = DownConv(128, 256)\n",
    "        self.d4 = DownConv(256, 512)\n",
    "        self.d5 = DownConv(512, 1024)\n",
    "        \n",
    "        self.u5 = UpConv(1024, 512)\n",
    "        self.u4 = UpConv(512, 256)\n",
    "        self.u3 = UpConv(256, 128)\n",
    "        self.u2 = UpConv(128, 64)\n",
    "        \n",
    "        self.u1 = nn.Conv2d(64, 3, kernel_size=1, stride=1)\n",
    "        self.final_activation = nn.Sigmoid() # Ativação final para garantir que a saída esteja entre 0 e 1\n",
    "    \n",
    "    def forward(self, x):\n",
    "        x0 = self.d1(x)\n",
    "        x1 = self.d2(x0)\n",
    "        x2 = self.d3(x1)\n",
    "        x3 = self.d4(x2)\n",
    "        x4 = self.d5(x3)\n",
    "        \n",
    "        X4 = self.u5(x4, x3)\n",
    "        X3 = self.u4(X4, x2)\n",
    "        X2 = self.u3(X3, x1)\n",
    "        X1 = self.u2(X2, x0)\n",
    "        X0 = self.u1(X1)\n",
    "        \n",
    "        return self.final_activation(X0) # Aplicando a ativação final\n"
   ]
  },
  {
   "cell_type": "code",
   "execution_count": 10,
   "id": "8ad4f596",
   "metadata": {},
   "outputs": [],
   "source": [
    "def get_model():\n",
    "    model = UNet().to(device)\n",
    "    optimizer = optim.Adam(model.parameters(), lr=1e-3)\n",
    "    loss_fn = nn.MSELoss()\n",
    "    return model, optimizer, loss_fn"
   ]
  },
  {
   "cell_type": "code",
   "execution_count": 11,
   "id": "821b849a",
   "metadata": {},
   "outputs": [],
   "source": [
    "def train_batch(model, data, optimizer, criterion):\n",
    "    model.train()\n",
    "    x, y = data\n",
    "    _y = model(x)\n",
    "    optimizer.zero_grad()\n",
    "    loss = criterion(_y, y)\n",
    "    loss.backward()\n",
    "    optimizer.step()\n",
    "    return loss.item()\n",
    "\n",
    "@torch.no_grad()\n",
    "def validate_batch(model, data, criterion):\n",
    "    model.eval()\n",
    "    x, y = data\n",
    "    _y = model(x)\n",
    "    loss = criterion(_y, y)\n",
    "    return loss.item()"
   ]
  },
  {
   "cell_type": "code",
   "execution_count": 12,
   "id": "27420b17",
   "metadata": {},
   "outputs": [],
   "source": [
    "# Analisando o desempenho do modelo\n",
    "def train_model(model, trn_dl, val_dl, optimizer, criterion, epochs=5):\n",
    "    for epoch in range(epochs):\n",
    "        trn_loss = []\n",
    "        for data in trn_dl:\n",
    "            loss = train_batch(model, data, optimizer, criterion)\n",
    "            trn_loss.append(loss)\n",
    "        \n",
    "        val_loss = []\n",
    "        for data in val_dl:\n",
    "            loss = validate_batch(model, data, criterion)\n",
    "            val_loss.append(loss)\n",
    "        \n",
    "        print(f'Epoch {epoch+1}/{epochs}, Train Loss: {np.mean(trn_loss):.4f}, Validation Loss: {np.mean(val_loss):.4f}')"
   ]
  },
  {
   "cell_type": "code",
   "execution_count": 14,
   "id": "5638601d",
   "metadata": {},
   "outputs": [
    {
     "name": "stdout",
     "output_type": "stream",
     "text": [
      "Epoch 1/5, Train Loss: 0.0086, Validation Loss: 0.0055\n",
      "Epoch 2/5, Train Loss: 0.0067, Validation Loss: 0.0055\n",
      "Epoch 3/5, Train Loss: 0.0064, Validation Loss: 0.0055\n",
      "Epoch 4/5, Train Loss: 0.0062, Validation Loss: 0.0052\n",
      "Epoch 5/5, Train Loss: 0.0061, Validation Loss: 0.0053\n"
     ]
    }
   ],
   "source": [
    "# Treinando o modelo\n",
    "model, optimizer, criterion = get_model()\n",
    "train_model(model, trn_dl, val_dl, optimizer, criterion, epochs=5)"
   ]
  },
  {
   "cell_type": "code",
   "execution_count": 29,
   "id": "cce8c854",
   "metadata": {},
   "outputs": [
    {
     "data": {
      "image/png": "[encoded data removed]",
      "text/plain": [
       "<Figure size 500x500 with 3 Axes>"
      ]
     },
     "metadata": {},
     "output_type": "display_data"
    }
   ],
   "source": [
    "@torch.no_grad()\n",
    "def predict(model, data):\n",
    "    model.eval()\n",
    "    x, y = data\n",
    "    _y = model(x.unsqueeze(0))\n",
    "    _y = _y.squeeze(0)\n",
    "    x, y, _y = [i.cpu().numpy().transpose(1, 2, 0) for i in [x, y, _y]]\n",
    "    x, y, _y = [np.clip(i, 0, 1) for i in [x, y, _y]]\n",
    "    subplots([x, y, _y], nc=3, titles=['Input', 'Target', 'Prediction'])\n",
    "    \n",
    "predict(model, val_ds[340])"
   ]
  }
 ],
 "metadata": {
  "kernelspec": {
   "display_name": "Python 3",
   "language": "python",
   "name": "python3"
  },
  "language_info": {
   "codemirror_mode": {
    "name": "ipython",
    "version": 3
   },
   "file_extension": ".py",
   "mimetype": "text/x-python",
   "name": "python",
   "nbconvert_exporter": "python",
   "pygments_lexer": "ipython3",
   "version": "3.12.10"
  }
 },
 "nbformat": 4,
 "nbformat_minor": 5
}
