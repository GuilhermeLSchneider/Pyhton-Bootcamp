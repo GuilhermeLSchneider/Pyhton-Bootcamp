{
 "cells": [
  {
   "cell_type": "code",
   "execution_count": 1,
   "id": "ed4b233b",
   "metadata": {},
   "outputs": [],
   "source": [
    "import torch"
   ]
  },
  {
   "cell_type": "code",
   "execution_count": 10,
   "id": "3be661c4",
   "metadata": {},
   "outputs": [
    {
     "data": {
      "text/plain": [
       "torch.Size([3, 4])"
      ]
     },
     "execution_count": 10,
     "metadata": {},
     "output_type": "execute_result"
    }
   ],
   "source": [
    "x = torch.tensor([[10, 20, 30, 40],\n",
    "                  [-25, 50, -75, -100],\n",
    "                  [-20, 83, 58, 29]])\n",
    "x.shape"
   ]
  },
  {
   "cell_type": "code",
   "execution_count": 18,
   "id": "e3bf51e4",
   "metadata": {},
   "outputs": [
    {
     "data": {
      "text/plain": [
       "tensor([[14.0000, 16.0000, 18.0000, 20.0000],\n",
       "        [ 7.0000, 22.0000, -3.0000, -8.0000],\n",
       "        [ 8.0000, 28.6000, 23.6000, 17.8000]])"
      ]
     },
     "execution_count": 18,
     "metadata": {},
     "output_type": "execute_result"
    }
   ],
   "source": [
    "x / 10 * 2 + 12"
   ]
  },
  {
   "cell_type": "code",
   "execution_count": 19,
   "id": "b08ef03a",
   "metadata": {},
   "outputs": [
    {
     "data": {
      "text/plain": [
       "tensor([[   0,   10,   20,   30],\n",
       "        [ -35,   40,  -85, -110],\n",
       "        [ -30,   73,   48,   19]])"
      ]
     },
     "execution_count": 19,
     "metadata": {},
     "output_type": "execute_result"
    }
   ],
   "source": [
    "x.sub(10)"
   ]
  },
  {
   "cell_type": "code",
   "execution_count": 20,
   "id": "467f57ee",
   "metadata": {},
   "outputs": [
    {
     "data": {
      "text/plain": [
       "tensor([[  10,   20,   30,   40],\n",
       "        [ -25,   50,  -75, -100],\n",
       "        [ -20,   83,   58,   29]])"
      ]
     },
     "execution_count": 20,
     "metadata": {},
     "output_type": "execute_result"
    }
   ],
   "source": [
    "x"
   ]
  },
  {
   "cell_type": "code",
   "execution_count": 21,
   "id": "03e057f9",
   "metadata": {},
   "outputs": [
    {
     "data": {
      "text/plain": [
       "torch.Size([3, 4])"
      ]
     },
     "execution_count": 21,
     "metadata": {},
     "output_type": "execute_result"
    }
   ],
   "source": [
    "x.shape"
   ]
  },
  {
   "cell_type": "code",
   "execution_count": 25,
   "id": "7c3e71ad",
   "metadata": {},
   "outputs": [
    {
     "data": {
      "text/plain": [
       "tensor([[  10],\n",
       "        [  20],\n",
       "        [  30],\n",
       "        [  40],\n",
       "        [ -25],\n",
       "        [  50],\n",
       "        [ -75],\n",
       "        [-100],\n",
       "        [ -20],\n",
       "        [  83],\n",
       "        [  58],\n",
       "        [  29]])"
      ]
     },
     "execution_count": 25,
     "metadata": {},
     "output_type": "execute_result"
    }
   ],
   "source": [
    "x.view(12,1) # Quatro linhas, duas colunas"
   ]
  },
  {
   "cell_type": "code",
   "execution_count": 27,
   "id": "6b063d1f",
   "metadata": {},
   "outputs": [
    {
     "data": {
      "text/plain": [
       "tensor([[[  10,   20],\n",
       "         [  30,   40],\n",
       "         [ -25,   50]],\n",
       "\n",
       "        [[ -75, -100],\n",
       "         [ -20,   83],\n",
       "         [  58,   29]]])"
      ]
     },
     "execution_count": 27,
     "metadata": {},
     "output_type": "execute_result"
    }
   ],
   "source": [
    "x.view(2,3,2) # Duas linhas, três colunas, duas camadas"
   ]
  },
  {
   "cell_type": "code",
   "execution_count": 62,
   "id": "e8203867",
   "metadata": {},
   "outputs": [
    {
     "data": {
      "text/plain": [
       "tensor([[[1., 1., 1., 1., 1.],\n",
       "         [1., 1., 1., 1., 1.]],\n",
       "\n",
       "        [[1., 1., 1., 1., 1.],\n",
       "         [1., 1., 1., 1., 1.]],\n",
       "\n",
       "        [[1., 1., 1., 1., 1.],\n",
       "         [1., 1., 1., 1., 1.]],\n",
       "\n",
       "        [[1., 1., 1., 1., 1.],\n",
       "         [1., 1., 1., 1., 1.]]])"
      ]
     },
     "execution_count": 62,
     "metadata": {},
     "output_type": "execute_result"
    }
   ],
   "source": [
    "a = torch.ones(4,2,5) # Gera um tensor de 4 linhas, 4 colunas e 5 camadas\n",
    "a"
   ]
  },
  {
   "cell_type": "markdown",
   "id": "0c6d1068",
   "metadata": {},
   "source": [
    "# Indexação None"
   ]
  },
  {
   "cell_type": "code",
   "execution_count": 21,
   "id": "0125256d",
   "metadata": {},
   "outputs": [],
   "source": [
    "a = torch.ones(2,3)"
   ]
  },
  {
   "cell_type": "code",
   "execution_count": 22,
   "id": "4b7df47f",
   "metadata": {},
   "outputs": [
    {
     "name": "stdout",
     "output_type": "stream",
     "text": [
      "torch.Size([1, 2, 3])\n",
      "torch.Size([2, 1, 3])\n",
      "torch.Size([2, 3, 1])\n"
     ]
    }
   ],
   "source": [
    "print(a[None].shape) # Adiciona uma dimensão 0 (a primeira dimensão)\n",
    "print(a[:, None, :].shape) # Adiciona uma dimensão 1 (a segunda dimensão)\n",
    "print(a[:, :, None].shape) # Adiciona uma dimensão 2 (a terceira dimensão)"
   ]
  },
  {
   "cell_type": "markdown",
   "id": "e961500a",
   "metadata": {},
   "source": [
    "# Multiplicação de Matrizes"
   ]
  },
  {
   "cell_type": "code",
   "execution_count": null,
   "id": "58f7b05b",
   "metadata": {},
   "outputs": [],
   "source": [
    "x = torch.tensor([[1,2,3,4], [5,6,7,8]])\n",
    "y = torch.tensor([[1,2,3],\n",
    "                   [2,3,4],\n",
    "                   [4,5,6],\n",
    "                   [7,8,9]])"
   ]
  },
  {
   "cell_type": "code",
   "execution_count": null,
   "id": "44bc25b3",
   "metadata": {},
   "outputs": [
    {
     "data": {
      "text/plain": [
       "tensor([[ 45,  55,  65],\n",
       "        [101, 127, 153]])"
      ]
     },
     "execution_count": 25,
     "metadata": {},
     "output_type": "execute_result"
    }
   ],
   "source": [
    "torch.matmul(x,y)"
   ]
  },
  {
   "cell_type": "code",
   "execution_count": null,
   "id": "69c1f80c",
   "metadata": {},
   "outputs": [
    {
     "data": {
      "text/plain": [
       "(torch.Size([1, 4, 5]), torch.Size([1, 8, 5]))"
      ]
     },
     "execution_count": 30,
     "metadata": {},
     "output_type": "execute_result"
    }
   ],
   "source": [
    "x = torch.randn(1,4,5) # 1 batch, 4 linhas, 5 colunas\n",
    "z = torch.cat((x,x), axis=1) # Concatena na dimensão 1 (linhas)\n",
    "x.shape, z.shape"
   ]
  },
  {
   "cell_type": "markdown",
   "id": "28b81bd1",
   "metadata": {},
   "source": [
    "# Permute"
   ]
  },
  {
   "cell_type": "code",
   "execution_count": null,
   "id": "33c31d07",
   "metadata": {},
   "outputs": [
    {
     "data": {
      "text/plain": [
       "(torch.Size([10, 3, 20]), torch.Size([3, 20, 10]))"
      ]
     },
     "execution_count": 31,
     "metadata": {},
     "output_type": "execute_result"
    }
   ],
   "source": [
    "x = torch.randn(3,20,10)\n",
    "z = x.permute(2,0,1) # Troca as dimensões de lugar\n",
    "z.shape, x.shape\n",
    "# Essa operação é útil para fazer operações de batch em redes neurais convolucionais, por exemplo.\n",
    "# A operação \"permute\" troca as dimensões de lugar, mas não altera os dados."
   ]
  }
 ],
 "metadata": {
  "kernelspec": {
   "display_name": "Python 3",
   "language": "python",
   "name": "python3"
  },
  "language_info": {
   "codemirror_mode": {
    "name": "ipython",
    "version": 3
   },
   "file_extension": ".py",
   "mimetype": "text/x-python",
   "name": "python",
   "nbconvert_exporter": "python",
   "pygments_lexer": "ipython3",
   "version": "3.12.10"
  }
 },
 "nbformat": 4,
 "nbformat_minor": 5
}
