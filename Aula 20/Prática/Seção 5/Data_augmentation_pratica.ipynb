{
 "cells": [
  {
   "cell_type": "code",
   "execution_count": 1,
   "id": "9f7b3fd5",
   "metadata": {},
   "outputs": [],
   "source": [
    "from torchvision import datasets\n",
    "import torch\n",
    "from torch.utils.data import Dataset, DataLoader\n",
    "import torch\n",
    "import torch.nn as nn\n",
    "import matplotlib.pyplot as plt\n",
    "%matplotlib inline\n",
    "import numpy as np\n",
    "\n",
    "device = torch.device(\"cuda\" if torch.cuda.is_available() else \"cpu\")\n",
    "data_folder = './content'\n",
    "fmnist = datasets.FashionMNIST(data_folder, download=True, train=True)\n",
    "\n",
    "tr_images = fmnist.data\n",
    "tr_targets = fmnist.targets\n",
    "val_fmnist = datasets.FashionMNIST(data_folder,\n",
    "                                   download=True,\n",
    "                                   train=False)\n",
    "\n",
    "val_images = val_fmnist.data\n",
    "val_targets = val_fmnist.targets"
   ]
  },
  {
   "cell_type": "code",
   "execution_count": 2,
   "id": "a2c62612",
   "metadata": {},
   "outputs": [
    {
     "data": {
      "text/plain": [
       "device(type='cuda')"
      ]
     },
     "execution_count": 2,
     "metadata": {},
     "output_type": "execute_result"
    }
   ],
   "source": [
    "device"
   ]
  },
  {
   "cell_type": "code",
   "execution_count": 3,
   "id": "6a1cb992",
   "metadata": {},
   "outputs": [
    {
     "name": "stderr",
     "output_type": "stream",
     "text": [
      "C:\\Users\\guilh\\AppData\\Local\\Temp\\ipykernel_9856\\141358394.py:6: UserWarning: Argument(s) 'mode' are not valid for transform Affine\n",
      "  A.Affine(translate_px={'x': (-10, 10), 'y': (0, 0)}, mode=0, p=1.0)\n"
     ]
    }
   ],
   "source": [
    "#%pip install imgaug\n",
    "\n",
    "import albumentations as A\n",
    "\n",
    "aug = A.Compose([\n",
    "    A.Affine(translate_px={'x': (-10, 10), 'y': (0, 0)}, mode=0, p=1.0)\n",
    "])"
   ]
  },
  {
   "cell_type": "code",
   "execution_count": 22,
   "id": "277de20b",
   "metadata": {},
   "outputs": [],
   "source": [
    "class FMNISTDataset(Dataset):\n",
    "    def __init__(self, x, y, aug=None):\n",
    "        self.x, self.y = x, y\n",
    "        self.aug = aug\n",
    "\n",
    "    def __getitem__(self, ix):\n",
    "        x, y = self.x[ix], self.y[ix]\n",
    "        return x, y\n",
    "\n",
    "    def __len__(self):\n",
    "        return len(self.x)\n",
    "\n",
    "    def collate_fn(self, batch):\n",
    "        ims, classes = list(zip(*batch))\n",
    "        ims_np = np.stack([im.numpy() for im in ims])\n",
    "        if self.aug:    \n",
    "            ims_aug = []\n",
    "            for im in ims_np:\n",
    "                im = np.expand_dims(im, axis=-1)\n",
    "                augmented = self.aug(image=im)\n",
    "                ims_aug.append(augmented['image'])\n",
    "            ims_np = np.stack(ims_aug)\n",
    "            ims_np = ims_np.squeeze(-1)\n",
    "        ims = torch.from_numpy(ims_np)[:, None, :, :].float() / 255.0\n",
    "        classes = torch.tensor(classes)\n",
    "        return ims, classes\n"
   ]
  },
  {
   "cell_type": "code",
   "execution_count": null,
   "id": "fec30fdb",
   "metadata": {},
   "outputs": [],
   "source": [
    "from torch.optim import AdamW\n",
    "\n",
    "# A grande alteração aqui foi na arquitetura do modelo, que agora inclui mais camadas convolucionais e uma camada de dropout.\n",
    "# O desempenho mudou levemente, com cerca de 2-4% de melhoria na acurácia de validação.\n",
    "def get_model():\n",
    "    model = nn.Sequential(\n",
    "        nn.Conv2d(1, 32, kernel_size=3, padding=1),\n",
    "        nn.BatchNorm2d(32),\n",
    "        nn.ReLU(),\n",
    "        nn.MaxPool2d(2),\n",
    "\n",
    "        nn.Conv2d(32, 64, kernel_size=3, padding=1),\n",
    "        nn.BatchNorm2d(64),\n",
    "        nn.ReLU(),\n",
    "        nn.MaxPool2d(2),\n",
    "        \n",
    "        nn.Conv2d(64, 128, kernel_size=3, padding=1),\n",
    "        nn.BatchNorm2d(128),\n",
    "        nn.ReLU(),\n",
    "        nn.MaxPool2d(2),\n",
    "\n",
    "        nn.Flatten(),\n",
    "        nn.Linear(128 * 3 * 3, 256),\n",
    "        nn.ReLU(),\n",
    "        nn.Dropout(0.5),\n",
    "        nn.Linear(256, 10)\n",
    "    ).to(device)\n",
    "    loss_fn = nn.CrossEntropyLoss()\n",
    "    optimizer = AdamW(model.parameters(), lr=1e-3)\n",
    "    return model, loss_fn, optimizer"
   ]
  },
  {
   "cell_type": "code",
   "execution_count": null,
   "id": "5b176088",
   "metadata": {},
   "outputs": [],
   "source": [
    "def train_batch(x, y, model, opt, loss_fn):\n",
    "    model.train()\n",
    "    prediction = model(x)\n",
    "    batch_loss = loss_fn(prediction, y)\n",
    "    batch_loss.backward()\n",
    "    opt.step()\n",
    "    opt.zero_grad()\n",
    "    return batch_loss.item()"
   ]
  },
  {
   "cell_type": "code",
   "execution_count": 25,
   "id": "46e739e4",
   "metadata": {},
   "outputs": [],
   "source": [
    "def get_data():\n",
    "    train = FMNISTDataset(tr_images, tr_targets, aug=aug)  \n",
    "    # Observe o argumento collate_fn\n",
    "    trn_dl = DataLoader(train, batch_size=64, \n",
    "                        collate_fn=train.collate_fn, shuffle=True)\n",
    "    val = FMNISTDataset(val_images, val_targets)\n",
    "    val_dl = DataLoader(val, batch_size=len(val_images),\n",
    "                        collate_fn=val.collate_fn, shuffle=True)\n",
    "    return trn_dl, val_dl"
   ]
  },
  {
   "cell_type": "code",
   "execution_count": 31,
   "id": "0174eabe",
   "metadata": {},
   "outputs": [
    {
     "name": "stdout",
     "output_type": "stream",
     "text": [
      "Epoch 0\n",
      "Epoch 1\n",
      "Epoch 2\n",
      "Epoch 3\n",
      "Epoch 4\n"
     ]
    }
   ],
   "source": [
    "trn_dl, val_dl = get_data()\n",
    "model, loss_fn, optimizer = get_model()\n",
    "for epoch in range(5):\n",
    "    print(f\"Epoch {epoch}\")  # Exibe a época atual\n",
    "    for ix, batch in enumerate(iter(trn_dl)):\n",
    "        x, y = batch  # Obtém o lote de dados\n",
    "        x = x.to(device)\n",
    "        y = y.to(device)\n",
    "        batch_loss = train_batch(x, y, model, optimizer, loss_fn)  # Treina o modelo e calcula a perda"
   ]
  },
  {
   "cell_type": "code",
   "execution_count": 32,
   "id": "1c743acb",
   "metadata": {},
   "outputs": [
    {
     "name": "stdout",
     "output_type": "stream",
     "text": [
      "Validation Loss: 0.33015939593315125\n",
      "Acurácia do modelo nos dados de validação: 87.85%\n"
     ]
    }
   ],
   "source": [
    "# Avaliando o modelo\n",
    "model.eval()\n",
    "with torch.no_grad():\n",
    "    for ix, batch in enumerate(val_dl):\n",
    "        x, y = batch \n",
    "        x = x.to(device)\n",
    "        y = y.to(device)\n",
    "        prediction = model(x)  # Faz a previsão\n",
    "        val_loss = loss_fn(prediction, y)  # Calcula a perda de validação\n",
    "        print(f\"Validation Loss: {val_loss.item()}\")  # Exibe a perda de validação\n",
    "\n",
    "# Analisando a acurácia do modelo\n",
    "correct = 0\n",
    "total = 0\n",
    "with torch.no_grad():\n",
    "    for ix, batch in enumerate(val_dl):\n",
    "        x, y = batch\n",
    "        x = x.to(device)\n",
    "        y = y.to(device)\n",
    "        prediction = model(x)  # Faz a previsão\n",
    "        _, predicted = torch.max(prediction.data, 1)  # Obtém as classes previstas\n",
    "        total += y.size(0)  # Total de amostras\n",
    "        correct += (predicted == y).sum().item()  # Contagem de acertos\n",
    "accuracy = 100 * correct / total\n",
    "print(f'Acurácia do modelo nos dados de validação: {accuracy:.2f}%')"
   ]
  }
 ],
 "metadata": {
  "kernelspec": {
   "display_name": "Python 3",
   "language": "python",
   "name": "python3"
  },
  "language_info": {
   "codemirror_mode": {
    "name": "ipython",
    "version": 3
   },
   "file_extension": ".py",
   "mimetype": "text/x-python",
   "name": "python",
   "nbconvert_exporter": "python",
   "pygments_lexer": "ipython3",
   "version": "3.12.10"
  }
 },
 "nbformat": 4,
 "nbformat_minor": 5
}
