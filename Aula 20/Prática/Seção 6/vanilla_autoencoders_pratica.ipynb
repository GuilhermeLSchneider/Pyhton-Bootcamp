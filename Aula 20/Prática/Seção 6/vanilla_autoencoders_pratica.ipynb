{
 "cells": [
  {
   "cell_type": "code",
   "execution_count": 1,
   "id": "cb76b3c1",
   "metadata": {},
   "outputs": [
    {
     "name": "stderr",
     "output_type": "stream",
     "text": [
      "\n",
      "[notice] A new release of pip is available: 25.0.1 -> 25.1.1\n",
      "[notice] To update, run: C:\\Users\\guilh\\AppData\\Local\\Microsoft\\WindowsApps\\PythonSoftwareFoundation.Python.3.12_qbz5n2kfra8p0\\python.exe -m pip install --upgrade pip\n"
     ]
    },
    {
     "name": "stdout",
     "output_type": "stream",
     "text": [
      "Note: you may need to restart the kernel to use updated packages.\n"
     ]
    }
   ],
   "source": [
    "%pip install -q torch_snippets\n",
    "from torch_snippets import *\n",
    "from torchvision.datasets import MNIST\n",
    "from torchvision import transforms\n",
    "import torch\n",
    "device = 'cuda' if torch.cuda.is_available() else 'cpu'"
   ]
  },
  {
   "cell_type": "code",
   "execution_count": 2,
   "id": "43acb10a",
   "metadata": {},
   "outputs": [
    {
     "data": {
      "text/plain": [
       "'cuda'"
      ]
     },
     "execution_count": 2,
     "metadata": {},
     "output_type": "execute_result"
    }
   ],
   "source": [
    "device"
   ]
  },
  {
   "cell_type": "code",
   "execution_count": 13,
   "id": "0ebfcc1d",
   "metadata": {},
   "outputs": [],
   "source": [
    "img_transform = transforms.Compose([\n",
    "    transforms.ToTensor(),\n",
    "    transforms.Normalize([0.5], [0.5]),\n",
    "])"
   ]
  },
  {
   "cell_type": "code",
   "execution_count": 14,
   "id": "73667978",
   "metadata": {},
   "outputs": [],
   "source": [
    "train_DS = MNIST('./content', train=True, download=True, transform=img_transform)\n",
    "val_DS = MNIST('./content', train=False, download=True, transform=img_transform)"
   ]
  },
  {
   "cell_type": "code",
   "execution_count": 28,
   "id": "1cffd61f",
   "metadata": {},
   "outputs": [],
   "source": [
    "import torch.nn as nn\n",
    "import torch\n",
    "\n",
    "class AutoEncoder(nn.Module):\n",
    "    def __init__(self, latent_dim):\n",
    "        super().__init__()\n",
    "        self.latent_dim = latent_dim\n",
    "        self.encoder = nn.Sequential(\n",
    "            nn.Linear(28*28, 256), nn.ReLU(True),\n",
    "            nn.Linear(256, 128), nn.ReLU(True),\n",
    "            nn.Linear(128, 64), nn.ReLU(True),\n",
    "            nn.Linear(64, latent_dim)\n",
    "        )\n",
    "        self.decoder = nn.Sequential(\n",
    "            nn.Linear(latent_dim, 64), nn.ReLU(True),\n",
    "            nn.Linear(64, 128), nn.ReLU(True),\n",
    "            nn.Linear(128, 256), nn.ReLU(True),\n",
    "            nn.Linear(256, 28*28), nn.Tanh()\n",
    "        )\n",
    "\n",
    "    def forward(self, x):\n",
    "        x = x.view(len(x), -1)\n",
    "        x = self.encoder(x)\n",
    "        x = self.decoder(x)\n",
    "        x = x.view(len(x), 1, 28, 28)\n",
    "        return x"
   ]
  },
  {
   "cell_type": "code",
   "execution_count": 29,
   "id": "a7975581",
   "metadata": {},
   "outputs": [],
   "source": [
    "def train_batch(input, model, optimizer, criterion):\n",
    "    model.train()\n",
    "    input = input.to(device)\n",
    "    optimizer.zero_grad()\n",
    "    output = model(input)\n",
    "    loss = criterion(output, input)\n",
    "    loss.backward()\n",
    "    optimizer.step()\n",
    "    return loss\n",
    "\n",
    "@torch.no_grad()\n",
    "def validate_batch(input, model, criterion):\n",
    "    model.eval()\n",
    "    input = input.to(device)\n",
    "    output = model(input)\n",
    "    loss = criterion(output, input)\n",
    "    return loss"
   ]
  },
  {
   "cell_type": "code",
   "execution_count": 11,
   "id": "d552f3c3",
   "metadata": {},
   "outputs": [
    {
     "name": "stdout",
     "output_type": "stream",
     "text": [
      "Defaulting to user installation because normal site-packages is not writeable\n",
      "Collecting fastprogress\n",
      "  Downloading fastprogress-1.0.3-py3-none-any.whl.metadata (5.6 kB)\n",
      "Downloading fastprogress-1.0.3-py3-none-any.whl (12 kB)\n",
      "Installing collected packages: fastprogress\n",
      "Successfully installed fastprogress-1.0.3\n",
      "Note: you may need to restart the kernel to use updated packages.\n"
     ]
    },
    {
     "name": "stderr",
     "output_type": "stream",
     "text": [
      "\n",
      "[notice] A new release of pip is available: 25.0.1 -> 25.1.1\n",
      "[notice] To update, run: C:\\Users\\guilh\\AppData\\Local\\Microsoft\\WindowsApps\\PythonSoftwareFoundation.Python.3.12_qbz5n2kfra8p0\\python.exe -m pip install --upgrade pip\n"
     ]
    }
   ],
   "source": [
    "%pip install fastprogress"
   ]
  },
  {
   "cell_type": "code",
   "execution_count": 30,
   "id": "5f5b7544",
   "metadata": {},
   "outputs": [
    {
     "data": {
      "text/html": [
       "\n",
       "<style>\n",
       "    /* Turns off some styling */\n",
       "    progress {\n",
       "        /* gets rid of default border in Firefox and Opera. */\n",
       "        border: none;\n",
       "        /* Needs to be in here for Safari polyfill so background images work as expected. */\n",
       "        background-size: auto;\n",
       "    }\n",
       "    progress:not([value]), progress:not([value])::-webkit-progress-bar {\n",
       "        background: repeating-linear-gradient(45deg, #7e7e7e, #7e7e7e 10px, #5c5c5c 10px, #5c5c5c 20px);\n",
       "    }\n",
       "    .progress-bar-interrupted, .progress-bar-interrupted::-webkit-progress-bar {\n",
       "        background: #F44336;\n",
       "    }\n",
       "</style>\n"
      ],
      "text/plain": [
       "<IPython.core.display.HTML object>"
      ]
     },
     "metadata": {},
     "output_type": "display_data"
    },
    {
     "data": {
      "text/html": [
       "Epoch 1: Train Loss=0.2208, Val Loss=0.1648<p>Epoch 2: Train Loss=0.1548, Val Loss=0.1468<p>Epoch 3: Train Loss=0.1435, Val Loss=0.1396<p>Epoch 4: Train Loss=0.1379, Val Loss=0.1359<p>Epoch 5: Train Loss=0.1338, Val Loss=0.1324<p>Epoch 6: Train Loss=0.1310, Val Loss=0.1304<p>Epoch 7: Train Loss=0.1288, Val Loss=0.1283<p>Epoch 8: Train Loss=0.1267, Val Loss=0.1270"
      ],
      "text/plain": [
       "<IPython.core.display.HTML object>"
      ]
     },
     "metadata": {},
     "output_type": "display_data"
    },
    {
     "data": {
      "image/png": "[encoded data removed]",
      "text/plain": [
       "<Figure size 640x480 with 1 Axes>"
      ]
     },
     "metadata": {},
     "output_type": "display_data"
    }
   ],
   "source": [
    "from torch.utils.data import DataLoader\n",
    "from fastprogress import master_bar, progress_bar\n",
    "import matplotlib.pyplot as plt\n",
    "\n",
    "model = AutoEncoder(3).to(device)\n",
    "criterion = nn.MSELoss()\n",
    "optimizer = torch.optim.AdamW(model.parameters(),lr=0.001,weight_decay=1e-5)\n",
    "num_epochs = 8\n",
    "train_losses, val_losses = [], []\n",
    "batch_size = 128\n",
    "\n",
    "train_loader = DataLoader(train_DS, batch_size=batch_size, shuffle=True, num_workers=2, pin_memory=True)\n",
    "val_loader = DataLoader(val_DS, batch_size=batch_size, shuffle=False, num_workers=2, pin_memory=True)\n",
    "\n",
    "train_losses, val_losses = [], []\n",
    "mb = master_bar(range(num_epochs))\n",
    "for epoch in mb:\n",
    "    trn_loss_epoch = 0\n",
    "    n_train = 0\n",
    "    for data, _ in progress_bar(train_loader, parent=mb):\n",
    "        loss = train_batch(data, model, optimizer, criterion)\n",
    "        trn_loss_epoch += loss.item() * data.size(0)\n",
    "        n_train += data.size(0)\n",
    "        mb.child.comment = f\"Train Loss: {loss.item():.4f}\"\n",
    "    train_losses.append(trn_loss_epoch / n_train)\n",
    "\n",
    "    val_loss_epoch = 0\n",
    "    n_val = 0\n",
    "    for data, _ in progress_bar(val_loader, parent=mb):\n",
    "        loss = validate_batch(data, model, criterion)\n",
    "        val_loss_epoch += loss.item() * data.size(0)\n",
    "        n_val += data.size(0)\n",
    "        mb.child.comment = f\"Val Loss: {loss.item():.4f}\"\n",
    "    val_losses.append(val_loss_epoch / n_val)\n",
    "\n",
    "    mb.write(f\"Epoch {epoch+1}: Train Loss={train_losses[-1]:.4f}, Val Loss={val_losses[-1]:.4f}\")\n",
    "\n",
    "plt.plot(train_losses, label='Train Loss')\n",
    "plt.plot(val_losses, label='Val Loss')\n",
    "plt.legend()\n",
    "plt.show()"
   ]
  },
  {
   "cell_type": "code",
   "execution_count": 41,
   "id": "162a4b02",
   "metadata": {},
   "outputs": [
    {
     "data": {
      "image/png": "[encoded data removed]",
      "text/plain": [
       "<Figure size 300x300 with 2 Axes>"
      ]
     },
     "metadata": {},
     "output_type": "display_data"
    },
    {
     "data": {
      "image/png": "[encoded data removed]",
      "text/plain": [
       "<Figure size 300x300 with 2 Axes>"
      ]
     },
     "metadata": {},
     "output_type": "display_data"
    },
    {
     "data": {
      "image/png": "[encoded data removed]",
      "text/plain": [
       "<Figure size 300x300 with 2 Axes>"
      ]
     },
     "metadata": {},
     "output_type": "display_data"
    }
   ],
   "source": [
    "model.eval()\n",
    "\n",
    "for _ in range(3):\n",
    "    ix = np.random.randint(len(val_DS))\n",
    "    im, _ = val_DS[ix]\n",
    "    \n",
    "    im = im.to(device)\n",
    "    \n",
    "    with torch.no_grad():\n",
    "        _im = model(im[None])[0].cpu()\n",
    "    \n",
    "    fig, ax = plt.subplots(1, 2, figsize=(3, 3))\n",
    "    show(im[0].cpu(), ax=ax[0], title='input')  # mostra a imagem original\n",
    "    show(_im[0], ax=ax[1], title='prediction')  # mostra a reconstrução\n",
    "    plt.tight_layout()\n",
    "    plt.show()"
   ]
  }
 ],
 "metadata": {
  "kernelspec": {
   "display_name": "Python 3",
   "language": "python",
   "name": "python3"
  },
  "language_info": {
   "codemirror_mode": {
    "name": "ipython",
    "version": 3
   },
   "file_extension": ".py",
   "mimetype": "text/x-python",
   "name": "python",
   "nbconvert_exporter": "python",
   "pygments_lexer": "ipython3",
   "version": "3.12.10"
  }
 },
 "nbformat": 4,
 "nbformat_minor": 5
}
