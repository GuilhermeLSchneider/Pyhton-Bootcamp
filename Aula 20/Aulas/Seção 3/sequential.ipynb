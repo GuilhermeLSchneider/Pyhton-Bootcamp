{
 "cells": [
  {
   "cell_type": "code",
   "execution_count": 1,
   "id": "46a6fa6a",
   "metadata": {},
   "outputs": [],
   "source": [
    "import torch\n",
    "from torch.utils.data import Dataset, DataLoader\n",
    "import torch.nn as nn\n",
    "from torch.optim import SGD"
   ]
  },
  {
   "cell_type": "code",
   "execution_count": null,
   "id": "88a80f6e",
   "metadata": {},
   "outputs": [],
   "source": [
    "x = [[1,2], [3,4], [5,6], [7,8]]\n",
    "y = [[3], [7], [11], [15]]"
   ]
  },
  {
   "cell_type": "code",
   "execution_count": 3,
   "id": "853be51a",
   "metadata": {},
   "outputs": [],
   "source": [
    "X = torch.tensor(x).float()\n",
    "Y = torch.tensor(y).float()"
   ]
  },
  {
   "cell_type": "code",
   "execution_count": null,
   "id": "9280a4b0",
   "metadata": {},
   "outputs": [],
   "source": [
    "# O MyDataSet é utilizado para criar um dataset personalizado\n",
    "# que pode ser usado com DataLoader para treinamento de modelos.\n",
    "class MyDataSet(Dataset):\n",
    "    def __init__(self, x, y):\n",
    "        self.x = torch.tensor(x).float().to(device='cuda' if torch.cuda.is_available() else 'cpu')\n",
    "        self.y = torch.tensor(y).float().to(device='cuda' if torch.cuda.is_available() else 'cpu')\n",
    "\n",
    "    def __len__(self):\n",
    "        return len(self.x)\n",
    "\n",
    "    def __getitem__(self, idx):\n",
    "        return self.x[idx], self.y[idx]"
   ]
  },
  {
   "cell_type": "code",
   "execution_count": 5,
   "id": "5343da3c",
   "metadata": {},
   "outputs": [],
   "source": [
    "ds = MyDataSet(x, y)"
   ]
  },
  {
   "cell_type": "code",
   "execution_count": 6,
   "id": "178b27f6",
   "metadata": {},
   "outputs": [],
   "source": [
    "dl = DataLoader(ds, batch_size=2, shuffle=True)"
   ]
  },
  {
   "cell_type": "code",
   "execution_count": null,
   "id": "cdafb532",
   "metadata": {},
   "outputs": [],
   "source": [
    "model = nn.Sequential(nn.Linear(2, 8), # Camada de entrada com 2 neurônios e 8 neurônios na camada oculta\n",
    "                      nn.ReLU(), # Função de ativação ReLU (a relu )\n",
    "                      nn.Linear(8, 1)).to(device='cuda' if torch.cuda.is_available() else 'cpu') # Camada de saída com 1 neurônio"
   ]
  },
  {
   "cell_type": "code",
   "execution_count": 8,
   "id": "4141c96c",
   "metadata": {},
   "outputs": [
    {
     "data": {
      "text/plain": [
       "Sequential(\n",
       "  (0): Linear(in_features=2, out_features=8, bias=True)\n",
       "  (1): ReLU()\n",
       "  (2): Linear(in_features=8, out_features=1, bias=True)\n",
       ")"
      ]
     },
     "execution_count": 8,
     "metadata": {},
     "output_type": "execute_result"
    }
   ],
   "source": [
    "model"
   ]
  },
  {
   "cell_type": "markdown",
   "id": "1c7667ad",
   "metadata": {},
   "source": [
    "# Treinando o Modelo"
   ]
  },
  {
   "cell_type": "code",
   "execution_count": 9,
   "id": "12b9e6e3",
   "metadata": {},
   "outputs": [
    {
     "name": "stdout",
     "output_type": "stream",
     "text": [
      "Time taken:  1.5272531509399414\n"
     ]
    }
   ],
   "source": [
    "loss_fn = nn.MSELoss()\n",
    "from torch.optim import SGD\n",
    "optimizer = SGD(model.parameters(), lr=0.001)\n",
    "import time\n",
    "loss_hist = []\n",
    "start = time.time()\n",
    "\n",
    "model.train()\n",
    "for _ in range(1000):\n",
    "    for ix, iy in dl:\n",
    "        optimizer.zero_grad()\n",
    "        loss_value = loss_fn(model(ix), iy)\n",
    "        loss_value.backward()\n",
    "        optimizer.step()\n",
    "        loss_hist.append(loss_value)\n",
    "end = time.time()\n",
    "print(\"Time taken: \", end - start)\n"
   ]
  },
  {
   "cell_type": "code",
   "execution_count": 10,
   "id": "92d0c235",
   "metadata": {},
   "outputs": [
    {
     "data": {
      "text/plain": [
       "tensor([[16.9979],\n",
       "        [20.9965],\n",
       "        [24.9951],\n",
       "        [28.9937]], grad_fn=<AddmmBackward0>)"
      ]
     },
     "execution_count": 10,
     "metadata": {},
     "output_type": "execute_result"
    }
   ],
   "source": [
    "val = [[8,9], [10,11], [12,13], [14,15]]\n",
    "model(torch.tensor(val).float().to(device='cuda' if torch.cuda.is_available() else 'cpu'))\n",
    "# Os valores retornados são os valores preditos para os dados de entrada val.\n",
    "# O modelo foi treinado para prever a soma dos dois números de entrada."
   ]
  },
  {
   "cell_type": "code",
   "execution_count": null,
   "id": "0fd61f9d",
   "metadata": {},
   "outputs": [],
   "source": []
  }
 ],
 "metadata": {
  "kernelspec": {
   "display_name": ".venv",
   "language": "python",
   "name": "python3"
  },
  "language_info": {
   "codemirror_mode": {
    "name": "ipython",
    "version": 3
   },
   "file_extension": ".py",
   "mimetype": "text/x-python",
   "name": "python",
   "nbconvert_exporter": "python",
   "pygments_lexer": "ipython3",
   "version": "3.12.10"
  }
 },
 "nbformat": 4,
 "nbformat_minor": 5
}
