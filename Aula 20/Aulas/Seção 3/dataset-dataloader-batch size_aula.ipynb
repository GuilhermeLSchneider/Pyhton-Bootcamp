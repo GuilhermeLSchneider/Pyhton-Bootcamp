{
 "cells": [
  {
   "cell_type": "code",
   "execution_count": 11,
   "id": "46a6fa6a",
   "metadata": {},
   "outputs": [],
   "source": [
    "import torch\n",
    "from torch.utils.data import Dataset, DataLoader\n",
    "import torch.nn as nn\n",
    "from torch.optim import SGD"
   ]
  },
  {
   "cell_type": "code",
   "execution_count": 2,
   "id": "88a80f6e",
   "metadata": {},
   "outputs": [],
   "source": [
    "x = [[1,2], [3,4], [5,6], [7,8]]\n",
    "y = [[3], [7], [11], [15]]"
   ]
  },
  {
   "cell_type": "code",
   "execution_count": 3,
   "id": "853be51a",
   "metadata": {},
   "outputs": [],
   "source": [
    "X = torch.tensor(x).float()\n",
    "Y = torch.tensor(y).float()"
   ]
  },
  {
   "cell_type": "code",
   "execution_count": 4,
   "id": "9280a4b0",
   "metadata": {},
   "outputs": [],
   "source": [
    "class MyDataSet(Dataset):\n",
    "    def __init__(self, x, y):\n",
    "        self.x = torch.tensor(x).float().to(device='cuda' if torch.cuda.is_available() else 'cpu')\n",
    "        self.y = torch.tensor(y).float().to(device='cuda' if torch.cuda.is_available() else 'cpu')\n",
    "\n",
    "    def __len__(self):\n",
    "        return len(self.x)\n",
    "\n",
    "    def __getitem__(self, idx):\n",
    "        return self.x[idx], self.y[idx]"
   ]
  },
  {
   "cell_type": "code",
   "execution_count": 5,
   "id": "5343da3c",
   "metadata": {},
   "outputs": [],
   "source": [
    "ds = MyDataSet(x, y)"
   ]
  },
  {
   "cell_type": "code",
   "execution_count": 6,
   "id": "178b27f6",
   "metadata": {},
   "outputs": [],
   "source": [
    "dl = DataLoader(ds, batch_size=2, shuffle=True)"
   ]
  },
  {
   "cell_type": "code",
   "execution_count": 7,
   "id": "7e66acce",
   "metadata": {},
   "outputs": [
    {
     "name": "stdout",
     "output_type": "stream",
     "text": [
      "tensor([[1., 2.],\n",
      "        [3., 4.]]) tensor([[3.],\n",
      "        [7.]])\n",
      "tensor([[7., 8.],\n",
      "        [5., 6.]]) tensor([[15.],\n",
      "        [11.]])\n"
     ]
    }
   ],
   "source": [
    "for x,y in dl:\n",
    "    print(x, y)"
   ]
  },
  {
   "cell_type": "code",
   "execution_count": 8,
   "id": "cdafb532",
   "metadata": {},
   "outputs": [],
   "source": [
    "class MyNeuralNet(nn.Module):\n",
    "    def __init__(self):\n",
    "        super().__init__()\n",
    "        self.layer1 = nn.Linear(2,8)\n",
    "        self.activation = nn.ReLU()\n",
    "        self.layer2 = nn.Linear(8,1)\n",
    "\n",
    "    def forward(self, x):\n",
    "        x = self.layer1(x)\n",
    "        x = self.activation(x)\n",
    "        x = self.layer2(x)\n",
    "        return x"
   ]
  },
  {
   "cell_type": "code",
   "execution_count": 12,
   "id": "46163b26",
   "metadata": {},
   "outputs": [],
   "source": [
    "model = MyNeuralNet()\n",
    "loss_fn = nn.MSELoss()\n",
    "opt = SGD(model.parameters(), lr=0.001)"
   ]
  },
  {
   "cell_type": "code",
   "execution_count": 13,
   "id": "f965625c",
   "metadata": {},
   "outputs": [],
   "source": [
    "losses = []\n",
    "for _ in range(50): # 50 epochs\n",
    "    for data in dl: # Itera sobre o DataLoader em batches\n",
    "        opt.zero_grad() # Reinicia o gradiente\n",
    "        x1, y1 = data\n",
    "        loss_value = loss_fn(model(x1), y1) # Calcula a perda\n",
    "        \n",
    "        loss_value.backward() # Calcula o gradiente\n",
    "        \n",
    "        opt.step() # Atualiza os pesos\n",
    "        # Salva a perda para plotar depois\n",
    "        losses.append(loss_value.detach().numpy())"
   ]
  },
  {
   "cell_type": "code",
   "execution_count": null,
   "id": "92d0c235",
   "metadata": {},
   "outputs": [],
   "source": []
  }
 ],
 "metadata": {
  "kernelspec": {
   "display_name": ".venv",
   "language": "python",
   "name": "python3"
  },
  "language_info": {
   "codemirror_mode": {
    "name": "ipython",
    "version": 3
   },
   "file_extension": ".py",
   "mimetype": "text/x-python",
   "name": "python",
   "nbconvert_exporter": "python",
   "pygments_lexer": "ipython3",
   "version": "3.12.10"
  }
 },
 "nbformat": 4,
 "nbformat_minor": 5
}
