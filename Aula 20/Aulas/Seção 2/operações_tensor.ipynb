{
 "cells": [
  {
   "cell_type": "code",
   "execution_count": 1,
   "id": "ed4b233b",
   "metadata": {},
   "outputs": [],
   "source": [
    "import torch"
   ]
  },
  {
   "cell_type": "code",
   "execution_count": 2,
   "id": "3be661c4",
   "metadata": {},
   "outputs": [
    {
     "data": {
      "text/plain": [
       "torch.Size([2, 4])"
      ]
     },
     "execution_count": 2,
     "metadata": {},
     "output_type": "execute_result"
    }
   ],
   "source": [
    "x = torch.tensor([[1,2,3,4], [5,6,7,8]])\n",
    "x.shape"
   ]
  },
  {
   "cell_type": "code",
   "execution_count": 3,
   "id": "e3bf51e4",
   "metadata": {},
   "outputs": [
    {
     "data": {
      "text/plain": [
       "tensor([[10, 20, 30, 40],\n",
       "        [50, 60, 70, 80]])"
      ]
     },
     "execution_count": 3,
     "metadata": {},
     "output_type": "execute_result"
    }
   ],
   "source": [
    "x * 10"
   ]
  },
  {
   "cell_type": "code",
   "execution_count": 5,
   "id": "b08ef03a",
   "metadata": {},
   "outputs": [
    {
     "data": {
      "text/plain": [
       "tensor([[11, 12, 13, 14],\n",
       "        [15, 16, 17, 18]])"
      ]
     },
     "execution_count": 5,
     "metadata": {},
     "output_type": "execute_result"
    }
   ],
   "source": [
    "x.add(10)"
   ]
  },
  {
   "cell_type": "markdown",
   "id": "74d11791",
   "metadata": {},
   "source": [
    "# Reshaping"
   ]
  },
  {
   "cell_type": "code",
   "execution_count": 6,
   "id": "467f57ee",
   "metadata": {},
   "outputs": [
    {
     "data": {
      "text/plain": [
       "tensor([[1, 2, 3, 4],\n",
       "        [5, 6, 7, 8]])"
      ]
     },
     "execution_count": 6,
     "metadata": {},
     "output_type": "execute_result"
    }
   ],
   "source": [
    "x"
   ]
  },
  {
   "cell_type": "code",
   "execution_count": 7,
   "id": "03e057f9",
   "metadata": {},
   "outputs": [
    {
     "data": {
      "text/plain": [
       "torch.Size([2, 4])"
      ]
     },
     "execution_count": 7,
     "metadata": {},
     "output_type": "execute_result"
    }
   ],
   "source": [
    "x.shape"
   ]
  },
  {
   "cell_type": "code",
   "execution_count": null,
   "id": "7c3e71ad",
   "metadata": {},
   "outputs": [
    {
     "data": {
      "text/plain": [
       "tensor([[1, 2],\n",
       "        [3, 4],\n",
       "        [5, 6],\n",
       "        [7, 8]])"
      ]
     },
     "execution_count": 8,
     "metadata": {},
     "output_type": "execute_result"
    }
   ],
   "source": [
    "x.view(4,2) # Quatro linhas, duas colunas"
   ]
  },
  {
   "cell_type": "code",
   "execution_count": 9,
   "id": "6b063d1f",
   "metadata": {},
   "outputs": [
    {
     "data": {
      "text/plain": [
       "tensor([[1],\n",
       "        [2],\n",
       "        [3],\n",
       "        [4],\n",
       "        [5],\n",
       "        [6],\n",
       "        [7],\n",
       "        [8]])"
      ]
     },
     "execution_count": 9,
     "metadata": {},
     "output_type": "execute_result"
    }
   ],
   "source": [
    "x.view(8,1) # O mesmo tensor, mas com 8 linhas e 1 coluna"
   ]
  },
  {
   "cell_type": "code",
   "execution_count": null,
   "id": "e8203867",
   "metadata": {},
   "outputs": [
    {
     "data": {
      "text/plain": [
       "tensor([[[1., 1., 1., 1., 1., 1., 1., 1., 1., 1.]],\n",
       "\n",
       "        [[1., 1., 1., 1., 1., 1., 1., 1., 1., 1.]]])"
      ]
     },
     "execution_count": 13,
     "metadata": {},
     "output_type": "execute_result"
    }
   ],
   "source": [
    "a = torch.ones(2,1,10) # Gera duas linhas (y), uma coluna (x) e 10 elementos \"1\" em cada\n",
    "a"
   ]
  },
  {
   "cell_type": "code",
   "execution_count": 17,
   "id": "925bd307",
   "metadata": {},
   "outputs": [
    {
     "name": "stdout",
     "output_type": "stream",
     "text": [
      "Formato squeezed: torch.Size([2, 10])\n"
     ]
    },
    {
     "data": {
      "text/plain": [
       "tensor([[1., 1., 1., 1., 1., 1., 1., 1., 1., 1.],\n",
       "        [1., 1., 1., 1., 1., 1., 1., 1., 1., 1.]])"
      ]
     },
     "execution_count": 17,
     "metadata": {},
     "output_type": "execute_result"
    }
   ],
   "source": [
    "a.shape\n",
    "squeezed = a.squeeze(1) # Remove a dimensão 1 (a segunda dimensão)\n",
    "print(f\"Formato squeezed: {squeezed.shape}\")\n",
    "squeezed"
   ]
  },
  {
   "cell_type": "code",
   "execution_count": 20,
   "id": "e60e144b",
   "metadata": {},
   "outputs": [
    {
     "name": "stdout",
     "output_type": "stream",
     "text": [
      "tensor([[1., 1., 1.],\n",
      "        [1., 1., 1.]])\n",
      "Formato unsqueezed: torch.Size([2, 3, 1])\n"
     ]
    },
    {
     "data": {
      "text/plain": [
       "tensor([[[1.],\n",
       "         [1.],\n",
       "         [1.]],\n",
       "\n",
       "        [[1.],\n",
       "         [1.],\n",
       "         [1.]]])"
      ]
     },
     "execution_count": 20,
     "metadata": {},
     "output_type": "execute_result"
    }
   ],
   "source": [
    "a = torch.ones(2,3)\n",
    "print(a)\n",
    "unsqueezed = a.unsqueeze(2) # Adiciona uma dimensão 2 (a terceira dimensão)\n",
    "print(f\"Formato unsqueezed: {unsqueezed.shape}\")\n",
    "unsqueezed"
   ]
  },
  {
   "cell_type": "markdown",
   "id": "0c6d1068",
   "metadata": {},
   "source": [
    "# Indexação None"
   ]
  },
  {
   "cell_type": "code",
   "execution_count": 21,
   "id": "0125256d",
   "metadata": {},
   "outputs": [],
   "source": [
    "a = torch.ones(2,3)"
   ]
  },
  {
   "cell_type": "code",
   "execution_count": 22,
   "id": "4b7df47f",
   "metadata": {},
   "outputs": [
    {
     "name": "stdout",
     "output_type": "stream",
     "text": [
      "torch.Size([1, 2, 3])\n",
      "torch.Size([2, 1, 3])\n",
      "torch.Size([2, 3, 1])\n"
     ]
    }
   ],
   "source": [
    "print(a[None].shape) # Adiciona uma dimensão 0 (a primeira dimensão)\n",
    "print(a[:, None, :].shape) # Adiciona uma dimensão 1 (a segunda dimensão)\n",
    "print(a[:, :, None].shape) # Adiciona uma dimensão 2 (a terceira dimensão)"
   ]
  },
  {
   "cell_type": "markdown",
   "id": "e961500a",
   "metadata": {},
   "source": [
    "# Multiplicação de Matrizes"
   ]
  },
  {
   "cell_type": "code",
   "execution_count": 24,
   "id": "58f7b05b",
   "metadata": {},
   "outputs": [],
   "source": [
    "x = torch.tensor([[1,2,3,4], [5,6,7,8]])\n",
    "y = torch.tensor([[1,2,3],\n",
    "                   [2,3,4],\n",
    "                   [4,5,6],\n",
    "                   [7,8,9]])"
   ]
  },
  {
   "cell_type": "code",
   "execution_count": null,
   "id": "44bc25b3",
   "metadata": {},
   "outputs": [
    {
     "data": {
      "text/plain": [
       "tensor([[ 45,  55,  65],\n",
       "        [101, 127, 153]])"
      ]
     },
     "execution_count": 25,
     "metadata": {},
     "output_type": "execute_result"
    }
   ],
   "source": [
    "torch.matmul(x,y)\n"
   ]
  },
  {
   "cell_type": "markdown",
   "id": "bfd8160c",
   "metadata": {},
   "source": [
    "# Concatenção"
   ]
  },
  {
   "cell_type": "code",
   "execution_count": null,
   "id": "69c1f80c",
   "metadata": {},
   "outputs": [
    {
     "data": {
      "text/plain": [
       "(torch.Size([1, 4, 5]), torch.Size([1, 8, 5]))"
      ]
     },
     "execution_count": 30,
     "metadata": {},
     "output_type": "execute_result"
    }
   ],
   "source": [
    "x = torch.randn(1,4,5) # 1 batch, 4 linhas, 5 colunas\n",
    "z = torch.cat((x,x), axis=1) # Concatena na dimensão 1 (linhas)\n",
    "x.shape, z.shape"
   ]
  },
  {
   "cell_type": "markdown",
   "id": "28b81bd1",
   "metadata": {},
   "source": [
    "# Permute"
   ]
  },
  {
   "cell_type": "code",
   "execution_count": null,
   "id": "33c31d07",
   "metadata": {},
   "outputs": [
    {
     "data": {
      "text/plain": [
       "(torch.Size([10, 3, 20]), torch.Size([3, 20, 10]))"
      ]
     },
     "execution_count": 31,
     "metadata": {},
     "output_type": "execute_result"
    }
   ],
   "source": [
    "x = torch.randn(3,20,10)\n",
    "z = x.permute(2,0,1) # Troca as dimensões de lugar\n",
    "z.shape, x.shape\n",
    "# Essa operação é útil para fazer operações de batch em redes neurais convolucionais, por exemplo.\n",
    "# A operação \"permute\" troca as dimensões de lugar, mas não altera os dados."
   ]
  }
 ],
 "metadata": {
  "kernelspec": {
   "display_name": ".venv",
   "language": "python",
   "name": "python3"
  },
  "language_info": {
   "codemirror_mode": {
    "name": "ipython",
    "version": 3
   },
   "file_extension": ".py",
   "mimetype": "text/x-python",
   "name": "python",
   "nbconvert_exporter": "python",
   "pygments_lexer": "ipython3",
   "version": "3.12.10"
  }
 },
 "nbformat": 4,
 "nbformat_minor": 5
}
