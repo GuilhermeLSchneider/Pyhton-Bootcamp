{
 "cells": [
  {
   "cell_type": "markdown",
   "metadata": {},
   "source": [
    "# Principal Component Analysis"
   ]
  },
  {
   "cell_type": "markdown",
   "metadata": {},
   "source": [
    "PCA is a dimensionality reduction technique; it lets you distill multi-dimensional data down to fewer dimensions, selecting new dimensions that preserve variance in the data as best it can.\n",
    "\n",
    "We're not talking about Star Trek stuff here; let's make it real - a black & white image for example, contains three dimensions of data: X position, Y position, and brightness at each point. Distilling that down to two dimensions can be useful for things like image compression and facial recognition, because it distills out the information that contributes most to the variance in the data set.\n",
    "\n",
    "Let's do this with a simpler example: the Iris data set that comes with scikit-learn. It's just a small collection of data that has four dimensions of data for three different kinds of Iris flowers: The length and width of both the petals and sepals of many individual flowers from each species. Let's load it up and have a look:"
   ]
  },
  {
   "cell_type": "markdown",
   "metadata": {},
   "source": [
    "## Activity"
   ]
  },
  {
   "cell_type": "markdown",
   "metadata": {},
   "source": [
    "Our results suggest we could actually distill this data down to a single dimension and still preserve most of its variance. Try it! Do a PCA down to one component, and measure the results."
   ]
  },
  {
   "cell_type": "code",
   "execution_count": 2,
   "metadata": {},
   "outputs": [
    {
     "name": "stdout",
     "output_type": "stream",
     "text": [
      "[0.92461872]\n"
     ]
    }
   ],
   "source": [
    "from sklearn.datasets import load_iris # importa o dataset iris com os dados de flores\n",
    "from sklearn.decomposition import PCA # importa o PCA, que é a função de redução de dimensionalidade\n",
    "import pylab as pl\n",
    "from itertools import cycle # importa a função cycle, que é usada para criar um loop infinito\n",
    "\n",
    "iris = load_iris()\n",
    "X = iris.data\n",
    "\n",
    "pca = PCA(n_components=1).fit(X) # aplica o PCA com 1 dimensão\n",
    "X_pca = pca.transform(X) # aplica a transformação PCA nos dados\n",
    "\n",
    "print(pca.explained_variance_ratio_) # Atingiu 92% de variância com apenas 1 dimensão"
   ]
  }
 ],
 "metadata": {
  "kernelspec": {
   "display_name": "Python 3",
   "language": "python",
   "name": "python3"
  },
  "language_info": {
   "codemirror_mode": {
    "name": "ipython",
    "version": 3
   },
   "file_extension": ".py",
   "mimetype": "text/x-python",
   "name": "python",
   "nbconvert_exporter": "python",
   "pygments_lexer": "ipython3",
   "version": "3.11.9"
  }
 },
 "nbformat": 4,
 "nbformat_minor": 4
}
