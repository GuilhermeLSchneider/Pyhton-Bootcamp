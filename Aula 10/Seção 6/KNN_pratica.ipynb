{
 "cells": [
  {
   "cell_type": "code",
   "execution_count": null,
   "metadata": {},
   "outputs": [],
   "source": [
    "import numpy as np\n",
    "import pandas as pd\n",
    "\n",
    "r_cols = ['user_id', 'movie_id', 'rating']\n",
    "ratings = pd.read_csv('u.data', sep='\\t', names=r_cols, usecols=range(3))\n",
    "ratings.head()\n",
    "\n",
    "movieProperties = ratings.groupby('movie_id').agg({'rating': ['size', 'mean']})\n",
    "movieProperties.head()\n",
    "\n",
    "movieNumRatings = pd.DataFrame(movieProperties['rating']['size'])\n",
    "movieNormalizedNumRatings = movieNumRatings.apply(lambda x: (x - np.min(x)) / (np.max(x) - np.min(x)))\n",
    "movieNormalizedNumRatings.head()\n",
    "movieDict = {}\n",
    "with open(r'u.item') as f:\n",
    "    temp = ''\n",
    "    for line in f:\n",
    "        fields = line.rstrip('\\n').split('|')\n",
    "        movieID = int(fields[0])\n",
    "        name = fields[1]\n",
    "        genres = fields[5:25]\n",
    "        genres = map(int, genres)\n",
    "        movieDict[movieID] = (name, np.array(list(genres)), movieNormalizedNumRatings.loc[movieID].get('size'), movieProperties.loc[movieID].rating.get('mean'))\n"
   ]
  },
  {
   "cell_type": "markdown",
   "metadata": {},
   "source": [
    "## Activity"
   ]
  },
  {
   "cell_type": "markdown",
   "metadata": {},
   "source": [
    "Our choice of 10 for K was arbitrary - what effect do different K values have on the results?\n",
    "\n",
    "Our distance metric was also somewhat arbitrary - we just took the cosine distance between the genres and added it to the difference between the normalized popularity scores. Can you improve on that?"
   ]
  },
  {
   "cell_type": "code",
   "execution_count": 49,
   "metadata": {},
   "outputs": [
    {
     "name": "stdout",
     "output_type": "stream",
     "text": [
      "Aladdin (1992) 3.8127853881278537\n",
      "Full Monty, The (1997) 3.926984126984127\n",
      "Winnie the Pooh and the Blustery Day (1968) 3.8\n",
      "Raising Arizona (1987) 3.875\n",
      "Aladdin and the King of Thieves (1996) 2.8461538461538463\n",
      "Pinocchio (1940) 3.6732673267326734\n",
      "Monty Python and the Holy Grail (1974) 4.0664556962025316\n",
      "Fish Called Wanda, A (1988) 3.785425101214575\n",
      "Willy Wonka and the Chocolate Factory (1971) 3.6319018404907975\n",
      "Grand Day Out, A (1992) 4.106060606060606\n"
     ]
    }
   ],
   "source": [
    "import operator\n",
    "\n",
    "def ComputeDistance(movieA, movieB):\n",
    "    # Aplica a distancia euclidiana entre os generos dos filmes\n",
    "    genre_distance = np.linalg.norm(movieA[1] - movieB[1])\n",
    "    # Calcula a diferença entre a popularidade dos filmes\n",
    "    popularity_diff = abs(movieA[2] - movieB[2])\n",
    "    # Calcula a diferença entre as avaliações dos filmes\n",
    "    rating_diff = abs(movieA[3] - movieB[3])\n",
    "    return genre_distance + popularity_diff + rating_diff\n",
    "\n",
    "def getNeighbors(movieID, K, distance_metric):\n",
    "    distances = []\n",
    "    for movie in movieDict:\n",
    "        if movie != movieID:\n",
    "            dist = distance_metric(movieDict[movieID], movieDict[movie])\n",
    "            distances.append((movie, dist))\n",
    "    distances.sort(key=operator.itemgetter(1))\n",
    "    neighbors = []\n",
    "    for x in range(K):\n",
    "        neighbors.append(distances[x][0])\n",
    "    return neighbors\n",
    "\n",
    "K = 10\n",
    "neighbors = getNeighbors(1, K, ComputeDistance)\n",
    "avgRating = sum([movieDict[neighbor][3] for neighbor in neighbors]) / K\n",
    "for neighbor in neighbors:\n",
    "    print(movieDict[neighbor][0] + \" \" + str(movieDict[neighbor][3]))"
   ]
  },
  {
   "cell_type": "code",
   "execution_count": 50,
   "metadata": {},
   "outputs": [
    {
     "data": {
      "text/plain": [
       "3.752403393196701"
      ]
     },
     "execution_count": 50,
     "metadata": {},
     "output_type": "execute_result"
    }
   ],
   "source": [
    "avgRating"
   ]
  },
  {
   "cell_type": "code",
   "execution_count": 46,
   "metadata": {},
   "outputs": [
    {
     "data": {
      "text/plain": [
       "3.8783185840707963"
      ]
     },
     "execution_count": 46,
     "metadata": {},
     "output_type": "execute_result"
    }
   ],
   "source": [
    "movieDict[1][3]"
   ]
  }
 ],
 "metadata": {
  "kernelspec": {
   "display_name": "Python 3",
   "language": "python",
   "name": "python3"
  },
  "language_info": {
   "codemirror_mode": {
    "name": "ipython",
    "version": 3
   },
   "file_extension": ".py",
   "mimetype": "text/x-python",
   "name": "python",
   "nbconvert_exporter": "python",
   "pygments_lexer": "ipython3",
   "version": "3.11.9"
  }
 },
 "nbformat": 4,
 "nbformat_minor": 4
}
