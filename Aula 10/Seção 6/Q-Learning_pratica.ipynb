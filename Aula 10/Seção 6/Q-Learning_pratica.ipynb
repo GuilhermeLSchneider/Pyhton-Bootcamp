{
 "cells": [
  {
   "cell_type": "markdown",
   "metadata": {},
   "source": [
    "## Your Challenge\n",
    "\n",
    "Modify the block above to keep track of the total time steps, and use that as a metric as to how good our Q-learning system is. You might want to increase the number of simulated trips, and remove the sleep() calls to allow you to run over more samples.\n",
    "\n",
    "Now, try experimenting with the hyperparameters. How low can the number of epochs go before our model starts to suffer? Can you come up with better learning rates, discount factors, or exploration factors to make the training more efficient? The exploration vs. exploitation rate in particular is interesting to experiment with."
   ]
  },
  {
   "cell_type": "code",
   "execution_count": 2,
   "metadata": {},
   "outputs": [],
   "source": [
    "import numpy as np\n",
    "import gym # importa a biblioteca do gym\n",
    "import random\n",
    "\n",
    "streets = gym.make(\"Taxi-v3\", render_mode='ansi').env\n",
    "streets.reset()\n",
    "\n",
    "initial_state = streets.encode(2, 3, 2, 0) # define o estado inicial do taxi, onde o taxi está na posição 2,3, o passageiro na posição 2, e o destino na posição 0\n",
    "\n",
    "streets.s = initial_state # define o estado inicial\n",
    "\n",
    "q_table = np.zeros([streets.observation_space.n, streets.action_space.n]) # cria a q_table, que é uma matriz de zeros \n",
    "# com o número de linhas igual ao número de estados e o número de colunas igual ao número de ações possíveis\n",
    "\n",
    "learning_rate = 0.1 # indica quanto o agente aprende a cada iteração\n",
    "discount_factor = 0.6 # fator de desconto, indicando o quanto o agente desconta o valor futuro em relação ao valor presente\n",
    "exploration = 0.1 # chance de escolher uma ação aleatória ao invés da melhor ação\n",
    "epochs = 500 # número de iterações\n",
    "\n",
    "for taxi_run in range(epochs):\n",
    "    state = streets.reset()[0] # reseta o ambiente, para que o taxi comece em um estado aleatório\n",
    "    done = False\n",
    "    \n",
    "    while not done:\n",
    "        random_value = random.uniform(0, 1) # gera um valor aleatório entre 0 e 1, \n",
    "        # para decidir se o taxi vai explorar ou usar a melhor ação\n",
    "        if (random_value < exploration): # condição para explorar\n",
    "            action = streets.action_space.sample()  \n",
    "        else: # escolhe a melhor ação\n",
    "            action = np.argmax(q_table[state])\n",
    "        \n",
    "        next_state, reward, done, info, _ = streets.step(action)\n",
    "        # a função step executa a ação escolhida e retorna o próximo estado.\n",
    "        # leva em conta o nosso dicionário de recompensas.\n",
    "        # (a recompensa (valor de q), se ja foi feita, e se o passageiro foi deixado no destino)\n",
    "\n",
    "        prev_q = q_table[state, action] # valor de q do estado anterior\n",
    "        next_max_q = np.max(q_table[next_state]) # valor de q do próximo estado\n",
    "        new_q = (1 - learning_rate) * prev_q + learning_rate * (reward + discount_factor * next_max_q) \n",
    "        # calcula o novo valor de q para o estado atual \n",
    "        q_table[state, action] = new_q # atualiza o valor de q na q_table\n",
    "\n",
    "        state = next_state"
   ]
  },
  {
   "cell_type": "code",
   "execution_count": 3,
   "metadata": {},
   "outputs": [
    {
     "data": {
      "text/plain": [
       "array([-2.31369089, -2.30664087, -2.30943116, -2.31213942, -4.26997424,\n",
       "       -7.2274761 ])"
      ]
     },
     "execution_count": 3,
     "metadata": {},
     "output_type": "execute_result"
    }
   ],
   "source": [
    "q_table[initial_state]\n",
    "#o 0 representa a ação de mover para o sul, o 1 para o norte, o 2 para o leste, o 3 para o oeste, \n",
    "# o 4 para pegar o passageiro e o 5 para deixar o passageiro"
   ]
  },
  {
   "cell_type": "code",
   "execution_count": 4,
   "metadata": {},
   "outputs": [
    {
     "name": "stdout",
     "output_type": "stream",
     "text": [
      "Trip number 10 Step 24\n",
      "\n",
      "+---------+\n",
      "|\u001b[35mR\u001b[0m: | : :G|\n",
      "| : |\u001b[43m \u001b[0m: : |\n",
      "| : : : : |\n",
      "| | : | : |\n",
      "|\u001b[34;1mY\u001b[0m| : |B: |\n",
      "+---------+\n",
      "  (West)\n",
      "\n"
     ]
    }
   ],
   "source": [
    "from IPython.display import clear_output\n",
    "from time import sleep\n",
    "\n",
    "# permite visualizar o taxi se movendo no ambiente\n",
    "for tripnum in range(1, 11):\n",
    "    state = streets.reset()[0] # adicionei o [0] para que o código funcione\n",
    "   \n",
    "    done = False\n",
    "    trip_length = 0\n",
    "    \n",
    "    while not done and trip_length < 25:\n",
    "        action = np.argmax(q_table[state])\n",
    "        next_state, reward, done, info, _ = streets.step(action)\n",
    "        clear_output(wait=True)\n",
    "        print(\"Trip number \" + str(tripnum) + \" Step \" + str(trip_length))\n",
    "        # print(streets.render(mode='ansi')) # quando fui rodar o código, há um erro dizendo que\n",
    "        # o método render não aceita o argumento mode='ansi'\n",
    "        print(\"\\n\"+streets.render())\n",
    "        state = next_state\n",
    "        trip_length += 1\n",
    "\n",
    "    sleep(2)\n",
    "    "
   ]
  }
 ],
 "metadata": {
  "kernelspec": {
   "display_name": "Python 3",
   "language": "python",
   "name": "python3"
  },
  "language_info": {
   "codemirror_mode": {
    "name": "ipython",
    "version": 3
   },
   "file_extension": ".py",
   "mimetype": "text/x-python",
   "name": "python",
   "nbconvert_exporter": "python",
   "pygments_lexer": "ipython3",
   "version": "3.11.9"
  }
 },
 "nbformat": 4,
 "nbformat_minor": 4
}
