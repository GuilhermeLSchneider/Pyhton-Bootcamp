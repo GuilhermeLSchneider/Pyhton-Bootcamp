{
 "cells": [
  {
   "cell_type": "code",
   "execution_count": 6,
   "metadata": {},
   "outputs": [],
   "source": [
    "import numpy as np  \n",
    "from sklearn.model_selection import train_test_split\n",
    "# precisei alterar a importação original\n",
    "# aparentemente a função cross_validation foi removida\n",
    "from sklearn import datasets  \n",
    "from sklearn import svm\n",
    "\n",
    "iris = datasets.load_iris() # carrega o dataset iris (flores)\n"
   ]
  },
  {
   "cell_type": "code",
   "execution_count": 5,
   "metadata": {},
   "outputs": [],
   "source": [
    "# Split the iris data into train/test data sets with 40% reserved for testing\n",
    "X_train, X_test, y_train, y_test = train_test_split(iris.data, # todas as features\n",
    "                                                    iris.target, # target é o que queremos prever\n",
    "                                                    test_size=0.4, # 40% dos dados para teste\n",
    "                                                    random_state=0 # seed\n",
    "                                                    )"
   ]
  },
  {
   "cell_type": "markdown",
   "metadata": {},
   "source": [
    "## Activity"
   ]
  },
  {
   "cell_type": "markdown",
   "metadata": {},
   "source": [
    "The \"poly\" kernel for SVC actually has another attribute for the number of degrees of the polynomial used, which defaults to 3. For example, svm.SVC(kernel='poly', degree=3, C=1)\n",
    "\n",
    "We think the default third-degree polynomial is overfitting, based on the results above. But how about 2? Give that a try and compare it to the linear kernel."
   ]
  },
  {
   "cell_type": "code",
   "execution_count": 11,
   "metadata": {},
   "outputs": [
    {
     "name": "stdout",
     "output_type": "stream",
     "text": [
      "Polinomial: 0.95\n",
      "Linear: 0.9666666666666667\n"
     ]
    }
   ],
   "source": [
    "# Testando com kernel polinomial de grau 2\n",
    "clf_2 = svm.SVC(kernel='poly', degree=2, C=1).fit(X_train, y_train)\n",
    "\n",
    "clf_linear = svm.SVC(kernel='linear', C=1).fit(X_train, y_train)\n",
    "\n",
    "scores = clf_2.score(X_test, y_test)\n",
    "scores_linear = clf_linear.score(X_test, y_test)\n",
    "\n",
    "print(f\"Polinomial: {scores}\")\n",
    "print(f\"Linear: {scores_linear}\")"
   ]
  }
 ],
 "metadata": {
  "kernelspec": {
   "display_name": "Python 3",
   "language": "python",
   "name": "python3"
  },
  "language_info": {
   "codemirror_mode": {
    "name": "ipython",
    "version": 3
   },
   "file_extension": ".py",
   "mimetype": "text/x-python",
   "name": "python",
   "nbconvert_exporter": "python",
   "pygments_lexer": "ipython3",
   "version": "3.11.9"
  }
 },
 "nbformat": 4,
 "nbformat_minor": 4
}
