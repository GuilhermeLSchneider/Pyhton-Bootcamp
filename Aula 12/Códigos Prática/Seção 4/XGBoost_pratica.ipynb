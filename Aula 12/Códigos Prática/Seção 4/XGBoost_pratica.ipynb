{
 "cells": [
  {
   "cell_type": "code",
   "execution_count": 1,
   "metadata": {},
   "outputs": [
    {
     "name": "stdout",
     "output_type": "stream",
     "text": [
      "150\n",
      "4\n",
      "['setosa', 'versicolor', 'virginica']\n"
     ]
    }
   ],
   "source": [
    "from sklearn.datasets import load_iris\n",
    "\n",
    "iris = load_iris() # Carregando o dataset iris\n",
    "\n",
    "numSamples, numFeatures = iris.data.shape\n",
    "print(numSamples)\n",
    "print(numFeatures) # São 4 features, ou seja, 4 dimensões (Comprimento da sépala, largura da sépala, comprimento da pétala e largura da pétala)\n",
    "print(list(iris.target_names))"
   ]
  },
  {
   "cell_type": "code",
   "execution_count": 2,
   "metadata": {},
   "outputs": [],
   "source": [
    "from sklearn.model_selection import train_test_split\n",
    "\n",
    "# Os arrays com X representam os dados da largura e comprimento da sépala e pétala\n",
    "# Os arrays com Y representam a classe da flor\n",
    "X_train, X_test, y_train, y_test = train_test_split(iris.data, iris.target, test_size=0.2, random_state=0) # Dividindo o dataset em 80% para treino e 20% para teste"
   ]
  },
  {
   "cell_type": "code",
   "execution_count": 22,
   "metadata": {},
   "outputs": [],
   "source": [
    "# %pip install xgboost\n",
    "\n",
    "import xgboost as xgb\n",
    "\n",
    "train = xgb.DMatrix(X_train, label=y_train)\n",
    "test = xgb.DMatrix(X_test, label=y_test)"
   ]
  },
  {
   "cell_type": "code",
   "execution_count": 23,
   "metadata": {},
   "outputs": [],
   "source": [
    "# Alterando apenas as epochs, o resultado se manteve\n",
    "param = {\n",
    "    'max_depth': 4,  # profundidade máxima de cada árvore\n",
    "    'eta': 0.3,  # taxa de aprendizado\n",
    "    'objective': 'multi:softmax',  # tipo de problema de classificação que temos (escolhe a melhor classe para cada amostra, diferente do softprob)\n",
    "    'num_class': 3}  # o número de classes que existem no nosso conjunto de dados\n",
    "epochs = 1  # o número de iterações sobre o conjunto de dados"
   ]
  },
  {
   "cell_type": "code",
   "execution_count": 63,
   "metadata": {},
   "outputs": [],
   "source": [
    "# Ao diminuir a profundidade de cada árvore, o resultado começou a alterar\n",
    "# curiosamente o resultado foi melhor com 2 epochs do que com 10\n",
    "param = {\n",
    "    'max_depth': 2,  # profundidade máxima de cada árvore\n",
    "    'eta': 0.3,  # taxa de aprendizado\n",
    "    'objective': 'multi:softmax',  # tipo de problema de classificação que temos (escolhe a melhor classe para cada amostra, diferente do softprob)\n",
    "    'num_class': 3}  # o número de classes que existem no nosso conjunto de dados\n",
    "epochs = 2  # o número de iterações sobre o conjunto de dados"
   ]
  },
  {
   "cell_type": "code",
   "execution_count": 111,
   "metadata": {},
   "outputs": [],
   "source": [
    "param = {\n",
    "    'max_depth': 2,  # profundidade máxima de cada árvore\n",
    "    'eta': 0.9,  # taxa de aprendizado\n",
    "    'objective': 'multi:softmax',  # tipo de problema de classificação que temos (escolhe a melhor classe para cada amostra, diferente do softprob)\n",
    "    'num_class': 3}  # o número de classes que existem no nosso conjunto de dados\n",
    "epochs = 1  # o número de iterações sobre o conjunto de dados"
   ]
  },
  {
   "cell_type": "markdown",
   "metadata": {},
   "source": [
    "Parece que mesmo alterando vários desses parâmetros, o resultado da acurácia não se altera muito.\n",
    "Claro, aqui não estamos levando em conta quantos desses resultados apresentaram overfitting ou underfitting."
   ]
  },
  {
   "cell_type": "code",
   "execution_count": 112,
   "metadata": {},
   "outputs": [],
   "source": [
    "model = xgb.train(param, train, epochs)"
   ]
  },
  {
   "cell_type": "code",
   "execution_count": 113,
   "metadata": {},
   "outputs": [
    {
     "data": {
      "text/plain": [
       "array([2., 1., 0., 2., 0., 2., 0., 1., 1., 1., 2., 1., 1., 1., 1., 0., 1.,\n",
       "       1., 0., 0., 2., 1., 0., 0., 2., 0., 0., 1., 1., 0.], dtype=float32)"
      ]
     },
     "execution_count": 113,
     "metadata": {},
     "output_type": "execute_result"
    }
   ],
   "source": [
    "predictions = model.predict(test)\n",
    "predictions"
   ]
  },
  {
   "cell_type": "code",
   "execution_count": 114,
   "metadata": {},
   "outputs": [
    {
     "data": {
      "text/plain": [
       "1.0"
      ]
     },
     "execution_count": 114,
     "metadata": {},
     "output_type": "execute_result"
    }
   ],
   "source": [
    "from sklearn.metrics import accuracy_score\n",
    "\n",
    "accuracy_score(y_test, predictions)"
   ]
  }
 ],
 "metadata": {
  "kernelspec": {
   "display_name": "Python 3",
   "language": "python",
   "name": "python3"
  },
  "language_info": {
   "codemirror_mode": {
    "name": "ipython",
    "version": 3
   },
   "file_extension": ".py",
   "mimetype": "text/x-python",
   "name": "python",
   "nbconvert_exporter": "python",
   "pygments_lexer": "ipython3",
   "version": "3.11.9"
  }
 },
 "nbformat": 4,
 "nbformat_minor": 2
}
